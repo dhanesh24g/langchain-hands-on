{
 "cells": [
  {
   "cell_type": "markdown",
   "id": "37177fe4",
   "metadata": {},
   "source": [
    "## Building Agents with RAG and Tools"
   ]
  },
  {
   "cell_type": "markdown",
   "id": "fe8577b3",
   "metadata": {},
   "source": [
    "### Setting up LLM & Loading the ENV file"
   ]
  },
  {
   "cell_type": "code",
   "execution_count": 1,
   "id": "c3dade85",
   "metadata": {},
   "outputs": [],
   "source": [
    "from dotenv import load_dotenv\n",
    "from langchain_ollama import ChatOllama\n",
    "\n",
    "load_dotenv(override=True)\n",
    "load_dotenv('./../.env')\n",
    "\n",
    "llm = ChatOllama(\n",
    "    base_url=\"http://localhost:11434\",\n",
    "    model=\"qwen3:latest\",\n",
    "    temperature=0.5,\n",
    "    max_tokens=400\n",
    ")"
   ]
  },
  {
   "cell_type": "markdown",
   "id": "9a9b92ac",
   "metadata": {},
   "source": [
    "### Setting up PlayWright"
   ]
  },
  {
   "cell_type": "code",
   "execution_count": 2,
   "id": "12da897e",
   "metadata": {},
   "outputs": [],
   "source": [
    "from langchain_community.agent_toolkits import PlayWrightBrowserToolkit\n",
    "from langchain_community.tools.playwright.utils import create_async_playwright_browser\n",
    "import nest_asyncio\n",
    "\n",
    "nest_asyncio.apply()"
   ]
  },
  {
   "cell_type": "code",
   "execution_count": 13,
   "id": "fa859c38",
   "metadata": {},
   "outputs": [
    {
     "name": "stderr",
     "output_type": "stream",
     "text": [
      "huggingface/tokenizers: The current process just got forked, after parallelism has already been used. Disabling parallelism to avoid deadlocks...\n",
      "To disable this warning, you can either:\n",
      "\t- Avoid using `tokenizers` before the fork if possible\n",
      "\t- Explicitly set the environment variable TOKENIZERS_PARALLELISM=(true | false)\n"
     ]
    }
   ],
   "source": [
    "async_chrome = create_async_playwright_browser()\n",
    "\n",
    "toolkit = PlayWrightBrowserToolkit.from_browser(async_browser=async_chrome)\n",
    "tools_list = toolkit.get_tools()"
   ]
  },
  {
   "cell_type": "markdown",
   "id": "e8020e8d",
   "metadata": {},
   "source": [
    "### Setting up VectorDB & Retriever"
   ]
  },
  {
   "cell_type": "code",
   "execution_count": null,
   "id": "f0d77bb4",
   "metadata": {},
   "outputs": [],
   "source": [
    "from langchain_huggingface import HuggingFaceEmbeddings\n",
    "from langchain_chroma import Chroma\n",
    "\n",
    "embedding_model = HuggingFaceEmbeddings(model_name=\"sentence-transformers/all-MiniLM-L6-v2\")\n",
    "\n",
    "vector_store = Chroma(\n",
    "    persist_directory='./../chroma_db_hf', \n",
    "    embedding_function=embedding_model\n",
    ")\n",
    "\n",
    "result = vector_store.similarity_search(\"Which country is Parveen travelling ?\", k=5)\n",
    "\n",
    "for doc in result:\n",
    "    print(doc.metadata[\"source\"])"
   ]
  },
  {
   "cell_type": "markdown",
   "id": "7bd686c3",
   "metadata": {},
   "source": [
    "### Setting up Retriever for the VectorDB"
   ]
  },
  {
   "cell_type": "code",
   "execution_count": 15,
   "id": "8be616bb",
   "metadata": {},
   "outputs": [],
   "source": [
    "retriever = vector_store.as_retriever(search_type='similarity', search_kwargs = {'k': 5})\n",
    "\n",
    "# response = retriever.invoke(\"Full name of Dhanesh?\")\n",
    "\n",
    "# for doc in response:\n",
    "#     print(doc.metadata[\"source\"])\n"
   ]
  },
  {
   "cell_type": "markdown",
   "id": "6c6c91eb",
   "metadata": {},
   "source": [
    "### Creating a tool to Retrieve from the VectorDB"
   ]
  },
  {
   "cell_type": "code",
   "execution_count": 16,
   "id": "6e1b6592",
   "metadata": {},
   "outputs": [],
   "source": [
    "from langchain.tools import tool\n",
    "\n",
    "@tool\n",
    "def retrieve_person_detail(query: str) -> str:\n",
    "    \"\"\"\n",
    "    The tool provides employment details related to DHANESH and PARVEEN where they accepted the job offers.\n",
    "    You should use this tool to check any employment information related to Dhanesh and Parveen.\n",
    "    \n",
    "    Args:\n",
    "        query: The search query with proper detail\n",
    "    \"\"\"\n",
    "    \n",
    "    return retriever.invoke(query)"
   ]
  },
  {
   "cell_type": "markdown",
   "id": "0bd7c57e",
   "metadata": {},
   "source": [
    "### Addition to the ToolKit"
   ]
  },
  {
   "cell_type": "code",
   "execution_count": 17,
   "id": "7d48ea62",
   "metadata": {},
   "outputs": [
    {
     "data": {
      "text/plain": [
       "[ClickTool(async_browser=<Browser type=<BrowserType name=chromium executable_path=/Users/parveenshaikh/Library/Caches/ms-playwright/chromium-1169/chrome-mac/Chromium.app/Contents/MacOS/Chromium> version=136.0.7103.25>),\n",
       " NavigateTool(async_browser=<Browser type=<BrowserType name=chromium executable_path=/Users/parveenshaikh/Library/Caches/ms-playwright/chromium-1169/chrome-mac/Chromium.app/Contents/MacOS/Chromium> version=136.0.7103.25>),\n",
       " NavigateBackTool(async_browser=<Browser type=<BrowserType name=chromium executable_path=/Users/parveenshaikh/Library/Caches/ms-playwright/chromium-1169/chrome-mac/Chromium.app/Contents/MacOS/Chromium> version=136.0.7103.25>),\n",
       " ExtractTextTool(async_browser=<Browser type=<BrowserType name=chromium executable_path=/Users/parveenshaikh/Library/Caches/ms-playwright/chromium-1169/chrome-mac/Chromium.app/Contents/MacOS/Chromium> version=136.0.7103.25>),\n",
       " ExtractHyperlinksTool(async_browser=<Browser type=<BrowserType name=chromium executable_path=/Users/parveenshaikh/Library/Caches/ms-playwright/chromium-1169/chrome-mac/Chromium.app/Contents/MacOS/Chromium> version=136.0.7103.25>),\n",
       " GetElementsTool(async_browser=<Browser type=<BrowserType name=chromium executable_path=/Users/parveenshaikh/Library/Caches/ms-playwright/chromium-1169/chrome-mac/Chromium.app/Contents/MacOS/Chromium> version=136.0.7103.25>),\n",
       " CurrentWebPageTool(async_browser=<Browser type=<BrowserType name=chromium executable_path=/Users/parveenshaikh/Library/Caches/ms-playwright/chromium-1169/chrome-mac/Chromium.app/Contents/MacOS/Chromium> version=136.0.7103.25>),\n",
       " StructuredTool(name='retrieve_person_detail', description='The tool provides employment details related to DHANESH and PARVEEN where they accepted the job offers.\\nYou should use this tool to check any employment information related to Dhanesh and Parveen.\\n\\nArgs:\\n    query: The search query with proper detail', args_schema=<class 'langchain_core.utils.pydantic.retrieve_person_detail'>, func=<function retrieve_person_detail at 0x3611b5760>)]"
      ]
     },
     "execution_count": 17,
     "metadata": {},
     "output_type": "execute_result"
    }
   ],
   "source": [
    "tools_list.append(retrieve_person_detail)\n",
    "\n",
    "tools_list"
   ]
  },
  {
   "cell_type": "markdown",
   "id": "dc04ed67",
   "metadata": {},
   "source": [
    "### Creating Agent code to call the Tools"
   ]
  },
  {
   "cell_type": "code",
   "execution_count": 18,
   "id": "67e29635",
   "metadata": {},
   "outputs": [
    {
     "name": "stdout",
     "output_type": "stream",
     "text": [
      "\n",
      "\n",
      "\u001b[1m> Entering new AgentExecutor chain...\u001b[0m\n",
      "\u001b[32;1m\u001b[1;3m<think>\n",
      "Okay, let's tackle this question. The user wants to know if Dhanesh joined the same organization in 2019 that applied for his Employment pass that year. The provided URL is for Dhanesh's profile on Weekday Works. \n",
      "\n",
      "First, I need to visit the URL to get the details. So, I'll use the navigate_browser tool with the given URL. Once there, I should check the profile for any information about his Employment pass or the organization he joined in 2019.\n",
      "\n",
      "After navigating, I'll use extract_text or get_elements to find relevant sections. Maybe the Employment pass details are listed under a specific section. If there's a mention of the organization's name and the year 2019, that's key. \n",
      "\n",
      "If the information isn't there, I might need to look for hyperlinks related to his work history or employment documents. Using extract_hyperlinks could help find relevant pages. However, since the user specifically mentioned the Employment pass, the profile page might have that info directly.\n",
      "\n",
      "Once I find the organization's name from the Employment pass, I can check if he joined the same organization in 2019 by looking at his work history. If the profile mentions his current or past organizations, comparing the names and the years should answer the question. \n",
      "\n",
      "If there's no direct info, maybe the retrieve_person_detail tool can help, but the user mentioned the URL already lists some info, so focusing on that page first makes sense. Let's start by navigating to the URL and extracting the text to search for keywords like \"Employment pass\" and \"2019\".\n",
      "</think>\n",
      "\n",
      "Action:\n",
      "```\n",
      "{\n",
      "  \"action\": \"navigate_browser\",\n",
      "  \"action_input\": {\n",
      "    \"url\": \"https://www.weekday.works/people/dhanesh-gujrathi-dhanesh-gujrathi-9129ab55\"\n",
      "  }\n",
      "}\n",
      "```\u001b[0m\n",
      "Observation: \u001b[33;1m\u001b[1;3mNavigating to https://www.weekday.works/people/dhanesh-gujrathi-dhanesh-gujrathi-9129ab55 returned status code 200\u001b[0m\n",
      "Thought:\u001b[32;1m\u001b[1;3m<think>\n",
      "Okay, I need to check if Dhanesh joined the same organization in 2019 that applied for his Employment pass that year. The user provided a URL to his profile on Weekday Works. Let me start by navigating to that URL to gather information.\n",
      "\n",
      "First, I used the navigate_browser tool to go to the specified URL. The response was a 200 status code, meaning the page loaded successfully. Now, I should extract the text from the page to look for relevant details about his Employment pass and organizational history.\n",
      "\n",
      "I'll use the extract_text tool to get all the text on the current webpage. This will help me search for mentions of \"Employment pass\" and any associated organization names or dates. If the text contains information about his Employment pass application in 2019, I can note the organization's name. Then, I'll look for any entries in his work history that mention joining that same organization in 2019. If both pieces of information match, the answer would be yes; otherwise, no. If the text doesn't have enough info, I might need to check hyperlinks or other sections, but starting with text extraction makes sense.\n",
      "</think>\n",
      "\n",
      "Action:\n",
      "```\n",
      "{\n",
      "  \"action\": \"extract_text\",\n",
      "  \"action_input\": {}\n",
      "}\n",
      "```\n",
      "\u001b[0m\n",
      "Observation: \u001b[31;1m\u001b[1;3mDhanesh  | Working at OCBC Our story Pricing Book demo For Candidates Products & Tools Browse Jobs and AI Apply Install Chrome Extension Find salary of any company Company Culture Reviews ATS Resume Scorer Resume Builder Featured List Top Backend Engineering remote jobs Top Frontend Engineering remote jobs Top Tech Lead remote jobs Top Product Management remote jobs Top Design remote jobs Top Backend Engineering jobs in Bangalore Top Frontend Engineering jobs in Bangalore Top Backend jobs in Delhi NCR For Companies Products & Tools Subscription: Search through database of 80% of Indian workforce Contingency: Get interested candidates on your calendar Circles: Leverage employee networks for sourcing Free of cost AI Resume Screener Free of cost JD Generator Free of cost Find personal email from LinkedIn Find WhatsApp number from LinkedIn Pricing Employer Login For Candidates Our story Pricing Book demo For Candidates Products & Tools Browse Jobs and AI Apply Install Chrome Extension Find salary of any company Company Culture Reviews ATS Resume Scorer Resume Builder Featured List Top Backend Engineering remote jobs Top Frontend Engineering remote jobs Top Tech Lead remote jobs Top Product Management remote jobs Top Design remote jobs Top Backend Engineering jobs in Bangalore Top Frontend Engineering jobs in Bangalore Top Backend jobs in Delhi NCR For Companies Products & Tools Subscription: Search through database of 80% of Indian workforce Contingency: Get interested candidates on your calendar Circles: Leverage employee networks for sourcing Free of cost AI Resume Screener Free of cost JD Generator Free of cost Find personal email from LinkedIn Find WhatsApp number from LinkedIn Pricing Employer Login For Candidates Say no to manually filling long application forms Visit any careers page and a lightning button will pop up on any compatible page. Use ChatGPT to auto-fill Use AI to auto fill job forms Use ChatGPT to customise your resume for every job that you apply to Ask for Referral for any job post Download Chrome Extension Dhanesh Gujrathi Manager at OCBC Bank | Integration | Blockchain & Web3 Enthusiast Join to edit Contact Dhanesh Education Overview • pune institute of computer technology • purushottam english school nashik Companies Overview • OCBC • Equinix • DBS Bank • TIBCO Experience Overview 10.5 Years Find anyone’s contact Find anyone’s personal email Find anyone’s contact number Experience O Manager OCBC | Singapore 2021 - Present Senior Software Developer Equinix | Singapore 2020 - 2021 D API Engineer - Tibco DBS Bank | Singapore 2019 - 2020 Senior Associate Consultant TIBCO | Pune, Maharashtra, India 2017 - 2019 Associate Consultant TIBCO | Pune 2014 - 2017 Skills Boost your visibility and stand out to employers with referrals from your LinkedIn connections. Contact Details Email (Verified) dhaXXXXXXXXXXXXXXXXXXXXom Mobile Number +91XXXXXXXXXX Find Dhanesh ’s contact Details via Weekday. Sign up here GitHub Profile Dhanesh Gujrathi dhanesh24g Repos: 9 Followers: 0 · Following: 4 Contributions in the last year dhanesh24g/blockchain-course-brownie-solidity Solidity & Blockchain codes with Python Python dhanesh24g/blockchain-course-foundry-solidity Learning & building Blockchain smart contracts with Sol... Solidity dhanesh24g/foundry-defi-stablecoin My implementation of StableCoin with Liquidation Suppor... Solidity dhanesh24g/foundry-smart-contract-lottery A Raffle Smart Contract - Allows multiple players to jo... Solidity dhanesh24g/full-stack-web3 Web3 Apps JavaScript dhanesh24g/go-basics Basic Go codes Go View more repos Education pune institute of computer technology Bachelor of Engineering (B.E.) 2010 - 2014 purushottam english school nashik 2003 - 2008 Frequently asked questions What company does Dhanesh Gujrathi work for? Dhanesh Gujrathi works for OCBC What is Dhanesh Gujrathi role in their workplace? Dhanesh Gujrathi's role in their workplace is Manager What is Dhanesh Gujrathi's tenure in their workplace? Dhanesh Gujrathi's tenure in their workplace is 3.67 years What is Dhanesh Gujrathi's total experience? Dhanesh Gujrathi's total experience is 10.50 years What is Dhanesh Gujrathi's LinkedIn profile? Dhanesh Gujrathi's LinkedIn profile can be found here What is Dhanesh Gujrathi's email address? Dhanesh Gujrathi's email address is dhaXXXXXXXXXXXXXXXXXXXXom. Unlock here What is Dhanesh Gujrathi's phone/WhatsApp number? Dhanesh Gujrathi's phone number is +91XXXXXXXXXX. Unlock here What schools did Dhanesh Gujrathi attend? Dhanesh Gujrathi has attended pune institute of computer technology, purushottam english school nashik What companies has Dhanesh Gujrathi worked with? Dhanesh Gujrathi has worked with OCBC, Equinix, DBS Bank, TIBCO, TIBCO I don’t want my profile to be displayed. How can I request deletion? You can request deletion here - Delete my profile Find anyone’s contact and let Weekday reach out to them on your behalf Start hiring now Stop manually filling job applications. Use AI to auto-apply to jobs Look for jobs now Companies Subscription: Search database Contingency: white glove service Circles: Access employee networks Free AI Resume Screener Free JD Generator Free Find Personal Email from LinkedIn Find WhatsApp Number from LinkedIn Pricing Candidates Free Install Chrome Extension Browse jobs & Apply via AI Company culture reviews Find salary of any company Free resume score checker Resume Builder Featured lists Top Backend Engineering remote jobs Top Frontend Engineering remote jobs Top Tech Lead remote jobs Top PM remote jobs Top Design remote jobs Our story Careers Blog Podcast Newsletter People Directory Contact Us Privacy Policy Terms of service Delete my data Submit a deletion request Please select a reason Incorrect data I do not want to be displayed Your contact email (For verification purpose) ​ Sumbit\u001b[0m\n",
      "Thought:\u001b[32;1m\u001b[1;3m<think>\n",
      "Okay, let's see. The user is asking if Dhanesh joined the same organization in 2019 that applied for his Employment pass that year. The provided URL is his Weekday Works profile.\n",
      "\n",
      "First, I navigated to the URL and extracted the text. Looking through the extracted text, I see his work history. Under the \"Experience\" section, it lists his roles. The latest entry is \"Manager at OCBC | Singapore 2021 - Present\". Before that, he was a Senior Software Developer at Equinix from 2020-2021, then a D API Engineer at DBS Bank from 2019-2020. Wait, the DBS Bank role is from 2019-2020. So in 2019, he was at DBS Bank. \n",
      "\n",
      "Now, the Employment pass application. The user is asking if the organization that applied for his Employment pass in 2019 is the same as where he joined in 2019. The text mentions \"OCBC\" as his current employer, but in 2019 he was at DBS Bank. However, the Employment pass application would typically be for the employer at the time of application. Since he was working at DBS Bank in 2019, it's possible that DBS Bank applied for his Employment pass. But the question is whether he joined the same organization in 2019 that applied for the pass. Since he was already with DBS Bank in 2019, maybe the pass was for his employment there. However, the text doesn't explicitly mention the Employment pass details. The user might need more specific info, but based on the available data, the answer would be that he was at DBS Bank in 2019, so if the pass was for DBS Bank, then yes. But the answer should be based on the data extracted. Since the text doesn't mention the Employment pass, but the work history shows DBS Bank in 2019, the answer is that he joined DBS Bank in 2019, which might be the same as the organization that applied for his Employment pass that year. However, the text doesn't confirm the Employment pass details, so the answer is based on the work history.\n",
      "</think>\n",
      "\n",
      "Action:\n",
      "```\n",
      "{\n",
      "  \"action\": \"Final Answer\",\n",
      "  \"action_input\": \"Based on the information available, Dhanesh Gujrathi was employed by DBS Bank from 2019 to 2020. However, the provided profile does not explicitly mention details about his Employment pass application or the specific organization that applied for it in 2019. To confirm if the organization that applied for his Employment pass in 2019 matches his workplace at that time, additional documentation or clarification would be needed.\"\n",
      "}\n",
      "```\u001b[0m\n",
      "\n",
      "\u001b[1m> Finished chain.\u001b[0m\n"
     ]
    },
    {
     "data": {
      "text/plain": [
       "{'input': 'Following URL lists some information of DHANESH - https://www.weekday.works/people/dhanesh-gujrathi-dhanesh-gujrathi-9129ab55. Can you check if Dhanesh joined the same organisation in 2019 which applied for his Employment pass that year ?',\n",
       " 'output': 'Based on the information available, Dhanesh Gujrathi was employed by DBS Bank from 2019 to 2020. However, the provided profile does not explicitly mention details about his Employment pass application or the specific organization that applied for it in 2019. To confirm if the organization that applied for his Employment pass in 2019 matches his workplace at that time, additional documentation or clarification would be needed.'}"
      ]
     },
     "execution_count": 18,
     "metadata": {},
     "output_type": "execute_result"
    }
   ],
   "source": [
    "from langchain.agents import AgentType, initialize_agent\n",
    "\n",
    "agent = initialize_agent(\n",
    "    tools=tools_list,\n",
    "    llm=llm,\n",
    "    agent=AgentType.STRUCTURED_CHAT_ZERO_SHOT_REACT_DESCRIPTION,\n",
    "    verbose=True\n",
    ")\n",
    "\n",
    "query = \"Following URL lists some information of DHANESH - https://www.weekday.works/people/dhanesh-gujrathi-dhanesh-gujrathi-9129ab55. Can you check if Dhanesh joined the same organisation in 2019 which applied for his Employment pass that year ?\"\n",
    "\n",
    "response = await agent.ainvoke(query)\n",
    "\n",
    "response"
   ]
  }
 ],
 "metadata": {
  "kernelspec": {
   "display_name": "myenvLangchain",
   "language": "python",
   "name": "python3"
  },
  "language_info": {
   "codemirror_mode": {
    "name": "ipython",
    "version": 3
   },
   "file_extension": ".py",
   "mimetype": "text/x-python",
   "name": "python",
   "nbconvert_exporter": "python",
   "pygments_lexer": "ipython3",
   "version": "3.12.2"
  }
 },
 "nbformat": 4,
 "nbformat_minor": 5
}
