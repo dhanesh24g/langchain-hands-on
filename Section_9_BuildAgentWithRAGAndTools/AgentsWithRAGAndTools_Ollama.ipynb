{
 "cells": [
  {
   "cell_type": "markdown",
   "id": "37177fe4",
   "metadata": {},
   "source": [
    "## Building Agents with RAG and Tools"
   ]
  },
  {
   "cell_type": "markdown",
   "id": "fe8577b3",
   "metadata": {},
   "source": [
    "### Setting up LLM & Loading the ENV file"
   ]
  },
  {
   "cell_type": "code",
   "execution_count": 1,
   "id": "c3dade85",
   "metadata": {},
   "outputs": [],
   "source": [
    "from dotenv import load_dotenv\n",
    "from langchain_ollama import ChatOllama\n",
    "\n",
    "load_dotenv(override=True)\n",
    "load_dotenv('./../.env')\n",
    "\n",
    "llm = ChatOllama(\n",
    "    base_url=\"http://localhost:11434\",\n",
    "    model=\"qwen3:latest\",\n",
    "    temperature=0.5,\n",
    "    max_tokens=400\n",
    ")"
   ]
  },
  {
   "cell_type": "markdown",
   "id": "9a9b92ac",
   "metadata": {},
   "source": [
    "### Setting up PlayWright"
   ]
  },
  {
   "cell_type": "code",
   "execution_count": 2,
   "id": "12da897e",
   "metadata": {},
   "outputs": [],
   "source": [
    "from langchain_community.agent_toolkits import PlayWrightBrowserToolkit\n",
    "from langchain_community.tools.playwright.utils import create_async_playwright_browser\n",
    "import nest_asyncio\n",
    "\n",
    "nest_asyncio.apply()"
   ]
  },
  {
   "cell_type": "code",
   "execution_count": null,
   "id": "fa859c38",
   "metadata": {},
   "outputs": [],
   "source": [
    "async_chrome = create_async_playwright_browser()\n",
    "\n",
    "toolkit = PlayWrightBrowserToolkit.from_browser(async_browser=async_chrome)\n",
    "tools_list = toolkit.get_tools()"
   ]
  },
  {
   "cell_type": "markdown",
   "id": "e8020e8d",
   "metadata": {},
   "source": [
    "### Setting up VectorDB & Retriever"
   ]
  },
  {
   "cell_type": "code",
   "execution_count": null,
   "id": "f0d77bb4",
   "metadata": {},
   "outputs": [],
   "source": [
    "from langchain_huggingface import HuggingFaceEmbeddings\n",
    "from langchain_chroma import Chroma\n",
    "\n",
    "embedding_model = HuggingFaceEmbeddings(model_name=\"sentence-transformers/all-MiniLM-L6-v2\")\n",
    "\n",
    "vector_store = Chroma(\n",
    "    persist_directory='./../chroma_db_hf', \n",
    "    embedding_function=embedding_model\n",
    ")\n",
    "\n",
    "result = vector_store.similarity_search(\"Which country is Parveen travelling ?\", k=5)\n",
    "\n",
    "for doc in result:\n",
    "    print(doc.metadata[\"source\"])"
   ]
  },
  {
   "cell_type": "markdown",
   "id": "7bd686c3",
   "metadata": {},
   "source": [
    "### Setting up Retriever for the VectorDB"
   ]
  },
  {
   "cell_type": "code",
   "execution_count": 15,
   "id": "8be616bb",
   "metadata": {},
   "outputs": [],
   "source": [
    "retriever = vector_store.as_retriever(search_type='similarity', search_kwargs = {'k': 5})\n",
    "\n",
    "# response = retriever.invoke(\"Full name of Dhanesh?\")\n",
    "\n",
    "# for doc in response:\n",
    "#     print(doc.metadata[\"source\"])\n"
   ]
  },
  {
   "cell_type": "markdown",
   "id": "6c6c91eb",
   "metadata": {},
   "source": [
    "### Creating a tool to Retrieve from the VectorDB"
   ]
  },
  {
   "cell_type": "code",
   "execution_count": 16,
   "id": "6e1b6592",
   "metadata": {},
   "outputs": [],
   "source": [
    "from langchain.tools import tool\n",
    "\n",
    "@tool\n",
    "def retrieve_person_detail(query: str) -> str:\n",
    "    \"\"\"\n",
    "    The tool provides employment details related to DHANESH and PARVEEN where they accepted the job offers.\n",
    "    You should use this tool to check any employment information related to Dhanesh and Parveen.\n",
    "    \n",
    "    Args:\n",
    "        query: The search query with proper detail\n",
    "    \"\"\"\n",
    "    \n",
    "    return retriever.invoke(query)"
   ]
  },
  {
   "cell_type": "markdown",
   "id": "0bd7c57e",
   "metadata": {},
   "source": [
    "### Addition to the ToolKit"
   ]
  },
  {
   "cell_type": "code",
   "execution_count": 17,
   "id": "7d48ea62",
   "metadata": {},
   "outputs": [
    {
     "data": {
      "text/plain": [
       "[ClickTool(async_browser=<Browser type=<BrowserType name=chromium executable_path=/Users/parveenshaikh/Library/Caches/ms-playwright/chromium-1169/chrome-mac/Chromium.app/Contents/MacOS/Chromium> version=136.0.7103.25>),\n",
       " NavigateTool(async_browser=<Browser type=<BrowserType name=chromium executable_path=/Users/parveenshaikh/Library/Caches/ms-playwright/chromium-1169/chrome-mac/Chromium.app/Contents/MacOS/Chromium> version=136.0.7103.25>),\n",
       " NavigateBackTool(async_browser=<Browser type=<BrowserType name=chromium executable_path=/Users/parveenshaikh/Library/Caches/ms-playwright/chromium-1169/chrome-mac/Chromium.app/Contents/MacOS/Chromium> version=136.0.7103.25>),\n",
       " ExtractTextTool(async_browser=<Browser type=<BrowserType name=chromium executable_path=/Users/parveenshaikh/Library/Caches/ms-playwright/chromium-1169/chrome-mac/Chromium.app/Contents/MacOS/Chromium> version=136.0.7103.25>),\n",
       " ExtractHyperlinksTool(async_browser=<Browser type=<BrowserType name=chromium executable_path=/Users/parveenshaikh/Library/Caches/ms-playwright/chromium-1169/chrome-mac/Chromium.app/Contents/MacOS/Chromium> version=136.0.7103.25>),\n",
       " GetElementsTool(async_browser=<Browser type=<BrowserType name=chromium executable_path=/Users/parveenshaikh/Library/Caches/ms-playwright/chromium-1169/chrome-mac/Chromium.app/Contents/MacOS/Chromium> version=136.0.7103.25>),\n",
       " CurrentWebPageTool(async_browser=<Browser type=<BrowserType name=chromium executable_path=/Users/parveenshaikh/Library/Caches/ms-playwright/chromium-1169/chrome-mac/Chromium.app/Contents/MacOS/Chromium> version=136.0.7103.25>),\n",
       " StructuredTool(name='retrieve_person_detail', description='The tool provides employment details related to DHANESH and PARVEEN where they accepted the job offers.\\nYou should use this tool to check any employment information related to Dhanesh and Parveen.\\n\\nArgs:\\n    query: The search query with proper detail', args_schema=<class 'langchain_core.utils.pydantic.retrieve_person_detail'>, func=<function retrieve_person_detail at 0x3611b5760>)]"
      ]
     },
     "execution_count": 17,
     "metadata": {},
     "output_type": "execute_result"
    }
   ],
   "source": [
    "tools_list.append(retrieve_person_detail)\n",
    "\n",
    "tools_list"
   ]
  },
  {
   "cell_type": "markdown",
   "id": "dc04ed67",
   "metadata": {},
   "source": [
    "### Creating Agent code to call the Tools"
   ]
  },
  {
   "cell_type": "code",
   "execution_count": null,
   "id": "67e29635",
   "metadata": {},
   "outputs": [],
   "source": [
    "from langchain.agents import AgentType, initialize_agent\n",
    "\n",
    "agent = initialize_agent(\n",
    "    tools=tools_list,\n",
    "    llm=llm,\n",
    "    agent=AgentType.STRUCTURED_CHAT_ZERO_SHOT_REACT_DESCRIPTION,\n",
    "    verbose=True\n",
    ")\n",
    "\n",
    "query = \"Following URL lists some information of DHANESH - https://www.weekday.works/people/dhanesh-gujrathi-dhanesh-gujrathi-9129ab55. Can you check if Dhanesh joined the same organisation in 2019 which applied for his Employment pass that year ?\"\n",
    "\n",
    "response = await agent.ainvoke(query)\n",
    "\n",
    "response"
   ]
  }
 ],
 "metadata": {
  "kernelspec": {
   "display_name": "myenvLangchain",
   "language": "python",
   "name": "python3"
  },
  "language_info": {
   "codemirror_mode": {
    "name": "ipython",
    "version": 3
   },
   "file_extension": ".py",
   "mimetype": "text/x-python",
   "name": "python",
   "nbconvert_exporter": "python",
   "pygments_lexer": "ipython3",
   "version": "3.12.2"
  }
 },
 "nbformat": 4,
 "nbformat_minor": 5
}
