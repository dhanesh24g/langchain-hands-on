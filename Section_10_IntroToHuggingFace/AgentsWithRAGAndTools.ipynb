{
 "cells": [
  {
   "cell_type": "markdown",
   "id": "37177fe4",
   "metadata": {},
   "source": [
    "## Building Agents with RAG and Tools"
   ]
  },
  {
   "cell_type": "markdown",
   "id": "fe8577b3",
   "metadata": {},
   "source": [
    "### Setting up LLM & Loading the ENV file"
   ]
  },
  {
   "cell_type": "code",
   "execution_count": null,
   "id": "c3dade85",
   "metadata": {},
   "outputs": [],
   "source": [
    "from dotenv import load_dotenv\n",
    "from langchain_ollama import ChatOllama\n",
    "\n",
    "load_dotenv(override=True)\n",
    "load_dotenv('./../.env')\n",
    "\n",
    "llm = ChatOllama(\n",
    "    base_url=\"http://localhost:11434\",\n",
    "    model=\"qwen3:latest\",\n",
    "    temperature=0.5,\n",
    "    max_tokens=400\n",
    ")"
   ]
  },
  {
   "cell_type": "markdown",
   "id": "55c249d5",
   "metadata": {},
   "source": [
    "### Importing HuggingFace & Trasformers libraries"
   ]
  },
  {
   "cell_type": "code",
   "execution_count": null,
   "id": "ec28aef7",
   "metadata": {},
   "outputs": [],
   "source": [
    "# %pip install transformers\n",
    "# %pip install langchain-huggingface\n",
    "# %pip install torch torchvision\n",
    "# %pip install -U sentence-transformers"
   ]
  },
  {
   "cell_type": "markdown",
   "id": "9a9b92ac",
   "metadata": {},
   "source": [
    "### Setting up PlayWright"
   ]
  },
  {
   "cell_type": "code",
   "execution_count": null,
   "id": "12da897e",
   "metadata": {},
   "outputs": [],
   "source": [
    "from langchain_community.agent_toolkits import PlayWrightBrowserToolkit\n",
    "from langchain_community.tools.playwright.utils import create_async_playwright_browser\n",
    "import nest_asyncio\n",
    "\n",
    "nest_asyncio.apply()"
   ]
  },
  {
   "cell_type": "code",
   "execution_count": null,
   "id": "fa859c38",
   "metadata": {},
   "outputs": [],
   "source": [
    "async_chrome = create_async_playwright_browser()\n",
    "\n",
    "toolkit = PlayWrightBrowserToolkit.from_browser(async_browser=async_chrome)\n",
    "list_of_tools = toolkit.get_tools()\n",
    "count_of_tools = len(list_of_tools)\n",
    "count_of_tools"
   ]
  },
  {
   "cell_type": "markdown",
   "id": "e8020e8d",
   "metadata": {},
   "source": [
    "### Setting up VectorDB & Retriever"
   ]
  },
  {
   "cell_type": "code",
   "execution_count": null,
   "id": "f0d77bb4",
   "metadata": {},
   "outputs": [],
   "source": [
    "from langchain_huggingface import HuggingFaceEmbeddings\n",
    "from langchain_chroma import Chroma\n",
    "\n",
    "embedding_model = HuggingFaceEmbeddings(model_name=\"sentence-transformers/all-MiniLM-L6-v2\")\n",
    "\n",
    "vector_store = Chroma(\n",
    "    persist_directory='./chroma_db_hf', \n",
    "    embedding_function=embedding_model\n",
    ")\n",
    "\n",
    "result = vector_store.similarity_search(\"Which country is Parveen allowed to travel ?\", k=5)\n",
    "\n",
    "for doc in result:\n",
    "    print(doc.metadata[\"source\"])"
   ]
  },
  {
   "cell_type": "markdown",
   "id": "7bd686c3",
   "metadata": {},
   "source": [
    "### Setting up Retriever for the VectorDB"
   ]
  },
  {
   "cell_type": "code",
   "execution_count": null,
   "id": "8be616bb",
   "metadata": {},
   "outputs": [],
   "source": [
    "retriever = vector_store.as_retriever(search_type='similarity', search_kwargs = {'k': 5})\n",
    "\n",
    "# response = retriever.invoke(\"Full name of Dhanesh?\")\n",
    "\n",
    "# for doc in response:\n",
    "#     print(doc.metadata[\"source\"])\n"
   ]
  },
  {
   "cell_type": "markdown",
   "id": "6c6c91eb",
   "metadata": {},
   "source": [
    "### Creating a tool to Retrieve from the VectorDB"
   ]
  },
  {
   "cell_type": "code",
   "execution_count": null,
   "id": "6e1b6592",
   "metadata": {},
   "outputs": [],
   "source": [
    "from langchain.tools import tool\n",
    "\n",
    "@tool\n",
    "def retrieve_person_detail(query: str) -> str:\n",
    "    \"\"\"\n",
    "    This tool provides employment pass details related to DHANESH and PARVEEN.\n",
    "    You should use this tool to check any employment information related to Dhanesh and Parveen.\n",
    "    \n",
    "    Args:\n",
    "        query: The search query\n",
    "    \"\"\"\n",
    "    \n",
    "    return retriever.invoke(query)"
   ]
  },
  {
   "cell_type": "markdown",
   "id": "0bd7c57e",
   "metadata": {},
   "source": [
    "### Addition to the ToolKit"
   ]
  },
  {
   "cell_type": "code",
   "execution_count": null,
   "id": "7d48ea62",
   "metadata": {},
   "outputs": [],
   "source": [
    "if (count_of_tools < len(list_of_tools)):\n",
    "    list_of_tools.remove(retrieve_person_detail)\n",
    "    \n",
    "if (count_of_tools == len(list_of_tools)):\n",
    "    list_of_tools.append(retrieve_person_detail)\n",
    "    \n",
    "list_of_tools\n"
   ]
  },
  {
   "cell_type": "markdown",
   "id": "dc04ed67",
   "metadata": {},
   "source": [
    "### Creating Agent code to call the Tools"
   ]
  },
  {
   "cell_type": "code",
   "execution_count": null,
   "id": "67e29635",
   "metadata": {},
   "outputs": [],
   "source": [
    "from langchain.agents import AgentType, initialize_agent\n",
    "\n",
    "agent = initialize_agent(\n",
    "    tools=list_of_tools,\n",
    "    llm=llm,\n",
    "    agent=AgentType.STRUCTURED_CHAT_ZERO_SHOT_REACT_DESCRIPTION,\n",
    "    verbose=True\n",
    ")\n",
    "\n",
    "query = \"Following URL shows the Job information of Dhanesh - https://www.weekday.works/people/dhanesh-gujrathi-dhanesh-gujrathi-9129ab55. Can you check where was Dhanesh employed before Nityo ?\"\n",
    "# query = \"Who applied the Employment pass for Dhanesh in 2019 ? Was it Nityo or NTT Data ?\"\n",
    "# query = \"Who applied the Employment pass for Dhanesh in 2020 ? Was it Nityo or NTT Data ?\"\n",
    "\n",
    "response = await agent.ainvoke(query)\n",
    "\n",
    "response"
   ]
  }
 ],
 "metadata": {
  "kernelspec": {
   "display_name": "myenvLangchain",
   "language": "python",
   "name": "python3"
  },
  "language_info": {
   "codemirror_mode": {
    "name": "ipython",
    "version": 3
   },
   "file_extension": ".py",
   "mimetype": "text/x-python",
   "name": "python",
   "nbconvert_exporter": "python",
   "pygments_lexer": "ipython3",
   "version": "3.12.2"
  }
 },
 "nbformat": 4,
 "nbformat_minor": 5
}
