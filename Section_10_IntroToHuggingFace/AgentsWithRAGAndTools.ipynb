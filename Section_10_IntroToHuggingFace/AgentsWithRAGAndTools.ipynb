{
 "cells": [
  {
   "cell_type": "markdown",
   "id": "37177fe4",
   "metadata": {},
   "source": [
    "## Building Agents with RAG and Tools"
   ]
  },
  {
   "cell_type": "markdown",
   "id": "fe8577b3",
   "metadata": {},
   "source": [
    "### Setting up LLM & Loading the ENV file"
   ]
  },
  {
   "cell_type": "code",
   "execution_count": 1,
   "id": "c3dade85",
   "metadata": {},
   "outputs": [],
   "source": [
    "from dotenv import load_dotenv\n",
    "from langchain_ollama import ChatOllama\n",
    "\n",
    "load_dotenv(override=True)\n",
    "load_dotenv('./../.env')\n",
    "\n",
    "llm = ChatOllama(\n",
    "    base_url=\"http://localhost:11434\",\n",
    "    model=\"qwen3:latest\",\n",
    "    temperature=0.5,\n",
    "    max_tokens=400\n",
    ")"
   ]
  },
  {
   "cell_type": "markdown",
   "id": "55c249d5",
   "metadata": {},
   "source": [
    "### Importing HuggingFace & Trasformers libraries"
   ]
  },
  {
   "cell_type": "code",
   "execution_count": null,
   "id": "ec28aef7",
   "metadata": {},
   "outputs": [],
   "source": [
    "# %pip install transformers\n",
    "# %pip install langchain-huggingface\n",
    "# %pip install torch torchvision\n",
    "# %pip install -U sentence-transformers"
   ]
  },
  {
   "cell_type": "markdown",
   "id": "9a9b92ac",
   "metadata": {},
   "source": [
    "### Setting up PlayWright"
   ]
  },
  {
   "cell_type": "code",
   "execution_count": 2,
   "id": "12da897e",
   "metadata": {},
   "outputs": [],
   "source": [
    "from langchain_community.agent_toolkits import PlayWrightBrowserToolkit\n",
    "from langchain_community.tools.playwright.utils import create_async_playwright_browser\n",
    "import nest_asyncio\n",
    "\n",
    "nest_asyncio.apply()"
   ]
  },
  {
   "cell_type": "code",
   "execution_count": 3,
   "id": "fa859c38",
   "metadata": {},
   "outputs": [
    {
     "data": {
      "text/plain": [
       "7"
      ]
     },
     "execution_count": 3,
     "metadata": {},
     "output_type": "execute_result"
    }
   ],
   "source": [
    "async_chrome = create_async_playwright_browser()\n",
    "\n",
    "toolkit = PlayWrightBrowserToolkit.from_browser(async_browser=async_chrome)\n",
    "list_of_tools = toolkit.get_tools()\n",
    "count_of_tools = len(list_of_tools)\n",
    "count_of_tools"
   ]
  },
  {
   "cell_type": "markdown",
   "id": "e8020e8d",
   "metadata": {},
   "source": [
    "### Setting up VectorDB & Retriever"
   ]
  },
  {
   "cell_type": "code",
   "execution_count": 4,
   "id": "f0d77bb4",
   "metadata": {},
   "outputs": [
    {
     "name": "stderr",
     "output_type": "stream",
     "text": [
      "/Users/parveenshaikh/Study/AI/Courses/LangChain/myenvLangchain/lib/python3.12/site-packages/tqdm/auto.py:21: TqdmWarning: IProgress not found. Please update jupyter and ipywidgets. See https://ipywidgets.readthedocs.io/en/stable/user_install.html\n",
      "  from .autonotebook import tqdm as notebook_tqdm\n"
     ]
    },
    {
     "name": "stdout",
     "output_type": "stream",
     "text": [
      "./Dhanesh_EP_Letter_Nityo.pdf\n",
      "./Dhanesh_EP_Letter_NTT.pdf\n",
      "./Parveen_EP_Letter.pdf\n",
      "./Parveen_EP_Letter.pdf\n",
      "./Parveen_EP_Letter.pdf\n"
     ]
    }
   ],
   "source": [
    "from langchain_huggingface import HuggingFaceEmbeddings\n",
    "from langchain_chroma import Chroma\n",
    "\n",
    "embedding_model = HuggingFaceEmbeddings(model_name=\"sentence-transformers/all-MiniLM-L6-v2\")\n",
    "\n",
    "vector_store = Chroma(\n",
    "    persist_directory='./chroma_db_hf', \n",
    "    embedding_function=embedding_model\n",
    ")\n",
    "\n",
    "result = vector_store.similarity_search(\"Which country is Parveen allowed to travel ?\", k=5)\n",
    "\n",
    "for doc in result:\n",
    "    print(doc.metadata[\"source\"])"
   ]
  },
  {
   "cell_type": "markdown",
   "id": "7bd686c3",
   "metadata": {},
   "source": [
    "### Setting up Retriever for the VectorDB"
   ]
  },
  {
   "cell_type": "code",
   "execution_count": null,
   "id": "8be616bb",
   "metadata": {},
   "outputs": [],
   "source": [
    "retriever = vector_store.as_retriever(search_type='similarity', search_kwargs = {'k': 5})\n",
    "\n",
    "# response = retriever.invoke(\"Full name of Dhanesh?\")\n",
    "\n",
    "# for doc in response:\n",
    "#     print(doc.metadata[\"source\"])\n"
   ]
  },
  {
   "cell_type": "markdown",
   "id": "6c6c91eb",
   "metadata": {},
   "source": [
    "### Creating a tool to Retrieve from the VectorDB"
   ]
  },
  {
   "cell_type": "code",
   "execution_count": 6,
   "id": "6e1b6592",
   "metadata": {},
   "outputs": [],
   "source": [
    "from langchain.tools import tool\n",
    "\n",
    "@tool\n",
    "def retrieve_person_detail(query: str) -> str:\n",
    "    \"\"\"\n",
    "    This tool provides employment pass details related to DHANESH and PARVEEN.\n",
    "    You should use this tool to check any employment information related to Dhanesh and Parveen.\n",
    "    \n",
    "    Args:\n",
    "        query: The search query\n",
    "    \"\"\"\n",
    "    \n",
    "    return retriever.invoke(query)"
   ]
  },
  {
   "cell_type": "markdown",
   "id": "0bd7c57e",
   "metadata": {},
   "source": [
    "### Addition to the ToolKit"
   ]
  },
  {
   "cell_type": "code",
   "execution_count": 7,
   "id": "7d48ea62",
   "metadata": {},
   "outputs": [
    {
     "data": {
      "text/plain": [
       "[ClickTool(async_browser=<Browser type=<BrowserType name=chromium executable_path=/Users/parveenshaikh/Library/Caches/ms-playwright/chromium-1169/chrome-mac/Chromium.app/Contents/MacOS/Chromium> version=136.0.7103.25>),\n",
       " NavigateTool(async_browser=<Browser type=<BrowserType name=chromium executable_path=/Users/parveenshaikh/Library/Caches/ms-playwright/chromium-1169/chrome-mac/Chromium.app/Contents/MacOS/Chromium> version=136.0.7103.25>),\n",
       " NavigateBackTool(async_browser=<Browser type=<BrowserType name=chromium executable_path=/Users/parveenshaikh/Library/Caches/ms-playwright/chromium-1169/chrome-mac/Chromium.app/Contents/MacOS/Chromium> version=136.0.7103.25>),\n",
       " ExtractTextTool(async_browser=<Browser type=<BrowserType name=chromium executable_path=/Users/parveenshaikh/Library/Caches/ms-playwright/chromium-1169/chrome-mac/Chromium.app/Contents/MacOS/Chromium> version=136.0.7103.25>),\n",
       " ExtractHyperlinksTool(async_browser=<Browser type=<BrowserType name=chromium executable_path=/Users/parveenshaikh/Library/Caches/ms-playwright/chromium-1169/chrome-mac/Chromium.app/Contents/MacOS/Chromium> version=136.0.7103.25>),\n",
       " GetElementsTool(async_browser=<Browser type=<BrowserType name=chromium executable_path=/Users/parveenshaikh/Library/Caches/ms-playwright/chromium-1169/chrome-mac/Chromium.app/Contents/MacOS/Chromium> version=136.0.7103.25>),\n",
       " CurrentWebPageTool(async_browser=<Browser type=<BrowserType name=chromium executable_path=/Users/parveenshaikh/Library/Caches/ms-playwright/chromium-1169/chrome-mac/Chromium.app/Contents/MacOS/Chromium> version=136.0.7103.25>),\n",
       " StructuredTool(name='retrieve_person_detail', description='This tool provides employment pass details related to DHANESH and PARVEEN.\\nYou should use this tool to check any employment information related to Dhanesh and Parveen.\\n\\nArgs:\\n    query: The search query', args_schema=<class 'langchain_core.utils.pydantic.retrieve_person_detail'>, func=<function retrieve_person_detail at 0x17eda5bc0>)]"
      ]
     },
     "execution_count": 7,
     "metadata": {},
     "output_type": "execute_result"
    }
   ],
   "source": [
    "if (count_of_tools < len(list_of_tools)):\n",
    "    list_of_tools.remove(retrieve_person_detail)\n",
    "    \n",
    "if (count_of_tools == len(list_of_tools)):\n",
    "    list_of_tools.append(retrieve_person_detail)\n",
    "    \n",
    "list_of_tools\n"
   ]
  },
  {
   "cell_type": "markdown",
   "id": "dc04ed67",
   "metadata": {},
   "source": [
    "### Creating Agent code to call the Tools"
   ]
  },
  {
   "cell_type": "code",
   "execution_count": null,
   "id": "67e29635",
   "metadata": {},
   "outputs": [
    {
     "name": "stdout",
     "output_type": "stream",
     "text": [
      "\n",
      "\n",
      "\u001b[1m> Entering new AgentExecutor chain...\u001b[0m\n",
      "\u001b[32;1m\u001b[1;3m<think>\n",
      "Okay, the user is asking who applied for Dhanesh's Employment pass in 2020, specifically if it was Nityo or NTT Data. Let me think about how to approach this.\n",
      "\n",
      "First, I need to check if there's a tool that can retrieve employment pass details related to Dhanesh and Parveen. The available tools include 'retrieve_person_detail', which is meant for employment information related to those names. The query parameter would be necessary here.\n",
      "\n",
      "So, I should use the 'retrieve_person_detail' tool with the query \"Dhanesh\" to get the employment pass details. The response might include information about the employer or the company that applied for the pass. Since the user is comparing Nityo and NTT Data, the answer likely depends on the data retrieved.\n",
      "\n",
      "Wait, but the tool's description says it provides employment pass details related to Dhanesh and Parveen. Maybe the query should be more specific. Let me check the parameters again. The 'query' argument is a string, so I can input \"Dhanesh\" to get details about him. The result might mention the employer's name, which could be either Nityo or NTT Data.\n",
      "\n",
      "Once I get the details, I can check the employer's name in the response. If the answer is Nityo or NTT Data, then I can confirm which one. If the data isn't available, I might need to inform the user that the information isn't found. But according to the tools provided, the 'retrieve_person_detail' should handle this query. Let me proceed with that.\n",
      "</think>\n",
      "\n",
      "Action:\n",
      "```\n",
      "{\n",
      "  \"action\": \"retrieve_person_detail\",\n",
      "  \"action_input\": {\n",
      "    \"query\": \"Dhanesh\"\n",
      "  }\n",
      "}\n",
      "```\u001b[0m\n",
      "Observation: \u001b[31;1m\u001b[1;3m[Document(id='dee34004-0b11-4800-9366-4982d8ccac3f', metadata={'total_pages': 13, 'creator': 'PDFium', 'moddate': '2020-07-23T23:51:46+08:00', 'producer': 'PDFium', 'creationdate': '2020-07-15T09:39:55+00:00', 'start_index': 0, 'page': 11, 'source': './Dhanesh_EP_Letter_Nityo.pdf', 'page_label': '12'}, page_content='IPA - Employment Pass G3872158K / 01 Jul 2020\\n                                                                                                                 \\nCheck your employment details.\\nIf you find a problem, please contact your employer straight away.\\nYOUR NAME DATE OF BIRTH SEX\\nGUJRATHI DHANESH NARESH 24 DEC 1992 MALE\\nNATIONALITY PASSPORT NO. FIN NO.\\nINDIAN M1525989 G3872158K\\nDATE OF APPLICATION OCCUPATION MEDICAL REQUIRED\\n01 JUL 2020 TECHNICAL SUPPORT \\nENGINEER\\nDeclaration\\nPERIOD GRANTED (MONTHS) EMPLOYER\\n24 NITYO INFOTECH SERVICES \\nPTE. LTD.'), Document(id='e20dd631-d5c8-4ade-8ffd-a47b9c80880c', metadata={'page_label': '1', 'start_index': 897, 'producer': 'PDFium', 'creationdate': '2020-07-15T09:39:55+00:00', 'source': './Dhanesh_EP_Letter_Nityo.pdf', 'moddate': '2020-07-23T23:51:46+08:00', 'creator': 'PDFium', 'total_pages': 13, 'page': 0}, page_content=\"FOREIGN EMPLOYEE'S NAME\\nGUJRATHI DHANESH NARESH\\nDATE OF BIRTH\\n24 DEC 1992\\nSEX\\nMALE\\nNATIONALITY\\nINDIAN\\nPASSPORT NO\\nM1525989\\nFIN\\nG3872158K\\nDATE OF APPLICATION\\n01 JUL 2020\\nOCCUPATION\\nTECHNICAL SUPPORT ENGINEER\\n● You must comply with the conditions under the Employment of Foreign Manpower Act and conditions of the \\nEmployment Pass, as well as the Work Injury Compensation Act. Otherwise, we can cancel the Employment \\nPass, prosecute you and withdraw your permission to employ Employment Pass holders. You can read the \\nrules at www.mom.gov.sg.\"), Document(id='ce9d9c7b-e728-4a69-9eb7-1bab65fc4e0e', metadata={'creator': 'PDFium', 'source': './Dhanesh_EP_Letter_Nityo.pdf', 'total_pages': 13, 'start_index': 432, 'creationdate': '2020-07-15T09:39:55+00:00', 'moddate': '2020-07-23T23:51:46+08:00', 'page_label': '1', 'producer': 'PDFium', 'page': 0}, page_content=\"next steps you need to take so that an Employment Pass card \\ncan be issued.\\nThe pass must be issued before he can start work. This must be \\ndone before this IPA expires. Otherwise, we will withdraw the \\napproval and you will need to send him home.\\nYours sincerely\\nPenny Han (Mrs)\\nController of Work Passes\\nPlease confirm\\nthe details below\\nIf you have any changes, send them to us\\n(with supporting documents) using iSubmit.\\nWe will tell you if you need to reapply. \\nFOREIGN EMPLOYEE'S NAME\\nGUJRATHI DHANESH NARESH\\nDATE OF BIRTH\\n24 DEC 1992\\nSEX\\nMALE\\nNATIONALITY\\nINDIAN\\nPASSPORT NO\\nM1525989\\nFIN\"), Document(id='4ba1d6fb-0ee0-4d87-ad6b-3ac40075009c', metadata={'total_pages': 13, 'start_index': 475, 'page_label': '5', 'producer': 'PDFium', 'creationdate': '2020-07-15T09:39:55+00:00', 'moddate': '2020-07-23T23:51:46+08:00', 'creator': 'PDFium', 'page': 4, 'source': './Dhanesh_EP_Letter_Nityo.pdf'}, page_content=\"Name: GUJRATHI DHANESH NARESH\\nFIN: G3872158K\\nDate of Application: 01 JUL 2020\\nDate of Birth: 24 DEC 1992\\nNationality: INDIAN\\nEducational details:\\nCountry of Awarding Body/Institution/University: INDIA\\nName of Awarding Body/Institution/University: SAVITRIBAI PHULE PUNE UNIVERSITY\\nMain Campus or Affiliating College Attended: SAVITRIBAI PHULE PUNE UNIVERSITY - AFFILIATING \\nCOLLEGES\\nQualification: BACHELOR'S DEGREE\\nFaculty: ENGINEERING\\nMode of study: FULL-TIME\\nPeriod of study: 01 AUG 2010 to 01 MAY 2014\\nName of Employer/Sponsor: NITYO INFOTECH SERVICES PTE. LTD.\"), Document(id='cbf6c760-7873-4746-bb98-b8f8f152593c', metadata={'page_label': '1', 'creator': 'PyPDF', 'total_pages': 13, 'producer': 'iText 2.1.0 (by lowagie.com)', 'creationdate': '2019-05-31T11:13:58+08:00', 'source': './Dhanesh_EP_Letter_NTT.pdf', 'page': 0, 'moddate': '2019-05-31T11:13:58+08:00', 'start_index': 871}, page_content=\"the details below\\nIf you have any changes, send them to us\\n(with supporting documents) using iSubmit.\\nWe will tell you if you need to reapply. \\nFOREIGN EMPLOYEE'S NAME\\nGUJRATHI DHANESH NARESH\\nDATE OF BIRTH\\n24 DEC 1992\\nSEX\\nMALE\\nNATIONALITY\\nINDIAN\\nPASSPORT NO\\nM1525989\\nFIN\\nG3872158K\\nDATE OF APPLICATION\\n17 MAY 2019\\nOCCUPATION\\nSENIOR SYSTEM ADMINISTRATOR\\n● You must comply with the conditions under the Employment of Foreign Manpower Act and conditions of the \\nEmployment Pass, as well as the Work Injury Compensation Act. Otherwise, we can cancel the Employment\")]\u001b[0m\n",
      "Thought:\u001b[32;1m\u001b[1;3m<think>\n",
      "Okay, let me try to figure this out. The user is asking who applied for Dhanesh's Employment pass in 2020, specifically if it was Nityo or NTT Data.\n",
      "\n",
      "First, I used the retrieve_person_detail tool with the query \"Dhanesh\" to get the employment pass details. The documents retrieved mention \"NITYO INFOTECH SERVICES PTE. LTD.\" as the employer in one of the PDFs. Another document from NTT Data shows a different date (May 2019) and a different occupation. Since the user is asking about 2020, the Nityo entry from July 2020 matches the timeframe. The NTT Data document is from 2019, so it's not relevant here. Therefore, the answer should be Nityo.\n",
      "</think>\n",
      "\n",
      "Action:\n",
      "```\n",
      "{\n",
      "  \"action\": \"Final Answer\",\n",
      "  \"action_input\": \"The Employment pass for Dhanesh in 2020 was applied by Nityo Infotech Services Pte. Ltd. The document explicitly states 'Name of Employer/Sponsor: NITYO INFOTECH SERVICES PTE. LTD.' with the application date of 01 JUL 2020.\"\n",
      "}\n",
      "```\u001b[0m\n",
      "\n",
      "\u001b[1m> Finished chain.\u001b[0m\n"
     ]
    },
    {
     "data": {
      "text/plain": [
       "{'input': 'Who applied the Employment pass for Dhanesh in 2020 ? Was it Nityo or NTT Data ?',\n",
       " 'output': \"The Employment pass for Dhanesh in 2020 was applied by Nityo Infotech Services Pte. Ltd. The document explicitly states 'Name of Employer/Sponsor: NITYO INFOTECH SERVICES PTE. LTD.' with the application date of 01 JUL 2020.\"}"
      ]
     },
     "execution_count": 12,
     "metadata": {},
     "output_type": "execute_result"
    }
   ],
   "source": [
    "from langchain.agents import AgentType, initialize_agent\n",
    "\n",
    "agent = initialize_agent(\n",
    "    tools=list_of_tools,\n",
    "    llm=llm,\n",
    "    agent=AgentType.STRUCTURED_CHAT_ZERO_SHOT_REACT_DESCRIPTION,\n",
    "    verbose=True\n",
    ")\n",
    "\n",
    "query = \"Following URL shows the Job information of Dhanesh - https://www.weekday.works/people/dhanesh-gujrathi-dhanesh-gujrathi-9129ab55. Can you check where was Dhanesh employed before Nityo ?\"\n",
    "# query = \"Who applied the Employment pass for Dhanesh in 2019 ? Was it Nityo or NTT Data ?\"\n",
    "# query = \"Who applied the Employment pass for Dhanesh in 2020 ? Was it Nityo or NTT Data ?\"\n",
    "\n",
    "response = await agent.ainvoke(query)\n",
    "\n",
    "response"
   ]
  }
 ],
 "metadata": {
  "kernelspec": {
   "display_name": "myenvLangchain",
   "language": "python",
   "name": "python3"
  },
  "language_info": {
   "codemirror_mode": {
    "name": "ipython",
    "version": 3
   },
   "file_extension": ".py",
   "mimetype": "text/x-python",
   "name": "python",
   "nbconvert_exporter": "python",
   "pygments_lexer": "ipython3",
   "version": "3.12.2"
  }
 },
 "nbformat": 4,
 "nbformat_minor": 5
}
