{
 "cells": [
  {
   "cell_type": "markdown",
   "id": "bd8e245c",
   "metadata": {},
   "source": [
    "## Testing RAG & Agents"
   ]
  },
  {
   "cell_type": "markdown",
   "id": "3c1d52d3",
   "metadata": {},
   "source": [
    "### Installing RAGAS"
   ]
  },
  {
   "cell_type": "code",
   "execution_count": 1,
   "id": "f98e6da2",
   "metadata": {},
   "outputs": [
    {
     "name": "stdout",
     "output_type": "stream",
     "text": [
      "Requirement already satisfied: ragas in /Users/parveenshaikh/Study/AI/Courses/LangChain/myenvLangchain/lib/python3.12/site-packages (0.2.15)\n",
      "Requirement already satisfied: numpy in /Users/parveenshaikh/Study/AI/Courses/LangChain/myenvLangchain/lib/python3.12/site-packages (from ragas) (2.2.6)\n",
      "Requirement already satisfied: datasets in /Users/parveenshaikh/Study/AI/Courses/LangChain/myenvLangchain/lib/python3.12/site-packages (from ragas) (3.6.0)\n",
      "Requirement already satisfied: tiktoken in /Users/parveenshaikh/Study/AI/Courses/LangChain/myenvLangchain/lib/python3.12/site-packages (from ragas) (0.9.0)\n",
      "Requirement already satisfied: langchain in /Users/parveenshaikh/Study/AI/Courses/LangChain/myenvLangchain/lib/python3.12/site-packages (from ragas) (0.3.25)\n",
      "Requirement already satisfied: langchain-core in /Users/parveenshaikh/Study/AI/Courses/LangChain/myenvLangchain/lib/python3.12/site-packages (from ragas) (0.3.67)\n",
      "Requirement already satisfied: langchain-community in /Users/parveenshaikh/Study/AI/Courses/LangChain/myenvLangchain/lib/python3.12/site-packages (from ragas) (0.3.25)\n",
      "Requirement already satisfied: langchain_openai in /Users/parveenshaikh/Study/AI/Courses/LangChain/myenvLangchain/lib/python3.12/site-packages (from ragas) (0.3.27)\n",
      "Requirement already satisfied: nest-asyncio in /Users/parveenshaikh/Study/AI/Courses/LangChain/myenvLangchain/lib/python3.12/site-packages (from ragas) (1.6.0)\n",
      "Requirement already satisfied: appdirs in /Users/parveenshaikh/Study/AI/Courses/LangChain/myenvLangchain/lib/python3.12/site-packages (from ragas) (1.4.4)\n",
      "Requirement already satisfied: pydantic>=2 in /Users/parveenshaikh/Study/AI/Courses/LangChain/myenvLangchain/lib/python3.12/site-packages (from ragas) (2.11.4)\n",
      "Requirement already satisfied: openai>1 in /Users/parveenshaikh/Study/AI/Courses/LangChain/myenvLangchain/lib/python3.12/site-packages (from ragas) (1.93.0)\n",
      "Requirement already satisfied: diskcache>=5.6.3 in /Users/parveenshaikh/Study/AI/Courses/LangChain/myenvLangchain/lib/python3.12/site-packages (from ragas) (5.6.3)\n",
      "Requirement already satisfied: anyio<5,>=3.5.0 in /Users/parveenshaikh/Study/AI/Courses/LangChain/myenvLangchain/lib/python3.12/site-packages (from openai>1->ragas) (4.9.0)\n",
      "Requirement already satisfied: distro<2,>=1.7.0 in /Users/parveenshaikh/Study/AI/Courses/LangChain/myenvLangchain/lib/python3.12/site-packages (from openai>1->ragas) (1.9.0)\n",
      "Requirement already satisfied: httpx<1,>=0.23.0 in /Users/parveenshaikh/Study/AI/Courses/LangChain/myenvLangchain/lib/python3.12/site-packages (from openai>1->ragas) (0.28.1)\n",
      "Requirement already satisfied: jiter<1,>=0.4.0 in /Users/parveenshaikh/Study/AI/Courses/LangChain/myenvLangchain/lib/python3.12/site-packages (from openai>1->ragas) (0.10.0)\n",
      "Requirement already satisfied: sniffio in /Users/parveenshaikh/Study/AI/Courses/LangChain/myenvLangchain/lib/python3.12/site-packages (from openai>1->ragas) (1.3.1)\n",
      "Requirement already satisfied: tqdm>4 in /Users/parveenshaikh/Study/AI/Courses/LangChain/myenvLangchain/lib/python3.12/site-packages (from openai>1->ragas) (4.67.1)\n",
      "Requirement already satisfied: typing-extensions<5,>=4.11 in /Users/parveenshaikh/Study/AI/Courses/LangChain/myenvLangchain/lib/python3.12/site-packages (from openai>1->ragas) (4.13.2)\n",
      "Requirement already satisfied: idna>=2.8 in /Users/parveenshaikh/Study/AI/Courses/LangChain/myenvLangchain/lib/python3.12/site-packages (from anyio<5,>=3.5.0->openai>1->ragas) (3.10)\n",
      "Requirement already satisfied: certifi in /Users/parveenshaikh/Study/AI/Courses/LangChain/myenvLangchain/lib/python3.12/site-packages (from httpx<1,>=0.23.0->openai>1->ragas) (2025.4.26)\n",
      "Requirement already satisfied: httpcore==1.* in /Users/parveenshaikh/Study/AI/Courses/LangChain/myenvLangchain/lib/python3.12/site-packages (from httpx<1,>=0.23.0->openai>1->ragas) (1.0.9)\n",
      "Requirement already satisfied: h11>=0.16 in /Users/parveenshaikh/Study/AI/Courses/LangChain/myenvLangchain/lib/python3.12/site-packages (from httpcore==1.*->httpx<1,>=0.23.0->openai>1->ragas) (0.16.0)\n",
      "Requirement already satisfied: annotated-types>=0.6.0 in /Users/parveenshaikh/Study/AI/Courses/LangChain/myenvLangchain/lib/python3.12/site-packages (from pydantic>=2->ragas) (0.7.0)\n",
      "Requirement already satisfied: pydantic-core==2.33.2 in /Users/parveenshaikh/Study/AI/Courses/LangChain/myenvLangchain/lib/python3.12/site-packages (from pydantic>=2->ragas) (2.33.2)\n",
      "Requirement already satisfied: typing-inspection>=0.4.0 in /Users/parveenshaikh/Study/AI/Courses/LangChain/myenvLangchain/lib/python3.12/site-packages (from pydantic>=2->ragas) (0.4.0)\n",
      "Requirement already satisfied: filelock in /Users/parveenshaikh/Study/AI/Courses/LangChain/myenvLangchain/lib/python3.12/site-packages (from datasets->ragas) (3.18.0)\n",
      "Requirement already satisfied: pyarrow>=15.0.0 in /Users/parveenshaikh/Study/AI/Courses/LangChain/myenvLangchain/lib/python3.12/site-packages (from datasets->ragas) (20.0.0)\n",
      "Requirement already satisfied: dill<0.3.9,>=0.3.0 in /Users/parveenshaikh/Study/AI/Courses/LangChain/myenvLangchain/lib/python3.12/site-packages (from datasets->ragas) (0.3.8)\n",
      "Requirement already satisfied: pandas in /Users/parveenshaikh/Study/AI/Courses/LangChain/myenvLangchain/lib/python3.12/site-packages (from datasets->ragas) (2.3.0)\n",
      "Requirement already satisfied: requests>=2.32.2 in /Users/parveenshaikh/Study/AI/Courses/LangChain/myenvLangchain/lib/python3.12/site-packages (from datasets->ragas) (2.32.3)\n",
      "Requirement already satisfied: xxhash in /Users/parveenshaikh/Study/AI/Courses/LangChain/myenvLangchain/lib/python3.12/site-packages (from datasets->ragas) (3.5.0)\n",
      "Requirement already satisfied: multiprocess<0.70.17 in /Users/parveenshaikh/Study/AI/Courses/LangChain/myenvLangchain/lib/python3.12/site-packages (from datasets->ragas) (0.70.16)\n",
      "Requirement already satisfied: fsspec<=2025.3.0,>=2023.1.0 in /Users/parveenshaikh/Study/AI/Courses/LangChain/myenvLangchain/lib/python3.12/site-packages (from fsspec[http]<=2025.3.0,>=2023.1.0->datasets->ragas) (2025.3.0)\n",
      "Requirement already satisfied: huggingface-hub>=0.24.0 in /Users/parveenshaikh/Study/AI/Courses/LangChain/myenvLangchain/lib/python3.12/site-packages (from datasets->ragas) (0.33.0)\n",
      "Requirement already satisfied: packaging in /Users/parveenshaikh/Study/AI/Courses/LangChain/myenvLangchain/lib/python3.12/site-packages (from datasets->ragas) (24.2)\n",
      "Requirement already satisfied: pyyaml>=5.1 in /Users/parveenshaikh/Study/AI/Courses/LangChain/myenvLangchain/lib/python3.12/site-packages (from datasets->ragas) (6.0.2)\n",
      "Requirement already satisfied: aiohttp!=4.0.0a0,!=4.0.0a1 in /Users/parveenshaikh/Study/AI/Courses/LangChain/myenvLangchain/lib/python3.12/site-packages (from fsspec[http]<=2025.3.0,>=2023.1.0->datasets->ragas) (3.12.9)\n",
      "Requirement already satisfied: aiohappyeyeballs>=2.5.0 in /Users/parveenshaikh/Study/AI/Courses/LangChain/myenvLangchain/lib/python3.12/site-packages (from aiohttp!=4.0.0a0,!=4.0.0a1->fsspec[http]<=2025.3.0,>=2023.1.0->datasets->ragas) (2.6.1)\n",
      "Requirement already satisfied: aiosignal>=1.1.2 in /Users/parveenshaikh/Study/AI/Courses/LangChain/myenvLangchain/lib/python3.12/site-packages (from aiohttp!=4.0.0a0,!=4.0.0a1->fsspec[http]<=2025.3.0,>=2023.1.0->datasets->ragas) (1.3.2)\n",
      "Requirement already satisfied: attrs>=17.3.0 in /Users/parveenshaikh/Study/AI/Courses/LangChain/myenvLangchain/lib/python3.12/site-packages (from aiohttp!=4.0.0a0,!=4.0.0a1->fsspec[http]<=2025.3.0,>=2023.1.0->datasets->ragas) (25.3.0)\n",
      "Requirement already satisfied: frozenlist>=1.1.1 in /Users/parveenshaikh/Study/AI/Courses/LangChain/myenvLangchain/lib/python3.12/site-packages (from aiohttp!=4.0.0a0,!=4.0.0a1->fsspec[http]<=2025.3.0,>=2023.1.0->datasets->ragas) (1.6.2)\n",
      "Requirement already satisfied: multidict<7.0,>=4.5 in /Users/parveenshaikh/Study/AI/Courses/LangChain/myenvLangchain/lib/python3.12/site-packages (from aiohttp!=4.0.0a0,!=4.0.0a1->fsspec[http]<=2025.3.0,>=2023.1.0->datasets->ragas) (6.4.4)\n",
      "Requirement already satisfied: propcache>=0.2.0 in /Users/parveenshaikh/Study/AI/Courses/LangChain/myenvLangchain/lib/python3.12/site-packages (from aiohttp!=4.0.0a0,!=4.0.0a1->fsspec[http]<=2025.3.0,>=2023.1.0->datasets->ragas) (0.3.1)\n",
      "Requirement already satisfied: yarl<2.0,>=1.17.0 in /Users/parveenshaikh/Study/AI/Courses/LangChain/myenvLangchain/lib/python3.12/site-packages (from aiohttp!=4.0.0a0,!=4.0.0a1->fsspec[http]<=2025.3.0,>=2023.1.0->datasets->ragas) (1.20.0)\n",
      "Requirement already satisfied: hf-xet<2.0.0,>=1.1.2 in /Users/parveenshaikh/Study/AI/Courses/LangChain/myenvLangchain/lib/python3.12/site-packages (from huggingface-hub>=0.24.0->datasets->ragas) (1.1.3)\n",
      "Requirement already satisfied: charset-normalizer<4,>=2 in /Users/parveenshaikh/Study/AI/Courses/LangChain/myenvLangchain/lib/python3.12/site-packages (from requests>=2.32.2->datasets->ragas) (3.4.2)\n",
      "Requirement already satisfied: urllib3<3,>=1.21.1 in /Users/parveenshaikh/Study/AI/Courses/LangChain/myenvLangchain/lib/python3.12/site-packages (from requests>=2.32.2->datasets->ragas) (2.4.0)\n",
      "Requirement already satisfied: langchain-text-splitters<1.0.0,>=0.3.8 in /Users/parveenshaikh/Study/AI/Courses/LangChain/myenvLangchain/lib/python3.12/site-packages (from langchain->ragas) (0.3.8)\n",
      "Requirement already satisfied: langsmith<0.4,>=0.1.17 in /Users/parveenshaikh/Study/AI/Courses/LangChain/myenvLangchain/lib/python3.12/site-packages (from langchain->ragas) (0.3.45)\n",
      "Requirement already satisfied: SQLAlchemy<3,>=1.4 in /Users/parveenshaikh/Study/AI/Courses/LangChain/myenvLangchain/lib/python3.12/site-packages (from langchain->ragas) (2.0.41)\n",
      "Requirement already satisfied: tenacity!=8.4.0,<10.0.0,>=8.1.0 in /Users/parveenshaikh/Study/AI/Courses/LangChain/myenvLangchain/lib/python3.12/site-packages (from langchain-core->ragas) (9.1.2)\n",
      "Requirement already satisfied: jsonpatch<2.0,>=1.33 in /Users/parveenshaikh/Study/AI/Courses/LangChain/myenvLangchain/lib/python3.12/site-packages (from langchain-core->ragas) (1.33)\n",
      "Requirement already satisfied: jsonpointer>=1.9 in /Users/parveenshaikh/Study/AI/Courses/LangChain/myenvLangchain/lib/python3.12/site-packages (from jsonpatch<2.0,>=1.33->langchain-core->ragas) (3.0.0)\n",
      "Requirement already satisfied: orjson<4.0.0,>=3.9.14 in /Users/parveenshaikh/Study/AI/Courses/LangChain/myenvLangchain/lib/python3.12/site-packages (from langsmith<0.4,>=0.1.17->langchain->ragas) (3.10.18)\n",
      "Requirement already satisfied: requests-toolbelt<2.0.0,>=1.0.0 in /Users/parveenshaikh/Study/AI/Courses/LangChain/myenvLangchain/lib/python3.12/site-packages (from langsmith<0.4,>=0.1.17->langchain->ragas) (1.0.0)\n",
      "Requirement already satisfied: zstandard<0.24.0,>=0.23.0 in /Users/parveenshaikh/Study/AI/Courses/LangChain/myenvLangchain/lib/python3.12/site-packages (from langsmith<0.4,>=0.1.17->langchain->ragas) (0.23.0)\n",
      "Requirement already satisfied: dataclasses-json<0.7,>=0.5.7 in /Users/parveenshaikh/Study/AI/Courses/LangChain/myenvLangchain/lib/python3.12/site-packages (from langchain-community->ragas) (0.6.7)\n",
      "Requirement already satisfied: pydantic-settings<3.0.0,>=2.4.0 in /Users/parveenshaikh/Study/AI/Courses/LangChain/myenvLangchain/lib/python3.12/site-packages (from langchain-community->ragas) (2.9.1)\n",
      "Requirement already satisfied: httpx-sse<1.0.0,>=0.4.0 in /Users/parveenshaikh/Study/AI/Courses/LangChain/myenvLangchain/lib/python3.12/site-packages (from langchain-community->ragas) (0.4.0)\n",
      "Requirement already satisfied: marshmallow<4.0.0,>=3.18.0 in /Users/parveenshaikh/Study/AI/Courses/LangChain/myenvLangchain/lib/python3.12/site-packages (from dataclasses-json<0.7,>=0.5.7->langchain-community->ragas) (3.26.1)\n",
      "Requirement already satisfied: typing-inspect<1,>=0.4.0 in /Users/parveenshaikh/Study/AI/Courses/LangChain/myenvLangchain/lib/python3.12/site-packages (from dataclasses-json<0.7,>=0.5.7->langchain-community->ragas) (0.9.0)\n",
      "Requirement already satisfied: python-dotenv>=0.21.0 in /Users/parveenshaikh/Study/AI/Courses/LangChain/myenvLangchain/lib/python3.12/site-packages (from pydantic-settings<3.0.0,>=2.4.0->langchain-community->ragas) (1.1.0)\n",
      "Requirement already satisfied: mypy-extensions>=0.3.0 in /Users/parveenshaikh/Study/AI/Courses/LangChain/myenvLangchain/lib/python3.12/site-packages (from typing-inspect<1,>=0.4.0->dataclasses-json<0.7,>=0.5.7->langchain-community->ragas) (1.1.0)\n",
      "Requirement already satisfied: regex>=2022.1.18 in /Users/parveenshaikh/Study/AI/Courses/LangChain/myenvLangchain/lib/python3.12/site-packages (from tiktoken->ragas) (2024.11.6)\n",
      "Requirement already satisfied: python-dateutil>=2.8.2 in /Users/parveenshaikh/Study/AI/Courses/LangChain/myenvLangchain/lib/python3.12/site-packages (from pandas->datasets->ragas) (2.9.0.post0)\n",
      "Requirement already satisfied: pytz>=2020.1 in /Users/parveenshaikh/Study/AI/Courses/LangChain/myenvLangchain/lib/python3.12/site-packages (from pandas->datasets->ragas) (2025.2)\n",
      "Requirement already satisfied: tzdata>=2022.7 in /Users/parveenshaikh/Study/AI/Courses/LangChain/myenvLangchain/lib/python3.12/site-packages (from pandas->datasets->ragas) (2025.2)\n",
      "Requirement already satisfied: six>=1.5 in /Users/parveenshaikh/Study/AI/Courses/LangChain/myenvLangchain/lib/python3.12/site-packages (from python-dateutil>=2.8.2->pandas->datasets->ragas) (1.17.0)\n",
      "Note: you may need to restart the kernel to use updated packages.\n"
     ]
    }
   ],
   "source": [
    "%pip install ragas"
   ]
  },
  {
   "cell_type": "markdown",
   "id": "306a6a45",
   "metadata": {},
   "source": [
    "### Setup LLM & dotEnv"
   ]
  },
  {
   "cell_type": "code",
   "execution_count": 2,
   "id": "087aabf6",
   "metadata": {},
   "outputs": [
    {
     "data": {
      "text/plain": [
       "True"
      ]
     },
     "execution_count": 2,
     "metadata": {},
     "output_type": "execute_result"
    }
   ],
   "source": [
    "from dotenv import load_dotenv\n",
    "from langchain_ollama import ChatOllama\n",
    "\n",
    "llm = ChatOllama(\n",
    "    base_url=\"http://localhost:11434\",\n",
    "    model=\"qwen3:latest\",\n",
    "    temperature=0.5,\n",
    "    max_tokens=300\n",
    ")\n",
    "\n",
    "load_dotenv(override=True)\n",
    "load_dotenv('./../.env')"
   ]
  },
  {
   "cell_type": "markdown",
   "id": "a542b057",
   "metadata": {},
   "source": [
    "### SingleTurnSample with RAGAs"
   ]
  },
  {
   "cell_type": "code",
   "execution_count": null,
   "id": "cbb2eaec",
   "metadata": {},
   "outputs": [
    {
     "name": "stderr",
     "output_type": "stream",
     "text": [
      "/Users/parveenshaikh/Study/AI/Courses/LangChain/myenvLangchain/lib/python3.12/site-packages/tqdm/auto.py:21: TqdmWarning: IProgress not found. Please update jupyter and ipywidgets. See https://ipywidgets.readthedocs.io/en/stable/user_install.html\n",
      "  from .autonotebook import tqdm as notebook_tqdm\n"
     ]
    },
    {
     "data": {
      "text/plain": [
       "1"
      ]
     },
     "execution_count": 3,
     "metadata": {},
     "output_type": "execute_result"
    }
   ],
   "source": [
    "from ragas.llms import LangchainLLMWrapper\n",
    "from ragas import SingleTurnSample\n",
    "from ragas.metrics import AspectCritic\n",
    "\n",
    "evaluator_llm = LangchainLLMWrapper(llm)\n",
    "\n",
    "test_data = {\n",
    "    \"user_input\": \"summarise given text\\nThe company reported an 8% rise in Q3 2024, driven by strong performance in the Asian market. Sales in this region have significantly contributed to the overall growth. Analysts attribute this success to strategic marketing and product localization. The positive trend in the Asian market is expected to continue into the next quarter.\",\n",
    "    \"response\": \"The company experienced an 8% increase in Q3 2024, largely due to effective marketing strategies and product adaptation, with expectations of continued growth in the coming quarter.\",\n",
    "}\n",
    "\n",
    "# Metric to use for evalutaion\n",
    "metric = AspectCritic(name=\"summary_accuracy\",llm=evaluator_llm, definition=\"Verify if the summary is accurate.\")\n",
    "\n",
    "test_data = SingleTurnSample(**test_data)\n",
    "await metric.single_turn_ascore(test_data)\n"
   ]
  },
  {
   "cell_type": "markdown",
   "id": "e4ff94b3",
   "metadata": {},
   "source": [
    "### MultiTurnSample with RAGAs"
   ]
  },
  {
   "cell_type": "code",
   "execution_count": 4,
   "id": "2cc087e2",
   "metadata": {},
   "outputs": [],
   "source": [
    "from ragas.messages import HumanMessage, AIMessage, ToolMessage, ToolCall\n",
    "\n",
    "# User asks about the weather in New York City\n",
    "user_message = HumanMessage(content=\"What's the weather like in New York City today?\")\n",
    "\n",
    "# AI decides to use a weather API tool to fetch the information\n",
    "ai_initial_response = AIMessage(\n",
    "    content=\"Let me check the current weather in New York City for you.\",\n",
    "    tool_calls=[ToolCall(name=\"WeatherAPI\", args={\"location\": \"New York City\"})]\n",
    ")\n",
    "\n",
    "# Tool provides the weather information\n",
    "tool_response = ToolMessage(content=\"It's sunny with a temperature of 75°F in New York City.\")\n",
    "\n",
    "# AI delivers the final response to the user\n",
    "ai_final_response = AIMessage(content=\"It's sunny and 75 degrees Fahrenheit in New York City today.\")\n",
    "\n",
    "# Combine all messages into a list to represent the conversation\n",
    "conversation = [\n",
    "    user_message,\n",
    "    ai_initial_response,\n",
    "    tool_response,\n",
    "    ai_final_response\n",
    "]"
   ]
  },
  {
   "cell_type": "code",
   "execution_count": 6,
   "id": "86857ca7",
   "metadata": {},
   "outputs": [
    {
     "data": {
      "text/plain": [
       "1"
      ]
     },
     "execution_count": 6,
     "metadata": {},
     "output_type": "execute_result"
    }
   ],
   "source": [
    "from ragas import MultiTurnSample\n",
    "# Reference response for evaluation purposes\n",
    "reference_response = \"Provide the current weather in New York City to the user.\"\n",
    "\n",
    "\n",
    "# Create the MultiTurnSample instance\n",
    "sample = MultiTurnSample(\n",
    "    user_input=conversation,\n",
    "    reference=reference_response,\n",
    ")\n",
    "\n",
    "await metric.multi_turn_ascore(sample)"
   ]
  }
 ],
 "metadata": {
  "kernelspec": {
   "display_name": "myenvLangchain",
   "language": "python",
   "name": "python3"
  },
  "language_info": {
   "codemirror_mode": {
    "name": "ipython",
    "version": 3
   },
   "file_extension": ".py",
   "mimetype": "text/x-python",
   "name": "python",
   "nbconvert_exporter": "python",
   "pygments_lexer": "ipython3",
   "version": "3.12.2"
  }
 },
 "nbformat": 4,
 "nbformat_minor": 5
}
