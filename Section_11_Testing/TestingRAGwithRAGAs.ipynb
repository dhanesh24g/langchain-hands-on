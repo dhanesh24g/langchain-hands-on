{
 "cells": [
  {
   "cell_type": "markdown",
   "id": "35a273a4",
   "metadata": {},
   "source": [
    "## Testing RAG with RAGAs"
   ]
  },
  {
   "cell_type": "markdown",
   "id": "2cf73606",
   "metadata": {},
   "source": [
    "### Setup LLM"
   ]
  },
  {
   "cell_type": "code",
   "execution_count": 1,
   "id": "c4cfafa1",
   "metadata": {},
   "outputs": [
    {
     "data": {
      "text/plain": [
       "True"
      ]
     },
     "execution_count": 1,
     "metadata": {},
     "output_type": "execute_result"
    }
   ],
   "source": [
    "from dotenv import load_dotenv\n",
    "from langchain_ollama import ChatOllama\n",
    "from langchain_openai import ChatOpenAI\n",
    "\n",
    "my_llm = ChatOllama(\n",
    "    base_url=\"http://localhost:11434\",\n",
    "    model=\"llama3.1:8b\",\n",
    "    temperature=0.6,\n",
    "    max_tokens=300\n",
    ")\n",
    "\n",
    "openai_llm = ChatOpenAI(\n",
    "    model=\"gpt-4o\"\n",
    ")\n",
    "\n",
    "load_dotenv('./../.env')"
   ]
  },
  {
   "cell_type": "markdown",
   "id": "5210d0d1",
   "metadata": {},
   "source": [
    "### Setup RAG & Retriever"
   ]
  },
  {
   "cell_type": "code",
   "execution_count": 2,
   "id": "3739d3bc",
   "metadata": {},
   "outputs": [
    {
     "name": "stderr",
     "output_type": "stream",
     "text": [
      "/Users/parveenshaikh/Study/AI/Courses/LangChain/myenvLangchain/lib/python3.12/site-packages/tqdm/auto.py:21: TqdmWarning: IProgress not found. Please update jupyter and ipywidgets. See https://ipywidgets.readthedocs.io/en/stable/user_install.html\n",
      "  from .autonotebook import tqdm as notebook_tqdm\n"
     ]
    }
   ],
   "source": [
    "from langchain_chroma import Chroma\n",
    "from langchain_huggingface import HuggingFaceEmbeddings\n",
    "\n",
    "embeddings = HuggingFaceEmbeddings(model_name=\"sentence-transformers/all-MiniLM-L6-v2\")\n",
    "\n",
    "vector_store = Chroma(\n",
    "    persist_directory='./../Section_10_IntroToHuggingFace/chroma_db_hf',\n",
    "    embedding_function=embeddings\n",
    ")\n",
    "\n",
    "# retriever = vector_store.as_retriever(search_type='similarity', search_kwargs = {'k': 5})\n",
    "\n",
    "# response = retriever.invoke(\"Full name of Parveen ?\")\n",
    "\n",
    "# for doc in response:\n",
    "#     print(doc.metadata[\"source\"])"
   ]
  },
  {
   "cell_type": "markdown",
   "id": "25189e70",
   "metadata": {},
   "source": [
    "### Setup RetrievalQA"
   ]
  },
  {
   "cell_type": "code",
   "execution_count": 3,
   "id": "446d4a2e",
   "metadata": {},
   "outputs": [
    {
     "name": "stderr",
     "output_type": "stream",
     "text": [
      "/var/folders/xl/2h_vnm9s4dl0fnn4x8_mg4q40000gn/T/ipykernel_60642/1667655701.py:10: LangChainDeprecationWarning: The method `BaseRetriever.get_relevant_documents` was deprecated in langchain-core 0.1.46 and will be removed in 1.0. Use :meth:`~invoke` instead.\n",
      "  retrieved_docs = retriever.get_relevant_documents(query)\n"
     ]
    },
    {
     "data": {
      "text/plain": [
       "'The full name of the person in question is GUJRATHI DHANESH NARESH.'"
      ]
     },
     "execution_count": 3,
     "metadata": {},
     "output_type": "execute_result"
    }
   ],
   "source": [
    "from langchain.chains import RetrievalQA\n",
    "\n",
    "retriever = vector_store.as_retriever(search_kwargs={'k':3})\n",
    "\n",
    "qa_chain = RetrievalQA.from_chain_type(llm=my_llm, retriever=retriever)\n",
    "\n",
    "query = \"What is full name of Dhanesh ?\"\n",
    "\n",
    "response = qa_chain.invoke(query)\n",
    "retrieved_docs = retriever.get_relevant_documents(query)\n",
    "\n",
    "response['result']"
   ]
  },
  {
   "cell_type": "markdown",
   "id": "98f79c29",
   "metadata": {},
   "source": [
    "### Creating MultiShotSample Dataset for RAGAs 📈📉"
   ]
  },
  {
   "cell_type": "code",
   "execution_count": 4,
   "id": "40ef7d00",
   "metadata": {},
   "outputs": [
    {
     "data": {
      "text/plain": [
       "[{'user_input': 'What is full name of Dhanesh ?',\n",
       "  'retrieved_contexts': [\"Name: GUJRATHI DHANESH NARESH\\nFIN: G3872158K\\nDate of Application: 01 JUL 2020\\nDate of Birth: 24 DEC 1992\\nNationality: INDIAN\\nEducational details:\\nCountry of Awarding Body/Institution/University: INDIA\\nName of Awarding Body/Institution/University: SAVITRIBAI PHULE PUNE UNIVERSITY\\nMain Campus or Affiliating College Attended: SAVITRIBAI PHULE PUNE UNIVERSITY - AFFILIATING \\nCOLLEGES\\nQualification: BACHELOR'S DEGREE\\nFaculty: ENGINEERING\\nMode of study: FULL-TIME\\nPeriod of study: 01 AUG 2010 to 01 MAY 2014\\nName of Employer/Sponsor: NITYO INFOTECH SERVICES PTE. LTD.\",\n",
       "   \"FOREIGN EMPLOYEE'S NAME\\nGUJRATHI DHANESH NARESH\\nDATE OF BIRTH\\n24 DEC 1992\\nSEX\\nMALE\\nNATIONALITY\\nINDIAN\\nPASSPORT NO\\nM1525989\\nFIN\\nG3872158K\\nDATE OF APPLICATION\\n01 JUL 2020\\nOCCUPATION\\nTECHNICAL SUPPORT ENGINEER\\n● You must comply with the conditions under the Employment of Foreign Manpower Act and conditions of the \\nEmployment Pass, as well as the Work Injury Compensation Act. Otherwise, we can cancel the Employment \\nPass, prosecute you and withdraw your permission to employ Employment Pass holders. You can read the \\nrules at www.mom.gov.sg.\",\n",
       "   \"IPA - Employment Pass G3872158K / 17 May 2019\\nEMPLOYER'S COPY\\n                                                       \\nDeclaration Form\\nThis form must be submitted during pass issuance. If there are any discrepancies in this Declaration Form, \\nthe correct information must be provided using iSubmit at www.mom.gov.sg/isubmit before the collection of \\nthe pass. The application will be re-assessed and we will inform you of the outcome.\\nPART A  DECLARATION BY FOREIGN EMPLOYEE\\nName: GUJRATHI DHANESH NARESH\\nFIN: G3872158K\\nDate of Application: 17 MAY 2019\\nDate of Birth: 24 DEC 1992\\nNationality: INDIAN\"],\n",
       "  'response': 'The full name of the individual in question is GUJRATHI DHANESH NARESH.',\n",
       "  'reference': \"AIPA - Employment Pass G3872158K / 01 Jul 2020\\nNITYO INFOTECH SERVICES PTE. LTD.\\n10 UBI CRESCENT\\n#03-28\\nSINGAPORE 408564\\n15 Jul 2020 *G3872158K01072020*\\nYour application\\nis approved\\nDear Sir/Madam\\nWe are pleased to inform you that GUJRATHI DHANESH \\nNARESH's Employment Pass has been approved for 24 months. \\nThis In-Principle Approval is valid until 11 Jan 2021.\\nThis letter lists the employment details for you to confirm and the \\nnext steps you need to take so that an Employment Pass card \\ncan be issued.\\nThe pass must be issued before he can start work. This must be\"},\n",
       " {'user_input': 'What is full name of Parveen ?',\n",
       "  'retrieved_contexts': [\"Name SHAIKH PARVEEN \\nDAUD \\nDate of Birth 16 Mar 1995 \\nTravel Document Number R4448979 Nationality/Citizenship Indian \\nTravel Document Expiry \\nDate \\n22 Aug 2027 Sex Female \\n \\n \\nEducation Details 1 \\nAwarding Institution SAVITRIBAI PHULE \\nPUNE UNIVERSITY \\nQualification Bachelor's Degree \\nCountry/Region of \\nAwarding Institution \\nIndia Faculty Engineering \\nMode of Study  On Campus Full Time Period of Study Jul 2013 to Jul 2017 \\n   \\n \\n \\nEmployment Details \\nName of Employer  OVERSEA-CHINESE \\nBANKING \\nCORPORATION \\nLIMITED \\nBasic Monthly Salary S$8,000 \\nOccupation Software Developer Allowances S$0\",\n",
       "   'particulars to submit your request and \\nthe relevant supporting documents. We \\nwill get back to you within 7 working \\ndays and let you know if you need to \\nreapply. \\nDear Sir/Madam \\n \\nWe are pleased to inform you that SHAIKH PARVEEN DAUD’s \\nEmployment Pass has been approved for 24 months. This In-\\nPrinciple Approval (IPA) is valid until 02 JUN 2024. \\n \\nPlease confirm the employment details on the next page and \\ncarry out the steps to get the Employment Pass issued.  \\n \\nThe pass must be issued before she can start work. This must be',\n",
       "   'DATE  OF   APPLICATION \\n29 NOV 2023 \\nFIN \\nM4286308K \\nNAME \\nSHAIKH PARVEEN DAUD \\n \\nMinistry of Manpower Work Pass Division \\nWeb http://www.mom.gov.sg        Contact Us http://www.mom.gov.sg/contact              Page 5 of 8 \\nDECLARATION FORMIPA – Application M4286308K | 29 NOV 2023\\nTo be signed by the various \\nparties and uploaded when \\nyou issue the Employment \\nPass \\n  \\nPart I. Foreigner’s Details and Employment \\nPersonal Particulars \\nName SHAIKH PARVEEN \\nDAUD \\nDate of Birth 16 Mar 1995 \\nTravel Document Number R4448979 Nationality/Citizenship Indian \\nTravel Document Expiry \\nDate'],\n",
       "  'response': 'The full name of the person in question is SHAIKH PARVEEN DAUD.',\n",
       "  'reference': \"next steps you need to take so that an Employment Pass card \\ncan be issued.\\nThe pass must be issued before he can start work. This must be \\ndone before this IPA expires. Otherwise, we will withdraw the \\napproval and you will need to send him home.\\nYours sincerely\\nPenny Han (Mrs)\\nController of Work Passes\\nPlease confirm\\nthe details below\\nIf you have any changes, send them to us\\n(with supporting documents) using iSubmit.\\nWe will tell you if you need to reapply. \\nFOREIGN EMPLOYEE'S NAME\\nGUJRATHI DHANESH NARESH\\nDATE OF BIRTH\\n24 DEC 1992\\nSEX\\nMALE\\nNATIONALITY\\nINDIAN\\nPASSPORT NO\\nM1525989\\nFIN\"},\n",
       " {'user_input': 'Which organisation applied for the employment pass of Dhanesh in 2019 ?',\n",
       "  'retrieved_contexts': [\"AIPA - Employment Pass G3872158K / 01 Jul 2020\\nNITYO INFOTECH SERVICES PTE. LTD.\\n10 UBI CRESCENT\\n#03-28\\nSINGAPORE 408564\\n15 Jul 2020 *G3872158K01072020*\\nYour application\\nis approved\\nDear Sir/Madam\\nWe are pleased to inform you that GUJRATHI DHANESH \\nNARESH's Employment Pass has been approved for 24 months. \\nThis In-Principle Approval is valid until 11 Jan 2021.\\nThis letter lists the employment details for you to confirm and the \\nnext steps you need to take so that an Employment Pass card \\ncan be issued.\\nThe pass must be issued before he can start work. This must be\",\n",
       "   \"AIPA - Employment Pass G3872158K / 17 May 2019\\nNTT DATA SINGAPORE PTE. LTD.\\n10 HOE CHIANG ROAD\\n#16-01\\nSINGAPORE 089315\\n30 May 2019 *G3872158K17052019*\\nYour application\\nis approved\\nDear Sir/Madam\\nWe are pleased to inform you that GUJRATHI DHANESH \\nNARESH's Employment Pass has been approved for 24 months. \\nThis In-Principle Approval is valid until 26 Nov 2019.\\nThis letter lists the employment details for you to confirm and the \\nnext steps you need to take so that an Employment Pass card \\ncan be issued.\\nAfter your pass holder gets here, you need to get his pass issued\",\n",
       "   \"IPA - Employment Pass G3872158K / 17 May 2019\\nEMPLOYER'S COPY\\n                                                       \\nDeclaration Form\\nThis form must be submitted during pass issuance. If there are any discrepancies in this Declaration Form, \\nthe correct information must be provided using iSubmit at www.mom.gov.sg/isubmit before the collection of \\nthe pass. The application will be re-assessed and we will inform you of the outcome.\\nPART A  DECLARATION BY FOREIGN EMPLOYEE\\nName: GUJRATHI DHANESH NARESH\\nFIN: G3872158K\\nDate of Application: 17 MAY 2019\\nDate of Birth: 24 DEC 1992\\nNationality: INDIAN\"],\n",
       "  'response': 'According to the provided context, NTT DATA SINGAPORE PTE. LTD. applied for the Employment Pass of Dhanesh in 2019 (on May 17th, 2019).',\n",
       "  'reference': \"FOREIGN EMPLOYEE'S NAME\\nGUJRATHI DHANESH NARESH\\nDATE OF BIRTH\\n24 DEC 1992\\nSEX\\nMALE\\nNATIONALITY\\nINDIAN\\nPASSPORT NO\\nM1525989\\nFIN\\nG3872158K\\nDATE OF APPLICATION\\n01 JUL 2020\\nOCCUPATION\\nTECHNICAL SUPPORT ENGINEER\\n● You must comply with the conditions under the Employment of Foreign Manpower Act and conditions of the \\nEmployment Pass, as well as the Work Injury Compensation Act. Otherwise, we can cancel the Employment \\nPass, prosecute you and withdraw your permission to employ Employment Pass holders. You can read the \\nrules at www.mom.gov.sg.\"},\n",
       " {'user_input': 'Which organisation applied for the employment pass of Parveen in 2024 ?',\n",
       "  'retrieved_contexts': ['particulars to submit your request and \\nthe relevant supporting documents. We \\nwill get back to you within 7 working \\ndays and let you know if you need to \\nreapply. \\nDear Sir/Madam \\n \\nWe are pleased to inform you that SHAIKH PARVEEN DAUD’s \\nEmployment Pass has been approved for 24 months. This In-\\nPrinciple Approval (IPA) is valid until 02 JUN 2024. \\n \\nPlease confirm the employment details on the next page and \\ncarry out the steps to get the Employment Pass issued.  \\n \\nThe pass must be issued before she can start work. This must be',\n",
       "   'by 11 Jan 2021. Otherwise we will withdraw this approval.\\nYours sincerely\\nPenny Han (Mrs)\\nController of Work Passes\\nWhat happens next?\\nPlease follow these simple steps and\\nget your Employment Pass. There are more \\ndetailed instructions on the next page(s).\\nCHECK YOUR DETAILS\\nMake sure the employment details \\noverleaf are correct. If not, please \\ninform your employer immediately.\\nCOLLECT YOUR CARD\\nMake sure your employer arranges for \\nyour Employment Pass to be issued \\nbefore 11 Jan 2021.\\nMinistry of Manpower Work Pass Division',\n",
       "   \"IPA - Employment Pass G3872158K / 01 Jul 2020\\nEMPLOYER'S COPY\\n                                                       \\n PART B  DECLARATION BY EMPLOYER / LOCAL SPONSOR\\nI declare that I have read and understood the conditions and regulatory conditions of Employment Pass in \\nthe Employment of Foreign Manpower (Work Passes) Regulations available at MOM counters or on our \\nMOM website and I further declare that I am authorised to bind NITYO INFOTECH SERVICES PTE. LTD., \\nthe employer/sponsor or GUJRATHI DHANESH NARESH to the following:\"],\n",
       "  'response': 'According to the context, it was actually \"NITYO INFOTECH SERVICES PTE. LTD.\" (not in 2024, but in 2020) that applied for Parveen\\'s Employment Pass, not in 2024 as stated in the question. The letter is dated July 2020 and mentions that the approval is valid until June 2024.',\n",
       "  'reference': \"Pass, prosecute you and withdraw your permission to employ Employment Pass holders. You can read the \\nrules at www.mom.gov.sg.\\n● This letter does not grant the pass holder's stay in Singapore. You must issue the pass before the pass \\nholder's visit pass expires.\\nMinistry of Manpower Work Pass Division\\nWeb http://www.mom.gov.sg Contact Us http://www.mom.gov.sg/contact Page 1 of 3\\nEMPLOYER'S COPY\"},\n",
       " {'user_input': 'Which organisation applied for the employment pass of Dhanesh in 2020 ?',\n",
       "  'retrieved_contexts': [\"AIPA - Employment Pass G3872158K / 01 Jul 2020\\nNITYO INFOTECH SERVICES PTE. LTD.\\n10 UBI CRESCENT\\n#03-28\\nSINGAPORE 408564\\n15 Jul 2020 *G3872158K01072020*\\nYour application\\nis approved\\nDear Sir/Madam\\nWe are pleased to inform you that GUJRATHI DHANESH \\nNARESH's Employment Pass has been approved for 24 months. \\nThis In-Principle Approval is valid until 11 Jan 2021.\\nThis letter lists the employment details for you to confirm and the \\nnext steps you need to take so that an Employment Pass card \\ncan be issued.\\nThe pass must be issued before he can start work. This must be\",\n",
       "   \"AIPA - Employment Pass G3872158K / 17 May 2019\\nNTT DATA SINGAPORE PTE. LTD.\\n10 HOE CHIANG ROAD\\n#16-01\\nSINGAPORE 089315\\n30 May 2019 *G3872158K17052019*\\nYour application\\nis approved\\nDear Sir/Madam\\nWe are pleased to inform you that GUJRATHI DHANESH \\nNARESH's Employment Pass has been approved for 24 months. \\nThis In-Principle Approval is valid until 26 Nov 2019.\\nThis letter lists the employment details for you to confirm and the \\nnext steps you need to take so that an Employment Pass card \\ncan be issued.\\nAfter your pass holder gets here, you need to get his pass issued\",\n",
       "   \"IPA - Employment Pass G3872158K / 01 Jul 2020\\nEMPLOYER'S COPY\\n                                                       \\nDeclaration Form\\nThis form must be submitted during pass issuance. If there are any discrepancies in this Declaration Form, \\nthe correct information must be provided using iSubmit at www.mom.gov.sg/isubmit before the collection of \\nthe pass. The application will be re-assessed and we will inform you of the outcome.\\nPART A  DECLARATION BY FOREIGN EMPLOYEE\\nName: GUJRATHI DHANESH NARESH\\nFIN: G3872158K\\nDate of Application: 01 JUL 2020\\nDate of Birth: 24 DEC 1992\\nNationality: INDIAN\"],\n",
       "  'response': 'Nityo Infotech Services PTE. LTD. applied for the Employment Pass of Dhanesh (Gujrathi Dhanesh NARESH) in 2020.',\n",
       "  'reference': \"IPA - Employment Pass G3872158K / 01 Jul 2020\\nEMPLOYER'S COPY\\n                                                                   \\nWhat you need to do to get the Employment Pass card:\\nNext steps\\nSend them the pass holder's copy\\nof the IPA letter.\\nIf they require a visa, the pass holder's IPA contains a\\npre-approved single journey visa for their use - a\\ncharge of S$30 for a multiple journey visa (if applicable)\\nwill have to be made to MOM later.\\nThe address we have is:\\n40 JALAN CHEMPAKA PUTEH\\nSINGAPORE 489036\"}]"
      ]
     },
     "execution_count": 4,
     "metadata": {},
     "output_type": "execute_result"
    }
   ],
   "source": [
    "# Reference for below implementation - \n",
    "# https://docs.ragas.io/en/stable/concepts/components/eval_dataset/#creating-an-evaluation-dataset-from-singleturnsamples\n",
    "\n",
    "questions = [\n",
    "    \"What is full name of Dhanesh ?\",\n",
    "    \"What is full name of Parveen ?\",\n",
    "    \"Which organisation applied for the employment pass of Dhanesh in 2019 ?\",\n",
    "    \"Which organisation applied for the employment pass of Parveen in 2024 ?\",\n",
    "    \"Which organisation applied for the employment pass of Dhanesh in 2020 ?\"\n",
    "]\n",
    "\n",
    "dataset = []\n",
    "\n",
    "all_docs = vector_store.get(include=[\"documents\"])[\"documents\"]\n",
    "\n",
    "for question, doc in zip(questions, all_docs):\n",
    "    relevant_docs = [doc.page_content for doc in retriever.invoke(question)]\n",
    "    response = qa_chain.invoke(question)\n",
    "    \n",
    "    dataset.append({\n",
    "        \"user_input\": question,\n",
    "        \"retrieved_contexts\": relevant_docs,\n",
    "        \"response\": response['result'],\n",
    "        \"reference\": doc\n",
    "    })\n",
    "\n",
    "dataset"
   ]
  },
  {
   "cell_type": "markdown",
   "id": "de364036",
   "metadata": {},
   "source": [
    "### Evaluation of RAG data by RAGAs"
   ]
  },
  {
   "cell_type": "code",
   "execution_count": 8,
   "id": "f17f133e",
   "metadata": {},
   "outputs": [],
   "source": [
    "from ragas import EvaluationDataset\n",
    "\n",
    "evaluation_dataset = EvaluationDataset.from_list(dataset)"
   ]
  },
  {
   "cell_type": "code",
   "execution_count": null,
   "id": "60e362b7",
   "metadata": {},
   "outputs": [
    {
     "name": "stderr",
     "output_type": "stream",
     "text": [
      "Evaluating: 100%|██████████| 20/20 [00:31<00:00,  1.58s/it]\n"
     ]
    },
    {
     "data": {
      "text/plain": [
       "{'context_recall': 0.3386, 'faithfulness': 0.9500, 'context_precision': 0.4167, 'answer_relevancy': 0.8890}"
      ]
     },
     "execution_count": 18,
     "metadata": {},
     "output_type": "execute_result"
    }
   ],
   "source": [
    "from ragas import evaluate\n",
    "from ragas.llms import LangchainLLMWrapper\n",
    "from ragas.metrics import Faithfulness, LLMContextRecall, ContextPrecision, AnswerRelevancy\n",
    "\n",
    "load_dotenv(override=True)\n",
    "load_dotenv('./../.env')\n",
    "\n",
    "# eval_llm = LangchainLLMWrapper(ChatOpenAI(model=\"gpt-4o\"))\n",
    "eval_llm = LangchainLLMWrapper(ChatOpenAI(model=\"\"))\n",
    "\n",
    "# openai_llm.invoke(\"Singapore avergae salary for IT jobs?\")\n",
    "\n",
    "output = evaluate(dataset=evaluation_dataset, \n",
    "                  metrics=[LLMContextRecall(), Faithfulness(), ContextPrecision(), AnswerRelevancy()], \n",
    "                  llm=eval_llm)\n",
    "\n",
    "output"
   ]
  },
  {
   "cell_type": "code",
   "execution_count": 19,
   "id": "f8328f7a",
   "metadata": {},
   "outputs": [
    {
     "data": {
      "text/html": [
       "<div>\n",
       "<style scoped>\n",
       "    .dataframe tbody tr th:only-of-type {\n",
       "        vertical-align: middle;\n",
       "    }\n",
       "\n",
       "    .dataframe tbody tr th {\n",
       "        vertical-align: top;\n",
       "    }\n",
       "\n",
       "    .dataframe thead th {\n",
       "        text-align: right;\n",
       "    }\n",
       "</style>\n",
       "<table border=\"1\" class=\"dataframe\">\n",
       "  <thead>\n",
       "    <tr style=\"text-align: right;\">\n",
       "      <th></th>\n",
       "      <th>user_input</th>\n",
       "      <th>retrieved_contexts</th>\n",
       "      <th>response</th>\n",
       "      <th>reference</th>\n",
       "      <th>context_recall</th>\n",
       "      <th>faithfulness</th>\n",
       "      <th>context_precision</th>\n",
       "      <th>answer_relevancy</th>\n",
       "    </tr>\n",
       "  </thead>\n",
       "  <tbody>\n",
       "    <tr>\n",
       "      <th>0</th>\n",
       "      <td>What is full name of Dhanesh ?</td>\n",
       "      <td>[Name: GUJRATHI DHANESH NARESH\\nFIN: G3872158K...</td>\n",
       "      <td>The full name of the individual in question is...</td>\n",
       "      <td>AIPA - Employment Pass G3872158K / 01 Jul 2020...</td>\n",
       "      <td>0.222222</td>\n",
       "      <td>1.00</td>\n",
       "      <td>1.000000</td>\n",
       "      <td>0.836376</td>\n",
       "    </tr>\n",
       "    <tr>\n",
       "      <th>1</th>\n",
       "      <td>What is full name of Parveen ?</td>\n",
       "      <td>[Name SHAIKH PARVEEN \\nDAUD \\nDate of Birth 16...</td>\n",
       "      <td>The full name of the person in question is SHA...</td>\n",
       "      <td>next steps you need to take so that an Employm...</td>\n",
       "      <td>0.250000</td>\n",
       "      <td>1.00</td>\n",
       "      <td>0.583333</td>\n",
       "      <td>0.840222</td>\n",
       "    </tr>\n",
       "    <tr>\n",
       "      <th>2</th>\n",
       "      <td>Which organisation applied for the employment ...</td>\n",
       "      <td>[AIPA - Employment Pass G3872158K / 01 Jul 202...</td>\n",
       "      <td>According to the provided context, NTT DATA SI...</td>\n",
       "      <td>FOREIGN EMPLOYEE'S NAME\\nGUJRATHI DHANESH NARE...</td>\n",
       "      <td>0.363636</td>\n",
       "      <td>1.00</td>\n",
       "      <td>0.500000</td>\n",
       "      <td>0.904050</td>\n",
       "    </tr>\n",
       "    <tr>\n",
       "      <th>3</th>\n",
       "      <td>Which organisation applied for the employment ...</td>\n",
       "      <td>[particulars to submit your request and \\nthe ...</td>\n",
       "      <td>According to the context, it was actually \"NIT...</td>\n",
       "      <td>Pass, prosecute you and withdraw your permissi...</td>\n",
       "      <td>0.285714</td>\n",
       "      <td>0.75</td>\n",
       "      <td>0.000000</td>\n",
       "      <td>0.918458</td>\n",
       "    </tr>\n",
       "    <tr>\n",
       "      <th>4</th>\n",
       "      <td>Which organisation applied for the employment ...</td>\n",
       "      <td>[AIPA - Employment Pass G3872158K / 01 Jul 202...</td>\n",
       "      <td>Nityo Infotech Services PTE. LTD. applied for ...</td>\n",
       "      <td>IPA - Employment Pass G3872158K / 01 Jul 2020\\...</td>\n",
       "      <td>0.571429</td>\n",
       "      <td>1.00</td>\n",
       "      <td>0.000000</td>\n",
       "      <td>0.946082</td>\n",
       "    </tr>\n",
       "  </tbody>\n",
       "</table>\n",
       "</div>"
      ],
      "text/plain": [
       "                                          user_input  \\\n",
       "0                     What is full name of Dhanesh ?   \n",
       "1                     What is full name of Parveen ?   \n",
       "2  Which organisation applied for the employment ...   \n",
       "3  Which organisation applied for the employment ...   \n",
       "4  Which organisation applied for the employment ...   \n",
       "\n",
       "                                  retrieved_contexts  \\\n",
       "0  [Name: GUJRATHI DHANESH NARESH\\nFIN: G3872158K...   \n",
       "1  [Name SHAIKH PARVEEN \\nDAUD \\nDate of Birth 16...   \n",
       "2  [AIPA - Employment Pass G3872158K / 01 Jul 202...   \n",
       "3  [particulars to submit your request and \\nthe ...   \n",
       "4  [AIPA - Employment Pass G3872158K / 01 Jul 202...   \n",
       "\n",
       "                                            response  \\\n",
       "0  The full name of the individual in question is...   \n",
       "1  The full name of the person in question is SHA...   \n",
       "2  According to the provided context, NTT DATA SI...   \n",
       "3  According to the context, it was actually \"NIT...   \n",
       "4  Nityo Infotech Services PTE. LTD. applied for ...   \n",
       "\n",
       "                                           reference  context_recall  \\\n",
       "0  AIPA - Employment Pass G3872158K / 01 Jul 2020...        0.222222   \n",
       "1  next steps you need to take so that an Employm...        0.250000   \n",
       "2  FOREIGN EMPLOYEE'S NAME\\nGUJRATHI DHANESH NARE...        0.363636   \n",
       "3  Pass, prosecute you and withdraw your permissi...        0.285714   \n",
       "4  IPA - Employment Pass G3872158K / 01 Jul 2020\\...        0.571429   \n",
       "\n",
       "   faithfulness  context_precision  answer_relevancy  \n",
       "0          1.00           1.000000          0.836376  \n",
       "1          1.00           0.583333          0.840222  \n",
       "2          1.00           0.500000          0.904050  \n",
       "3          0.75           0.000000          0.918458  \n",
       "4          1.00           0.000000          0.946082  "
      ]
     },
     "execution_count": 19,
     "metadata": {},
     "output_type": "execute_result"
    }
   ],
   "source": [
    "output.to_pandas()"
   ]
  }
 ],
 "metadata": {
  "kernelspec": {
   "display_name": "myenvLangchain",
   "language": "python",
   "name": "python3"
  },
  "language_info": {
   "codemirror_mode": {
    "name": "ipython",
    "version": 3
   },
   "file_extension": ".py",
   "mimetype": "text/x-python",
   "name": "python",
   "nbconvert_exporter": "python",
   "pygments_lexer": "ipython3",
   "version": "3.12.2"
  }
 },
 "nbformat": 4,
 "nbformat_minor": 5
}
