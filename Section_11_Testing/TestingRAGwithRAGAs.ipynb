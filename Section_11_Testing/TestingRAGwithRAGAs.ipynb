{
 "cells": [
  {
   "cell_type": "markdown",
   "id": "35a273a4",
   "metadata": {},
   "source": [
    "## Testing RAG with RAGAs"
   ]
  },
  {
   "cell_type": "markdown",
   "id": "2cf73606",
   "metadata": {},
   "source": [
    "### Setup LLM"
   ]
  },
  {
   "cell_type": "code",
   "execution_count": 1,
   "id": "c4cfafa1",
   "metadata": {},
   "outputs": [
    {
     "data": {
      "text/plain": [
       "True"
      ]
     },
     "execution_count": 1,
     "metadata": {},
     "output_type": "execute_result"
    }
   ],
   "source": [
    "from dotenv import load_dotenv\n",
    "from langchain_ollama import ChatOllama\n",
    "from langchain_openai import ChatOpenAI\n",
    "\n",
    "my_llm = ChatOllama(\n",
    "    base_url=\"http://localhost:11434\",\n",
    "    model=\"llama3.1:8b\",\n",
    "    temperature=0.6,\n",
    "    max_tokens=300\n",
    ")\n",
    "\n",
    "openai_llm = ChatOpenAI(\n",
    "    model=\"gpt-4o\"\n",
    ")\n",
    "\n",
    "load_dotenv('./../.env')"
   ]
  },
  {
   "cell_type": "markdown",
   "id": "5210d0d1",
   "metadata": {},
   "source": [
    "### Setup RAG & Retriever"
   ]
  },
  {
   "cell_type": "code",
   "execution_count": null,
   "id": "3739d3bc",
   "metadata": {},
   "outputs": [],
   "source": [
    "from langchain_chroma import Chroma\n",
    "from langchain_huggingface import HuggingFaceEmbeddings\n",
    "\n",
    "embeddings = HuggingFaceEmbeddings(model_name=\"sentence-transformers/all-MiniLM-L6-v2\")\n",
    "\n",
    "vector_store = Chroma(\n",
    "    persist_directory='./../Section_10_IntroToHuggingFace/chroma_db_hf',\n",
    "    embedding_function=embeddings\n",
    ")\n",
    "\n",
    "# retriever = vector_store.as_retriever(search_type='similarity', search_kwargs = {'k': 5})\n",
    "\n",
    "# response = retriever.invoke(\"Full name of Parveen ?\")\n",
    "\n",
    "# for doc in response:\n",
    "#     print(doc.metadata[\"source\"])"
   ]
  },
  {
   "cell_type": "markdown",
   "id": "25189e70",
   "metadata": {},
   "source": [
    "### Setup RetrievalQA"
   ]
  },
  {
   "cell_type": "code",
   "execution_count": 3,
   "id": "446d4a2e",
   "metadata": {},
   "outputs": [
    {
     "name": "stderr",
     "output_type": "stream",
     "text": [
      "/var/folders/xl/2h_vnm9s4dl0fnn4x8_mg4q40000gn/T/ipykernel_60642/1667655701.py:10: LangChainDeprecationWarning: The method `BaseRetriever.get_relevant_documents` was deprecated in langchain-core 0.1.46 and will be removed in 1.0. Use :meth:`~invoke` instead.\n",
      "  retrieved_docs = retriever.get_relevant_documents(query)\n"
     ]
    },
    {
     "data": {
      "text/plain": [
       "'The full name of the person in question is GUJRATHI DHANESH NARESH.'"
      ]
     },
     "execution_count": 3,
     "metadata": {},
     "output_type": "execute_result"
    }
   ],
   "source": [
    "from langchain.chains import RetrievalQA\n",
    "\n",
    "retriever = vector_store.as_retriever(search_kwargs={'k':3})\n",
    "\n",
    "qa_chain = RetrievalQA.from_chain_type(llm=my_llm, retriever=retriever)\n",
    "\n",
    "query = \"What is full name of Dhanesh ?\"\n",
    "\n",
    "response = qa_chain.invoke(query)\n",
    "retrieved_docs = retriever.get_relevant_documents(query)\n",
    "\n",
    "response['result']"
   ]
  },
  {
   "cell_type": "markdown",
   "id": "98f79c29",
   "metadata": {},
   "source": [
    "### Creating MultiShotSample Dataset for RAGAs 📈📉"
   ]
  },
  {
   "cell_type": "code",
   "execution_count": null,
   "id": "40ef7d00",
   "metadata": {},
   "outputs": [],
   "source": [
    "# Reference for below implementation - \n",
    "# https://docs.ragas.io/en/stable/concepts/components/eval_dataset/#creating-an-evaluation-dataset-from-singleturnsamples\n",
    "\n",
    "questions = [\n",
    "    \"What is full name of Dhanesh ?\",\n",
    "    \"What is full name of Parveen ?\",\n",
    "    \"Which organisation applied for the employment pass of Dhanesh in 2019 ?\",\n",
    "    \"Which organisation applied for the employment pass of Parveen in 2024 ?\",\n",
    "    \"Which organisation applied for the employment pass of Dhanesh in 2020 ?\"\n",
    "]\n",
    "\n",
    "dataset = []\n",
    "\n",
    "all_docs = vector_store.get(include=[\"documents\"])[\"documents\"]\n",
    "\n",
    "for question, doc in zip(questions, all_docs):\n",
    "    relevant_docs = [doc.page_content for doc in retriever.invoke(question)]\n",
    "    response = qa_chain.invoke(question)\n",
    "    \n",
    "    dataset.append({\n",
    "        \"user_input\": question,\n",
    "        \"retrieved_contexts\": relevant_docs,\n",
    "        \"response\": response['result'],\n",
    "        \"reference\": doc\n",
    "    })\n",
    "\n",
    "dataset"
   ]
  },
  {
   "cell_type": "markdown",
   "id": "de364036",
   "metadata": {},
   "source": [
    "### Evaluation of RAG data by RAGAs"
   ]
  },
  {
   "cell_type": "code",
   "execution_count": 8,
   "id": "f17f133e",
   "metadata": {},
   "outputs": [],
   "source": [
    "from ragas import EvaluationDataset\n",
    "\n",
    "evaluation_dataset = EvaluationDataset.from_list(dataset)"
   ]
  },
  {
   "cell_type": "code",
   "execution_count": null,
   "id": "60e362b7",
   "metadata": {},
   "outputs": [
    {
     "name": "stderr",
     "output_type": "stream",
     "text": [
      "Evaluating: 100%|██████████| 20/20 [00:31<00:00,  1.58s/it]\n"
     ]
    },
    {
     "data": {
      "text/plain": [
       "{'context_recall': 0.3386, 'faithfulness': 0.9500, 'context_precision': 0.4167, 'answer_relevancy': 0.8890}"
      ]
     },
     "execution_count": 18,
     "metadata": {},
     "output_type": "execute_result"
    }
   ],
   "source": [
    "from ragas import evaluate\n",
    "from ragas.llms import LangchainLLMWrapper\n",
    "from ragas.metrics import Faithfulness, LLMContextRecall, ContextPrecision, AnswerRelevancy\n",
    "\n",
    "load_dotenv(override=True)\n",
    "load_dotenv('./../.env')\n",
    "\n",
    "# eval_llm = LangchainLLMWrapper(ChatOpenAI(model=\"gpt-4o\"))\n",
    "eval_llm = LangchainLLMWrapper(ChatOpenAI(model=\"\"))\n",
    "\n",
    "# openai_llm.invoke(\"Singapore avergae salary for IT jobs?\")\n",
    "\n",
    "output = evaluate(dataset=evaluation_dataset, \n",
    "                  metrics=[LLMContextRecall(), Faithfulness(), ContextPrecision(), AnswerRelevancy()], \n",
    "                  llm=eval_llm)\n",
    "\n",
    "output"
   ]
  },
  {
   "cell_type": "code",
   "execution_count": null,
   "id": "f8328f7a",
   "metadata": {},
   "outputs": [],
   "source": [
    "output.to_pandas()"
   ]
  }
 ],
 "metadata": {
  "kernelspec": {
   "display_name": "myenvLangchain",
   "language": "python",
   "name": "python3"
  },
  "language_info": {
   "codemirror_mode": {
    "name": "ipython",
    "version": 3
   },
   "file_extension": ".py",
   "mimetype": "text/x-python",
   "name": "python",
   "nbconvert_exporter": "python",
   "pygments_lexer": "ipython3",
   "version": "3.12.2"
  }
 },
 "nbformat": 4,
 "nbformat_minor": 5
}
