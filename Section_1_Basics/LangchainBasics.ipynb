{
 "cells": [
  {
   "cell_type": "markdown",
   "id": "72d88fa6",
   "metadata": {},
   "source": [
    "### Installation of Required Dependencies"
   ]
  },
  {
   "cell_type": "code",
   "execution_count": null,
   "id": "2f801f66",
   "metadata": {},
   "outputs": [],
   "source": [
    "%pip install langchain\n",
    "%pip install -U langchain-ollama\n",
    "%pip install python-dotenv"
   ]
  },
  {
   "cell_type": "markdown",
   "id": "5b9ffe06",
   "metadata": {},
   "source": [
    "### Interacting with LLM"
   ]
  },
  {
   "cell_type": "code",
   "execution_count": 1,
   "id": "bba1a2f9",
   "metadata": {},
   "outputs": [
    {
     "name": "stdout",
     "output_type": "stream",
     "text": [
      "content=\"<think>\\n\\n</think>\\n\\nI'm just a bunch of code, so I don't have feelings, but I'm here and ready to help! How can I assist you today? 😊\" additional_kwargs={} response_metadata={'model': 'qwen3:latest', 'created_at': '2025-06-22T10:49:36.529339Z', 'done': True, 'done_reason': 'stop', 'total_duration': 2201128250, 'load_duration': 32373000, 'prompt_eval_count': 18, 'prompt_eval_duration': 850309875, 'eval_count': 38, 'eval_duration': 1310129875, 'model_name': 'qwen3:latest'} id='run--4530a8c0-3f72-42ee-87e0-646f5e56fbda-0' usage_metadata={'input_tokens': 18, 'output_tokens': 38, 'total_tokens': 56}\n"
     ]
    }
   ],
   "source": [
    "from langchain_ollama import ChatOllama\n",
    "\n",
    "llm = ChatOllama(\n",
    "    base_url=\"http://localhost:11434\",\n",
    "    model=\"qwen3:latest\",\n",
    "    temperature=0.5,\n",
    "    max_tokens=400,\n",
    ")\n",
    "\n",
    "response = llm.invoke(\"How are you doing today ? /no_think\")\n",
    "print(response)"
   ]
  },
  {
   "cell_type": "markdown",
   "id": "a1c81bb8",
   "metadata": {},
   "source": [
    "### Load ENV File"
   ]
  },
  {
   "cell_type": "code",
   "execution_count": 2,
   "id": "53b3245b",
   "metadata": {},
   "outputs": [
    {
     "data": {
      "text/plain": [
       "'MyFirstLangchainAutomation'"
      ]
     },
     "execution_count": 2,
     "metadata": {},
     "output_type": "execute_result"
    }
   ],
   "source": [
    "from dotenv import load_dotenv\n",
    "import os\n",
    "\n",
    "load_dotenv(override=True)\n",
    "load = load_dotenv('../.env')\n",
    "\n",
    "os.getenv('LANGSMITH_PROJECT')"
   ]
  },
  {
   "cell_type": "markdown",
   "id": "0f60b5f5",
   "metadata": {},
   "source": [
    "### Prompt Template, Invoke & Content"
   ]
  },
  {
   "cell_type": "code",
   "execution_count": 3,
   "id": "448cd411",
   "metadata": {},
   "outputs": [
    {
     "name": "stdout",
     "output_type": "stream",
     "text": [
      "<think>\n",
      "\n",
      "</think>\n",
      "\n",
      "Running a Large Language Model (LLM) on a local machine offers several advantages, depending on your use case and requirements. Here are the key benefits:\n",
      "\n",
      "---\n",
      "\n",
      "### 1. **Privacy and Data Security**\n",
      "- **No data transmission**: All data remains on the local machine, reducing the risk of data leaks or exposure to third-party servers.\n",
      "- **Compliance**: Ideal for industries with strict data privacy regulations (e.g., healthcare, finance, government), where sensitive information must not leave the premises.\n",
      "\n",
      "---\n",
      "\n",
      "### 2. **Control Over the Environment**\n",
      "- **Customization**: You can tailor the model's environment, including hardware, software, and integration with other systems.\n",
      "- **Fine-tuning**: Easier to fine-tune or retrain the model on local data without relying on cloud services.\n",
      "\n",
      "---\n",
      "\n",
      "### 3. **Cost Efficiency (for some use cases)**\n",
      "- **Reduced cloud costs**: If you have a high volume of inference requests, running the model locally can be more cost-effective than using cloud-based LLM services.\n",
      "- **Long-term use**: Once the model is deployed locally, ongoing inference costs are minimized compared to cloud APIs.\n",
      "\n",
      "---\n",
      "\n",
      "### 4. **Offline Access**\n",
      "- **No internet dependency**: The model can be used even in environments with no internet connection.\n",
      "- **Reliable operation**: Suitable for remote locations, field operations, or scenarios with unreliable network access.\n",
      "\n",
      "---\n",
      "\n",
      "### 5. **Performance Optimization**\n",
      "- **Latency reduction**: Local inference can be faster than cloud-based inference, especially when dealing with high-throughput or real-time applications.\n",
      "- **Custom hardware acceleration**: You can leverage local GPUs, TPUs, or specialized hardware for faster inference.\n",
      "\n",
      "---\n",
      "\n",
      "### 6. **Avoiding API Rate Limits**\n",
      "- **Unrestricted usage**: You can use the model as much as needed without being limited by API call quotas or rate limits.\n",
      "\n",
      "---\n",
      "\n",
      "### 7. **Ownership and Deployment Flexibility**\n",
      "- **Full control**: You own the model and can deploy it in any environment, including on-premises data centers, edge devices, or embedded systems.\n",
      "- **Integration with internal systems**: Easier to integrate with existing infrastructure, databases, or applications.\n",
      "\n",
      "---\n",
      "\n",
      "### 8. **Avoiding Dependency on Cloud Providers**\n",
      "- **Reduced vendor lock-in**: You're not tied to a specific cloud provider's services, which can be important for long-term strategy and cost management.\n",
      "\n",
      "---\n",
      "\n",
      "### When to Run LLM Locally?\n",
      "- You need **strict data privacy**.\n",
      "- You have **high inference demands**.\n",
      "- You require **offline operation**.\n",
      "- You want **customization or fine-tuning**.\n",
      "- You're concerned about **costs** or **API limitations**.\n",
      "\n",
      "---\n",
      "\n",
      "### When to Use Cloud-Based LLMs?\n",
      "- You need **scalability** and **high availability**.\n",
      "- You want **easy access** without setup.\n",
      "- You're working with **pre-trained models** and don't need to fine-tune.\n",
      "- You're a **developer or researcher** looking for rapid prototyping.\n",
      "\n",
      "---\n",
      "\n",
      "### Summary\n",
      "Running an LLM on a local machine is **advantageous when privacy, control, offline use, and cost efficiency are priorities**. It's ideal for enterprise, regulated, or sensitive applications, but may not be the best choice for high-scale, distributed, or real-time cloud-based applications.\n"
     ]
    }
   ],
   "source": [
    "from langchain_core.prompts import PromptTemplate\n",
    "\n",
    "template = PromptTemplate.from_template(\"What is the advantage of {action} the {tool} {article} {var} ? /no_think\")\n",
    "\n",
    "# Providing the value for multiple variables\n",
    "prompt = template.invoke({\"action\": \"running\", \"tool\": \"LLM\", \"article\": \"on\", \"var\": \"Local machine\"})\n",
    "\n",
    "# Generating content to print as well formatted output\n",
    "content = llm.invoke(prompt).content\n",
    "\n",
    "print(content)"
   ]
  },
  {
   "cell_type": "markdown",
   "id": "81df4c85",
   "metadata": {},
   "source": [
    "### Chat Prompt Template : System & Human Message Prompt Templates"
   ]
  },
  {
   "cell_type": "code",
   "execution_count": null,
   "id": "80e171ce",
   "metadata": {},
   "outputs": [],
   "source": [
    "from langchain_core.prompts import ChatPromptTemplate, SystemMessagePromptTemplate, HumanMessagePromptTemplate\n",
    "\n",
    "# First Way of doing role-based prompting\n",
    "template = ChatPromptTemplate([\n",
    "    (\"system\", \"You are the {tool} expert\"),\n",
    "    (\"user\", \"What is the advantage of {action} the {tool} {article} {var} ? /no_think\"),\n",
    "])\n",
    "\n",
    "# Second Way of doing role-based prompting\n",
    "systemMessage = SystemMessagePromptTemplate.from_template(\"You are the {tool} expert\")\n",
    "humanMessage = HumanMessagePromptTemplate.from_template(\"What is the advantage of {action} the {tool} {article} {var} ? /no_think\")\n",
    "\n",
    "template = ChatPromptTemplate([systemMessage, humanMessage])\n",
    "\n",
    "# Providing the value for multiple variables\n",
    "prompt = template.invoke({\"action\": \"running\", \"tool\": \"LLM\", \"article\": \"on\", \"var\": \"Local machine\"})\n",
    "\n",
    "# Generating content to print as well formatted output\n",
    "content = llm.invoke(prompt).content\n",
    "\n",
    "print(content)\n"
   ]
  },
  {
   "cell_type": "markdown",
   "id": "64d36991",
   "metadata": {},
   "source": [
    "### Message Place Holder"
   ]
  },
  {
   "cell_type": "code",
   "execution_count": null,
   "id": "b8a49553",
   "metadata": {},
   "outputs": [],
   "source": [
    "from langchain_core.prompts import MessagesPlaceholder, ChatPromptTemplate\n",
    "from langchain_core.messages import HumanMessage\n",
    "\n",
    "template = ChatPromptTemplate([\n",
    "    (\"system\", \"You are an LLM expert\"),\n",
    "    (MessagesPlaceholder(\"msg\"))\n",
    "    ])\n",
    "\n",
    "prompt = template.invoke({\"msg\": [HumanMessage(\"What is the advantage of running the LLM on Cloud ? /no_think\")]})\n",
    "\n",
    "# stream method generates & returns the output as 1 token at-a-time (Like online LLMs)\n",
    "for str in llm.stream(prompt):\n",
    "    print(str.content)\n",
    "\n"
   ]
  }
 ],
 "metadata": {
  "kernelspec": {
   "display_name": "myenvLangchain",
   "language": "python",
   "name": "python3"
  },
  "language_info": {
   "codemirror_mode": {
    "name": "ipython",
    "version": 3
   },
   "file_extension": ".py",
   "mimetype": "text/x-python",
   "name": "python",
   "nbconvert_exporter": "python",
   "pygments_lexer": "ipython3",
   "version": "3.12.2"
  }
 },
 "nbformat": 4,
 "nbformat_minor": 5
}
