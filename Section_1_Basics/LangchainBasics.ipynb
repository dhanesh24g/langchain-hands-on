{
 "cells": [
  {
   "cell_type": "markdown",
   "id": "72d88fa6",
   "metadata": {},
   "source": [
    "### Installation of Required Dependencies"
   ]
  },
  {
   "cell_type": "code",
   "execution_count": null,
   "id": "2f801f66",
   "metadata": {},
   "outputs": [],
   "source": [
    "%pip install langchain\n",
    "%pip install -U langchain-ollama\n",
    "%pip install python-dotenv"
   ]
  },
  {
   "cell_type": "markdown",
   "id": "5b9ffe06",
   "metadata": {},
   "source": [
    "### Interacting with LLM"
   ]
  },
  {
   "cell_type": "code",
   "execution_count": 1,
   "id": "bba1a2f9",
   "metadata": {},
   "outputs": [
    {
     "name": "stdout",
     "output_type": "stream",
     "text": [
      "content=\"<think>\\n\\n</think>\\n\\nI'm just a chatbot, so I don't have feelings, but I'm here and ready to help you! How can I assist you today? 😊\" additional_kwargs={} response_metadata={'model': 'qwen3:latest', 'created_at': '2025-07-21T15:15:41.379391Z', 'done': True, 'done_reason': 'stop', 'total_duration': 6830356250, 'load_duration': 3558275875, 'prompt_eval_count': 18, 'prompt_eval_duration': 1919127083, 'eval_count': 38, 'eval_duration': 1351739208, 'model_name': 'qwen3:latest'} id='run--07f74f89-4f07-4445-a9b0-18a14766d970-0' usage_metadata={'input_tokens': 18, 'output_tokens': 38, 'total_tokens': 56}\n"
     ]
    }
   ],
   "source": [
    "from langchain_ollama import ChatOllama\n",
    "\n",
    "llm = ChatOllama(\n",
    "    base_url=\"http://localhost:11434\",\n",
    "    model=\"qwen3:latest\",\n",
    "    temperature=0.5,\n",
    "    max_tokens=400,\n",
    ")\n",
    "\n",
    "response = llm.invoke(\"How are you doing today ? /no_think\")\n",
    "print(response)"
   ]
  },
  {
   "cell_type": "markdown",
   "id": "a1c81bb8",
   "metadata": {},
   "source": [
    "### Load ENV File"
   ]
  },
  {
   "cell_type": "code",
   "execution_count": 2,
   "id": "53b3245b",
   "metadata": {},
   "outputs": [
    {
     "data": {
      "text/plain": [
       "'MyFirstLangchainAutomation'"
      ]
     },
     "execution_count": 2,
     "metadata": {},
     "output_type": "execute_result"
    }
   ],
   "source": [
    "from dotenv import load_dotenv\n",
    "import os\n",
    "\n",
    "load_dotenv(override=True)\n",
    "load = load_dotenv('../.env')\n",
    "\n",
    "os.getenv('LANGSMITH_PROJECT')"
   ]
  },
  {
   "cell_type": "markdown",
   "id": "0f60b5f5",
   "metadata": {},
   "source": [
    "### Prompt Template, Invoke & Content"
   ]
  },
  {
   "cell_type": "code",
   "execution_count": 3,
   "id": "448cd411",
   "metadata": {},
   "outputs": [
    {
     "name": "stdout",
     "output_type": "stream",
     "text": [
      "<think>\n",
      "\n",
      "</think>\n",
      "\n",
      "Running a Large Language Model (LLM) on a local machine offers several advantages, depending on the use case and requirements. Here are the key benefits:\n",
      "\n",
      "---\n",
      "\n",
      "### ✅ **1. Privacy and Data Security**\n",
      "- **No data transmission**: All data processing happens locally, which means sensitive information (e.g., personal data, business secrets) never leaves the machine.\n",
      "- **Compliance**: Helps meet data protection regulations like GDPR, HIPAA, or others that require data to be processed within certain boundaries.\n",
      "\n",
      "---\n",
      "\n",
      "### ✅ **2. Control and Customization**\n",
      "- **Full control**: You can customize the model, fine-tune it for specific tasks, or integrate it with your own systems without relying on cloud providers.\n",
      "- **Custom deployment**: You can run the model on-premises or in a private network, which is ideal for organizations with strict IT policies.\n",
      "\n",
      "---\n",
      "\n",
      "### ✅ **3. Offline Capabilities**\n",
      "- **No internet connection required**: You can use the model even in environments with no internet access or limited connectivity.\n",
      "- **Critical operations**: Useful for applications like customer service chatbots, internal tools, or systems in remote locations.\n",
      "\n",
      "---\n",
      "\n",
      "### ✅ **4. Cost Efficiency (in some cases)**\n",
      "- **Reduced cloud costs**: If you have high usage or need to run the model continuously, running it locally can be more cost-effective than using cloud services.\n",
      "- **Predictable costs**: You can manage hardware and software expenses more precisely.\n",
      "\n",
      "---\n",
      "\n",
      "### ✅ **5. Performance and Latency**\n",
      "- **Faster response times**: Local execution can reduce latency, especially for real-time applications.\n",
      "- **Better performance**: In some cases, running the model on a powerful local machine can offer better performance than cloud-based inference, especially with high-end GPUs or TPUs.\n",
      "\n",
      "---\n",
      "\n",
      "### ✅ **6. Avoiding Vendor Lock-in**\n",
      "- **Independence from cloud providers**: You're not tied to any single cloud provider’s infrastructure, which can be important for long-term planning or avoiding dependency on third-party services.\n",
      "\n",
      "---\n",
      "\n",
      "### ⚠️ **Considerations and Trade-offs**\n",
      "- **Hardware requirements**: Running a large LLM locally requires significant computational resources (e.g., high-end GPUs or TPUs).\n",
      "- **Model size**: Large models like GPT-4 or LLaMA-65B may be too big to run on consumer-grade hardware.\n",
      "- **Maintenance and updates**: You'll need to manage the model, dependencies, and updates yourself, which can be more complex than using a managed cloud service.\n",
      "\n",
      "---\n",
      "\n",
      "### 📌 Summary\n",
      "| Advantage | Description |\n",
      "|----------|-------------|\n",
      "| Privacy | Data stays local, no exposure to external networks |\n",
      "| Control | Full customization and integration with internal systems |\n",
      "| Offline | Works without internet, ideal for secure or remote environments |\n",
      "| Cost | Can be more cost-effective for high-volume or continuous use |\n",
      "| Performance | Lower latency and potentially better performance |\n",
      "| Independence | Avoids vendor lock-in with cloud providers |\n",
      "\n",
      "---\n",
      "\n",
      "If you're considering running an LLM locally, it's often best to start with a smaller model or use model quantization, pruning, or distillation techniques to make it more feasible on local hardware.\n"
     ]
    }
   ],
   "source": [
    "from langchain_core.prompts import PromptTemplate\n",
    "\n",
    "template = PromptTemplate.from_template(\"What is the advantage of {action} the {tool} {article} {var} ? /no_think\")\n",
    "\n",
    "# Providing the value for multiple variables\n",
    "prompt = template.invoke({\"action\": \"running\", \"tool\": \"LLM\", \"article\": \"on\", \"var\": \"Local machine\"})\n",
    "\n",
    "# Generating content to print as well formatted output\n",
    "content = llm.invoke(prompt).content\n",
    "\n",
    "print(content)"
   ]
  },
  {
   "cell_type": "markdown",
   "id": "81df4c85",
   "metadata": {},
   "source": [
    "### Chat Prompt Template : System & Human Message Prompt Templates"
   ]
  },
  {
   "cell_type": "code",
   "execution_count": null,
   "id": "80e171ce",
   "metadata": {},
   "outputs": [],
   "source": [
    "from langchain_core.prompts import ChatPromptTemplate, SystemMessagePromptTemplate, HumanMessagePromptTemplate\n",
    "\n",
    "# First Way of doing role-based prompting\n",
    "template = ChatPromptTemplate([\n",
    "    (\"system\", \"You are the {tool} expert\"),\n",
    "    (\"user\", \"What is the advantage of {action} the {tool} {article} {var} ? /no_think\"),\n",
    "])\n",
    "\n",
    "# Second Way of doing role-based prompting\n",
    "systemMessage = SystemMessagePromptTemplate.from_template(\"You are the {tool} expert\")\n",
    "humanMessage = HumanMessagePromptTemplate.from_template(\"What is the advantage of {action} the {tool} {article} {var} ? /no_think\")\n",
    "\n",
    "template = ChatPromptTemplate([systemMessage, humanMessage])\n",
    "\n",
    "# Providing the value for multiple variables\n",
    "prompt = template.invoke({\"action\": \"running\", \"tool\": \"LLM\", \"article\": \"on\", \"var\": \"Local machine\"})\n",
    "\n",
    "# Generating content to print as well formatted output\n",
    "content = llm.invoke(prompt).content\n",
    "\n",
    "print(content)\n"
   ]
  },
  {
   "cell_type": "markdown",
   "id": "64d36991",
   "metadata": {},
   "source": [
    "### Message Place Holder"
   ]
  },
  {
   "cell_type": "code",
   "execution_count": null,
   "id": "b8a49553",
   "metadata": {},
   "outputs": [],
   "source": [
    "from langchain_core.prompts import MessagesPlaceholder, ChatPromptTemplate\n",
    "from langchain_core.messages import HumanMessage\n",
    "\n",
    "template = ChatPromptTemplate([\n",
    "    (\"system\", \"You are an LLM expert\"),\n",
    "    (MessagesPlaceholder(\"msg\"))\n",
    "    ])\n",
    "\n",
    "prompt = template.invoke({\"msg\": [HumanMessage(\"What is the advantage of running the LLM on Cloud ? /no_think\")]})\n",
    "\n",
    "# stream method generates & returns the output as 1 token at-a-time (Like online LLMs)\n",
    "for str in llm.stream(prompt):\n",
    "    print(str.content)\n",
    "\n"
   ]
  }
 ],
 "metadata": {
  "kernelspec": {
   "display_name": "myenvLangchain",
   "language": "python",
   "name": "myenvlangchain"
  },
  "language_info": {
   "codemirror_mode": {
    "name": "ipython",
    "version": 3
   },
   "file_extension": ".py",
   "mimetype": "text/x-python",
   "name": "python",
   "nbconvert_exporter": "python",
   "pygments_lexer": "ipython3",
   "version": "3.12.2"
  }
 },
 "nbformat": 4,
 "nbformat_minor": 5
}
