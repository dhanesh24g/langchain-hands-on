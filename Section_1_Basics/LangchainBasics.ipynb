{
 "cells": [
  {
   "cell_type": "markdown",
   "id": "72d88fa6",
   "metadata": {},
   "source": [
    "### Installation of Required Dependencies"
   ]
  },
  {
   "cell_type": "code",
   "execution_count": null,
   "id": "2f801f66",
   "metadata": {},
   "outputs": [],
   "source": [
    "%pip install langchain\n",
    "%pip install -U langchain-ollama\n",
    "%pip install python-dotenv"
   ]
  },
  {
   "cell_type": "markdown",
   "id": "5b9ffe06",
   "metadata": {},
   "source": [
    "### Interacting with LLM"
   ]
  },
  {
   "cell_type": "code",
   "execution_count": null,
   "id": "bba1a2f9",
   "metadata": {},
   "outputs": [],
   "source": [
    "from langchain_ollama import ChatOllama\n",
    "\n",
    "llm = ChatOllama(\n",
    "    base_url=\"http://localhost:11434\",\n",
    "    model=\"qwen3:latest\",\n",
    "    temperature=0.5,\n",
    "    max_tokens=400,\n",
    ")\n",
    "\n",
    "response = llm.invoke(\"How are you doing today ? /no_think\")\n",
    "print(response)"
   ]
  },
  {
   "cell_type": "markdown",
   "id": "a1c81bb8",
   "metadata": {},
   "source": [
    "### Load ENV File"
   ]
  },
  {
   "cell_type": "code",
   "execution_count": null,
   "id": "53b3245b",
   "metadata": {},
   "outputs": [],
   "source": [
    "from dotenv import load_dotenv\n",
    "import os\n",
    "\n",
    "load_dotenv(override=True)\n",
    "load = load_dotenv('../.env')\n",
    "\n",
    "os.getenv('LANGSMITH_PROJECT')"
   ]
  },
  {
   "cell_type": "markdown",
   "id": "0f60b5f5",
   "metadata": {},
   "source": [
    "### Prompt Template, Invoke & Content"
   ]
  },
  {
   "cell_type": "code",
   "execution_count": null,
   "id": "448cd411",
   "metadata": {},
   "outputs": [],
   "source": [
    "from langchain_core.prompts import PromptTemplate\n",
    "\n",
    "template = PromptTemplate.from_template(\"What is the advantage of {action} the {tool} {article} {var} ? /no_think\")\n",
    "\n",
    "# Providing the value for multiple variables\n",
    "prompt = template.invoke({\"action\": \"running\", \"tool\": \"LLM\", \"article\": \"on\", \"var\": \"Local machine\"})\n",
    "\n",
    "# Generating content to print as well formatted output\n",
    "content = llm.invoke(prompt).content\n",
    "\n",
    "print(content)"
   ]
  },
  {
   "cell_type": "markdown",
   "id": "81df4c85",
   "metadata": {},
   "source": [
    "### Chat Prompt Template : System & Human Message Prompt Templates"
   ]
  },
  {
   "cell_type": "code",
   "execution_count": null,
   "id": "80e171ce",
   "metadata": {},
   "outputs": [],
   "source": [
    "from langchain_core.prompts import ChatPromptTemplate, SystemMessagePromptTemplate, HumanMessagePromptTemplate\n",
    "\n",
    "# First Way of doing role-based prompting\n",
    "template = ChatPromptTemplate([\n",
    "    (\"system\", \"You are the {tool} expert\"),\n",
    "    (\"user\", \"What is the advantage of {action} the {tool} {article} {var} ? /no_think\"),\n",
    "])\n",
    "\n",
    "# Second Way of doing role-based prompting\n",
    "systemMessage = SystemMessagePromptTemplate.from_template(\"You are the {tool} expert\")\n",
    "humanMessage = HumanMessagePromptTemplate.from_template(\"What is the advantage of {action} the {tool} {article} {var} ? /no_think\")\n",
    "\n",
    "template = ChatPromptTemplate([systemMessage, humanMessage])\n",
    "\n",
    "# Providing the value for multiple variables\n",
    "prompt = template.invoke({\"action\": \"running\", \"tool\": \"LLM\", \"article\": \"on\", \"var\": \"Local machine\"})\n",
    "\n",
    "# Generating content to print as well formatted output\n",
    "content = llm.invoke(prompt).content\n",
    "\n",
    "print(content)\n"
   ]
  },
  {
   "cell_type": "markdown",
   "id": "64d36991",
   "metadata": {},
   "source": [
    "### Message Place Holder"
   ]
  },
  {
   "cell_type": "code",
   "execution_count": null,
   "id": "b8a49553",
   "metadata": {},
   "outputs": [],
   "source": [
    "from langchain_core.prompts import MessagesPlaceholder, ChatPromptTemplate\n",
    "from langchain_core.messages import HumanMessage\n",
    "\n",
    "template = ChatPromptTemplate([\n",
    "    (\"system\", \"You are an LLM expert\"),\n",
    "    (MessagesPlaceholder(\"msg\"))\n",
    "    ])\n",
    "\n",
    "prompt = template.invoke({\"msg\": [HumanMessage(\"What is the advantage of running the LLM on Cloud ? /no_think\")]})\n",
    "\n",
    "# stream method generates & returns the output as 1 token at-a-time (Like online LLMs)\n",
    "for str in llm.stream(prompt):\n",
    "    print(str.content)\n",
    "\n"
   ]
  }
 ],
 "metadata": {
  "kernelspec": {
   "display_name": "myenvLangchain",
   "language": "python",
   "name": "python3"
  },
  "language_info": {
   "codemirror_mode": {
    "name": "ipython",
    "version": 3
   },
   "file_extension": ".py",
   "mimetype": "text/x-python",
   "name": "python",
   "nbconvert_exporter": "python",
   "pygments_lexer": "ipython3",
   "version": "3.12.2"
  }
 },
 "nbformat": 4,
 "nbformat_minor": 5
}
