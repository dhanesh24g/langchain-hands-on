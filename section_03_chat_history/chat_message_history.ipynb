{
 "cells": [
  {
   "cell_type": "markdown",
   "id": "30f9f555",
   "metadata": {},
   "source": [
    "### Load the ENV file"
   ]
  },
  {
   "cell_type": "code",
   "execution_count": 1,
   "id": "654347e1",
   "metadata": {},
   "outputs": [
    {
     "data": {
      "text/plain": [
       "'MyFirstLangchainAutomation'"
      ]
     },
     "execution_count": 1,
     "metadata": {},
     "output_type": "execute_result"
    }
   ],
   "source": [
    "from dotenv import load_dotenv\n",
    "import os\n",
    "\n",
    "load_dotenv(override=True)\n",
    "\n",
    "os.getenv('LANGSMITH_PROJECT')"
   ]
  },
  {
   "cell_type": "markdown",
   "id": "3c35b5b9",
   "metadata": {},
   "source": [
    "### Load the LLM"
   ]
  },
  {
   "cell_type": "code",
   "execution_count": 2,
   "id": "468589dd",
   "metadata": {},
   "outputs": [],
   "source": [
    "from langchain_ollama import ChatOllama\n",
    "from langchain_core.runnables import chain\n",
    "import re\n",
    "\n",
    "llm_qwen = ChatOllama(\n",
    "    base_url=\"http://localhost:11434\",\n",
    "    model=\"qwen3:latest\",\n",
    "    temperature=0.5,\n",
    "    max_tokens=400\n",
    ")\n",
    "\n",
    "# Making remove_think_block as a Runnable in order to chain it\n",
    "@chain\n",
    "def remove_think_block(text) -> str:\n",
    "    return re.sub(r\"<think>.*?</think>\", \"\", text, flags=re.DOTALL | re.IGNORECASE)"
   ]
  },
  {
   "cell_type": "code",
   "execution_count": null,
   "id": "5c556f07",
   "metadata": {},
   "outputs": [],
   "source": [
    "%pip install langchain_community\n"
   ]
  },
  {
   "cell_type": "markdown",
   "id": "6ac54293",
   "metadata": {},
   "source": [
    "### Message History with ChatMessageHistory"
   ]
  },
  {
   "cell_type": "code",
   "execution_count": 4,
   "id": "bcd503c7",
   "metadata": {},
   "outputs": [],
   "source": [
    "from langchain_core.prompts import ChatPromptTemplate\n",
    "from langchain_core.output_parsers import StrOutputParser\n",
    "from langchain_core.runnables import chain\n",
    "from langchain_core.chat_history import BaseChatMessageHistory\n",
    "from langchain_core.runnables.history import RunnableWithMessageHistory\n",
    "from langchain_community.chat_message_histories import ChatMessageHistory"
   ]
  },
  {
   "cell_type": "code",
   "execution_count": 9,
   "id": "8ed15773",
   "metadata": {},
   "outputs": [
    {
     "name": "stdout",
     "output_type": "stream",
     "text": [
      "\n",
      "\n",
      "India became independent on **August 15, 1947**.\n",
      "\n",
      "\n",
      "Vietnam declared independence on **September 2, 1945**, during the August Revolution, led by Ho Chi Minh. Full international recognition followed later.\n",
      "\n",
      "\n",
      "Pakistan became independent on **August 14, 1947**, alongside India, as part of the partition of British India. The date marks the end of British rule and the creation of two separate nations.\n"
     ]
    }
   ],
   "source": [
    "prompt_template = ChatPromptTemplate.from_messages([\n",
    "    ('system', \"Be concise in the response\"),\n",
    "    ('human', \"{prompt}\"),\n",
    "    ('placeholder', \"{history}\")\n",
    "])\n",
    "\n",
    "chain = prompt_template | llm_qwen | StrOutputParser() | remove_think_block\n",
    "\n",
    "store = {}\n",
    "\n",
    "def get_session_history(session_id: str) -> BaseChatMessageHistory:\n",
    "    if session_id not in store:\n",
    "        store[session_id] = ChatMessageHistory()\n",
    "    return store[session_id]\n",
    "\n",
    "session_id = \"Dhanesh\"\n",
    "\n",
    "history = RunnableWithMessageHistory(\n",
    "    chain, \n",
    "    get_session_history, \n",
    "    input_messages_key='prompt', \n",
    "    output_messages_key=None\n",
    ")\n",
    "\n",
    "response_1 = history.invoke(\n",
    "    {\"prompt\": \"When did India become independant ?\"},\n",
    "    config={\"configurable\": {\"session_id\": session_id}}\n",
    ")\n",
    "\n",
    "response_2 = history.invoke(\n",
    "    {\"prompt\" : \"How about Vietnam ?\"},\n",
    "    config= {\"configurable\": {\"session_id\": session_id}}\n",
    ")\n",
    "\n",
    "response_3 = history.invoke(\n",
    "    {\"prompt\" : \"And Pakistan ?\"},\n",
    "    config= {\"configurable\": {\"session_id\": session_id}}\n",
    ")\n",
    "\n",
    "get_session_history(session_id).clear()\n",
    "\n",
    "print(response_1)\n",
    "print(response_2)\n",
    "print(response_3)"
   ]
  },
  {
   "cell_type": "markdown",
   "id": "fc68fe81",
   "metadata": {},
   "source": [
    "### Chat Message History with SQLChatMessageHistory"
   ]
  },
  {
   "cell_type": "code",
   "execution_count": 6,
   "id": "6c616c58",
   "metadata": {},
   "outputs": [
    {
     "name": "stdout",
     "output_type": "stream",
     "text": [
      "\n",
      "\n",
      "India became independent on August 15, 1947.\n",
      "\n",
      "\n",
      "Vietnam declared independence on September 2, 1945, following the August Revolution. Full independence from France was formalized through the Geneva Accords in 1954, ending French colonial rule.\n",
      "\n",
      "\n",
      "Pakistan gained independence from British rule on August 14, 1947, following the partition of British India.\n"
     ]
    }
   ],
   "source": [
    "from langchain_community.chat_message_histories import SQLChatMessageHistory\n",
    "\n",
    "prompt_template = ChatPromptTemplate.from_messages([\n",
    "    ('system', \"Be concise in the response\"),\n",
    "    ('human', \"{prompt}\"),\n",
    "    ('placeholder', \"{history}\")\n",
    "])\n",
    "\n",
    "chain = prompt_template | llm_qwen | StrOutputParser() | remove_think_block\n",
    "\n",
    "def get_session_history(session_id: str):\n",
    "    return SQLChatMessageHistory(session_id=session_id, connection=\"sqlite:///chathistory.db\")\n",
    "\n",
    "history = RunnableWithMessageHistory(\n",
    "    chain,\n",
    "    get_session_history,\n",
    "    input_messages_key=\"prompt\",\n",
    "    output_messages_key=None\n",
    ")\n",
    "\n",
    "session_id = \"Dhanesh\"\n",
    "get_session_history(session_id).clear()\n",
    "\n",
    "response_1 = history.invoke(\n",
    "    {\"prompt\": \"When did India become independant ?\"},\n",
    "    config={\"configurable\": {\"session_id\": session_id}}\n",
    ")\n",
    "\n",
    "response_2 = history.invoke(\n",
    "    {\"prompt\" : \"How about Vietnam ?\"},\n",
    "    config= {\"configurable\": {\"session_id\": session_id}}\n",
    ")\n",
    "\n",
    "response_3 = history.invoke(\n",
    "    {\"prompt\" : \"And Pakistan ?\"},\n",
    "    config= {\"configurable\": {\"session_id\": session_id}}\n",
    ")\n",
    "\n",
    "\n",
    "print(response_1)\n",
    "print(response_2)\n",
    "print(response_3)"
   ]
  }
 ],
 "metadata": {
  "kernelspec": {
   "display_name": "myenvLangchain",
   "language": "python",
   "name": "myenvlangchain"
  },
  "language_info": {
   "codemirror_mode": {
    "name": "ipython",
    "version": 3
   },
   "file_extension": ".py",
   "mimetype": "text/x-python",
   "name": "python",
   "nbconvert_exporter": "python",
   "pygments_lexer": "ipython3",
   "version": "3.12.2"
  }
 },
 "nbformat": 4,
 "nbformat_minor": 5
}
