{
 "cells": [
  {
   "cell_type": "markdown",
   "id": "f8f86014",
   "metadata": {},
   "source": [
    "## Test Tool Calling from AI Agent"
   ]
  },
  {
   "cell_type": "markdown",
   "id": "6a6db83f",
   "metadata": {},
   "source": [
    "### Setting-up dotEnv & LLM "
   ]
  },
  {
   "cell_type": "code",
   "execution_count": 1,
   "id": "b448cc5b",
   "metadata": {},
   "outputs": [],
   "source": [
    "from dotenv import load_dotenv\n",
    "from langchain_ollama import ChatOllama\n",
    "\n",
    "load_dotenv(override=True)\n",
    "load_dotenv('./../.env')\n",
    "\n",
    "llm = ChatOllama(\n",
    "    base_url=\"http://localhost:11434\",\n",
    "    model=\"qwen3:latest\",\n",
    "    temperature=0.5,\n",
    "    max_tokens=300\n",
    ")"
   ]
  },
  {
   "cell_type": "markdown",
   "id": "dd03caa2",
   "metadata": {},
   "source": [
    "### Connect to DeepEval"
   ]
  },
  {
   "cell_type": "code",
   "execution_count": 2,
   "id": "f546c15e",
   "metadata": {},
   "outputs": [
    {
     "data": {
      "text/html": [
       "<pre style=\"white-space:pre;overflow-x:auto;line-height:normal;font-family:Menlo,'DejaVu Sans Mono',consolas,'Courier New',monospace\">🎉🥳 Congratulations! You've successfully logged in! 🙌 \n",
       "</pre>\n"
      ],
      "text/plain": [
       "🎉🥳 Congratulations! You've successfully logged in! 🙌 \n"
      ]
     },
     "metadata": {},
     "output_type": "display_data"
    }
   ],
   "source": [
    "import deepeval\n",
    "\n",
    "deepeval.login_with_confident_api_key(\"confident_us_DNEaOTujz584SicCTCNGpP7snhHa3APERq7FhaTvpDI=\")"
   ]
  },
  {
   "cell_type": "markdown",
   "id": "a0ec7aff",
   "metadata": {},
   "source": [
    "### Creating the Tools for AI Agent"
   ]
  },
  {
   "cell_type": "code",
   "execution_count": 3,
   "id": "8a0304a5",
   "metadata": {},
   "outputs": [],
   "source": [
    "from langchain_core.tools import tool\n",
    "\n",
    "@tool\n",
    "def add_numbers(a: int, b: int) -> int:\n",
    "    \"Use this tool to Add two numbers and return the result\"\n",
    "    return a+b\n",
    "\n",
    "@tool\n",
    "def subtract_numbers(a: int, b: int) -> int:\n",
    "    \"Use this tool to Subtract two numbers and return the result\"\n",
    "    return a-b\n",
    "\n",
    "@tool\n",
    "def multiply_numbers(a: float, b: float) -> float:\n",
    "    \"Use this tool to Multiply two numbers and return the result\"\n",
    "    return a*b\n"
   ]
  },
  {
   "cell_type": "code",
   "execution_count": 4,
   "id": "ba8cb37f",
   "metadata": {},
   "outputs": [],
   "source": [
    "list_of_tools = [add_numbers, subtract_numbers, multiply_numbers]"
   ]
  },
  {
   "cell_type": "markdown",
   "id": "10b2e4db",
   "metadata": {},
   "source": [
    "### Setting-up AI Agent to Invoke Custom Tooling"
   ]
  },
  {
   "cell_type": "code",
   "execution_count": 5,
   "id": "3fd0d421",
   "metadata": {},
   "outputs": [
    {
     "name": "stderr",
     "output_type": "stream",
     "text": [
      "/var/folders/xl/2h_vnm9s4dl0fnn4x8_mg4q40000gn/T/ipykernel_40942/3494069479.py:3: LangChainDeprecationWarning: LangChain agents will continue to be supported, but it is recommended for new use cases to be built with LangGraph. LangGraph offers a more flexible and full-featured framework for building agents, including support for tool-calling, persistence of state, and human-in-the-loop workflows. For details, refer to the `LangGraph documentation <https://langchain-ai.github.io/langgraph/>`_ as well as guides for `Migrating from AgentExecutor <https://python.langchain.com/docs/how_to/migrate_agent/>`_ and LangGraph's `Pre-built ReAct agent <https://langchain-ai.github.io/langgraph/how-tos/create-react-agent/>`_.\n",
      "  agent = initialize_agent(\n"
     ]
    },
    {
     "name": "stdout",
     "output_type": "stream",
     "text": [
      "\n",
      "\n",
      "\u001b[1m> Entering new AgentExecutor chain...\u001b[0m\n",
      "\u001b[32;1m\u001b[1;3m<think>\n",
      "Okay, let's see. The user started with $35. They spent $20, so first I need to subtract 20 from 35. That would leave them with $15. But then they got a 10% cashback. Wait, cashback on what? Probably on the $20 spent. So 10% of 20 is $2. So they get $2 back. Adding that to the remaining $15 would give $17. Let me check the steps again. Subtract 20 from 35, then add 10% of 20. So 35 - 20 = 15, then 15 + 2 = 17. Yeah, that makes sense. So the final amount is $17.\n",
      "</think>\n",
      "\n",
      "Thought: I need to calculate the remaining money after spending and adding the cashback. First, subtract the spent amount from the initial amount, then add the cashback. \n",
      "\n",
      "Action:\n",
      "```\n",
      "{\n",
      "  \"action\": \"subtract_numbers\",\n",
      "  \"action_input\": {\n",
      "    \"a\": 35,\n",
      "    \"b\": 20\n",
      "  }\n",
      "}\n",
      "```\n",
      "\n",
      "\u001b[0m\n",
      "Observation: \u001b[33;1m\u001b[1;3m15\u001b[0m\n",
      "Thought:\u001b[32;1m\u001b[1;3m<think>\n",
      "</think>\n",
      "\n",
      "Action:\n",
      "```\n",
      "{\n",
      "  \"action\": \"multiply_numbers\",\n",
      "  \"action_input\": {\n",
      "    \"a\": 20,\n",
      "    \"b\": 0.1\n",
      "  }\n",
      "}\n",
      "```\n",
      "\n",
      "\n",
      "\u001b[0m\n",
      "Observation: \u001b[38;5;200m\u001b[1;3m2.0\u001b[0m\n",
      "Thought:\u001b[32;1m\u001b[1;3m<think>\n",
      "Okay, let me figure this out step by step. The user started with $35. They spent $20, so I subtract 20 from 35, which leaves $15. Then they got a 10% cashback on the $20 spent. 10% of 20 is $2. So adding that back to the $15, they should have $17 left. Let me check the calculations again to make sure.\n",
      "\n",
      "First, subtracting 20 from 35 gives 15. Then, 10% of 20 is 2. Adding 15 and 2 gives 17. Yep, that's correct. So the final answer should be $17.\n",
      "</think>\n",
      "\n",
      "Action:\n",
      "```\n",
      "{\n",
      "  \"action\": \"add_numbers\",\n",
      "  \"action_input\": {\n",
      "    \"a\": 15,\n",
      "    \"b\": 2\n",
      "  }\n",
      "}\n",
      "```\n",
      "\n",
      "\n",
      "\u001b[0m\n",
      "Observation: \u001b[36;1m\u001b[1;3m17\u001b[0m\n",
      "Thought:\u001b[32;1m\u001b[1;3m<think>\n",
      "Okay, let me make sure I got this right. The user had $35, spent $20, so subtracting 20 from 35 gives $15. Then they got a 10% cashback on the $20 spent. 10% of 20 is indeed $2. Adding that back to the $15 they had left after the purchase gives $17. So the final amount they have left is $17. I think that's correct. Let me just double-check the steps again. Yep, all the calculations add up. The final answer should be $17.\n",
      "</think>\n",
      "\n",
      "Action:\n",
      "```\n",
      "{\n",
      "  \"action\": \"Final Answer\",\n",
      "  \"action_input\": \"You have $17 left.\"\n",
      "}\n",
      "```\u001b[0m\n",
      "\n",
      "\u001b[1m> Finished chain.\u001b[0m\n",
      "[(AgentAction(tool='subtract_numbers', tool_input={'a': 35, 'b': 20}, log='<think>\\nOkay, let\\'s see. The user started with $35. They spent $20, so first I need to subtract 20 from 35. That would leave them with $15. But then they got a 10% cashback. Wait, cashback on what? Probably on the $20 spent. So 10% of 20 is $2. So they get $2 back. Adding that to the remaining $15 would give $17. Let me check the steps again. Subtract 20 from 35, then add 10% of 20. So 35 - 20 = 15, then 15 + 2 = 17. Yeah, that makes sense. So the final amount is $17.\\n</think>\\n\\nThought: I need to calculate the remaining money after spending and adding the cashback. First, subtract the spent amount from the initial amount, then add the cashback. \\n\\nAction:\\n```\\n{\\n  \"action\": \"subtract_numbers\",\\n  \"action_input\": {\\n    \"a\": 35,\\n    \"b\": 20\\n  }\\n}\\n```\\n\\n'), 15), (AgentAction(tool='multiply_numbers', tool_input={'a': 20, 'b': 0.1}, log='<think>\\n</think>\\n\\nAction:\\n```\\n{\\n  \"action\": \"multiply_numbers\",\\n  \"action_input\": {\\n    \"a\": 20,\\n    \"b\": 0.1\\n  }\\n}\\n```\\n\\n\\n'), 2.0), (AgentAction(tool='add_numbers', tool_input={'a': 15, 'b': 2}, log='<think>\\nOkay, let me figure this out step by step. The user started with $35. They spent $20, so I subtract 20 from 35, which leaves $15. Then they got a 10% cashback on the $20 spent. 10% of 20 is $2. So adding that back to the $15, they should have $17 left. Let me check the calculations again to make sure.\\n\\nFirst, subtracting 20 from 35 gives 15. Then, 10% of 20 is 2. Adding 15 and 2 gives 17. Yep, that\\'s correct. So the final answer should be $17.\\n</think>\\n\\nAction:\\n```\\n{\\n  \"action\": \"add_numbers\",\\n  \"action_input\": {\\n    \"a\": 15,\\n    \"b\": 2\\n  }\\n}\\n```\\n\\n\\n'), 17)]\n"
     ]
    }
   ],
   "source": [
    "from langchain.agents import initialize_agent, AgentType\n",
    "\n",
    "agent = initialize_agent(\n",
    "    llm=llm,\n",
    "    tools=list_of_tools,\n",
    "    agent=AgentType.STRUCTURED_CHAT_ZERO_SHOT_REACT_DESCRIPTION,\n",
    "    verbose=True,\n",
    "    return_intermediate_steps=True\n",
    ")\n",
    "\n",
    "response = agent.invoke(\"I had 35 dollars. I spent 20 & got a 10 percent cashback, how much do I have left?\")\n",
    "\n",
    "print(response['intermediate_steps'])"
   ]
  },
  {
   "cell_type": "markdown",
   "id": "4d623dec",
   "metadata": {},
   "source": [
    "### Preparing Golden Dataset for DeepEval Testcase"
   ]
  },
  {
   "cell_type": "code",
   "execution_count": null,
   "id": "a1b3228d",
   "metadata": {},
   "outputs": [
    {
     "data": {
      "text/plain": [
       "[{'question': 'What is 10 - 4?',\n",
       "  'expected_answer': 'The difference between 10 and 4 is 6.',\n",
       "  'tool_called': [ToolCall(\n",
       "       name=\"subtract_numbers\",\n",
       "       input_parameters={\n",
       "           \"a\": 10,\n",
       "           \"b\": 4\n",
       "       }\n",
       "   )]},\n",
       " {'question': 'What is 2.5 * 4?',\n",
       "  'expected_answer': 'The product of 2.5 and 4 is 10.0.',\n",
       "  'tool_called': [ToolCall(\n",
       "       name=\"multiply_numbers\",\n",
       "       input_parameters={\n",
       "           \"a\": 2.5,\n",
       "           \"b\": 4\n",
       "       }\n",
       "   )]},\n",
       " {'question': 'My salary was $9500 & I got a 15 percent raise yesterday, how much do I earn now?',\n",
       "  'expected_answer': 'You now earn $10925 after a 15 percent raise on your previous salary of $9500.',\n",
       "  'tool_called': [ToolCall(\n",
       "       name=\"multiply_numbers\",\n",
       "       input_parameters={\n",
       "           \"a\": 9500,\n",
       "           \"b\": 1.15\n",
       "       }\n",
       "   )]},\n",
       " {'question': 'I had 35 dollars. I spent 20 & got a 10 percent cashback, how much do I have left?',\n",
       "  'expected_answer': 'You have a total of 17 dollars left after spending 20 dollars and receiving a 10 percent cashback of 2 dollars.',\n",
       "  'tool_called': [ToolCall(\n",
       "       name=\"subtract_numbers\",\n",
       "       input_parameters={\n",
       "           \"a\": 35,\n",
       "           \"b\": 20\n",
       "       }\n",
       "   ),\n",
       "   ToolCall(\n",
       "       name=\"multiply_numbers\",\n",
       "       input_parameters={\n",
       "           \"a\": 20,\n",
       "           \"b\": 0.1\n",
       "       }\n",
       "   ),\n",
       "   ToolCall(\n",
       "       name=\"add_numbers\",\n",
       "       input_parameters={\n",
       "           \"a\": 15,\n",
       "           \"b\": 2\n",
       "       }\n",
       "   )]}]"
      ]
     },
     "execution_count": 6,
     "metadata": {},
     "output_type": "execute_result"
    }
   ],
   "source": [
    "from deepeval.test_case import ToolCall\n",
    "\n",
    "golden_dataset = [\n",
    "\n",
    "    {\n",
    "        \"question\": \"What is 10 - 4?\",\n",
    "        \"expected_answer\": \"The difference between 10 and 4 is 6.\",\n",
    "        \"tool_called\": [\n",
    "            ToolCall(name=\"subtract_numbers\", input_parameters={\"a\": 10, \"b\": 4})\n",
    "        ]\n",
    "    },\n",
    "    {\n",
    "        \"question\": \"What is 2.5 * 4?\",\n",
    "        \"expected_answer\": \"The product of 2.5 and 4 is 10.0.\",\n",
    "        \"tool_called\": [\n",
    "            ToolCall(name=\"multiply_numbers\", input_parameters={\"a\": 2.5, \"b\": 4})\n",
    "        ]\n",
    "    },\n",
    "    {\n",
    "        \"question\": \"My salary was $9500 & I got a 15 percent raise yesterday, how much do I earn now?\",\n",
    "        \"expected_answer\": \"You now earn $10925 after a 15 percent raise on your previous salary of $9500.\"  ,\n",
    "        \"tool_called\": [\n",
    "            ToolCall(name=\"multiply_numbers\", input_parameters={\"a\": 9500, \"b\": 1.15})\n",
    "        ]\n",
    "    },\n",
    "    {\n",
    "        \"question\": \"I had 35 dollars. I spent 20 & got a 10 percent cashback, how much do I have left?\",\n",
    "        \"expected_answer\": \"You have a total of 17 dollars left after spending 20 dollars and receiving a 10 percent cashback of 2 dollars.\",\n",
    "        \"tool_called\": [\n",
    "            ToolCall(name=\"subtract_numbers\", input_parameters={\"a\": 35, \"b\": 20}),\n",
    "            ToolCall(name=\"multiply_numbers\", input_parameters={\"a\": 20, \"b\": 0.1}),\n",
    "            ToolCall(name=\"add_numbers\", input_parameters={\"a\": 15, \"b\": 2})\n",
    "        ]\n",
    "    }\n",
    "]\n",
    "\n",
    "golden_dataset"
   ]
  },
  {
   "cell_type": "markdown",
   "id": "2a67f6f5",
   "metadata": {},
   "source": [
    "### Upload Golden Dataset to DeepEval"
   ]
  },
  {
   "cell_type": "code",
   "execution_count": 7,
   "id": "c63906cb",
   "metadata": {},
   "outputs": [
    {
     "data": {
      "text/plain": [
       "EvaluationDataset(test_cases=[], goldens=[Golden(input='What is 10 - 4?', actual_output=None, expected_output='The difference between 10 and 4 is 6.', context=None, retrieval_context=None, additional_metadata=None, comments=None, tools_called=None, expected_tools=[ToolCall(\n",
       "    name=\"subtract_numbers\",\n",
       "    input_parameters={\n",
       "        \"a\": 10,\n",
       "        \"b\": 4\n",
       "    }\n",
       ")], source_file=None, name=None, custom_column_key_values=None), Golden(input='What is 2.5 * 4?', actual_output=None, expected_output='The product of 2.5 and 4 is 10.0.', context=None, retrieval_context=None, additional_metadata=None, comments=None, tools_called=None, expected_tools=[ToolCall(\n",
       "    name=\"multiply_numbers\",\n",
       "    input_parameters={\n",
       "        \"a\": 2.5,\n",
       "        \"b\": 4\n",
       "    }\n",
       ")], source_file=None, name=None, custom_column_key_values=None), Golden(input='My salary was $9500 & I got a 15 percent raise yesterday, how much do I earn now?', actual_output=None, expected_output='You now earn $10925 after a 15 percent raise on your previous salary of $9500.', context=None, retrieval_context=None, additional_metadata=None, comments=None, tools_called=None, expected_tools=[ToolCall(\n",
       "    name=\"multiply_numbers\",\n",
       "    input_parameters={\n",
       "        \"a\": 9500,\n",
       "        \"b\": 1.15\n",
       "    }\n",
       ")], source_file=None, name=None, custom_column_key_values=None), Golden(input='I had 35 dollars. I spent 20 & got a 10 percent cashback, how much do I have left?', actual_output=None, expected_output='You have a total of 17 dollars left after spending 20 dollars and receiving a 10 percent cashback of 2 dollars.', context=None, retrieval_context=None, additional_metadata=None, comments=None, tools_called=None, expected_tools=[ToolCall(\n",
       "    name=\"subtract_numbers\",\n",
       "    input_parameters={\n",
       "        \"a\": 35,\n",
       "        \"b\": 20\n",
       "    }\n",
       "), ToolCall(\n",
       "    name=\"multiply_numbers\",\n",
       "    input_parameters={\n",
       "        \"a\": 20,\n",
       "        \"b\": 0.1\n",
       "    }\n",
       "), ToolCall(\n",
       "    name=\"add_numbers\",\n",
       "    input_parameters={\n",
       "        \"a\": 15,\n",
       "        \"b\": 2\n",
       "    }\n",
       ")], source_file=None, name=None, custom_column_key_values=None)], _alias=None, _id=None)"
      ]
     },
     "execution_count": 7,
     "metadata": {},
     "output_type": "execute_result"
    }
   ],
   "source": [
    "from deepeval.dataset import EvaluationDataset, Golden\n",
    "\n",
    "goldens = []\n",
    "\n",
    "for data in golden_dataset:\n",
    "    golden = Golden(\n",
    "        input=data['question'],\n",
    "        expected_output=data['expected_answer'],\n",
    "        expected_tools=data['tool_called']\n",
    "    )\n",
    "    goldens.append(golden)\n",
    "    \n",
    "eval_dataset = EvaluationDataset(goldens=goldens)\n",
    "\n",
    "eval_dataset"
   ]
  },
  {
   "cell_type": "code",
   "execution_count": 8,
   "id": "64a51c16",
   "metadata": {},
   "outputs": [],
   "source": [
    "eval_dataset.push(\"TestToolCalling Dataset\")"
   ]
  },
  {
   "cell_type": "code",
   "execution_count": 9,
   "id": "8b91c3ea",
   "metadata": {},
   "outputs": [],
   "source": [
    "import re\n",
    "\n",
    "# Remove <think> blocks from the LLM response\n",
    "def remove_think_block(text) -> str:\n",
    "    return re.sub(r\"<think>.*?</think>\", \"\", text, flags=re.DOTALL | re.IGNORECASE)"
   ]
  },
  {
   "cell_type": "markdown",
   "id": "cb2feec5",
   "metadata": {},
   "source": [
    "### Creating LLMTestCase and Invoking the AI Agent"
   ]
  },
  {
   "cell_type": "code",
   "execution_count": 10,
   "id": "1802659a",
   "metadata": {},
   "outputs": [],
   "source": [
    "def query_agent(question):\n",
    "    \n",
    "    agent_response = agent.invoke(question)\n",
    "    intermidiate_steps = agent_response['intermediate_steps']\n",
    "\n",
    "    tools_called_list=[]\n",
    "    \n",
    "    for agent_action, result in intermidiate_steps:    \n",
    "        tools_called_list.append(ToolCall(name=agent_action.tool, input_parameters=agent_action.tool_input, output=result))\n",
    "    \n",
    "    final_response = remove_think_block(agent_response['output'])\n",
    "    \n",
    "    return tools_called_list, final_response\n",
    "    \n",
    "# response = query_agent(\"I had 35 dollars. I spent 20 & got a 10 percent cashback, how much do I have left?\")    \n",
    "# response"
   ]
  },
  {
   "cell_type": "code",
   "execution_count": 11,
   "id": "36dc2688",
   "metadata": {},
   "outputs": [
    {
     "name": "stdout",
     "output_type": "stream",
     "text": [
      "\n",
      "\n",
      "\u001b[1m> Entering new AgentExecutor chain...\u001b[0m\n",
      "\u001b[32;1m\u001b[1;3m<think>\n",
      "Okay, the user is asking \"What is 10 - 4?\" So I need to subtract 4 from 10. Let me check which tool to use. The available tools are add_numbers, subtract_numbers, and multiply_numbers. The subtract_numbers tool is the right one here.\n",
      "\n",
      "The parameters for subtract_numbers are a and b, both integers. The user's question is 10 minus 4, so a should be 10 and b should be 4. I'll call the subtract_numbers function with these values. The result should be 6. Then I'll present that as the final answer.\n",
      "</think>\n",
      "\n",
      "Thought: I need to subtract 4 from 10 using the subtract_numbers tool.\n",
      "Action:\n",
      "```\n",
      "{\n",
      "  \"action\": \"subtract_numbers\",\n",
      "  \"action_input\": {\n",
      "    \"a\": 10,\n",
      "    \"b\": 4\n",
      "  }\n",
      "}\n",
      "```\n",
      "\u001b[0m\n",
      "Observation: \u001b[33;1m\u001b[1;3m6\u001b[0m\n",
      "Thought:\u001b[32;1m\u001b[1;3m<think>\n",
      "</think>\n",
      "\n",
      "Action:\n",
      "```\n",
      "{\n",
      "  \"action\": \"Final Answer\",\n",
      "  \"action_input\": \"The result of 10 - 4 is 6.\"\n",
      "}\n",
      "```\u001b[0m\n",
      "\n",
      "\u001b[1m> Finished chain.\u001b[0m\n",
      "\n",
      "\n",
      "\u001b[1m> Entering new AgentExecutor chain...\u001b[0m\n",
      "\u001b[32;1m\u001b[1;3m<think>\n",
      "Okay, let's see. The user asked for 2.5 multiplied by 4. I need to use the multiply_numbers tool. The tool requires two arguments, a and b. So I'll set a to 2.5 and b to 4. I'll make sure the JSON is correctly formatted with the action and action_input. Then, after getting the result, I'll provide the final answer. Let me double-check the syntax to avoid any parsing errors.\n",
      "</think>\n",
      "\n",
      "Action:\n",
      "```\n",
      "{\n",
      "  \"action\": \"multiply_numbers\",\n",
      "  \"action_input\": {\n",
      "    \"a\": 2.5,\n",
      "    \"b\": 4\n",
      "  }\n",
      "}\n",
      "```\u001b[0m\n",
      "Observation: \u001b[38;5;200m\u001b[1;3m10.0\u001b[0m\n",
      "Thought:\u001b[32;1m\u001b[1;3m<think>\n",
      "</think>\n",
      "\n",
      "Action:\n",
      "```\n",
      "{\n",
      "  \"action\": \"Final Answer\",\n",
      "  \"action_input\": \"The result of 2.5 * 4 is 10.0.\"\n",
      "}\n",
      "```\u001b[0m\n",
      "\n",
      "\u001b[1m> Finished chain.\u001b[0m\n",
      "\n",
      "\n",
      "\u001b[1m> Entering new AgentExecutor chain...\u001b[0m\n",
      "\u001b[32;1m\u001b[1;3m<think>\n",
      "Okay, let's see. The user's salary was $9500, and they got a 15% raise. I need to calculate the new salary.\n",
      "\n",
      "First, I should find out what 15% of $9500 is. To do that, I can multiply 9500 by 0.15. Then add that amount to the original salary.\n",
      "\n",
      "Wait, the tools available are add_numbers, subtract_numbers, and multiply_numbers. So maybe I can use multiply_numbers to calculate the raise amount first. Then add that to the original salary using add_numbers.\n",
      "\n",
      "Let me check. The multiply_numbers tool takes two numbers. So 9500 and 0.15. Let me do that first. Then add the result to 9500.\n",
      "\n",
      "Alternatively, maybe there's a way to calculate it in one step, but the tools don't have a percentage increase function. So two steps: multiply to get the raise, then add to the original.\n",
      "\n",
      "So first action: multiply_numbers with a=9500 and b=0.15. That gives the raise amount. Then add that to 9500 using add_numbers.\n",
      "\n",
      "Wait, but the user might want the total after the raise. So the new salary is original plus 15% of original. So 9500 * 1.15. But since the tools don't have a direct percentage tool, maybe I can use multiply_numbers with 9500 and 1.15? Wait, the multiply tool's parameters are a and b, both numbers. So if I multiply 9500 by 1.15, that would give the same result as adding 15% of 9500 to the original. Let me verify. 9500 * 1.15 equals 9500 + (9500 * 0.15). So maybe that's a more efficient way. Let me check if that's allowed. The multiply_numbers tool allows a and b to be numbers, so 1.15 is acceptable. So perhaps I can use multiply_numbers with a=9500 and b=1.15. That would directly give the new salary. But wait, the user's question is about a 15% raise, which is adding 15% to the original. So yes, multiplying by 1.15 is correct. Let me confirm the calculation. 9500 * 1.15 equals 9500 * 1 + 9500 * 0.15 = 9500 + 1425 = 10925. So the new salary is $10,925. But the tools don't have a percentage tool, so I need to use multiply_numbers with 9500 and 1.15. Alternatively, calculate the 15% first and then add. Either way, the result is the same. Let me see if the tools allow for that. Since the multiply tool can take 1.15, maybe that's the better approach. So the action would be multiply_numbers with a=9500 and b=1.15. Then return the result as the final answer. Alternatively, if the tool requires integers, but the multiply tool's parameters are numbers, so decimals are allowed. So that should work. Let me proceed with that.\n",
      "</think>\n",
      "\n",
      "Thought: I need to calculate the new salary after a 15% raise. This can be done by multiplying the original salary by 1.15 (which accounts for the original 100% plus the 15% raise). \n",
      "\n",
      "Action:\n",
      "```\n",
      "{\n",
      "  \"action\": \"multiply_numbers\",\n",
      "  \"action_input\": {\n",
      "    \"a\": 9500,\n",
      "    \"b\": 1.15\n",
      "  }\n",
      "}\n",
      "```\n",
      "\n",
      "\u001b[0m\n",
      "Observation: \u001b[38;5;200m\u001b[1;3m10925.0\u001b[0m\n",
      "Thought:\u001b[32;1m\u001b[1;3m<think>\n",
      "Okay, so the user's original salary is $9500, and they got a 15% raise. I need to figure out the new salary. Let me think about how to calculate this.\n",
      "\n",
      "First, a 15% raise means the salary increases by 15% of the original amount. To find 15% of $9500, I can multiply 9500 by 0.15. Then add that result to the original salary. But wait, the tools available are add_numbers, subtract_numbers, and multiply_numbers. \n",
      "\n",
      "Alternatively, maybe there's a more straightforward way. If I multiply the original salary by 1.15, that should give the new salary directly because 1.15 is equivalent to 100% + 15%. Let me check if that's correct. \n",
      "\n",
      "Yes, multiplying by 1.15 would account for both the original amount and the raise. So using the multiply_numbers tool with a=9500 and b=1.15 should give the correct result. Let me confirm the calculation. \n",
      "\n",
      "9500 * 1.15 equals 9500 * 1 + 9500 * 0.15 = 9500 + 1425 = 10925. So the new salary should be $10,925. \n",
      "\n",
      "I should use the multiply_numbers tool here since it's the most efficient method with the available tools. The result from the tool will be the final answer.\n",
      "</think>\n",
      "\n",
      "Action:\n",
      "```\n",
      "{\n",
      "  \"action\": \"Final Answer\",\n",
      "  \"action_input\": \"Your new salary is $10925.\"\n",
      "}\n",
      "```\u001b[0m\n",
      "\n",
      "\u001b[1m> Finished chain.\u001b[0m\n",
      "\n",
      "\n",
      "\u001b[1m> Entering new AgentExecutor chain...\u001b[0m\n",
      "\u001b[32;1m\u001b[1;3m<think>\n",
      "Okay, let's see. The user started with $35. They spent $20, so first I need to subtract 20 from 35. That would be 35 - 20 = 15. Then, they got a 10% cashback on the $20 spent. Wait, cashback usually refers to getting a percentage back of the amount spent. So 10% of 20 is 2. So adding that back to the remaining 15 would give 15 + 2 = 17. So the final amount left should be $17. Let me check if I need to use any tools here. The tools available are add_numbers, subtract_numbers, and multiply_numbers. The subtraction and multiplication can be done with those tools. So first subtract 20 from 35 using subtract_numbers, then calculate 10% of 20 (which is 2) using multiply_numbers with 20 and 0.10, then add those results together. Wait, but the cashback is added back, so the total would be (35 - 20) + (20 * 0.10) = 15 + 2 = 17. So I need to perform two operations: subtract and multiply, then add. But the tools can only do one operation at a time. So first subtract 35 and 20, then multiply 20 by 0.10, then add the results. Let me structure that step by step.\n",
      "</think>\n",
      "\n",
      "Thought: I need to calculate the remaining money after spending and adding the cashback. First, subtract the spent amount from the initial amount, then calculate the cashback and add it back.\n",
      "\n",
      "Action:\n",
      "```\n",
      "{\n",
      "  \"action\": \"subtract_numbers\",\n",
      "  \"action_input\": {\n",
      "    \"a\": 35,\n",
      "    \"b\": 20\n",
      "  }\n",
      "}\n",
      "```\n",
      "\n",
      "\u001b[0m\n",
      "Observation: \u001b[33;1m\u001b[1;3m15\u001b[0m\n",
      "Thought:\u001b[32;1m\u001b[1;3m<think>\n",
      "</think>\n",
      "\n",
      "Action:\n",
      "```\n",
      "{\n",
      "  \"action\": \"multiply_numbers\",\n",
      "  \"action_input\": {\n",
      "    \"a\": 20,\n",
      "    \"b\": 0.10\n",
      "  }\n",
      "}\n",
      "```\n",
      "\n",
      "\n",
      "\u001b[0m\n",
      "Observation: \u001b[38;5;200m\u001b[1;3m2.0\u001b[0m\n",
      "Thought:\u001b[32;1m\u001b[1;3m<think>\n",
      "Okay, let me see. The user had $35, spent $20, so subtracted 20 from 35, which left $15. Then they got a 10% cashback on the $20 spent. So 10% of 20 is $2. Now I need to add that $2 back to the remaining $15. So $15 plus $2 equals $17 total. I should use the add_numbers tool with 15 and 2. Let me check if that's correct.\n",
      "\n",
      "Wait, the cashback is 10% of the amount spent, which is $20. So 10% of 20 is indeed 2. Adding that to the remaining 15 gives 17. So the final answer should be $17. Let me make sure I'm using the right tools here. The subtract_numbers was used first, then multiply_numbers for the cashback, and now add_numbers to combine the remaining and cashback. Yes, that makes sense. So the final step is adding 15 and 2.\n",
      "</think>\n",
      "\n",
      "Action:\n",
      "```\n",
      "{\n",
      "  \"action\": \"add_numbers\",\n",
      "  \"action_input\": {\n",
      "    \"a\": 15,\n",
      "    \"b\": 2\n",
      "  }\n",
      "}\n",
      "```\n",
      "\n",
      "\n",
      "\u001b[0m\n",
      "Observation: \u001b[36;1m\u001b[1;3m17\u001b[0m\n",
      "Thought:\u001b[32;1m\u001b[1;3m<think>\n",
      "Okay, let me see. The user had $35, spent $20, so subtracted 20 from 35, which left $15. Then they got a 10% cashback on the $20 spent. So 10% of 20 is $2. Now I need to add that $2 back to the remaining $15. So $15 plus $2 equals $17 total. I should use the add_numbers tool with 15 and 2. Let me check if that's correct.\n",
      "\n",
      "Wait, the cashback is 10% of the amount spent, which is $20. So 10% of 20 is indeed 2. Adding that to the remaining 15 gives 17. So the final answer should be $17. Let me make sure I'm using the right tools here. The subtract_numbers was used first, then multiply_numbers for the cashback, and now add_numbers to combine the remaining and cashback. Yes, that makes sense. So the final step is adding 15 and 2.\n",
      "</think>\n",
      "\n",
      "Action:\n",
      "```\n",
      "{\n",
      "  \"action\": \"Final Answer\",\n",
      "  \"action_input\": \"You have $17 left.\"\n",
      "}\n",
      "```\u001b[0m\n",
      "\n",
      "\u001b[1m> Finished chain.\u001b[0m\n"
     ]
    },
    {
     "data": {
      "text/plain": [
       "[LLMTestCase(input='What is 10 - 4?', actual_output='The result of 10 - 4 is 6.', expected_output='The difference between 10 and 4 is 6.', context=None, retrieval_context=None, additional_metadata=None, tools_called=[ToolCall(\n",
       "     name=\"subtract_numbers\",\n",
       "     input_parameters={\n",
       "         \"a\": 10,\n",
       "         \"b\": 4\n",
       "     },\n",
       "     output=6\n",
       " )], comments=None, expected_tools=[ToolCall(\n",
       "     name=\"subtract_numbers\",\n",
       "     input_parameters={\n",
       "         \"a\": 10,\n",
       "         \"b\": 4\n",
       "     }\n",
       " )], token_cost=None, completion_time=None, name=None, tags=None),\n",
       " LLMTestCase(input='What is 2.5 * 4?', actual_output='The result of 2.5 * 4 is 10.0.', expected_output='The product of 2.5 and 4 is 10.0.', context=None, retrieval_context=None, additional_metadata=None, tools_called=[ToolCall(\n",
       "     name=\"multiply_numbers\",\n",
       "     input_parameters={\n",
       "         \"a\": 2.5,\n",
       "         \"b\": 4\n",
       "     },\n",
       "     output=10.0\n",
       " )], comments=None, expected_tools=[ToolCall(\n",
       "     name=\"multiply_numbers\",\n",
       "     input_parameters={\n",
       "         \"a\": 2.5,\n",
       "         \"b\": 4\n",
       "     }\n",
       " )], token_cost=None, completion_time=None, name=None, tags=None),\n",
       " LLMTestCase(input='My salary was $9500 & I got a 15 percent raise yesterday, how much do I earn now?', actual_output='Your new salary is $10925.', expected_output='You now earn $10925 after a 15 percent raise on your previous salary of $9500.', context=None, retrieval_context=None, additional_metadata=None, tools_called=[ToolCall(\n",
       "     name=\"multiply_numbers\",\n",
       "     input_parameters={\n",
       "         \"a\": 9500,\n",
       "         \"b\": 1.15\n",
       "     },\n",
       "     output=10925.0\n",
       " )], comments=None, expected_tools=[ToolCall(\n",
       "     name=\"multiply_numbers\",\n",
       "     input_parameters={\n",
       "         \"a\": 9500,\n",
       "         \"b\": 1.15\n",
       "     }\n",
       " )], token_cost=None, completion_time=None, name=None, tags=None),\n",
       " LLMTestCase(input='I had 35 dollars. I spent 20 & got a 10 percent cashback, how much do I have left?', actual_output='You have $17 left.', expected_output='You have a total of 17 dollars left after spending 20 dollars and receiving a 10 percent cashback of 2 dollars.', context=None, retrieval_context=None, additional_metadata=None, tools_called=[ToolCall(\n",
       "     name=\"subtract_numbers\",\n",
       "     input_parameters={\n",
       "         \"a\": 35,\n",
       "         \"b\": 20\n",
       "     },\n",
       "     output=15\n",
       " ), ToolCall(\n",
       "     name=\"multiply_numbers\",\n",
       "     input_parameters={\n",
       "         \"a\": 20,\n",
       "         \"b\": 0.1\n",
       "     },\n",
       "     output=2.0\n",
       " ), ToolCall(\n",
       "     name=\"add_numbers\",\n",
       "     input_parameters={\n",
       "         \"a\": 15,\n",
       "         \"b\": 2\n",
       "     },\n",
       "     output=17\n",
       " )], comments=None, expected_tools=[ToolCall(\n",
       "     name=\"subtract_numbers\",\n",
       "     input_parameters={\n",
       "         \"a\": 35,\n",
       "         \"b\": 20\n",
       "     }\n",
       " ), ToolCall(\n",
       "     name=\"multiply_numbers\",\n",
       "     input_parameters={\n",
       "         \"a\": 20,\n",
       "         \"b\": 0.1\n",
       "     }\n",
       " ), ToolCall(\n",
       "     name=\"add_numbers\",\n",
       "     input_parameters={\n",
       "         \"a\": 15,\n",
       "         \"b\": 2\n",
       "     }\n",
       " )], token_cost=None, completion_time=None, name=None, tags=None)]"
      ]
     },
     "execution_count": 11,
     "metadata": {},
     "output_type": "execute_result"
    }
   ],
   "source": [
    "from deepeval.test_case import LLMTestCase\n",
    "\n",
    "for golden in goldens:\n",
    "    input = golden.input\n",
    "    tools_called_list, response = query_agent(input)\n",
    " \n",
    "    test_case = LLMTestCase(\n",
    "        input=input,\n",
    "        actual_output=response,\n",
    "        expected_tools=golden.expected_tools,\n",
    "        expected_output=golden.expected_output,\n",
    "        tools_called=tools_called_list\n",
    "    )\n",
    "\n",
    "    eval_dataset.add_test_case(test_case)\n",
    "\n",
    "eval_dataset.test_cases"
   ]
  },
  {
   "cell_type": "markdown",
   "id": "cfdd6148",
   "metadata": {},
   "source": [
    "### Evaluating ToolCorrectnessMetric"
   ]
  },
  {
   "cell_type": "code",
   "execution_count": 22,
   "id": "e5e21108",
   "metadata": {},
   "outputs": [
    {
     "data": {
      "application/vnd.jupyter.widget-view+json": {
       "model_id": "bbe018eac8aa4488adeb54ab41a36b01",
       "version_major": 2,
       "version_minor": 0
      },
      "text/plain": [
       "Output()"
      ]
     },
     "metadata": {},
     "output_type": "display_data"
    },
    {
     "data": {
      "text/html": [
       "<pre style=\"white-space:pre;overflow-x:auto;line-height:normal;font-family:Menlo,'DejaVu Sans Mono',consolas,'Courier New',monospace\"></pre>\n"
      ],
      "text/plain": []
     },
     "metadata": {},
     "output_type": "display_data"
    },
    {
     "data": {
      "application/vnd.jupyter.widget-view+json": {
       "model_id": "a9cc0bb2ac3c41f89e0e17f4a26397c5",
       "version_major": 2,
       "version_minor": 0
      },
      "text/plain": [
       "Output()"
      ]
     },
     "metadata": {},
     "output_type": "display_data"
    },
    {
     "name": "stdout",
     "output_type": "stream",
     "text": [
      "What is 10 - 4?\n",
      "1.0\n",
      "Correct ordering: all expected tools ['subtract_numbers'] were called in the correct order.\n",
      "[ToolCall(\n",
      "    name=\"subtract_numbers\",\n",
      "    input_parameters={\n",
      "        \"a\": 10,\n",
      "        \"b\": 4\n",
      "    }\n",
      ")]\n"
     ]
    },
    {
     "data": {
      "text/html": [
       "<pre style=\"white-space:pre;overflow-x:auto;line-height:normal;font-family:Menlo,'DejaVu Sans Mono',consolas,'Courier New',monospace\"></pre>\n"
      ],
      "text/plain": []
     },
     "metadata": {},
     "output_type": "display_data"
    },
    {
     "data": {
      "application/vnd.jupyter.widget-view+json": {
       "model_id": "49513635589b4b7394cd9cc6094db711",
       "version_major": 2,
       "version_minor": 0
      },
      "text/plain": [
       "Output()"
      ]
     },
     "metadata": {},
     "output_type": "display_data"
    },
    {
     "name": "stdout",
     "output_type": "stream",
     "text": [
      "What is 2.5 * 4?\n",
      "1.0\n",
      "Correct ordering: all expected tools ['multiply_numbers'] were called in the correct order.\n",
      "[ToolCall(\n",
      "    name=\"multiply_numbers\",\n",
      "    input_parameters={\n",
      "        \"a\": 2.5,\n",
      "        \"b\": 4\n",
      "    }\n",
      ")]\n"
     ]
    },
    {
     "data": {
      "text/html": [
       "<pre style=\"white-space:pre;overflow-x:auto;line-height:normal;font-family:Menlo,'DejaVu Sans Mono',consolas,'Courier New',monospace\"></pre>\n"
      ],
      "text/plain": []
     },
     "metadata": {},
     "output_type": "display_data"
    },
    {
     "data": {
      "application/vnd.jupyter.widget-view+json": {
       "model_id": "e1f21c1f32534f20bc7f1b5b845eacf0",
       "version_major": 2,
       "version_minor": 0
      },
      "text/plain": [
       "Output()"
      ]
     },
     "metadata": {},
     "output_type": "display_data"
    },
    {
     "name": "stdout",
     "output_type": "stream",
     "text": [
      "My salary was $9500 & I got a 15 percent raise yesterday, how much do I earn now?\n",
      "1.0\n",
      "Correct ordering: all expected tools ['multiply_numbers'] were called in the correct order.\n",
      "[ToolCall(\n",
      "    name=\"multiply_numbers\",\n",
      "    input_parameters={\n",
      "        \"a\": 9500,\n",
      "        \"b\": 1.15\n",
      "    }\n",
      ")]\n"
     ]
    },
    {
     "data": {
      "text/html": [
       "<pre style=\"white-space:pre;overflow-x:auto;line-height:normal;font-family:Menlo,'DejaVu Sans Mono',consolas,'Courier New',monospace\"></pre>\n"
      ],
      "text/plain": []
     },
     "metadata": {},
     "output_type": "display_data"
    },
    {
     "name": "stdout",
     "output_type": "stream",
     "text": [
      "I had 35 dollars. I spent 20 & got a 10 percent cashback, how much do I have left?\n",
      "1.0\n",
      "Correct ordering: all expected tools ['subtract_numbers', 'multiply_numbers', 'add_numbers'] were called in the correct order.\n",
      "[ToolCall(\n",
      "    name=\"subtract_numbers\",\n",
      "    input_parameters={\n",
      "        \"a\": 35,\n",
      "        \"b\": 20\n",
      "    }\n",
      "), ToolCall(\n",
      "    name=\"multiply_numbers\",\n",
      "    input_parameters={\n",
      "        \"a\": 20,\n",
      "        \"b\": 0.1\n",
      "    }\n",
      "), ToolCall(\n",
      "    name=\"add_numbers\",\n",
      "    input_parameters={\n",
      "        \"a\": 15,\n",
      "        \"b\": 2\n",
      "    }\n",
      ")]\n"
     ]
    }
   ],
   "source": [
    "from deepeval.metrics import ToolCorrectnessMetric\n",
    "\n",
    "for test_case in eval_dataset:\n",
    "    metric = ToolCorrectnessMetric(should_consider_ordering=True)\n",
    "    metric.measure(test_case)\n",
    "    \n",
    "    print(test_case.input)\n",
    "    print(metric.score)\n",
    "    print(metric.reason)\n",
    "    print(test_case.expected_tools)"
   ]
  }
 ],
 "metadata": {
  "kernelspec": {
   "display_name": "myenvLangchain",
   "language": "python",
   "name": "myenvlangchain"
  },
  "language_info": {
   "codemirror_mode": {
    "name": "ipython",
    "version": 3
   },
   "file_extension": ".py",
   "mimetype": "text/x-python",
   "name": "python",
   "nbconvert_exporter": "python",
   "pygments_lexer": "ipython3",
   "version": "3.12.2"
  }
 },
 "nbformat": 4,
 "nbformat_minor": 5
}
