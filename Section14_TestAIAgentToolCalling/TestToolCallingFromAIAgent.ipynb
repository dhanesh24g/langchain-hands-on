{
 "cells": [
  {
   "cell_type": "markdown",
   "id": "f8f86014",
   "metadata": {},
   "source": [
    "## Test Tool Calling from AI Agent"
   ]
  },
  {
   "cell_type": "markdown",
   "id": "6a6db83f",
   "metadata": {},
   "source": [
    "### Setting-up dotEnv & LLM "
   ]
  },
  {
   "cell_type": "code",
   "execution_count": 19,
   "id": "b448cc5b",
   "metadata": {},
   "outputs": [],
   "source": [
    "from dotenv import load_dotenv\n",
    "from langchain_ollama import ChatOllama\n",
    "\n",
    "load_dotenv(override=True)\n",
    "load_dotenv('./../.env')\n",
    "\n",
    "llm = ChatOllama(\n",
    "    base_url=\"http://localhost:11434\",\n",
    "    model=\"qwen3:latest\",\n",
    "    temperature=0.5,\n",
    "    max_tokens=300\n",
    ")"
   ]
  },
  {
   "cell_type": "markdown",
   "id": "dd03caa2",
   "metadata": {},
   "source": [
    "### Connect to DeepEval"
   ]
  },
  {
   "cell_type": "code",
   "execution_count": 20,
   "id": "f546c15e",
   "metadata": {},
   "outputs": [
    {
     "data": {
      "text/html": [
       "<pre style=\"white-space:pre;overflow-x:auto;line-height:normal;font-family:Menlo,'DejaVu Sans Mono',consolas,'Courier New',monospace\">🎉🥳 Congratulations! You've successfully logged in! 🙌 \n",
       "</pre>\n"
      ],
      "text/plain": [
       "🎉🥳 Congratulations! You've successfully logged in! 🙌 \n"
      ]
     },
     "metadata": {},
     "output_type": "display_data"
    }
   ],
   "source": [
    "import deepeval\n",
    "\n",
    "deepeval.login_with_confident_api_key(\"confident_us_DNEaOTujz584SicCTCNGpP7snhHa3APERq7FhaTvpDI=\")"
   ]
  },
  {
   "cell_type": "markdown",
   "id": "a0ec7aff",
   "metadata": {},
   "source": [
    "### Creating the Tools for AI Agent"
   ]
  },
  {
   "cell_type": "code",
   "execution_count": 21,
   "id": "8a0304a5",
   "metadata": {},
   "outputs": [],
   "source": [
    "from langchain_core.tools import tool\n",
    "\n",
    "@tool\n",
    "def add_numbers(a: int, b: int) -> int:\n",
    "    \"Add two numbers and return the result\"\n",
    "    return a+b\n",
    "\n",
    "@tool\n",
    "def subtract_numbers(a: int, b: int) -> int:\n",
    "    \"Subtract two numbers and return the result\"\n",
    "    return a-b\n",
    "\n",
    "@tool\n",
    "def multiply_numbers(a: float, b: float) -> float:\n",
    "    \"Multiply two numbers and return the result\"\n",
    "    return a*b\n"
   ]
  },
  {
   "cell_type": "code",
   "execution_count": 22,
   "id": "ba8cb37f",
   "metadata": {},
   "outputs": [],
   "source": [
    "list_of_tools = [add_numbers, subtract_numbers, multiply_numbers]"
   ]
  },
  {
   "cell_type": "markdown",
   "id": "10b2e4db",
   "metadata": {},
   "source": [
    "### Setting-up AI Agent to Invoke Custom Tooling"
   ]
  },
  {
   "cell_type": "code",
   "execution_count": 24,
   "id": "3fd0d421",
   "metadata": {},
   "outputs": [
    {
     "name": "stdout",
     "output_type": "stream",
     "text": [
      "\n",
      "\n",
      "\u001b[1m> Entering new AgentExecutor chain...\u001b[0m\n",
      "\u001b[32;1m\u001b[1;3m<think>\n",
      "Okay, let's see. The user started with $35. They spent $20, so first I need to subtract 20 from 35. That would be 35 - 20 = 15. Then, they got a 10% cashback on the $20 spent. Wait, cashback usually refers to getting a percentage back on the amount spent. So 10% of 20 is 2. So adding that back to the remaining 15, the total would be 15 + 2 = 17. Let me check if the tools available can handle this. The subtract_numbers tool can handle the initial subtraction. Then, to calculate the cashback, maybe multiply 20 by 10% (which is 0.10). But the multiply_numbers tool takes two numbers. So 20 * 0.10 = 2. Then add that to the remaining amount. So first subtract 20 from 35, then calculate 10% of 20, and add that result to the remaining 15. So the steps are: 35 - 20 = 15, then 20 * 0.10 = 2, then 15 + 2 = 17. So the final answer should be 17.\n",
      "</think>\n",
      "\n",
      "Thought: I need to calculate the remaining money after spending and adding the cashback. First, subtract the spent amount from the initial amount, then add the cashback which is 10% of the spent amount.\n",
      "\n",
      "Action:\n",
      "```\n",
      "{\n",
      "  \"action\": \"subtract_numbers\",\n",
      "  \"action_input\": {\n",
      "    \"a\": 35,\n",
      "    \"b\": 20\n",
      "  }\n",
      "}\n",
      "```\n",
      "\n",
      "\u001b[0m\n",
      "Observation: \u001b[33;1m\u001b[1;3m15\u001b[0m\n",
      "Thought:\u001b[32;1m\u001b[1;3m<think>\n",
      "Okay, so the user spent $20, and now they have $15 left. But they got a 10% cashback on the $20 spent. Let me calculate that. 10% of 20 is 2, so they get $2 back. Adding that to the remaining $15 gives $17 total. I need to use the multiply_numbers tool for the 10% calculation and then add it back.\n",
      "\n",
      "Action:\n",
      "```\n",
      "{\n",
      "  \"action\": \"multiply_numbers\",\n",
      "  \"action_input\": {\n",
      "    \"a\": 20,\n",
      "    \"b\": 0.10\n",
      "  }\n",
      "}\n",
      "```\n",
      "\n",
      "\n",
      "\u001b[0m\n",
      "Observation: \u001b[38;5;200m\u001b[1;3m2.0\u001b[0m\n",
      "Thought:\u001b[32;1m\u001b[1;3m<think>\n",
      "Okay, so the user spent $20, which left them with $15. Then they got a 10% cashback on the $20 spent. The multiply_numbers tool gave me 2.0, which is $2. Now I need to add that $2 back to the $15. Let me use the add_numbers tool for that.\n",
      "\n",
      "Action:\n",
      "```\n",
      "{\n",
      "  \"action\": \"add_numbers\",\n",
      "  \"action_input\": {\n",
      "    \"a\": 15,\n",
      "    \"b\": 2.0\n",
      "  }\n",
      "}\n",
      "```\n",
      "\n",
      "\n",
      "\u001b[0m\n",
      "Observation: \u001b[36;1m\u001b[1;3m17\u001b[0m\n",
      "Thought:\u001b[32;1m\u001b[1;3m<think>\n",
      "Okay, let me check the steps again. The user started with $35. They spent $20, so subtracting 20 from 35 gives 15. Then, the 10% cashback on the $20 spent is 2, which when added back gives 15 + 2 = 17. The calculations seem correct. The final amount left is $17.\n",
      "\n",
      "Action:\n",
      "```\n",
      "{\n",
      "  \"action\": \"Final Answer\",\n",
      "  \"action_input\": \"You have $17 left.\"\n",
      "}\n",
      "```\u001b[0m\n",
      "\n",
      "\u001b[1m> Finished chain.\u001b[0m\n",
      "{'input': 'I had 35 dollars. I spent 20 & got a 10 percent cashback, how much do I have left?', 'output': 'You have $17 left.', 'intermediate_steps': [(AgentAction(tool='subtract_numbers', tool_input={'a': 35, 'b': 20}, log='<think>\\nOkay, let\\'s see. The user started with $35. They spent $20, so first I need to subtract 20 from 35. That would be 35 - 20 = 15. Then, they got a 10% cashback on the $20 spent. Wait, cashback usually refers to getting a percentage back on the amount spent. So 10% of 20 is 2. So adding that back to the remaining 15, the total would be 15 + 2 = 17. Let me check if the tools available can handle this. The subtract_numbers tool can handle the initial subtraction. Then, to calculate the cashback, maybe multiply 20 by 10% (which is 0.10). But the multiply_numbers tool takes two numbers. So 20 * 0.10 = 2. Then add that to the remaining amount. So first subtract 20 from 35, then calculate 10% of 20, and add that result to the remaining 15. So the steps are: 35 - 20 = 15, then 20 * 0.10 = 2, then 15 + 2 = 17. So the final answer should be 17.\\n</think>\\n\\nThought: I need to calculate the remaining money after spending and adding the cashback. First, subtract the spent amount from the initial amount, then add the cashback which is 10% of the spent amount.\\n\\nAction:\\n```\\n{\\n  \"action\": \"subtract_numbers\",\\n  \"action_input\": {\\n    \"a\": 35,\\n    \"b\": 20\\n  }\\n}\\n```\\n\\n'), 15), (AgentAction(tool='multiply_numbers', tool_input={'a': 20, 'b': 0.1}, log='<think>\\nOkay, so the user spent $20, and now they have $15 left. But they got a 10% cashback on the $20 spent. Let me calculate that. 10% of 20 is 2, so they get $2 back. Adding that to the remaining $15 gives $17 total. I need to use the multiply_numbers tool for the 10% calculation and then add it back.\\n\\nAction:\\n```\\n{\\n  \"action\": \"multiply_numbers\",\\n  \"action_input\": {\\n    \"a\": 20,\\n    \"b\": 0.10\\n  }\\n}\\n```\\n\\n\\n'), 2.0), (AgentAction(tool='add_numbers', tool_input={'a': 15, 'b': 2.0}, log='<think>\\nOkay, so the user spent $20, which left them with $15. Then they got a 10% cashback on the $20 spent. The multiply_numbers tool gave me 2.0, which is $2. Now I need to add that $2 back to the $15. Let me use the add_numbers tool for that.\\n\\nAction:\\n```\\n{\\n  \"action\": \"add_numbers\",\\n  \"action_input\": {\\n    \"a\": 15,\\n    \"b\": 2.0\\n  }\\n}\\n```\\n\\n\\n'), 17)]}\n"
     ]
    }
   ],
   "source": [
    "from langchain.agents import initialize_agent, AgentType\n",
    "\n",
    "agent = initialize_agent(\n",
    "    llm=llm,\n",
    "    tools=list_of_tools,\n",
    "    agent=AgentType.STRUCTURED_CHAT_ZERO_SHOT_REACT_DESCRIPTION,\n",
    "    verbose=True,\n",
    "    return_intermediate_steps=True\n",
    ")\n",
    "\n",
    "response = agent.invoke(\"I had 35 dollars. I spent 20 & got a 10 percent cashback, how much do I have left?\")\n",
    "\n",
    "print(response)"
   ]
  },
  {
   "cell_type": "markdown",
   "id": "4d623dec",
   "metadata": {},
   "source": [
    "### Preparing Golden Dataset for DeepEval Testcase"
   ]
  },
  {
   "cell_type": "code",
   "execution_count": 25,
   "id": "a1b3228d",
   "metadata": {},
   "outputs": [
    {
     "data": {
      "text/plain": [
       "[{'question': 'What is 10 - 4?',\n",
       "  'expected_answer': 'The difference between 10 and 4 is 6.',\n",
       "  'tool_called': [ToolCall(\n",
       "       name=\"subtract_numbers\",\n",
       "       input_parameters={\n",
       "           \"a\": 10,\n",
       "           \"b\": 4\n",
       "       }\n",
       "   )]},\n",
       " {'question': 'What is 2.5 * 4?',\n",
       "  'expected_answer': 'The product of 2.5 and 4 is 10.0.',\n",
       "  'tool_called': [ToolCall(\n",
       "       name=\"multiply_numbers\",\n",
       "       input_parameters={\n",
       "           \"a\": 2.5,\n",
       "           \"b\": 4\n",
       "       }\n",
       "   )]},\n",
       " {'question': 'My salary was $9500 & I got a 15 percent raise yesterday, how much do I earn now?',\n",
       "  'expected_answer': 'You now earn $10925 after a 15 percent raise on your previous salary of $9500.',\n",
       "  'tool_called': [ToolCall(\n",
       "       name=\"multiply_numbers\",\n",
       "       input_parameters={\n",
       "           \"a\": 9500,\n",
       "           \"b\": 1.15\n",
       "       }\n",
       "   )]},\n",
       " {'question': 'I had 35 dollars. I spent 20 & got a 10 percent cashback, how much do I have left?',\n",
       "  'expected_answer': 'You have a total of 17 dollars left after spending 20 dollars and receiving a 10 percent cashback of 2 dollars.',\n",
       "  'tool_called': [ToolCall(\n",
       "       name=\"subtract_numbers\",\n",
       "       input_parameters={\n",
       "           \"a\": 35,\n",
       "           \"b\": 20\n",
       "       }\n",
       "   ),\n",
       "   ToolCall(\n",
       "       name=\"multiply_numbers\",\n",
       "       input_parameters={\n",
       "           \"a\": 20,\n",
       "           \"b\": 0.1\n",
       "       }\n",
       "   ),\n",
       "   ToolCall(\n",
       "       name=\"add_numbers\",\n",
       "       input_parameters={\n",
       "           \"a\": 15,\n",
       "           \"b\": 2\n",
       "       }\n",
       "   )]}]"
      ]
     },
     "execution_count": 25,
     "metadata": {},
     "output_type": "execute_result"
    }
   ],
   "source": [
    "from deepeval.test_case import ToolCall\n",
    "\n",
    "golden_dataset = [\n",
    "\n",
    "    {\n",
    "        \"question\": \"What is 10 - 4?\",\n",
    "        \"expected_answer\": \"The difference between 10 and 4 is 6.\",\n",
    "        \"tool_called\": [\n",
    "            ToolCall(name=\"subtract_numbers\", input_parameters={\"a\": 10, \"b\": 4})\n",
    "        ]\n",
    "    },\n",
    "    {\n",
    "        \"question\": \"What is 2.5 * 4?\",\n",
    "        \"expected_answer\": \"The product of 2.5 and 4 is 10.0.\",\n",
    "        \"tool_called\": [\n",
    "            ToolCall(name=\"multiply_numbers\", input_parameters={\"a\": 2.5, \"b\": 4})\n",
    "        ]\n",
    "    },\n",
    "    {\n",
    "        \"question\": \"My salary was $9500 & I got a 15 percent raise yesterday, how much do I earn now?\",\n",
    "        \"expected_answer\": \"You now earn $10925 after a 15 percent raise on your previous salary of $9500.\"  ,\n",
    "        \"tool_called\": [\n",
    "            ToolCall(name=\"multiply_numbers\", input_parameters={\"a\": 9500, \"b\": 1.15})\n",
    "        ]\n",
    "    },\n",
    "    {\n",
    "        \"question\": \"I had 35 dollars. I spent 20 & got a 10 percent cashback, how much do I have left?\",\n",
    "        \"expected_answer\": \"You have a total of 17 dollars left after spending 20 dollars and receiving a 10 percent cashback of 2 dollars.\",\n",
    "        \"tool_called\": [\n",
    "            ToolCall(name=\"subtract_numbers\", input_parameters={\"a\": 35, \"b\": 20}),\n",
    "            ToolCall(name=\"multiply_numbers\", input_parameters={\"a\": 20, \"b\": 0.1}),\n",
    "            ToolCall(name=\"add_numbers\", input_parameters={\"a\": 15, \"b\": 2})\n",
    "        ]\n",
    "    }\n",
    "    \n",
    "]\n",
    "\n",
    "golden_dataset"
   ]
  },
  {
   "cell_type": "markdown",
   "id": "2a67f6f5",
   "metadata": {},
   "source": [
    "### Upload Golden Dataset to DeepEval"
   ]
  },
  {
   "cell_type": "code",
   "execution_count": 26,
   "id": "c63906cb",
   "metadata": {},
   "outputs": [
    {
     "data": {
      "text/plain": [
       "EvaluationDataset(test_cases=[], goldens=[Golden(input='What is 10 - 4?', actual_output=None, expected_output='The difference between 10 and 4 is 6.', context=None, retrieval_context=None, additional_metadata=None, comments=None, tools_called=None, expected_tools=None, source_file=None, name=None, custom_column_key_values=None), Golden(input='What is 2.5 * 4?', actual_output=None, expected_output='The product of 2.5 and 4 is 10.0.', context=None, retrieval_context=None, additional_metadata=None, comments=None, tools_called=None, expected_tools=None, source_file=None, name=None, custom_column_key_values=None), Golden(input='My salary was $9500 & I got a 15 percent raise yesterday, how much do I earn now?', actual_output=None, expected_output='You now earn $10925 after a 15 percent raise on your previous salary of $9500.', context=None, retrieval_context=None, additional_metadata=None, comments=None, tools_called=None, expected_tools=None, source_file=None, name=None, custom_column_key_values=None), Golden(input='I had 35 dollars. I spent 20 & got a 10 percent cashback, how much do I have left?', actual_output=None, expected_output='You have a total of 17 dollars left after spending 20 dollars and receiving a 10 percent cashback of 2 dollars.', context=None, retrieval_context=None, additional_metadata=None, comments=None, tools_called=None, expected_tools=None, source_file=None, name=None, custom_column_key_values=None)], _alias=None, _id=None)"
      ]
     },
     "execution_count": 26,
     "metadata": {},
     "output_type": "execute_result"
    }
   ],
   "source": [
    "from deepeval.dataset import EvaluationDataset, Golden\n",
    "\n",
    "goldens = []\n",
    "\n",
    "for data in golden_dataset:\n",
    "    golden = Golden(\n",
    "        input=data[\"question\"],\n",
    "        expected_output=data[\"expected_answer\"]\n",
    "    )\n",
    "    goldens.append(golden)\n",
    "    \n",
    "eval_dataset = EvaluationDataset(goldens=goldens)\n",
    "\n",
    "eval_dataset"
   ]
  },
  {
   "cell_type": "code",
   "execution_count": 27,
   "id": "64a51c16",
   "metadata": {},
   "outputs": [],
   "source": [
    "eval_dataset.push(\"TestToolCalling Dataset\")"
   ]
  },
  {
   "cell_type": "markdown",
   "id": "cb2feec5",
   "metadata": {},
   "source": [
    "### Creating LLMTestCase and Invoking the AI Agent"
   ]
  },
  {
   "cell_type": "code",
   "execution_count": null,
   "id": "1802659a",
   "metadata": {},
   "outputs": [
    {
     "name": "stdout",
     "output_type": "stream",
     "text": [
      "\n",
      "\n",
      "\u001b[1m> Entering new AgentExecutor chain...\u001b[0m\n",
      "\u001b[32;1m\u001b[1;3m<think>\n",
      "Okay, let's see. The user started with $35. They spent $20, so first I need to subtract 20 from 35. That would leave them with $15. But then there's a 10% cashback. Wait, cashback on the spent amount or the remaining? Usually, cashback is on the amount spent. So 10% of $20 is $2. So adding that back to the remaining $15 would give $17. Let me check the steps again. Subtract 20 from 35, then add 10% of 20. So 35 - 20 = 15, then 20 * 0.10 = 2. 15 + 2 = 17. So the final amount should be $17.\n",
      "</think>\n",
      "\n",
      "Thought: I need to calculate the remaining money after spending and adding the cashback. First, subtract the spent amount from the initial amount, then add the cashback which is 10% of the spent amount.\n",
      "\n",
      "Action:\n",
      "```\n",
      "{\n",
      "  \"action\": \"subtract_numbers\",\n",
      "  \"action_input\": {\n",
      "    \"a\": 35,\n",
      "    \"b\": 20\n",
      "  }\n",
      "}\n",
      "```\n",
      "\n",
      "\u001b[0m\n",
      "Observation: \u001b[33;1m\u001b[1;3m15\u001b[0m\n",
      "Thought:\u001b[32;1m\u001b[1;3m<think>\n",
      "Okay, so the user had $35 and spent $20. After subtracting, they have $15 left. Now, the cashback is 10% of the spent amount, which was $20. So 10% of 20 is $2. I need to add that back to the remaining $15. Let me calculate that.\n",
      "\n",
      "Action:\n",
      "```\n",
      "{\n",
      "  \"action\": \"multiply_numbers\",\n",
      "  \"action_input\": {\n",
      "    \"a\": 20,\n",
      "    \"b\": 0.10\n",
      "  }\n",
      "}\n",
      "```\n",
      "\n",
      "\n",
      "\u001b[0m\n",
      "Observation: \u001b[38;5;200m\u001b[1;3m2.0\u001b[0m\n",
      "Thought:\u001b[32;1m\u001b[1;3m<think>\n",
      "Okay, so the user spent $20 and got a 10% cashback. I calculated the cashback as 10% of 20, which is $2. Now, I need to add that $2 back to the remaining money after the purchase. Earlier, subtracting $20 from $35 left them with $15. Adding the $2 cashback to $15 gives a total of $17. Let me make sure I didn't mix up any steps here. The cashback is on the spent amount, so it's correct to add 10% of 20 to the remaining 15. Yep, that seems right. So the final answer should be $17.\n",
      "\n",
      "Action:\n",
      "```\n",
      "{\n",
      "  \"action\": \"add_numbers\",\n",
      "  \"action_input\": {\n",
      "    \"a\": 15,\n",
      "    \"b\": 2\n",
      "  }\n",
      "}\n",
      "```\n",
      "\n",
      "\n",
      "\u001b[0m\n",
      "Observation: \u001b[36;1m\u001b[1;3m17\u001b[0m\n",
      "Thought:\u001b[32;1m\u001b[1;3m<think>\n",
      "Okay, let me go through this step by step. The user started with $35. They spent $20, so subtracting that from 35 gives $15. Then, they received a 10% cashback on the $20 spent. Calculating 10% of 20 is $2. Adding that back to the $15 they had left after the purchase gives $17. So the final amount they have left is $17. I think that's correct. Let me double-check the calculations. 35 minus 20 is definitely 15. 10% of 20 is 2. Adding 15 and 2 gives 17. Yep, that all adds up. No steps seem missed here. The cashback is applied correctly on the spent amount, not the remaining balance. So the answer should be $17.\n",
      "</think>\n",
      "\n",
      "Action:\n",
      "```\n",
      "{\n",
      "  \"action\": \"Final Answer\",\n",
      "  \"action_input\": \"You have $17 left.\"\n",
      "}\n",
      "```\u001b[0m\n",
      "\n",
      "\u001b[1m> Finished chain.\u001b[0m\n",
      "subtract_numbers\n",
      "{'a': 35, 'b': 20}\n",
      "15\n",
      "multiply_numbers\n",
      "{'a': 20, 'b': 0.1}\n",
      "2.0\n",
      "add_numbers\n",
      "{'a': 15, 'b': 2}\n",
      "17\n"
     ]
    }
   ],
   "source": [
    "def query_agent(question):\n",
    "    \n",
    "    response = agent.invoke(question)\n",
    "    intermidiate_steps = response['intermediate_steps']\n",
    "\n",
    "    for agent_action, result in intermidiate_steps:\n",
    "        \n",
    "        tool = agent_action.tool\n",
    "        tool_input = agent_action.tool_input\n",
    "        tool_output = result\n",
    "\n",
    "        print(tool)\n",
    "        print(tool_input)\n",
    "        print(tool_output)\n",
    "        \n",
    "        return tool, tool_input, tool_output\n",
    "        \n",
    "query_agent(question=\"I had 35 dollars. I spent 20 & got a 10 percent cashback, how much do I have left?\")\n"
   ]
  }
 ],
 "metadata": {
  "kernelspec": {
   "display_name": "myenvLangchain",
   "language": "python",
   "name": "myenvlangchain"
  },
  "language_info": {
   "codemirror_mode": {
    "name": "ipython",
    "version": 3
   },
   "file_extension": ".py",
   "mimetype": "text/x-python",
   "name": "python",
   "nbconvert_exporter": "python",
   "pygments_lexer": "ipython3",
   "version": "3.12.2"
  }
 },
 "nbformat": 4,
 "nbformat_minor": 5
}
