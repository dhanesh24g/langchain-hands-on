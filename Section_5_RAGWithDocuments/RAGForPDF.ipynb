{
 "cells": [
  {
   "cell_type": "markdown",
   "id": "2fdb1463",
   "metadata": {},
   "source": [
    "## RAG with PDF Data Extraction | Provide Context to LLM"
   ]
  },
  {
   "cell_type": "markdown",
   "id": "0422a963",
   "metadata": {},
   "source": [
    "### Load the ENV file"
   ]
  },
  {
   "cell_type": "code",
   "execution_count": 1,
   "id": "d4121907",
   "metadata": {},
   "outputs": [
    {
     "data": {
      "text/plain": [
       "True"
      ]
     },
     "execution_count": 1,
     "metadata": {},
     "output_type": "execute_result"
    }
   ],
   "source": [
    "from dotenv import load_dotenv\n",
    "\n",
    "load_dotenv(override=True)\n",
    "load_dotenv('./../.env')"
   ]
  },
  {
   "cell_type": "markdown",
   "id": "7f9818c1",
   "metadata": {},
   "source": [
    "### Load the LLM"
   ]
  },
  {
   "cell_type": "code",
   "execution_count": 2,
   "id": "48add113",
   "metadata": {},
   "outputs": [],
   "source": [
    "from langchain_ollama import OllamaLLM\n",
    "\n",
    "llm = OllamaLLM(\n",
    "    base_url=\"http://localhost:11434\",\n",
    "    model=\"qwen3:latest\",\n",
    "    temperature=0.5,\n",
    "    max_tokens=300\n",
    ")"
   ]
  },
  {
   "cell_type": "code",
   "execution_count": 3,
   "id": "3e29c704",
   "metadata": {},
   "outputs": [],
   "source": [
    "#%pip install -U langchain-community pypdf"
   ]
  },
  {
   "cell_type": "markdown",
   "id": "c23f31b3",
   "metadata": {},
   "source": [
    "### 1. Extracting the PDF Files"
   ]
  },
  {
   "cell_type": "code",
   "execution_count": 4,
   "id": "d5b7785c",
   "metadata": {},
   "outputs": [],
   "source": [
    "from langchain_community.document_loaders import PyPDFLoader\n",
    "\n",
    "pdf1 = \"./Dhanesh_EP_Letter_Nityo.pdf\"\n",
    "pdf2 = \"./Parveen_EP_Letter.pdf\"\n",
    "pdf3 = \"./Dhanesh_EP_Letter_NTT.pdf\"\n",
    "\n",
    "pdfFiles = [pdf1, pdf2, pdf3]\n",
    "\n",
    "documents = []\n",
    "\n",
    "for files in pdfFiles:\n",
    "    loader = PyPDFLoader(files)\n",
    "\n",
    "    \"\"\" \n",
    "    documents.append(loader.load()) would add each PDF document at a distinct index. \n",
    "    Meaning, documents[0] will have the 1st PDF document, documents[1] will have the 2nd PDF, & so on.\n",
    "    \"\"\"\n",
    "    \n",
    "    \"\"\" \n",
    "    documents.extend(loader.load()) would store each PDF page at a distinct index in documents.\n",
    "    Meaning, documents[0] will have the 1st page of 1st PDF, & so on.\n",
    "    \"\"\"\n",
    "    documents.extend(loader.load())\n"
   ]
  },
  {
   "cell_type": "markdown",
   "id": "69128834",
   "metadata": {},
   "source": [
    "### 2. Text Splitting"
   ]
  },
  {
   "cell_type": "code",
   "execution_count": 5,
   "id": "9c4d33b4",
   "metadata": {},
   "outputs": [
    {
     "name": "stdout",
     "output_type": "stream",
     "text": [
      "120\n"
     ]
    }
   ],
   "source": [
    "from langchain_text_splitters import RecursiveCharacterTextSplitter\n",
    "\n",
    "text_splitter = RecursiveCharacterTextSplitter(chunk_size=600, chunk_overlap=150, add_start_index=True)\n",
    "\n",
    "all_splits = text_splitter.split_documents(documents)\n",
    "\n",
    "print(len(all_splits))"
   ]
  },
  {
   "cell_type": "markdown",
   "id": "fe54413b",
   "metadata": {},
   "source": [
    "### 3. Embedding the Splits into Vectors"
   ]
  },
  {
   "cell_type": "code",
   "execution_count": 6,
   "id": "4ec2a06f",
   "metadata": {},
   "outputs": [
    {
     "data": {
      "text/plain": [
       "OllamaEmbeddings(model='qwen3:latest', base_url='http://localhost:11434', client_kwargs={}, async_client_kwargs={}, sync_client_kwargs={}, mirostat=None, mirostat_eta=None, mirostat_tau=None, num_ctx=None, num_gpu=None, keep_alive=None, num_thread=None, repeat_last_n=None, repeat_penalty=None, temperature=0.5, stop=None, tfs_z=None, top_k=None, top_p=None)"
      ]
     },
     "execution_count": 6,
     "metadata": {},
     "output_type": "execute_result"
    }
   ],
   "source": [
    "from langchain_ollama import OllamaEmbeddings\n",
    "\n",
    "embeddings = OllamaEmbeddings(base_url= \"http://localhost:11434\", model=\"qwen3:latest\", temperature=0.5)\n",
    "\n",
    "embeddings"
   ]
  },
  {
   "cell_type": "markdown",
   "id": "0d4b1214",
   "metadata": {},
   "source": [
    "### 4. Vector Stores"
   ]
  },
  {
   "cell_type": "code",
   "execution_count": 7,
   "id": "1212a47b",
   "metadata": {},
   "outputs": [],
   "source": [
    "#%pip install -qU langchain-chroma"
   ]
  },
  {
   "cell_type": "code",
   "execution_count": 8,
   "id": "9e68d5b7",
   "metadata": {},
   "outputs": [],
   "source": [
    "from langchain_chroma import Chroma\n",
    "\n",
    "vector_store = Chroma.from_documents(\n",
    "    documents=all_splits,\n",
    "    persist_directory=\"./chroma_db\",  # Where to save data locally\n",
    "    embedding=embeddings,             # Embeddings created in step 3\n",
    ")"
   ]
  },
  {
   "cell_type": "markdown",
   "id": "7be82489",
   "metadata": {},
   "source": [
    "### 5. Retrieve from the Persistent Vector DataStore"
   ]
  },
  {
   "cell_type": "code",
   "execution_count": 9,
   "id": "4a2b8b0b",
   "metadata": {},
   "outputs": [
    {
     "name": "stdout",
     "output_type": "stream",
     "text": [
      "./Dhanesh_EP_Letter_Nityo.pdf\n",
      "./Parveen_EP_Letter.pdf\n",
      "./Dhanesh_EP_Letter_NTT.pdf\n",
      "./Parveen_EP_Letter.pdf\n",
      "./Dhanesh_EP_Letter_Nityo.pdf\n"
     ]
    }
   ],
   "source": [
    "vector_store = Chroma(\n",
    "    persist_directory='./chroma_db', \n",
    "    embedding_function=embeddings\n",
    ")\n",
    "\n",
    "result = vector_store.similarity_search(\"Full name of Parveen\", k=5)\n",
    "\n",
    "for doc in result:\n",
    "    print(doc.metadata[\"source\"])\n"
   ]
  },
  {
   "cell_type": "code",
   "execution_count": 10,
   "id": "141fd8a7",
   "metadata": {},
   "outputs": [
    {
     "data": {
      "text/plain": [
       "[(Document(id='cdc1f0df-cdee-470d-8bf6-22f4274d45c7', metadata={'creationdate': '2021-06-25T06:00:00+00:00', 'source': './Parveen_EP_Letter.pdf', 'total_pages': 8, 'title': 'MS Employer IPA Letter', 'start_index': 1070, 'page': 1, 'moddate': '2023-12-06T23:11:54+08:00', 'page_label': '2', 'creator': 'Microsoft Office Word', 'producer': 'PDFsharp 1.50.5147 (www.pdfsharp.com) (Original: Aspose.Words for .NET 18.7)'}, page_content='fee will be charged. \\n \\n \\n \\n \\n \\n \\n \\n \\n \\n \\nSend them a copy of their employment contract \\nThe contract should state their salary and other terms of employment, such as how much home leave they \\nare allowed and any monthly allowances and/or deductions. \\n  \\n \\n \\n \\n \\n \\n \\n \\n \\n \\n \\n \\n \\n \\nTell us of any change in their address using myMOM Portal \\n10 PARI DEDAP WALK \\n#12-17 TANAMERA CREST \\nSingapore 486062 \\n \\nLogin to myMOM Portal to ask for their Employment Pass to be issued. This will cost S$225.'),\n",
       "  0.249220609664917),\n",
       " (Document(id='58cf914a-2367-4e56-b3ba-4cb4c29f3795', metadata={'total_pages': 8, 'source': './Parveen_EP_Letter.pdf', 'page_label': '2', 'start_index': 525, 'creator': 'Microsoft Office Word', 'producer': 'PDFsharp 1.50.5147 (www.pdfsharp.com) (Original: Aspose.Words for .NET 18.7)', 'title': 'MS Employer IPA Letter', 'moddate': '2023-12-06T23:11:54+08:00', 'creationdate': '2021-06-25T06:00:00+00:00', 'page': 1}, page_content=\"IPA – Application M4286308K | 29 NOV 2023 EMPLOYER’S COPY\\nWhat you need to do to get the Employment Pass issued: \\n \\nNext Steps \\n Check the particulars \\nFOREIGNER'S NAME  \\nSHAIKH PARVEEN DAUD \\nFIN \\nM4286308K \\nDATE OF BIRTH \\n16 MAR 1995 \\nTRAVEL DOCUMENT NUMBER \\nR4448979 \\nNATIONALITY/CITIZENSHIP \\nINDIAN \\nSEX \\nFEMALE \\nDATE OF APPLICATION \\n29 NOV 2023 \\nOCCUPATION \\nSOFTWARE DEVELOPER \\n \\n Send them the foreigner’s copy of the IPA letter. \\nIf they do not have a separate visa, they will need this whole letter as a visa to enter Singapore – A S$30 \\nfee will be charged.\"),\n",
       "  0.25565293431282043),\n",
       " (Document(id='170aceb2-5a4e-46d4-9cdd-8af57e95bf14', metadata={'moddate': '2023-12-06T23:11:54+08:00', 'producer': 'PDFsharp 1.50.5147 (www.pdfsharp.com) (Original: Aspose.Words for .NET 18.7)', 'creator': 'Microsoft Office Word', 'start_index': 893, 'total_pages': 8, 'source': './Parveen_EP_Letter.pdf', 'title': 'MS Employer IPA Letter', 'page_label': '5', 'creationdate': '2021-06-25T06:00:00+00:00', 'page': 4}, page_content='Name of Employer  OVERSEA-CHINESE \\nBANKING \\nCORPORATION \\nLIMITED \\nBasic Monthly Salary S$8,000 \\nOccupation Software Developer Allowances S$0 \\n  Fixed Monthly Salary S$8,000'),\n",
       "  0.26672792434692383),\n",
       " (Document(id='561f4a3e-8342-43ea-9dd6-63f5c76da668', metadata={'title': 'MS Employer IPA Letter', 'start_index': 0, 'total_pages': 8, 'producer': 'PDFsharp 1.50.5147 (www.pdfsharp.com) (Original: Aspose.Words for .NET 18.7)', 'creator': 'Microsoft Office Word', 'source': './Parveen_EP_Letter.pdf', 'creationdate': '2021-06-25T06:00:00+00:00', 'moddate': '2023-12-06T23:11:54+08:00', 'page': 4, 'page_label': '5'}, page_content='DATE  OF   APPLICATION \\n29 NOV 2023 \\nFIN \\nM4286308K \\nNAME \\nSHAIKH PARVEEN DAUD \\n \\nMinistry of Manpower Work Pass Division \\nWeb http://www.mom.gov.sg        Contact Us http://www.mom.gov.sg/contact              Page 5 of 8 \\nDECLARATION FORMIPA – Application M4286308K | 29 NOV 2023\\nTo be signed by the various \\nparties and uploaded when \\nyou issue the Employment \\nPass \\n  \\nPart I. Foreigner’s Details and Employment \\nPersonal Particulars \\nName SHAIKH PARVEEN \\nDAUD \\nDate of Birth 16 Mar 1995 \\nTravel Document Number R4448979 Nationality/Citizenship Indian \\nTravel Document Expiry \\nDate'),\n",
       "  0.27519986033439636)]"
      ]
     },
     "execution_count": 10,
     "metadata": {},
     "output_type": "execute_result"
    }
   ],
   "source": [
    "result = vector_store.similarity_search_with_score(\"Full name of Parveen?\", k=4)\n",
    "\n",
    "result"
   ]
  },
  {
   "cell_type": "markdown",
   "id": "34a24aad",
   "metadata": {},
   "source": [
    "### 6. Retriever Interface in Langchain"
   ]
  },
  {
   "cell_type": "code",
   "execution_count": 11,
   "id": "2ec311f2",
   "metadata": {},
   "outputs": [
    {
     "data": {
      "text/plain": [
       "[[Document(id='cdc1f0df-cdee-470d-8bf6-22f4274d45c7', metadata={'source': './Parveen_EP_Letter.pdf', 'start_index': 1070, 'creationdate': '2021-06-25T06:00:00+00:00', 'creator': 'Microsoft Office Word', 'page': 1, 'moddate': '2023-12-06T23:11:54+08:00', 'total_pages': 8, 'producer': 'PDFsharp 1.50.5147 (www.pdfsharp.com) (Original: Aspose.Words for .NET 18.7)', 'page_label': '2', 'title': 'MS Employer IPA Letter'}, page_content='fee will be charged. \\n \\n \\n \\n \\n \\n \\n \\n \\n \\n \\nSend them a copy of their employment contract \\nThe contract should state their salary and other terms of employment, such as how much home leave they \\nare allowed and any monthly allowances and/or deductions. \\n  \\n \\n \\n \\n \\n \\n \\n \\n \\n \\n \\n \\n \\n \\nTell us of any change in their address using myMOM Portal \\n10 PARI DEDAP WALK \\n#12-17 TANAMERA CREST \\nSingapore 486062 \\n \\nLogin to myMOM Portal to ask for their Employment Pass to be issued. This will cost S$225.'),\n",
       "  Document(id='58cf914a-2367-4e56-b3ba-4cb4c29f3795', metadata={'start_index': 525, 'moddate': '2023-12-06T23:11:54+08:00', 'creator': 'Microsoft Office Word', 'source': './Parveen_EP_Letter.pdf', 'page_label': '2', 'title': 'MS Employer IPA Letter', 'page': 1, 'creationdate': '2021-06-25T06:00:00+00:00', 'producer': 'PDFsharp 1.50.5147 (www.pdfsharp.com) (Original: Aspose.Words for .NET 18.7)', 'total_pages': 8}, page_content=\"IPA – Application M4286308K | 29 NOV 2023 EMPLOYER’S COPY\\nWhat you need to do to get the Employment Pass issued: \\n \\nNext Steps \\n Check the particulars \\nFOREIGNER'S NAME  \\nSHAIKH PARVEEN DAUD \\nFIN \\nM4286308K \\nDATE OF BIRTH \\n16 MAR 1995 \\nTRAVEL DOCUMENT NUMBER \\nR4448979 \\nNATIONALITY/CITIZENSHIP \\nINDIAN \\nSEX \\nFEMALE \\nDATE OF APPLICATION \\n29 NOV 2023 \\nOCCUPATION \\nSOFTWARE DEVELOPER \\n \\n Send them the foreigner’s copy of the IPA letter. \\nIf they do not have a separate visa, they will need this whole letter as a visa to enter Singapore – A S$30 \\nfee will be charged.\")],\n",
       " [Document(id='cdc1f0df-cdee-470d-8bf6-22f4274d45c7', metadata={'creator': 'Microsoft Office Word', 'creationdate': '2021-06-25T06:00:00+00:00', 'start_index': 1070, 'page_label': '2', 'source': './Parveen_EP_Letter.pdf', 'moddate': '2023-12-06T23:11:54+08:00', 'title': 'MS Employer IPA Letter', 'producer': 'PDFsharp 1.50.5147 (www.pdfsharp.com) (Original: Aspose.Words for .NET 18.7)', 'page': 1, 'total_pages': 8}, page_content='fee will be charged. \\n \\n \\n \\n \\n \\n \\n \\n \\n \\n \\nSend them a copy of their employment contract \\nThe contract should state their salary and other terms of employment, such as how much home leave they \\nare allowed and any monthly allowances and/or deductions. \\n  \\n \\n \\n \\n \\n \\n \\n \\n \\n \\n \\n \\n \\n \\nTell us of any change in their address using myMOM Portal \\n10 PARI DEDAP WALK \\n#12-17 TANAMERA CREST \\nSingapore 486062 \\n \\nLogin to myMOM Portal to ask for their Employment Pass to be issued. This will cost S$225.'),\n",
       "  Document(id='58cf914a-2367-4e56-b3ba-4cb4c29f3795', metadata={'source': './Parveen_EP_Letter.pdf', 'producer': 'PDFsharp 1.50.5147 (www.pdfsharp.com) (Original: Aspose.Words for .NET 18.7)', 'title': 'MS Employer IPA Letter', 'creationdate': '2021-06-25T06:00:00+00:00', 'creator': 'Microsoft Office Word', 'total_pages': 8, 'start_index': 525, 'page': 1, 'moddate': '2023-12-06T23:11:54+08:00', 'page_label': '2'}, page_content=\"IPA – Application M4286308K | 29 NOV 2023 EMPLOYER’S COPY\\nWhat you need to do to get the Employment Pass issued: \\n \\nNext Steps \\n Check the particulars \\nFOREIGNER'S NAME  \\nSHAIKH PARVEEN DAUD \\nFIN \\nM4286308K \\nDATE OF BIRTH \\n16 MAR 1995 \\nTRAVEL DOCUMENT NUMBER \\nR4448979 \\nNATIONALITY/CITIZENSHIP \\nINDIAN \\nSEX \\nFEMALE \\nDATE OF APPLICATION \\n29 NOV 2023 \\nOCCUPATION \\nSOFTWARE DEVELOPER \\n \\n Send them the foreigner’s copy of the IPA letter. \\nIf they do not have a separate visa, they will need this whole letter as a visa to enter Singapore – A S$30 \\nfee will be charged.\")],\n",
       " [Document(id='caba0d3d-443f-46a1-97c4-450bbc7bc7e7', metadata={'page': 10, 'creationdate': '2019-05-31T11:13:58+08:00', 'total_pages': 13, 'producer': 'iText 2.1.0 (by lowagie.com)', 'source': './Dhanesh_EP_Letter_NTT.pdf', 'creator': 'PyPDF', 'start_index': 0, 'page_label': '11', 'moddate': '2019-05-31T11:13:58+08:00'}, page_content='A\\nIPA - Employment Pass G3872158K / 17 May 2019\\nGUJRATHI DHANESH NARESH\\nNTT DATA SINGAPORE PTE. LTD.\\n10 HOE CHIANG ROAD\\n#16-01\\nSINGAPORE 089315\\n30 May 2019 *G3872158K17052019*\\nYour application\\nis approved\\nDear GUJRATHI DHANESH NARESH,\\nWe are pleased to inform you that your Employment Pass \\napplication has been approved. We look forward to welcoming \\nyou to Singapore.\\nThis letter serves as a single journey visa to enter Singapore. \\nYou need to show the entire letter to Immigration.\\nYour employer must ask for your Employment Pass to be issued'),\n",
       "  Document(id='1518b93f-0117-466e-af27-2981b30a676b', metadata={'total_pages': 13, 'creator': 'PyPDF', 'producer': 'iText 2.1.0 (by lowagie.com)', 'start_index': 2316, 'page_label': '8', 'page': 7, 'moddate': '2019-05-31T11:13:58+08:00', 'source': './Dhanesh_EP_Letter_NTT.pdf', 'creationdate': '2019-05-31T11:13:58+08:00'}, page_content=\"with any person, organisation or any other source; and further,\\n● to the release of all information thereby obtained to the Government of Singapore, statutory authorities \\nand their agents thereof.\\nI consent to the Ministry of Manpower displaying pass details when the pass holder's card is scanned \\nusing the Ministry of Manpower's work pass mobile application.\\nI declare that the information in this Application for a Employment Pass, Declaration Form and any appeals \\nare, to the best of my knowledge, true and correct; and that all documents submitted in support for this\")]]"
      ]
     },
     "execution_count": 11,
     "metadata": {},
     "output_type": "execute_result"
    }
   ],
   "source": [
    "retriever = vector_store.as_retriever(\n",
    "    search_type=\"similarity\",\n",
    "    search_kwargs={\"k\": 2}\n",
    ")\n",
    "\n",
    "retriever.batch(\n",
    "    [\n",
    "        \"What is full name of Parveen?\",\n",
    "        \"What is full name of Dhanesh?\",\n",
    "        \"Can Dhanesh enter Singapore with the IPA\"\n",
    "    ]\n",
    ")"
   ]
  },
  {
   "cell_type": "markdown",
   "id": "8a8ba8b0",
   "metadata": {},
   "source": [
    "### Manual Document Retrieval"
   ]
  },
  {
   "cell_type": "code",
   "execution_count": 12,
   "id": "bd886019",
   "metadata": {},
   "outputs": [
    {
     "name": "stdout",
     "output_type": "stream",
     "text": [
      "<think>\n",
      "Okay, let's see. The user is asking for the full name of Parveen. I need to check the provided context to find any mention of Parveen.\n",
      "\n",
      "Looking through the context, there's a lot of information about an Employment Pass, including the foreign employee's name, which is Gujrathi Dhanesh Naresh. The rest of the document includes details like date of birth, nationality, passport number, etc. \n",
      "\n",
      "Wait, the question is about Parveen, but the context only mentions Gujrathi Dhanesh Naresh. There's no mention of Parveen anywhere in the provided text. The user might have a typo or be referring to someone else. Since the context doesn't have any information about Parveen, I should inform them that the answer isn't available here.\n",
      "</think>\n",
      "\n",
      "The context provided does not mention anyone named Parveen. The only full name listed in the document is **Gujrathi Dhanesh Naresh**. If you are looking for information about Parveen, there is no data available in the given text. \n",
      "\n",
      "**Answer:** The full name of Parveen is not mentioned in the provided context.\n"
     ]
    }
   ],
   "source": [
    "from langchain_core.output_parsers import StrOutputParser\n",
    "from langchain_core.prompts import ChatPromptTemplate\n",
    "\n",
    "# query = \"Which organisation is hiring Dhanesh\"\n",
    "# query = \"Which pass is issued to Dhanesh\"\n",
    "query = \"What is the full name of Parveen\"\n",
    "# query = \"What is the full name of Dhanesh\"\n",
    "# query = \"What do you know about PARVEEN?\"\n",
    "# query = \"Tell me genders of Dhanesh & Parveen\"\n",
    "# query = \"Who is the first Prime minister of India\"\n",
    "\n",
    "retrieved_doc = retriever.invoke(query)\n",
    "\n",
    "context_text = \"\\n\\n\".join([doc.page_content for doc in retrieved_doc])\n",
    "\n",
    "prompt = ChatPromptTemplate.from_template(\n",
    "\n",
    "    \"\"\"\n",
    "    You are an AI assistant. Make use of the following context fully to answer the question correctly.\n",
    "    If you do not know the answer, then tell that, I do not know.\n",
    "\n",
    "    \"context: {context} \\n\\n\"\n",
    "    \"question: {question} \\n\\n\"\n",
    "    \"AI Answer: \n",
    "\n",
    "    \"\"\"\n",
    ")\n",
    "\n",
    "chain = prompt | llm | StrOutputParser()\n",
    "\n",
    "response = chain.invoke({\"context\": context_text, \"question\": query})\n",
    "\n",
    "print(response)\n"
   ]
  },
  {
   "cell_type": "markdown",
   "id": "8c5b461e",
   "metadata": {},
   "source": [
    "###  Data Retrieval using Langchain HUB"
   ]
  },
  {
   "cell_type": "code",
   "execution_count": 13,
   "id": "3c2cda7f",
   "metadata": {},
   "outputs": [
    {
     "name": "stdout",
     "output_type": "stream",
     "text": [
      "<think>\n",
      "Okay, let's see. The user is asking for the full name of Parveen as mentioned in the letter. I need to check the provided context to find any reference to Parveen.\n",
      "\n",
      "Looking through the context, there's a section with \"FOREIGN EMPLOYEE'S NAME\" followed by \"GUJRATHI DHANESH NARESH\". The name here is Gujrathi Dhanesh Naresh. There's also a mention of \"Gujrathi Dhanesh Naresh\" in the details below. The rest of the document talks about employment pass details, dates, and other forms, but I don't see the name Parveen anywhere. The user might have confused the name or there's a possibility that Parveen isn't mentioned here. Since the context doesn't include Parveen, the answer should state that the full name isn't found in the provided information.\n",
      "</think>\n",
      "\n",
      "The full name of Parveen is not mentioned in the provided context. The document references \"Gujrathi Dhanesh Naresh\" as the foreign employee's name. No other names, including Parveen, are listed in the retrieved information.\n"
     ]
    }
   ],
   "source": [
    "from langchain import hub\n",
    "\n",
    "# query = \"Tell me genders of Dhanesh & Parveen\"\n",
    "# query = \"Which pass is issued to SHAIKH PARVEEN\"\n",
    "# query = \"What do you know about PARVEEN?\"\n",
    "# query = \"Which 2 organisations offered job to Dhanesh\"\n",
    "query = \"What is the full name of Parveen. It is mentioned in the letter.\"\n",
    "# query = \"Which country is Dhanesh allowed to travel\"\n",
    "# query = \"Who is the first Prime minister of India\"\n",
    "\n",
    "# https://smith.langchain.com/hub/rlm/rag-prompt?organizationId=80099dc1-c38a-4ffb-b825-09b2ecbb562f\n",
    "\n",
    "prompt = hub.pull(\"rlm/rag-prompt\")\n",
    "\n",
    "chain = prompt | llm | StrOutputParser()\n",
    "\n",
    "response = chain.invoke({\"context\": context_text, \"question\": query})\n",
    "\n",
    "print(response)"
   ]
  },
  {
   "cell_type": "markdown",
   "id": "7e7e912c",
   "metadata": {},
   "source": [
    "### Data Retrieval using RetrievalQA"
   ]
  },
  {
   "cell_type": "code",
   "execution_count": 14,
   "id": "92aa1d53",
   "metadata": {},
   "outputs": [
    {
     "name": "stdout",
     "output_type": "stream",
     "text": [
      "{'query': 'Full name of Dhanesh?', 'result': '<think>\\nOkay, let\\'s see. The user is asking for the full name of Dhanesh. I need to check the provided context to find any mention of Dhanesh.\\n\\nLooking through the text, the main content is about an Employment Pass application for someone named Shaikh Parveen Daud. There\\'s information about the IPA letter, fees, contract details, and address. The only names mentioned are Shaikh Parveen Daud, and possibly others like the employer\\'s address. \\n\\nWait, the user wrote \"Dhanesh\" but the context has \"Shaikh Parveen Daud\". Maybe there\\'s a typo? Or perhaps Dhanesh is another person mentioned? Let me check again. The context includes the foreigner\\'s name as Shaikh Parveen Daud, and the rest is about the application process. There\\'s no mention of Dhanesh anywhere. \\n\\nThe user might have made a mistake in the name, or maybe it\\'s a different person not covered in the context. Since the context doesn\\'t have any information about Dhanesh, the correct answer is that I don\\'t know.\\n</think>\\n\\nI don\\'t know.', 'source_documents': [Document(id='cdc1f0df-cdee-470d-8bf6-22f4274d45c7', metadata={'creator': 'Microsoft Office Word', 'page_label': '2', 'source': './Parveen_EP_Letter.pdf', 'title': 'MS Employer IPA Letter', 'creationdate': '2021-06-25T06:00:00+00:00', 'moddate': '2023-12-06T23:11:54+08:00', 'producer': 'PDFsharp 1.50.5147 (www.pdfsharp.com) (Original: Aspose.Words for .NET 18.7)', 'total_pages': 8, 'page': 1, 'start_index': 1070}, page_content='fee will be charged. \\n \\n \\n \\n \\n \\n \\n \\n \\n \\n \\nSend them a copy of their employment contract \\nThe contract should state their salary and other terms of employment, such as how much home leave they \\nare allowed and any monthly allowances and/or deductions. \\n  \\n \\n \\n \\n \\n \\n \\n \\n \\n \\n \\n \\n \\n \\nTell us of any change in their address using myMOM Portal \\n10 PARI DEDAP WALK \\n#12-17 TANAMERA CREST \\nSingapore 486062 \\n \\nLogin to myMOM Portal to ask for their Employment Pass to be issued. This will cost S$225.'), Document(id='58cf914a-2367-4e56-b3ba-4cb4c29f3795', metadata={'total_pages': 8, 'moddate': '2023-12-06T23:11:54+08:00', 'page': 1, 'page_label': '2', 'creator': 'Microsoft Office Word', 'producer': 'PDFsharp 1.50.5147 (www.pdfsharp.com) (Original: Aspose.Words for .NET 18.7)', 'source': './Parveen_EP_Letter.pdf', 'title': 'MS Employer IPA Letter', 'start_index': 525, 'creationdate': '2021-06-25T06:00:00+00:00'}, page_content=\"IPA – Application M4286308K | 29 NOV 2023 EMPLOYER’S COPY\\nWhat you need to do to get the Employment Pass issued: \\n \\nNext Steps \\n Check the particulars \\nFOREIGNER'S NAME  \\nSHAIKH PARVEEN DAUD \\nFIN \\nM4286308K \\nDATE OF BIRTH \\n16 MAR 1995 \\nTRAVEL DOCUMENT NUMBER \\nR4448979 \\nNATIONALITY/CITIZENSHIP \\nINDIAN \\nSEX \\nFEMALE \\nDATE OF APPLICATION \\n29 NOV 2023 \\nOCCUPATION \\nSOFTWARE DEVELOPER \\n \\n Send them the foreigner’s copy of the IPA letter. \\nIf they do not have a separate visa, they will need this whole letter as a visa to enter Singapore – A S$30 \\nfee will be charged.\")]}\n"
     ]
    }
   ],
   "source": [
    "from langchain.chains import RetrievalQA\n",
    "\n",
    "custom_chain = RetrievalQA.from_chain_type(llm, retriever = retriever, return_source_documents = True)\n",
    "\n",
    "query = \"Full name of Dhanesh?\"\n",
    "\n",
    "response = custom_chain.invoke(query)\n",
    "\n",
    "print(response)"
   ]
  }
 ],
 "metadata": {
  "kernelspec": {
   "display_name": "myenvLangchain",
   "language": "python",
   "name": "python3"
  },
  "language_info": {
   "codemirror_mode": {
    "name": "ipython",
    "version": 3
   },
   "file_extension": ".py",
   "mimetype": "text/x-python",
   "name": "python",
   "nbconvert_exporter": "python",
   "pygments_lexer": "ipython3",
   "version": "3.12.2"
  }
 },
 "nbformat": 4,
 "nbformat_minor": 5
}
