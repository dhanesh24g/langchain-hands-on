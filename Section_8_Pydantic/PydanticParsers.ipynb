{
 "cells": [
  {
   "cell_type": "markdown",
   "id": "59ad9b4f",
   "metadata": {},
   "source": [
    "## Pydantic Output Parser"
   ]
  },
  {
   "cell_type": "code",
   "execution_count": 1,
   "id": "9fec8f91",
   "metadata": {},
   "outputs": [
    {
     "data": {
      "text/plain": [
       "True"
      ]
     },
     "execution_count": 1,
     "metadata": {},
     "output_type": "execute_result"
    }
   ],
   "source": [
    "from dotenv import load_dotenv\n",
    "\n",
    "load_dotenv(override=True)\n",
    "load_dotenv('./../.env')"
   ]
  },
  {
   "cell_type": "code",
   "execution_count": 2,
   "id": "fa9e3477",
   "metadata": {},
   "outputs": [],
   "source": [
    "from langchain_ollama import ChatOllama\n",
    "from langchain_core.prompts import PromptTemplate\n",
    "\n",
    "llm = ChatOllama(\n",
    "    base_url=\"http://localhost:11434\",\n",
    "    model=\"qwen3:latest\",\n",
    "    temperature=0.5,\n",
    "    max_tokens=300\n",
    ")"
   ]
  },
  {
   "cell_type": "markdown",
   "id": "a93d7cb8",
   "metadata": {},
   "source": [
    "### Import Pydantic Libraries"
   ]
  },
  {
   "cell_type": "code",
   "execution_count": 3,
   "id": "9a7b90e3",
   "metadata": {},
   "outputs": [],
   "source": [
    "from typing import Optional\n",
    "from pydantic import BaseModel, Field\n",
    "from langchain_core.output_parsers import PydanticOutputParser\n",
    "from langchain_core.runnables import chain\n",
    "from langchain_core.messages import AIMessage\n",
    "import re"
   ]
  },
  {
   "cell_type": "markdown",
   "id": "d111717a",
   "metadata": {},
   "source": [
    "### Create Joke class as extension of BaseModel"
   ]
  },
  {
   "cell_type": "code",
   "execution_count": 4,
   "id": "75e714a3",
   "metadata": {},
   "outputs": [],
   "source": [
    "class Joke(BaseModel):\n",
    "    \"\"\"Joke Model to Entertain the User\"\"\"\n",
    "    \n",
    "    setup: str = Field(description=\"The setup of the joke\")\n",
    "    punchline: str = Field(description=\"Punchline of the joke\")\n",
    "    rating: Optional[int] = Field(description=\"Rating of the joke, from 1 to 10\", examples=(5, 7))\n"
   ]
  },
  {
   "cell_type": "markdown",
   "id": "7ded8609",
   "metadata": {},
   "source": [
    "### Create Parser using the PydanticOutputParser"
   ]
  },
  {
   "cell_type": "code",
   "execution_count": 5,
   "id": "6ca051ed",
   "metadata": {},
   "outputs": [
    {
     "name": "stdout",
     "output_type": "stream",
     "text": [
      "The output should be formatted as a JSON instance that conforms to the JSON schema below.\n",
      "\n",
      "As an example, for the schema {\"properties\": {\"foo\": {\"title\": \"Foo\", \"description\": \"a list of strings\", \"type\": \"array\", \"items\": {\"type\": \"string\"}}}, \"required\": [\"foo\"]}\n",
      "the object {\"foo\": [\"bar\", \"baz\"]} is a well-formatted instance of the schema. The object {\"properties\": {\"foo\": [\"bar\", \"baz\"]}} is not well-formatted.\n",
      "\n",
      "Here is the output schema:\n",
      "```\n",
      "{\"description\": \"Joke Model to Entertain the User\", \"properties\": {\"setup\": {\"description\": \"The setup of the joke\", \"title\": \"Setup\", \"type\": \"string\"}, \"punchline\": {\"description\": \"Punchline of the joke\", \"title\": \"Punchline\", \"type\": \"string\"}, \"rating\": {\"anyOf\": [{\"type\": \"integer\"}, {\"type\": \"null\"}], \"description\": \"Rating of the joke, from 1 to 10\", \"examples\": [5, 7], \"title\": \"Rating\"}}, \"required\": [\"setup\", \"punchline\", \"rating\"]}\n",
      "```\n"
     ]
    }
   ],
   "source": [
    "parser = PydanticOutputParser(pydantic_object=Joke)\n",
    "\n",
    "instruction = parser.get_format_instructions()\n",
    "\n",
    "print(instruction)"
   ]
  },
  {
   "cell_type": "markdown",
   "id": "536e22bd",
   "metadata": {},
   "source": [
    "### Provide LLM Input Prompt & Parse Response"
   ]
  },
  {
   "cell_type": "code",
   "execution_count": 6,
   "id": "338955e4",
   "metadata": {},
   "outputs": [
    {
     "name": "stdout",
     "output_type": "stream",
     "text": [
      "setup='Why did the cat bring a ladder to the party?' punchline='It heard the food was on the top shelf!' rating=7\n"
     ]
    },
    {
     "name": "stderr",
     "output_type": "stream",
     "text": [
      "Failed to send compressed multipart ingest: Connection error caused failure to POST https://api.smith.langchain.com/runs/multipart in LangSmith API. Please confirm your internet connection. ConnectionError(MaxRetryError('HTTPSConnectionPool(host=\\'api.smith.langchain.com\\', port=443): Max retries exceeded with url: /runs/multipart (Caused by NameResolutionError(\"<urllib3.connection.HTTPSConnection object at 0x10d0c6c60>: Failed to resolve \\'api.smith.langchain.com\\' ([Errno 8] nodename nor servname provided, or not known)\"))'))\n",
      "Content-Length: 1636\n",
      "API Key: lsv2_********************************************5ftrace=08a2d603-24d1-457a-870a-d6706f26d89b,id=08a2d603-24d1-457a-870a-d6706f26d89b; trace=08a2d603-24d1-457a-870a-d6706f26d89b,id=7ad01d6e-af16-442d-abac-8ddfd18aa55f; trace=08a2d603-24d1-457a-870a-d6706f26d89b,id=7ad01d6e-af16-442d-abac-8ddfd18aa55f; trace=08a2d603-24d1-457a-870a-d6706f26d89b,id=c553464e-826b-4835-bb16-03126380e89f\n",
      "Failed to send compressed multipart ingest: Connection error caused failure to POST https://api.smith.langchain.com/runs/multipart in LangSmith API. Please confirm your internet connection. ConnectionError(MaxRetryError('HTTPSConnectionPool(host=\\'api.smith.langchain.com\\', port=443): Max retries exceeded with url: /runs/multipart (Caused by NameResolutionError(\"<urllib3.connection.HTTPSConnection object at 0x10d0c4ce0>: Failed to resolve \\'api.smith.langchain.com\\' ([Errno 8] nodename nor servname provided, or not known)\"))'))\n",
      "Content-Length: 12866\n",
      "API Key: lsv2_********************************************5ftrace=08a2d603-24d1-457a-870a-d6706f26d89b,id=c553464e-826b-4835-bb16-03126380e89f; trace=08a2d603-24d1-457a-870a-d6706f26d89b,id=08a2d603-24d1-457a-870a-d6706f26d89b; trace=d487a2ea-b8e8-400f-90dd-75fb72c01f20,id=d487a2ea-b8e8-400f-90dd-75fb72c01f20; trace=d487a2ea-b8e8-400f-90dd-75fb72c01f20,id=3933075d-e1b9-4275-a615-4489a2709f40; trace=d487a2ea-b8e8-400f-90dd-75fb72c01f20,id=3933075d-e1b9-4275-a615-4489a2709f40; trace=d487a2ea-b8e8-400f-90dd-75fb72c01f20,id=11417f63-ffaa-4eac-ac41-e944f4c45a80; trace=d487a2ea-b8e8-400f-90dd-75fb72c01f20,id=11417f63-ffaa-4eac-ac41-e944f4c45a80; trace=d487a2ea-b8e8-400f-90dd-75fb72c01f20,id=d487a2ea-b8e8-400f-90dd-75fb72c01f20; trace=c22d6811-6708-49a7-92c2-514abc71dc0f,id=c22d6811-6708-49a7-92c2-514abc71dc0f; trace=c22d6811-6708-49a7-92c2-514abc71dc0f,id=2ad89928-a9f2-4ab0-b81b-29809b6aca51; trace=c22d6811-6708-49a7-92c2-514abc71dc0f,id=2ad89928-a9f2-4ab0-b81b-29809b6aca51; trace=c22d6811-6708-49a7-92c2-514abc71dc0f,id=8ef2370d-45b5-4eed-bb9d-dd67506cd0e8; trace=c22d6811-6708-49a7-92c2-514abc71dc0f,id=8ef2370d-45b5-4eed-bb9d-dd67506cd0e8; trace=c22d6811-6708-49a7-92c2-514abc71dc0f,id=f10f2734-8d9d-4c34-aacf-76e6ff7ecde1; trace=c22d6811-6708-49a7-92c2-514abc71dc0f,id=f10f2734-8d9d-4c34-aacf-76e6ff7ecde1; trace=c22d6811-6708-49a7-92c2-514abc71dc0f,id=c22d6811-6708-49a7-92c2-514abc71dc0f; trace=3313e3f8-c823-4bcf-b5ab-df2fc4b29b42,id=3313e3f8-c823-4bcf-b5ab-df2fc4b29b42; trace=3313e3f8-c823-4bcf-b5ab-df2fc4b29b42,id=b9ebe688-f7ae-4318-af1e-70234d6c567c; trace=3313e3f8-c823-4bcf-b5ab-df2fc4b29b42,id=b9ebe688-f7ae-4318-af1e-70234d6c567c; trace=3313e3f8-c823-4bcf-b5ab-df2fc4b29b42,id=05bb82a5-7446-407c-9168-1f67102138c0; trace=3313e3f8-c823-4bcf-b5ab-df2fc4b29b42,id=05bb82a5-7446-407c-9168-1f67102138c0; trace=3313e3f8-c823-4bcf-b5ab-df2fc4b29b42,id=06cec7f2-771e-4ee0-82cd-d382da592073; trace=3313e3f8-c823-4bcf-b5ab-df2fc4b29b42,id=06cec7f2-771e-4ee0-82cd-d382da592073; trace=3313e3f8-c823-4bcf-b5ab-df2fc4b29b42,id=3313e3f8-c823-4bcf-b5ab-df2fc4b29b42\n",
      "Failed to send compressed multipart ingest: Connection error caused failure to POST https://api.smith.langchain.com/runs/multipart in LangSmith API. Please confirm your internet connection. ConnectionError(MaxRetryError('HTTPSConnectionPool(host=\\'api.smith.langchain.com\\', port=443): Max retries exceeded with url: /runs/multipart (Caused by NameResolutionError(\"<urllib3.connection.HTTPSConnection object at 0x10d0bf5c0>: Failed to resolve \\'api.smith.langchain.com\\' ([Errno 8] nodename nor servname provided, or not known)\"))'))\n",
      "Content-Length: 1566\n",
      "API Key: lsv2_********************************************5ftrace=f1f7d1ec-848a-40fc-bc9b-9acd8fbdf0d3,id=f1f7d1ec-848a-40fc-bc9b-9acd8fbdf0d3; trace=f1f7d1ec-848a-40fc-bc9b-9acd8fbdf0d3,id=ff026469-8d37-4e75-a954-e5ae70256e63; trace=f1f7d1ec-848a-40fc-bc9b-9acd8fbdf0d3,id=ff026469-8d37-4e75-a954-e5ae70256e63; trace=f1f7d1ec-848a-40fc-bc9b-9acd8fbdf0d3,id=26ffb7f6-b354-42d7-b6b7-1a8969a4124e\n",
      "Failed to send compressed multipart ingest: Connection error caused failure to POST https://api.smith.langchain.com/runs/multipart in LangSmith API. Please confirm your internet connection. ConnectionError(MaxRetryError('HTTPSConnectionPool(host=\\'api.smith.langchain.com\\', port=443): Max retries exceeded with url: /runs/multipart (Caused by NameResolutionError(\"<urllib3.connection.HTTPSConnection object at 0x10ae6fb30>: Failed to resolve \\'api.smith.langchain.com\\' ([Errno 8] nodename nor servname provided, or not known)\"))'))\n",
      "Content-Length: 1758\n",
      "API Key: lsv2_********************************************5ftrace=e193e4e0-576a-408a-a1e1-bca0dab1d204,id=e193e4e0-576a-408a-a1e1-bca0dab1d204; trace=e193e4e0-576a-408a-a1e1-bca0dab1d204,id=a92ef9cf-7ba6-4cfd-aa15-965e0d08d23e; trace=e193e4e0-576a-408a-a1e1-bca0dab1d204,id=a92ef9cf-7ba6-4cfd-aa15-965e0d08d23e; trace=e193e4e0-576a-408a-a1e1-bca0dab1d204,id=67e9cc04-549a-46f7-b0a9-84707c80c2f4\n",
      "Failed to send compressed multipart ingest: Connection error caused failure to POST https://api.smith.langchain.com/runs/multipart in LangSmith API. Please confirm your internet connection. ConnectionError(MaxRetryError('HTTPSConnectionPool(host=\\'api.smith.langchain.com\\', port=443): Max retries exceeded with url: /runs/multipart (Caused by NameResolutionError(\"<urllib3.connection.HTTPSConnection object at 0x10d0bf110>: Failed to resolve \\'api.smith.langchain.com\\' ([Errno 8] nodename nor servname provided, or not known)\"))'))\n",
      "Content-Length: 8175\n",
      "API Key: lsv2_********************************************5ftrace=e193e4e0-576a-408a-a1e1-bca0dab1d204,id=67e9cc04-549a-46f7-b0a9-84707c80c2f4; trace=e193e4e0-576a-408a-a1e1-bca0dab1d204,id=e193e4e0-576a-408a-a1e1-bca0dab1d204; trace=7de2b6b9-2b3f-4fe5-a14a-6272ede51bfa,id=7de2b6b9-2b3f-4fe5-a14a-6272ede51bfa; trace=7de2b6b9-2b3f-4fe5-a14a-6272ede51bfa,id=cc2ef66c-e9e9-4f3c-a6ce-d147284f126f; trace=7de2b6b9-2b3f-4fe5-a14a-6272ede51bfa,id=cc2ef66c-e9e9-4f3c-a6ce-d147284f126f; trace=7de2b6b9-2b3f-4fe5-a14a-6272ede51bfa,id=71eac249-188a-4f8f-9664-d3adbea50c40; trace=7de2b6b9-2b3f-4fe5-a14a-6272ede51bfa,id=71eac249-188a-4f8f-9664-d3adbea50c40; trace=7de2b6b9-2b3f-4fe5-a14a-6272ede51bfa,id=d49547f2-1c37-4cf9-a294-c707927aa76b; trace=7de2b6b9-2b3f-4fe5-a14a-6272ede51bfa,id=d49547f2-1c37-4cf9-a294-c707927aa76b; trace=7de2b6b9-2b3f-4fe5-a14a-6272ede51bfa,id=7de2b6b9-2b3f-4fe5-a14a-6272ede51bfa\n",
      "Failed to send compressed multipart ingest: Connection error caused failure to POST https://api.smith.langchain.com/runs/multipart in LangSmith API. Please confirm your internet connection. ConnectionError(MaxRetryError('HTTPSConnectionPool(host=\\'api.smith.langchain.com\\', port=443): Max retries exceeded with url: /runs/multipart (Caused by NameResolutionError(\"<urllib3.connection.HTTPSConnection object at 0x10fd45e50>: Failed to resolve \\'api.smith.langchain.com\\' ([Errno 8] nodename nor servname provided, or not known)\"))'))\n",
      "Content-Length: 1568\n",
      "API Key: lsv2_********************************************5ftrace=2df220ee-8d06-4074-95fe-b59851032038,id=2df220ee-8d06-4074-95fe-b59851032038; trace=2df220ee-8d06-4074-95fe-b59851032038,id=69ba01a1-3338-400a-9800-06427dd77df1; trace=2df220ee-8d06-4074-95fe-b59851032038,id=69ba01a1-3338-400a-9800-06427dd77df1; trace=2df220ee-8d06-4074-95fe-b59851032038,id=55a38767-9132-4c7c-a4e0-9be98f47ad73\n",
      "Failed to send compressed multipart ingest: Connection error caused failure to POST https://api.smith.langchain.com/runs/multipart in LangSmith API. Please confirm your internet connection. ConnectionError(MaxRetryError('HTTPSConnectionPool(host=\\'api.smith.langchain.com\\', port=443): Max retries exceeded with url: /runs/multipart (Caused by NameResolutionError(\"<urllib3.connection.HTTPSConnection object at 0x10fd47140>: Failed to resolve \\'api.smith.langchain.com\\' ([Errno 8] nodename nor servname provided, or not known)\"))'))\n",
      "Content-Length: 4741\n",
      "API Key: lsv2_********************************************5ftrace=2df220ee-8d06-4074-95fe-b59851032038,id=55a38767-9132-4c7c-a4e0-9be98f47ad73; trace=2df220ee-8d06-4074-95fe-b59851032038,id=e60ad330-43e4-48ff-a650-9bdf953b434d; trace=2df220ee-8d06-4074-95fe-b59851032038,id=e60ad330-43e4-48ff-a650-9bdf953b434d; trace=2df220ee-8d06-4074-95fe-b59851032038,id=2df220ee-8d06-4074-95fe-b59851032038\n",
      "Failed to send compressed multipart ingest: Connection error caused failure to POST https://api.smith.langchain.com/runs/multipart in LangSmith API. Please confirm your internet connection. ConnectionError(MaxRetryError('HTTPSConnectionPool(host=\\'api.smith.langchain.com\\', port=443): Max retries exceeded with url: /runs/multipart (Caused by NameResolutionError(\"<urllib3.connection.HTTPSConnection object at 0x10ae6d190>: Failed to resolve \\'api.smith.langchain.com\\' ([Errno 8] nodename nor servname provided, or not known)\"))'))\n",
      "Content-Length: 1630\n",
      "API Key: lsv2_********************************************5ftrace=502efdbb-fc22-4664-a548-583a1d2a484b,id=502efdbb-fc22-4664-a548-583a1d2a484b; trace=502efdbb-fc22-4664-a548-583a1d2a484b,id=e0b63a97-005f-4cdc-b810-e609280a8abd; trace=502efdbb-fc22-4664-a548-583a1d2a484b,id=e0b63a97-005f-4cdc-b810-e609280a8abd; trace=502efdbb-fc22-4664-a548-583a1d2a484b,id=9220860f-a3ed-44b9-94fc-8e7cfab77e10\n",
      "Failed to send compressed multipart ingest: Connection error caused failure to POST https://api.smith.langchain.com/runs/multipart in LangSmith API. Please confirm your internet connection. ConnectionError(MaxRetryError('HTTPSConnectionPool(host=\\'api.smith.langchain.com\\', port=443): Max retries exceeded with url: /runs/multipart (Caused by NameResolutionError(\"<urllib3.connection.HTTPSConnection object at 0x10ae6f920>: Failed to resolve \\'api.smith.langchain.com\\' ([Errno 8] nodename nor servname provided, or not known)\"))'))\n",
      "Content-Length: 6902\n",
      "API Key: lsv2_********************************************5ftrace=502efdbb-fc22-4664-a548-583a1d2a484b,id=9220860f-a3ed-44b9-94fc-8e7cfab77e10; trace=502efdbb-fc22-4664-a548-583a1d2a484b,id=c6ea2a6e-047c-4005-ab54-ea9aa4bb2d32; trace=502efdbb-fc22-4664-a548-583a1d2a484b,id=c6ea2a6e-047c-4005-ab54-ea9aa4bb2d32; trace=502efdbb-fc22-4664-a548-583a1d2a484b,id=8c396986-3d7d-4662-add2-581f49479742; trace=502efdbb-fc22-4664-a548-583a1d2a484b,id=8c396986-3d7d-4662-add2-581f49479742; trace=502efdbb-fc22-4664-a548-583a1d2a484b,id=502efdbb-fc22-4664-a548-583a1d2a484b\n"
     ]
    }
   ],
   "source": [
    "prompt = PromptTemplate(\n",
    "    template=\n",
    "        \"\"\" \n",
    "        Answer the user query with a joke. Following is your formatting insturction.\n",
    "        {format_instruction}\n",
    "        \n",
    "        Query: {query}\n",
    "        Answer:\n",
    "        \"\"\",\n",
    "    input_variables=['query'],\n",
    "    partial_variables={'format_instruction': instruction}\n",
    ")\n",
    "\n",
    "@chain\n",
    "def remove_think_block_ai_message(AIMessage) -> str:\n",
    "    return re.sub(r\"<think>.*?</think>\", \"\", AIMessage.content, flags=re.DOTALL | re.IGNORECASE)\n",
    "\n",
    "chain = prompt | llm | remove_think_block_ai_message | parser\n",
    "\n",
    "response = chain.invoke({'query': \"Tell a joke about cats\"})\n",
    "\n",
    "print(response)"
   ]
  },
  {
   "cell_type": "markdown",
   "id": "3f2acad0",
   "metadata": {},
   "source": [
    "### Parse LLM response using WithStructuredOutput Method"
   ]
  },
  {
   "cell_type": "code",
   "execution_count": 7,
   "id": "97fa8ccc",
   "metadata": {},
   "outputs": [
    {
     "name": "stdout",
     "output_type": "stream",
     "text": [
      "setup=\"Why don't cats play hide and seek with the furniture?\" punchline='Because the furniture always wins.' rating=5\n"
     ]
    }
   ],
   "source": [
    "structured_llm = llm.with_structured_output(Joke)\n",
    "\n",
    "output = structured_llm.invoke(\"Tell a joke about cats\")\n",
    "\n",
    "print(output)"
   ]
  },
  {
   "cell_type": "markdown",
   "id": "c1ce3332",
   "metadata": {},
   "source": [
    "### Parse LLM Response using JsonOutputParser to JSON Object"
   ]
  },
  {
   "cell_type": "code",
   "execution_count": 8,
   "id": "81aa5d81",
   "metadata": {},
   "outputs": [
    {
     "name": "stdout",
     "output_type": "stream",
     "text": [
      "{'setup': \"Why don't dogs make good secret agents?\", 'punchline': 'Because they always bark!', 'rating': 7}\n"
     ]
    }
   ],
   "source": [
    "from langchain_core.output_parsers import JsonOutputParser, StrOutputParser\n",
    "\n",
    "parser = JsonOutputParser(pydantic_object=Joke)\n",
    "\n",
    "prompt = PromptTemplate(\n",
    "    template=\n",
    "        \"\"\" \n",
    "        Answer the user query with a joke. Following is your formatting insturction.\n",
    "        {format_instruction}\n",
    "        \n",
    "        Query: {query}\n",
    "        Answer:\n",
    "        \"\"\",\n",
    "    input_variables=['query'],\n",
    "    partial_variables={'format_instruction': parser.get_format_instructions()}\n",
    ")\n",
    "\n",
    "chain = prompt | llm | remove_think_block_ai_message | parser\n",
    "\n",
    "response = chain.invoke({'query': \"Tell a joke about Dogs\"})\n",
    "\n",
    "print(response)\n"
   ]
  },
  {
   "cell_type": "markdown",
   "id": "9dd5152f",
   "metadata": {},
   "source": [
    "### Use of CSV Output Parser"
   ]
  },
  {
   "cell_type": "code",
   "execution_count": 27,
   "id": "8b1c8d79",
   "metadata": {},
   "outputs": [
    {
     "name": "stdout",
     "output_type": "stream",
     "text": [
      "['Elon Musk', 'Bernard Arnault & Family', 'Jeff Bezos', 'Amancio Ortega', 'Bill Gates']\n"
     ]
    }
   ],
   "source": [
    "from langchain_core.output_parsers import CommaSeparatedListOutputParser\n",
    "from langchain_core.runnables import chain\n",
    "\n",
    "parser = CommaSeparatedListOutputParser()\n",
    "\n",
    "format_instruction = parser.get_format_instructions()\n",
    "\n",
    "prompt = PromptTemplate(\n",
    "    template=\n",
    "        \"\"\" \n",
    "        Answer the user query with a list of values. Following is your formatting insturction.\n",
    "        {format_instruction}\n",
    "        \n",
    "        Query: {query}\n",
    "        Answer:\n",
    "        \"\"\",\n",
    "    input_variables=['query'],\n",
    "    partial_variables={'format_instruction': parser.get_format_instructions()}\n",
    ")\n",
    "\n",
    "chain = prompt | llm | remove_think_block_ai_message | parser\n",
    "\n",
    "response = chain.invoke({\"query\": \"Who were the world's top 5 richest persons in 2022 ?\"})\n",
    "\n",
    "print(response)"
   ]
  },
  {
   "cell_type": "markdown",
   "id": "8763fe5d",
   "metadata": {},
   "source": [
    "### Use of DateTime Output Parser"
   ]
  },
  {
   "cell_type": "code",
   "execution_count": 45,
   "id": "7aeae057",
   "metadata": {},
   "outputs": [
    {
     "name": "stdout",
     "output_type": "stream",
     "text": [
      "1965-08-09 00:00:00\n"
     ]
    }
   ],
   "source": [
    "from langchain.output_parsers import DatetimeOutputParser\n",
    "\n",
    "parser = DatetimeOutputParser(format=\"%d-%m-%Y\")\n",
    "\n",
    "format_instruction = parser.get_format_instructions()\n",
    "\n",
    "prompt = PromptTemplate(\n",
    "    template=\n",
    "        \"\"\" \n",
    "        Answer the user query with a correct date. Following is your formatting insturction.\n",
    "        {format_instruction}\n",
    "        \n",
    "        Query: {query}\n",
    "        Answer:\n",
    "        \"\"\",\n",
    "    input_variables=['query'],\n",
    "    partial_variables={'format_instruction': parser.get_format_instructions()}\n",
    ")\n",
    "\n",
    "chain = prompt | llm | remove_think_block_ai_message | parser\n",
    "\n",
    "response = chain.invoke({\"query\": \"When did Singapore get Independence ?\"})\n",
    "\n",
    "print(response)"
   ]
  }
 ],
 "metadata": {
  "kernelspec": {
   "display_name": "myenvLangchain",
   "language": "python",
   "name": "python3"
  },
  "language_info": {
   "codemirror_mode": {
    "name": "ipython",
    "version": 3
   },
   "file_extension": ".py",
   "mimetype": "text/x-python",
   "name": "python",
   "nbconvert_exporter": "python",
   "pygments_lexer": "ipython3",
   "version": "3.12.2"
  }
 },
 "nbformat": 4,
 "nbformat_minor": 5
}
