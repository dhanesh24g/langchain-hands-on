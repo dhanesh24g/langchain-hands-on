{
 "cells": [
  {
   "cell_type": "markdown",
   "id": "30f9f555",
   "metadata": {},
   "source": [
    "### Load the ENV file"
   ]
  },
  {
   "cell_type": "code",
   "execution_count": 1,
   "id": "654347e1",
   "metadata": {},
   "outputs": [
    {
     "data": {
      "text/plain": [
       "'MyFirstLangchainAutomation'"
      ]
     },
     "execution_count": 1,
     "metadata": {},
     "output_type": "execute_result"
    }
   ],
   "source": [
    "from dotenv import load_dotenv\n",
    "import os\n",
    "\n",
    "load_dotenv(override=True)\n",
    "load_dotenv('./../.env')\n",
    "\n",
    "os.getenv('LANGSMITH_PROJECT')"
   ]
  },
  {
   "cell_type": "markdown",
   "id": "3c35b5b9",
   "metadata": {},
   "source": [
    "### Load the LLM"
   ]
  },
  {
   "cell_type": "code",
   "execution_count": 2,
   "id": "468589dd",
   "metadata": {},
   "outputs": [],
   "source": [
    "from langchain_ollama import ChatOllama\n",
    "from langchain_core.runnables import chain\n",
    "import re\n",
    "\n",
    "llm_qwen = ChatOllama(\n",
    "    base_url=\"http://localhost:11434\",\n",
    "    model=\"qwen3:latest\",\n",
    "    temperature=0.5,\n",
    "    max_tokens=400\n",
    ")\n",
    "\n",
    "# Making remove_think_block as a Runnable in order to chain it\n",
    "@chain\n",
    "def remove_think_block(text) -> str:\n",
    "    return re.sub(r\"<think>.*?</think>\", \"\", text, flags=re.DOTALL | re.IGNORECASE)"
   ]
  },
  {
   "cell_type": "code",
   "execution_count": 3,
   "id": "5c556f07",
   "metadata": {},
   "outputs": [
    {
     "name": "stdout",
     "output_type": "stream",
     "text": [
      "Requirement already satisfied: langchain_community in /Users/parveenshaikh/Study/AI/Courses/LangChain/myenvLangchain/lib/python3.12/site-packages (0.3.25)\n",
      "Requirement already satisfied: langchain-core<1.0.0,>=0.3.65 in /Users/parveenshaikh/Study/AI/Courses/LangChain/myenvLangchain/lib/python3.12/site-packages (from langchain_community) (0.3.65)\n",
      "Requirement already satisfied: langchain<1.0.0,>=0.3.25 in /Users/parveenshaikh/Study/AI/Courses/LangChain/myenvLangchain/lib/python3.12/site-packages (from langchain_community) (0.3.25)\n",
      "Requirement already satisfied: SQLAlchemy<3,>=1.4 in /Users/parveenshaikh/Study/AI/Courses/LangChain/myenvLangchain/lib/python3.12/site-packages (from langchain_community) (2.0.41)\n",
      "Requirement already satisfied: requests<3,>=2 in /Users/parveenshaikh/Study/AI/Courses/LangChain/myenvLangchain/lib/python3.12/site-packages (from langchain_community) (2.32.3)\n",
      "Requirement already satisfied: PyYAML>=5.3 in /Users/parveenshaikh/Study/AI/Courses/LangChain/myenvLangchain/lib/python3.12/site-packages (from langchain_community) (6.0.2)\n",
      "Requirement already satisfied: aiohttp<4.0.0,>=3.8.3 in /Users/parveenshaikh/Study/AI/Courses/LangChain/myenvLangchain/lib/python3.12/site-packages (from langchain_community) (3.12.9)\n",
      "Requirement already satisfied: tenacity!=8.4.0,<10,>=8.1.0 in /Users/parveenshaikh/Study/AI/Courses/LangChain/myenvLangchain/lib/python3.12/site-packages (from langchain_community) (9.1.2)\n",
      "Requirement already satisfied: dataclasses-json<0.7,>=0.5.7 in /Users/parveenshaikh/Study/AI/Courses/LangChain/myenvLangchain/lib/python3.12/site-packages (from langchain_community) (0.6.7)\n",
      "Requirement already satisfied: pydantic-settings<3.0.0,>=2.4.0 in /Users/parveenshaikh/Study/AI/Courses/LangChain/myenvLangchain/lib/python3.12/site-packages (from langchain_community) (2.9.1)\n",
      "Requirement already satisfied: langsmith<0.4,>=0.1.125 in /Users/parveenshaikh/Study/AI/Courses/LangChain/myenvLangchain/lib/python3.12/site-packages (from langchain_community) (0.3.45)\n",
      "Requirement already satisfied: httpx-sse<1.0.0,>=0.4.0 in /Users/parveenshaikh/Study/AI/Courses/LangChain/myenvLangchain/lib/python3.12/site-packages (from langchain_community) (0.4.0)\n",
      "Requirement already satisfied: numpy>=1.26.2 in /Users/parveenshaikh/Study/AI/Courses/LangChain/myenvLangchain/lib/python3.12/site-packages (from langchain_community) (2.2.6)\n",
      "Requirement already satisfied: aiohappyeyeballs>=2.5.0 in /Users/parveenshaikh/Study/AI/Courses/LangChain/myenvLangchain/lib/python3.12/site-packages (from aiohttp<4.0.0,>=3.8.3->langchain_community) (2.6.1)\n",
      "Requirement already satisfied: aiosignal>=1.1.2 in /Users/parveenshaikh/Study/AI/Courses/LangChain/myenvLangchain/lib/python3.12/site-packages (from aiohttp<4.0.0,>=3.8.3->langchain_community) (1.3.2)\n",
      "Requirement already satisfied: attrs>=17.3.0 in /Users/parveenshaikh/Study/AI/Courses/LangChain/myenvLangchain/lib/python3.12/site-packages (from aiohttp<4.0.0,>=3.8.3->langchain_community) (25.3.0)\n",
      "Requirement already satisfied: frozenlist>=1.1.1 in /Users/parveenshaikh/Study/AI/Courses/LangChain/myenvLangchain/lib/python3.12/site-packages (from aiohttp<4.0.0,>=3.8.3->langchain_community) (1.6.2)\n",
      "Requirement already satisfied: multidict<7.0,>=4.5 in /Users/parveenshaikh/Study/AI/Courses/LangChain/myenvLangchain/lib/python3.12/site-packages (from aiohttp<4.0.0,>=3.8.3->langchain_community) (6.4.4)\n",
      "Requirement already satisfied: propcache>=0.2.0 in /Users/parveenshaikh/Study/AI/Courses/LangChain/myenvLangchain/lib/python3.12/site-packages (from aiohttp<4.0.0,>=3.8.3->langchain_community) (0.3.1)\n",
      "Requirement already satisfied: yarl<2.0,>=1.17.0 in /Users/parveenshaikh/Study/AI/Courses/LangChain/myenvLangchain/lib/python3.12/site-packages (from aiohttp<4.0.0,>=3.8.3->langchain_community) (1.20.0)\n",
      "Requirement already satisfied: marshmallow<4.0.0,>=3.18.0 in /Users/parveenshaikh/Study/AI/Courses/LangChain/myenvLangchain/lib/python3.12/site-packages (from dataclasses-json<0.7,>=0.5.7->langchain_community) (3.26.1)\n",
      "Requirement already satisfied: typing-inspect<1,>=0.4.0 in /Users/parveenshaikh/Study/AI/Courses/LangChain/myenvLangchain/lib/python3.12/site-packages (from dataclasses-json<0.7,>=0.5.7->langchain_community) (0.9.0)\n",
      "Requirement already satisfied: langchain-text-splitters<1.0.0,>=0.3.8 in /Users/parveenshaikh/Study/AI/Courses/LangChain/myenvLangchain/lib/python3.12/site-packages (from langchain<1.0.0,>=0.3.25->langchain_community) (0.3.8)\n",
      "Requirement already satisfied: pydantic<3.0.0,>=2.7.4 in /Users/parveenshaikh/Study/AI/Courses/LangChain/myenvLangchain/lib/python3.12/site-packages (from langchain<1.0.0,>=0.3.25->langchain_community) (2.11.4)\n",
      "Requirement already satisfied: jsonpatch<2.0,>=1.33 in /Users/parveenshaikh/Study/AI/Courses/LangChain/myenvLangchain/lib/python3.12/site-packages (from langchain-core<1.0.0,>=0.3.65->langchain_community) (1.33)\n",
      "Requirement already satisfied: packaging<25,>=23.2 in /Users/parveenshaikh/Study/AI/Courses/LangChain/myenvLangchain/lib/python3.12/site-packages (from langchain-core<1.0.0,>=0.3.65->langchain_community) (24.2)\n",
      "Requirement already satisfied: typing-extensions>=4.7 in /Users/parveenshaikh/Study/AI/Courses/LangChain/myenvLangchain/lib/python3.12/site-packages (from langchain-core<1.0.0,>=0.3.65->langchain_community) (4.13.2)\n",
      "Requirement already satisfied: jsonpointer>=1.9 in /Users/parveenshaikh/Study/AI/Courses/LangChain/myenvLangchain/lib/python3.12/site-packages (from jsonpatch<2.0,>=1.33->langchain-core<1.0.0,>=0.3.65->langchain_community) (3.0.0)\n",
      "Requirement already satisfied: httpx<1,>=0.23.0 in /Users/parveenshaikh/Study/AI/Courses/LangChain/myenvLangchain/lib/python3.12/site-packages (from langsmith<0.4,>=0.1.125->langchain_community) (0.28.1)\n",
      "Requirement already satisfied: orjson<4.0.0,>=3.9.14 in /Users/parveenshaikh/Study/AI/Courses/LangChain/myenvLangchain/lib/python3.12/site-packages (from langsmith<0.4,>=0.1.125->langchain_community) (3.10.18)\n",
      "Requirement already satisfied: requests-toolbelt<2.0.0,>=1.0.0 in /Users/parveenshaikh/Study/AI/Courses/LangChain/myenvLangchain/lib/python3.12/site-packages (from langsmith<0.4,>=0.1.125->langchain_community) (1.0.0)\n",
      "Requirement already satisfied: zstandard<0.24.0,>=0.23.0 in /Users/parveenshaikh/Study/AI/Courses/LangChain/myenvLangchain/lib/python3.12/site-packages (from langsmith<0.4,>=0.1.125->langchain_community) (0.23.0)\n",
      "Requirement already satisfied: anyio in /Users/parveenshaikh/Study/AI/Courses/LangChain/myenvLangchain/lib/python3.12/site-packages (from httpx<1,>=0.23.0->langsmith<0.4,>=0.1.125->langchain_community) (4.9.0)\n",
      "Requirement already satisfied: certifi in /Users/parveenshaikh/Study/AI/Courses/LangChain/myenvLangchain/lib/python3.12/site-packages (from httpx<1,>=0.23.0->langsmith<0.4,>=0.1.125->langchain_community) (2025.4.26)\n",
      "Requirement already satisfied: httpcore==1.* in /Users/parveenshaikh/Study/AI/Courses/LangChain/myenvLangchain/lib/python3.12/site-packages (from httpx<1,>=0.23.0->langsmith<0.4,>=0.1.125->langchain_community) (1.0.9)\n",
      "Requirement already satisfied: idna in /Users/parveenshaikh/Study/AI/Courses/LangChain/myenvLangchain/lib/python3.12/site-packages (from httpx<1,>=0.23.0->langsmith<0.4,>=0.1.125->langchain_community) (3.10)\n",
      "Requirement already satisfied: h11>=0.16 in /Users/parveenshaikh/Study/AI/Courses/LangChain/myenvLangchain/lib/python3.12/site-packages (from httpcore==1.*->httpx<1,>=0.23.0->langsmith<0.4,>=0.1.125->langchain_community) (0.16.0)\n",
      "Requirement already satisfied: annotated-types>=0.6.0 in /Users/parveenshaikh/Study/AI/Courses/LangChain/myenvLangchain/lib/python3.12/site-packages (from pydantic<3.0.0,>=2.7.4->langchain<1.0.0,>=0.3.25->langchain_community) (0.7.0)\n",
      "Requirement already satisfied: pydantic-core==2.33.2 in /Users/parveenshaikh/Study/AI/Courses/LangChain/myenvLangchain/lib/python3.12/site-packages (from pydantic<3.0.0,>=2.7.4->langchain<1.0.0,>=0.3.25->langchain_community) (2.33.2)\n",
      "Requirement already satisfied: typing-inspection>=0.4.0 in /Users/parveenshaikh/Study/AI/Courses/LangChain/myenvLangchain/lib/python3.12/site-packages (from pydantic<3.0.0,>=2.7.4->langchain<1.0.0,>=0.3.25->langchain_community) (0.4.0)\n",
      "Requirement already satisfied: python-dotenv>=0.21.0 in /Users/parveenshaikh/Study/AI/Courses/LangChain/myenvLangchain/lib/python3.12/site-packages (from pydantic-settings<3.0.0,>=2.4.0->langchain_community) (1.1.0)\n",
      "Requirement already satisfied: charset-normalizer<4,>=2 in /Users/parveenshaikh/Study/AI/Courses/LangChain/myenvLangchain/lib/python3.12/site-packages (from requests<3,>=2->langchain_community) (3.4.2)\n",
      "Requirement already satisfied: urllib3<3,>=1.21.1 in /Users/parveenshaikh/Study/AI/Courses/LangChain/myenvLangchain/lib/python3.12/site-packages (from requests<3,>=2->langchain_community) (2.4.0)\n",
      "Requirement already satisfied: mypy-extensions>=0.3.0 in /Users/parveenshaikh/Study/AI/Courses/LangChain/myenvLangchain/lib/python3.12/site-packages (from typing-inspect<1,>=0.4.0->dataclasses-json<0.7,>=0.5.7->langchain_community) (1.1.0)\n",
      "Requirement already satisfied: sniffio>=1.1 in /Users/parveenshaikh/Study/AI/Courses/LangChain/myenvLangchain/lib/python3.12/site-packages (from anyio->httpx<1,>=0.23.0->langsmith<0.4,>=0.1.125->langchain_community) (1.3.1)\n",
      "Note: you may need to restart the kernel to use updated packages.\n"
     ]
    }
   ],
   "source": [
    "%pip install langchain_community\n"
   ]
  },
  {
   "cell_type": "markdown",
   "id": "6ac54293",
   "metadata": {},
   "source": [
    "### Message History with ChatMessageHistory"
   ]
  },
  {
   "cell_type": "code",
   "execution_count": 4,
   "id": "bcd503c7",
   "metadata": {},
   "outputs": [],
   "source": [
    "from langchain_core.prompts import ChatPromptTemplate\n",
    "from langchain_core.output_parsers import StrOutputParser\n",
    "from langchain_core.runnables import chain\n",
    "from langchain_core.chat_history import BaseChatMessageHistory\n",
    "from langchain_core.runnables.history import RunnableWithMessageHistory\n",
    "from langchain_community.chat_message_histories import ChatMessageHistory"
   ]
  },
  {
   "cell_type": "code",
   "execution_count": 9,
   "id": "8ed15773",
   "metadata": {},
   "outputs": [
    {
     "name": "stdout",
     "output_type": "stream",
     "text": [
      "\n",
      "\n",
      "India became independent on **August 15, 1947**.\n",
      "\n",
      "\n",
      "Vietnam declared independence on **September 2, 1945**, during the August Revolution, led by Ho Chi Minh. Full international recognition followed later.\n",
      "\n",
      "\n",
      "Pakistan became independent on **August 14, 1947**, alongside India, as part of the partition of British India. The date marks the end of British rule and the creation of two separate nations.\n"
     ]
    }
   ],
   "source": [
    "prompt_template = ChatPromptTemplate.from_messages([\n",
    "    ('system', \"Be concise in the response\"),\n",
    "    ('human', \"{prompt}\"),\n",
    "    ('placeholder', \"{history}\")\n",
    "])\n",
    "\n",
    "chain = prompt_template | llm_qwen | StrOutputParser() | remove_think_block\n",
    "\n",
    "store = {}\n",
    "\n",
    "def get_session_history(session_id: str) -> BaseChatMessageHistory:\n",
    "    if session_id not in store:\n",
    "        store[session_id] = ChatMessageHistory()\n",
    "    return store[session_id]\n",
    "\n",
    "session_id = \"Dhanesh\"\n",
    "\n",
    "history = RunnableWithMessageHistory(\n",
    "    chain, \n",
    "    get_session_history, \n",
    "    input_messages_key='prompt', \n",
    "    output_messages_key=None\n",
    ")\n",
    "\n",
    "response_1 = history.invoke(\n",
    "    {\"prompt\": \"When did India become independant ?\"},\n",
    "    config={\"configurable\": {\"session_id\": session_id}}\n",
    ")\n",
    "\n",
    "response_2 = history.invoke(\n",
    "    {\"prompt\" : \"How about Vietnam ?\"},\n",
    "    config= {\"configurable\": {\"session_id\": session_id}}\n",
    ")\n",
    "\n",
    "response_3 = history.invoke(\n",
    "    {\"prompt\" : \"And Pakistan ?\"},\n",
    "    config= {\"configurable\": {\"session_id\": session_id}}\n",
    ")\n",
    "\n",
    "get_session_history(session_id).clear()\n",
    "\n",
    "print(response_1)\n",
    "print(response_2)\n",
    "print(response_3)"
   ]
  },
  {
   "cell_type": "markdown",
   "id": "fc68fe81",
   "metadata": {},
   "source": [
    "### Chat Message History with SQLChatMessageHistory"
   ]
  },
  {
   "cell_type": "code",
   "execution_count": 6,
   "id": "6c616c58",
   "metadata": {},
   "outputs": [
    {
     "name": "stdout",
     "output_type": "stream",
     "text": [
      "\n",
      "\n",
      "India became independent on August 15, 1947.\n",
      "\n",
      "\n",
      "Vietnam declared independence on September 2, 1945, following the August Revolution. Full independence from France was formalized through the Geneva Accords in 1954, ending French colonial rule.\n",
      "\n",
      "\n",
      "Pakistan gained independence from British rule on August 14, 1947, following the partition of British India.\n"
     ]
    }
   ],
   "source": [
    "from langchain_community.chat_message_histories import SQLChatMessageHistory\n",
    "\n",
    "prompt_template = ChatPromptTemplate.from_messages([\n",
    "    ('system', \"Be concise in the response\"),\n",
    "    ('human', \"{prompt}\"),\n",
    "    ('placeholder', \"{history}\")\n",
    "])\n",
    "\n",
    "chain = prompt_template | llm_qwen | StrOutputParser() | remove_think_block\n",
    "\n",
    "def get_session_history(session_id: str):\n",
    "    return SQLChatMessageHistory(session_id=session_id, connection=\"sqlite:///chathistory.db\")\n",
    "\n",
    "history = RunnableWithMessageHistory(\n",
    "    chain,\n",
    "    get_session_history,\n",
    "    input_messages_key=\"prompt\",\n",
    "    output_messages_key=None\n",
    ")\n",
    "\n",
    "session_id = \"Dhanesh\"\n",
    "get_session_history(session_id).clear()\n",
    "\n",
    "response_1 = history.invoke(\n",
    "    {\"prompt\": \"When did India become independant ?\"},\n",
    "    config={\"configurable\": {\"session_id\": session_id}}\n",
    ")\n",
    "\n",
    "response_2 = history.invoke(\n",
    "    {\"prompt\" : \"How about Vietnam ?\"},\n",
    "    config= {\"configurable\": {\"session_id\": session_id}}\n",
    ")\n",
    "\n",
    "response_3 = history.invoke(\n",
    "    {\"prompt\" : \"And Pakistan ?\"},\n",
    "    config= {\"configurable\": {\"session_id\": session_id}}\n",
    ")\n",
    "\n",
    "\n",
    "print(response_1)\n",
    "print(response_2)\n",
    "print(response_3)"
   ]
  }
 ],
 "metadata": {
  "kernelspec": {
   "display_name": "myenvLangchain",
   "language": "python",
   "name": "python3"
  },
  "language_info": {
   "codemirror_mode": {
    "name": "ipython",
    "version": 3
   },
   "file_extension": ".py",
   "mimetype": "text/x-python",
   "name": "python",
   "nbconvert_exporter": "python",
   "pygments_lexer": "ipython3",
   "version": "3.12.2"
  }
 },
 "nbformat": 4,
 "nbformat_minor": 5
}
