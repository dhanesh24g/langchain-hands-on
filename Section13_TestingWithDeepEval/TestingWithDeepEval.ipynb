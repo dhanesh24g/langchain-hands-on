{
 "cells": [
  {
   "cell_type": "markdown",
   "id": "c8bdd9fc",
   "metadata": {},
   "source": [
    "## Testing RAGs with DeepEvals"
   ]
  },
  {
   "cell_type": "markdown",
   "id": "413f44d7",
   "metadata": {},
   "source": [
    "### Setting-up dotEnv & LLM "
   ]
  },
  {
   "cell_type": "code",
   "execution_count": 1,
   "id": "e7febbf0",
   "metadata": {},
   "outputs": [],
   "source": [
    "from dotenv import load_dotenv\n",
    "from langchain_ollama import ChatOllama\n",
    "\n",
    "load_dotenv(override=True)\n",
    "load_dotenv('./../.env')\n",
    "\n",
    "llm = ChatOllama(\n",
    "    base_url=\"http://localhost:11434\",\n",
    "    model=\"llama3.1:8b\",\n",
    "    temperature=0.5,\n",
    "    max_tokens=300\n",
    ")"
   ]
  },
  {
   "cell_type": "markdown",
   "id": "90423122",
   "metadata": {},
   "source": [
    "### Connect with DeepEval"
   ]
  },
  {
   "cell_type": "code",
   "execution_count": null,
   "id": "8ed54af6",
   "metadata": {},
   "outputs": [],
   "source": [
    "# %pip install -U deepeval"
   ]
  },
  {
   "cell_type": "code",
   "execution_count": 2,
   "id": "39cf8f85",
   "metadata": {},
   "outputs": [
    {
     "data": {
      "text/html": [
       "<pre style=\"white-space:pre;overflow-x:auto;line-height:normal;font-family:Menlo,'DejaVu Sans Mono',consolas,'Courier New',monospace\">🎉🥳 Congratulations! You've successfully logged in! 🙌 \n",
       "</pre>\n"
      ],
      "text/plain": [
       "🎉🥳 Congratulations! You've successfully logged in! 🙌 \n"
      ]
     },
     "metadata": {},
     "output_type": "display_data"
    }
   ],
   "source": [
    "import deepeval\n",
    "\n",
    "deepeval.login_with_confident_api_key(\"confident_us_DNEaOTujz584SicCTCNGpP7snhHa3APERq7FhaTvpDI=\")"
   ]
  },
  {
   "cell_type": "markdown",
   "id": "61994efa",
   "metadata": {},
   "source": [
    "### Creating Golden Dataset"
   ]
  },
  {
   "cell_type": "code",
   "execution_count": 3,
   "id": "95751402",
   "metadata": {},
   "outputs": [
    {
     "data": {
      "text/plain": [
       "[{'question': 'What is Playwright and what browsers does it support?',\n",
       "  'expected_answer': 'Playwright is a modern automation library supporting Chromium, Firefox, and WebKit.'},\n",
       " {'question': 'What is Selenium and what programming languages does it support?',\n",
       "  'expected_answer': 'Selenium is an open-source framework supporting multiple programming languages like Python, Java, and C#.'},\n",
       " {'question': 'What is network interception in Playwright?',\n",
       "  'expected_answer': 'Network interception in Playwright allows users to modify, block, or inspect network requests and responses, enabling better control over API calls and testing.'},\n",
       " {'question': 'Does Playwright have a native test runner unlike Selenium?',\n",
       "  'expected_answer': 'Yes, Playwright has a native test runner called Playwright Test, which handles test creation and execution, unlike Selenium, which relies on JUnit, NUnit, or XUnit for test execution.'},\n",
       " {'question': 'What are the advantages of using Cypress for front-end testing?',\n",
       "  'expected_answer': 'Cypress provides fast feedback loops, automatic waiting, and time-travel debugging, making it highly efficient for front-end testing.'},\n",
       " {'question': 'How does Selenium WebDriver enable browser automation?',\n",
       "  'expected_answer': 'Selenium WebDriver enables automated browser testing by providing bindings in multiple languages, such as Python, Java, and C#, to interact with web elements programmatically.'},\n",
       " {'question': 'How does Playwright handle debugging for web applications?',\n",
       "  'expected_answer': 'Playwright supports debugging through tracing, network interception, and headless execution, making it easier to identify and fix issues in web applications.'}]"
      ]
     },
     "execution_count": 3,
     "metadata": {},
     "output_type": "execute_result"
    }
   ],
   "source": [
    "golden_dataset = [\n",
    "     {\n",
    "        \"question\": \"What is Playwright and what browsers does it support?\",\n",
    "        \"expected_answer\": \"Playwright is a modern automation library supporting Chromium, Firefox, and WebKit.\"\n",
    "    },\n",
    "    {\n",
    "        \"question\": \"What is Selenium and what programming languages does it support?\",\n",
    "        \"expected_answer\": \"Selenium is an open-source framework supporting multiple programming languages like Python, Java, and C#.\"\n",
    "    },\n",
    "    {\n",
    "        \"question\": \"What is network interception in Playwright?\",\n",
    "        \"expected_answer\": \"Network interception in Playwright allows users to modify, block, or inspect network requests and responses, enabling better control over API calls and testing.\"\n",
    "    },\n",
    "    {\n",
    "        \"question\": \"Does Playwright have a native test runner unlike Selenium?\",\n",
    "        \"expected_answer\": \"Yes, Playwright has a native test runner called Playwright Test, which handles test creation and execution, unlike Selenium, which relies on JUnit, NUnit, or XUnit for test execution.\"\n",
    "    },\n",
    "    {\n",
    "        \"question\": \"What are the advantages of using Cypress for front-end testing?\",\n",
    "        \"expected_answer\": \"Cypress provides fast feedback loops, automatic waiting, and time-travel debugging, making it highly efficient for front-end testing.\"\n",
    "    },\n",
    "    {\n",
    "        \"question\": \"How does Selenium WebDriver enable browser automation?\",\n",
    "        \"expected_answer\": \"Selenium WebDriver enables automated browser testing by providing bindings in multiple languages, such as Python, Java, and C#, to interact with web elements programmatically.\"\n",
    "    },\n",
    "    {\n",
    "        \"question\": \"How does Playwright handle debugging for web applications?\",\n",
    "        \"expected_answer\": \"Playwright supports debugging through tracing, network interception, and headless execution, making it easier to identify and fix issues in web applications.\"\n",
    "    }\n",
    "]\n",
    "\n",
    "golden_dataset"
   ]
  },
  {
   "cell_type": "markdown",
   "id": "442a71da",
   "metadata": {},
   "source": [
    "### Upload the Golden Dataset"
   ]
  },
  {
   "cell_type": "code",
   "execution_count": 4,
   "id": "59942f35",
   "metadata": {},
   "outputs": [],
   "source": [
    "from deepeval.dataset import EvaluationDataset, Golden\n",
    "\n",
    "goldens = []\n",
    "\n",
    "for dataset in golden_dataset:\n",
    "    golden = Golden(\n",
    "        input=dataset['question'],\n",
    "        expected_output=dataset['expected_answer']\n",
    "    )\n",
    "    \n",
    "    goldens.append(golden)\n",
    "    \n",
    "eval_dataset = EvaluationDataset(goldens=goldens)"
   ]
  },
  {
   "cell_type": "code",
   "execution_count": 5,
   "id": "73f63afd",
   "metadata": {},
   "outputs": [
    {
     "data": {
      "text/plain": [
       "EvaluationDataset(test_cases=[], goldens=[Golden(input='What is Playwright and what browsers does it support?', actual_output=None, expected_output='Playwright is a modern automation library supporting Chromium, Firefox, and WebKit.', context=None, retrieval_context=None, additional_metadata=None, comments=None, tools_called=None, expected_tools=None, source_file=None, name=None, custom_column_key_values=None), Golden(input='What is Selenium and what programming languages does it support?', actual_output=None, expected_output='Selenium is an open-source framework supporting multiple programming languages like Python, Java, and C#.', context=None, retrieval_context=None, additional_metadata=None, comments=None, tools_called=None, expected_tools=None, source_file=None, name=None, custom_column_key_values=None), Golden(input='What is network interception in Playwright?', actual_output=None, expected_output='Network interception in Playwright allows users to modify, block, or inspect network requests and responses, enabling better control over API calls and testing.', context=None, retrieval_context=None, additional_metadata=None, comments=None, tools_called=None, expected_tools=None, source_file=None, name=None, custom_column_key_values=None), Golden(input='Does Playwright have a native test runner unlike Selenium?', actual_output=None, expected_output='Yes, Playwright has a native test runner called Playwright Test, which handles test creation and execution, unlike Selenium, which relies on JUnit, NUnit, or XUnit for test execution.', context=None, retrieval_context=None, additional_metadata=None, comments=None, tools_called=None, expected_tools=None, source_file=None, name=None, custom_column_key_values=None), Golden(input='What are the advantages of using Cypress for front-end testing?', actual_output=None, expected_output='Cypress provides fast feedback loops, automatic waiting, and time-travel debugging, making it highly efficient for front-end testing.', context=None, retrieval_context=None, additional_metadata=None, comments=None, tools_called=None, expected_tools=None, source_file=None, name=None, custom_column_key_values=None), Golden(input='How does Selenium WebDriver enable browser automation?', actual_output=None, expected_output='Selenium WebDriver enables automated browser testing by providing bindings in multiple languages, such as Python, Java, and C#, to interact with web elements programmatically.', context=None, retrieval_context=None, additional_metadata=None, comments=None, tools_called=None, expected_tools=None, source_file=None, name=None, custom_column_key_values=None), Golden(input='How does Playwright handle debugging for web applications?', actual_output=None, expected_output='Playwright supports debugging through tracing, network interception, and headless execution, making it easier to identify and fix issues in web applications.', context=None, retrieval_context=None, additional_metadata=None, comments=None, tools_called=None, expected_tools=None, source_file=None, name=None, custom_column_key_values=None)], _alias=None, _id=None)"
      ]
     },
     "execution_count": 5,
     "metadata": {},
     "output_type": "execute_result"
    }
   ],
   "source": [
    "eval_dataset"
   ]
  },
  {
   "cell_type": "code",
   "execution_count": 6,
   "id": "97e5f93e",
   "metadata": {},
   "outputs": [
    {
     "name": "stdout",
     "output_type": "stream",
     "text": [
      "Aborted.\n"
     ]
    }
   ],
   "source": [
    "eval_dataset.push(\"TestingTool Dataset\")"
   ]
  },
  {
   "cell_type": "markdown",
   "id": "9a8a3722",
   "metadata": {},
   "source": [
    "### RAG Application with Following Internal Dataset"
   ]
  },
  {
   "cell_type": "code",
   "execution_count": 7,
   "id": "06cad0b4",
   "metadata": {},
   "outputs": [],
   "source": [
    "from langchain_huggingface import HuggingFaceEmbeddings\n",
    "from langchain_chroma import Chroma\n",
    "\n",
    "embeddings = HuggingFaceEmbeddings(model_name=\"sentence-transformers/all-MiniLM-L6-v2\")"
   ]
  },
  {
   "cell_type": "code",
   "execution_count": 8,
   "id": "2c13fb17",
   "metadata": {},
   "outputs": [],
   "source": [
    "from langchain.docstore.document import Document\n",
    "\n",
    "docs = [\n",
    "    Document(page_content=\"Playwright is a modern automation library for end-to-end testing. It supports multiple browsers like Chromium, Firefox, and WebKit.\"),\n",
    "    Document(page_content=\"Selenium is a widely used open-source framework for web automation, supporting multiple programming languages and browsers.\"),\n",
    "    Document(page_content=\"Playwright comes with native test runner called Playwright Test Runner, which handles test creation and execution\"),\n",
    "    Document(page_content=\"Playwright supports debugging through tracing, network interception, and headless execution, making it easier to identify and fix issues in web applications.\"),\n",
    "    Document(page_content=\"Cypress is a JavaScript-based testing tool primarily used for front-end testing. It runs in the browser and provides fast feedback loops.\"),\n",
    "    Document(page_content=\"Playwright allows network interception, headless execution, and tracing for debugging complex web applications.\"),\n",
    "    Document(page_content=\"Selenium WebDriver enables automated browser testing using various bindings such as Python, Java, and C#.\"),\n",
    "    Document(page_content=\"Cypress has built-in support for retries, time-travel debugging, and automatic waiting, making it easy to test dynamic web pages.\"),\n",
    "    Document(page_content=\"This document talks about REST API testing tools, which are unrelated to Playwright, Selenium, or Cypress.\")\n",
    "]\n",
    "\n",
    "vector_store = Chroma.from_documents(docs, embeddings)"
   ]
  },
  {
   "cell_type": "markdown",
   "id": "f70db7b8",
   "metadata": {},
   "source": [
    "### Setup the Retriever"
   ]
  },
  {
   "cell_type": "code",
   "execution_count": 9,
   "id": "d8b993f8",
   "metadata": {},
   "outputs": [
    {
     "data": {
      "text/plain": [
       "({'query': 'What does PlayWright do ?',\n",
       "  'result': \"According to the context, Playwright is a tool that:\\n\\n1. Handles test creation and execution (through its native test runner)\\n2. Allows for debugging complex web applications through:\\n\\t* Network interception\\n\\t* Headless execution\\n\\t* Tracing\\n\\nIt's essentially a tool designed to help developers identify and fix issues in web applications.\"},\n",
       " [Document(id='95e080dd-44d1-4cb2-ba3b-21e9e4c59773', metadata={}, page_content='Playwright comes with native test runner called Playwright Test Runner, which handles test creation and execution'),\n",
       "  Document(id='04172508-f474-4724-ab92-cb705a87ef4d', metadata={}, page_content='Playwright allows network interception, headless execution, and tracing for debugging complex web applications.'),\n",
       "  Document(id='233645d5-9542-45e4-9a9d-9cd6457f4e73', metadata={}, page_content='Playwright supports debugging through tracing, network interception, and headless execution, making it easier to identify and fix issues in web applications.')])"
      ]
     },
     "execution_count": 9,
     "metadata": {},
     "output_type": "execute_result"
    }
   ],
   "source": [
    "from langchain.chains import RetrievalQA\n",
    "\n",
    "retriever = vector_store.as_retriever(search_kwargs={'k': 3})\n",
    "\n",
    "qa_chain = RetrievalQA.from_chain_type(llm=llm, retriever=retriever)\n",
    "\n",
    "query = \"What does PlayWright do ?\"\n",
    "\n",
    "response = qa_chain.invoke(query)\n",
    "\n",
    "retrieved_docs = retriever.invoke(query)\n",
    "\n",
    "response, retrieved_docs"
   ]
  },
  {
   "cell_type": "markdown",
   "id": "5723b8bb",
   "metadata": {},
   "source": [
    "### Querying the Context & Generating Actual Output from LLM (For setting-up LLMTestCase)"
   ]
  },
  {
   "cell_type": "code",
   "execution_count": 10,
   "id": "73637a92",
   "metadata": {},
   "outputs": [],
   "source": [
    "def get_response_with_context(question):\n",
    "    \n",
    "    retrieved_docs = retriever.invoke(question)\n",
    "    retrieved_contexts = [doc.page_content for doc in retrieved_docs]\n",
    "    \n",
    "    response = qa_chain.invoke(question)\n",
    "    \n",
    "    return response['result'], retrieved_contexts"
   ]
  },
  {
   "cell_type": "code",
   "execution_count": 11,
   "id": "7fdde203",
   "metadata": {},
   "outputs": [
    {
     "data": {
      "application/vnd.jupyter.widget-view+json": {
       "model_id": "27f72c4a44d24ef2b3b7e5ef3cb6fa7b",
       "version_major": 2,
       "version_minor": 0
      },
      "text/plain": [
       "Output()"
      ]
     },
     "metadata": {},
     "output_type": "display_data"
    },
    {
     "data": {
      "text/html": [
       "<pre style=\"white-space:pre;overflow-x:auto;line-height:normal;font-family:Menlo,'DejaVu Sans Mono',consolas,'Courier New',monospace\"></pre>\n"
      ],
      "text/plain": []
     },
     "metadata": {},
     "output_type": "display_data"
    },
    {
     "data": {
      "text/plain": [
       "[LLMTestCase(input='What is Playwright and what browsers does it support?', actual_output='According to the provided context, Playwright is a modern automation library for end-to-end testing that supports multiple browsers, specifically:\\n\\n1. Chromium\\n2. Firefox\\n3. WebKit', expected_output='Playwright is a modern automation library supporting Chromium, Firefox, and WebKit.', context=None, retrieval_context=['Playwright is a modern automation library for end-to-end testing. It supports multiple browsers like Chromium, Firefox, and WebKit.', 'Playwright supports debugging through tracing, network interception, and headless execution, making it easier to identify and fix issues in web applications.', 'Playwright allows network interception, headless execution, and tracing for debugging complex web applications.'], additional_metadata=None, tools_called=None, comments=None, expected_tools=None, token_cost=None, completion_time=None, name=None, tags=None),\n",
       " LLMTestCase(input='What is Selenium and what programming languages does it support?', actual_output='Selenium is a widely used open-source framework for web automation. It supports multiple programming languages, including Python, Java, and C#.', expected_output='Selenium is an open-source framework supporting multiple programming languages like Python, Java, and C#.', context=None, retrieval_context=['Selenium is a widely used open-source framework for web automation, supporting multiple programming languages and browsers.', 'Selenium WebDriver enables automated browser testing using various bindings such as Python, Java, and C#.', 'This document talks about REST API testing tools, which are unrelated to Playwright, Selenium, or Cypress.'], additional_metadata=None, tools_called=None, comments=None, expected_tools=None, token_cost=None, completion_time=None, name=None, tags=None),\n",
       " LLMTestCase(input='What is network interception in Playwright?', actual_output='Network interception in Playwright refers to the ability to intercept and modify network requests made by a browser instance. This feature allows developers to inspect and manipulate HTTP requests and responses, making it easier to debug web applications and test their functionality.', expected_output='Network interception in Playwright allows users to modify, block, or inspect network requests and responses, enabling better control over API calls and testing.', context=None, retrieval_context=['Playwright allows network interception, headless execution, and tracing for debugging complex web applications.', 'Playwright supports debugging through tracing, network interception, and headless execution, making it easier to identify and fix issues in web applications.', 'Playwright comes with native test runner called Playwright Test Runner, which handles test creation and execution'], additional_metadata=None, tools_called=None, comments=None, expected_tools=None, token_cost=None, completion_time=None, name=None, tags=None),\n",
       " LLMTestCase(input='Does Playwright have a native test runner unlike Selenium?', actual_output=\"Yes, according to the context, Playwright does come with a native test runner called Playwright Test Runner. This is in contrast to Selenium, which doesn't have a native test runner.\", expected_output='Yes, Playwright has a native test runner called Playwright Test, which handles test creation and execution, unlike Selenium, which relies on JUnit, NUnit, or XUnit for test execution.', context=None, retrieval_context=['Playwright comes with native test runner called Playwright Test Runner, which handles test creation and execution', 'This document talks about REST API testing tools, which are unrelated to Playwright, Selenium, or Cypress.', 'Playwright is a modern automation library for end-to-end testing. It supports multiple browsers like Chromium, Firefox, and WebKit.'], additional_metadata=None, tools_called=None, comments=None, expected_tools=None, token_cost=None, completion_time=None, name=None, tags=None),\n",
       " LLMTestCase(input='What are the advantages of using Cypress for front-end testing?', actual_output='According to the provided context, some advantages of using Cypress for front-end testing include:\\n\\n* Fast feedback loops\\n* Built-in support for retries\\n* Time-travel debugging capabilities\\n* Automatic waiting for dynamic web pages\\n\\nThese features make it easier and more efficient to test front-end applications.', expected_output='Cypress provides fast feedback loops, automatic waiting, and time-travel debugging, making it highly efficient for front-end testing.', context=None, retrieval_context=['Cypress is a JavaScript-based testing tool primarily used for front-end testing. It runs in the browser and provides fast feedback loops.', 'Cypress has built-in support for retries, time-travel debugging, and automatic waiting, making it easy to test dynamic web pages.', 'This document talks about REST API testing tools, which are unrelated to Playwright, Selenium, or Cypress.'], additional_metadata=None, tools_called=None, comments=None, expected_tools=None, token_cost=None, completion_time=None, name=None, tags=None),\n",
       " LLMTestCase(input='How does Selenium WebDriver enable browser automation?', actual_output='According to the context, Selenium WebDriver enables automated browser testing by providing various bindings (such as Python, Java, and C#) that can interact with a web browser programmatically. This allows users to automate browser interactions and perform tests on websites.', expected_output='Selenium WebDriver enables automated browser testing by providing bindings in multiple languages, such as Python, Java, and C#, to interact with web elements programmatically.', context=None, retrieval_context=['Selenium WebDriver enables automated browser testing using various bindings such as Python, Java, and C#.', 'Selenium is a widely used open-source framework for web automation, supporting multiple programming languages and browsers.', 'Playwright is a modern automation library for end-to-end testing. It supports multiple browsers like Chromium, Firefox, and WebKit.'], additional_metadata=None, tools_called=None, comments=None, expected_tools=None, token_cost=None, completion_time=None, name=None, tags=None),\n",
       " LLMTestCase(input='How does Playwright handle debugging for web applications?', actual_output='According to the context, Playwright handles debugging for web applications through:\\n\\n1. Tracing\\n2. Network interception\\n3. Headless execution\\n\\nThese features make it easier to identify and fix issues in web applications.', expected_output='Playwright supports debugging through tracing, network interception, and headless execution, making it easier to identify and fix issues in web applications.', context=None, retrieval_context=['Playwright supports debugging through tracing, network interception, and headless execution, making it easier to identify and fix issues in web applications.', 'Playwright allows network interception, headless execution, and tracing for debugging complex web applications.', 'Playwright is a modern automation library for end-to-end testing. It supports multiple browsers like Chromium, Firefox, and WebKit.'], additional_metadata=None, tools_called=None, comments=None, expected_tools=None, token_cost=None, completion_time=None, name=None, tags=None)]"
      ]
     },
     "execution_count": 11,
     "metadata": {},
     "output_type": "execute_result"
    }
   ],
   "source": [
    "from deepeval.test_case import LLMTestCase\n",
    "\n",
    "eval_dataset.pull(\"TestingTool Dataset\")\n",
    "\n",
    "for golden in goldens:\n",
    "    input = golden.input\n",
    "    actual_output, retrieval_context = get_response_with_context(input)\n",
    " \n",
    "    test_case = LLMTestCase(\n",
    "        input=input,\n",
    "        actual_output=actual_output,\n",
    "        expected_output=golden.expected_output,\n",
    "        retrieval_context=retrieval_context\n",
    "    )\n",
    "\n",
    "    eval_dataset.add_test_case(test_case)\n",
    "\n",
    "eval_dataset.test_cases"
   ]
  },
  {
   "cell_type": "markdown",
   "id": "bc513036",
   "metadata": {},
   "source": [
    "### Evaluation with DeepEval"
   ]
  },
  {
   "cell_type": "code",
   "execution_count": 12,
   "id": "ab5a592b",
   "metadata": {},
   "outputs": [
    {
     "data": {
      "text/html": [
       "<pre style=\"white-space:pre;overflow-x:auto;line-height:normal;font-family:Menlo,'DejaVu Sans Mono',consolas,'Courier New',monospace\">✨ You're running DeepEval's latest <span style=\"color: #6a00ff; text-decoration-color: #6a00ff\">Answer Relevancy Metric</span>! <span style=\"color: #374151; text-decoration-color: #374151; font-weight: bold\">(</span><span style=\"color: #374151; text-decoration-color: #374151\">using gpt-</span><span style=\"color: #374151; text-decoration-color: #374151; font-weight: bold\">4.1</span><span style=\"color: #374151; text-decoration-color: #374151\">, </span><span style=\"color: #374151; text-decoration-color: #374151\">strict</span><span style=\"color: #374151; text-decoration-color: #374151\">=</span><span style=\"color: #374151; text-decoration-color: #374151; font-style: italic\">False</span><span style=\"color: #374151; text-decoration-color: #374151\">, </span><span style=\"color: #374151; text-decoration-color: #374151\">async_mode</span><span style=\"color: #374151; text-decoration-color: #374151\">=</span><span style=\"color: #374151; text-decoration-color: #374151; font-style: italic\">True</span><span style=\"color: #374151; text-decoration-color: #374151; font-weight: bold\">)</span><span style=\"color: #374151; text-decoration-color: #374151\">...</span>\n",
       "</pre>\n"
      ],
      "text/plain": [
       "✨ You're running DeepEval's latest \u001b[38;2;106;0;255mAnswer Relevancy Metric\u001b[0m! \u001b[1;38;2;55;65;81m(\u001b[0m\u001b[38;2;55;65;81musing gpt-\u001b[0m\u001b[1;38;2;55;65;81m4.1\u001b[0m\u001b[38;2;55;65;81m, \u001b[0m\u001b[38;2;55;65;81mstrict\u001b[0m\u001b[38;2;55;65;81m=\u001b[0m\u001b[3;38;2;55;65;81mFalse\u001b[0m\u001b[38;2;55;65;81m, \u001b[0m\u001b[38;2;55;65;81masync_mode\u001b[0m\u001b[38;2;55;65;81m=\u001b[0m\u001b[3;38;2;55;65;81mTrue\u001b[0m\u001b[1;38;2;55;65;81m)\u001b[0m\u001b[38;2;55;65;81m...\u001b[0m\n"
      ]
     },
     "metadata": {},
     "output_type": "display_data"
    },
    {
     "data": {
      "text/html": [
       "<pre style=\"white-space:pre;overflow-x:auto;line-height:normal;font-family:Menlo,'DejaVu Sans Mono',consolas,'Courier New',monospace\">✨ You're running DeepEval's latest <span style=\"color: #6a00ff; text-decoration-color: #6a00ff\">Faithfulness Metric</span>! <span style=\"color: #374151; text-decoration-color: #374151; font-weight: bold\">(</span><span style=\"color: #374151; text-decoration-color: #374151\">using gpt-</span><span style=\"color: #374151; text-decoration-color: #374151; font-weight: bold\">4.1</span><span style=\"color: #374151; text-decoration-color: #374151\">, </span><span style=\"color: #374151; text-decoration-color: #374151\">strict</span><span style=\"color: #374151; text-decoration-color: #374151\">=</span><span style=\"color: #374151; text-decoration-color: #374151; font-style: italic\">False</span><span style=\"color: #374151; text-decoration-color: #374151\">, </span><span style=\"color: #374151; text-decoration-color: #374151\">async_mode</span><span style=\"color: #374151; text-decoration-color: #374151\">=</span><span style=\"color: #374151; text-decoration-color: #374151; font-style: italic\">True</span><span style=\"color: #374151; text-decoration-color: #374151; font-weight: bold\">)</span><span style=\"color: #374151; text-decoration-color: #374151\">...</span>\n",
       "</pre>\n"
      ],
      "text/plain": [
       "✨ You're running DeepEval's latest \u001b[38;2;106;0;255mFaithfulness Metric\u001b[0m! \u001b[1;38;2;55;65;81m(\u001b[0m\u001b[38;2;55;65;81musing gpt-\u001b[0m\u001b[1;38;2;55;65;81m4.1\u001b[0m\u001b[38;2;55;65;81m, \u001b[0m\u001b[38;2;55;65;81mstrict\u001b[0m\u001b[38;2;55;65;81m=\u001b[0m\u001b[3;38;2;55;65;81mFalse\u001b[0m\u001b[38;2;55;65;81m, \u001b[0m\u001b[38;2;55;65;81masync_mode\u001b[0m\u001b[38;2;55;65;81m=\u001b[0m\u001b[3;38;2;55;65;81mTrue\u001b[0m\u001b[1;38;2;55;65;81m)\u001b[0m\u001b[38;2;55;65;81m...\u001b[0m\n"
      ]
     },
     "metadata": {},
     "output_type": "display_data"
    },
    {
     "data": {
      "text/html": [
       "<pre style=\"white-space:pre;overflow-x:auto;line-height:normal;font-family:Menlo,'DejaVu Sans Mono',consolas,'Courier New',monospace\">✨ You're running DeepEval's latest <span style=\"color: #6a00ff; text-decoration-color: #6a00ff\">Contextual Relevancy Metric</span>! <span style=\"color: #374151; text-decoration-color: #374151; font-weight: bold\">(</span><span style=\"color: #374151; text-decoration-color: #374151\">using gpt-</span><span style=\"color: #374151; text-decoration-color: #374151; font-weight: bold\">4.1</span><span style=\"color: #374151; text-decoration-color: #374151\">, </span><span style=\"color: #374151; text-decoration-color: #374151\">strict</span><span style=\"color: #374151; text-decoration-color: #374151\">=</span><span style=\"color: #374151; text-decoration-color: #374151; font-style: italic\">False</span><span style=\"color: #374151; text-decoration-color: #374151\">, </span><span style=\"color: #374151; text-decoration-color: #374151\">async_mode</span><span style=\"color: #374151; text-decoration-color: #374151\">=</span><span style=\"color: #374151; text-decoration-color: #374151; font-style: italic\">True</span><span style=\"color: #374151; text-decoration-color: #374151; font-weight: bold\">)</span><span style=\"color: #374151; text-decoration-color: #374151\">...</span>\n",
       "</pre>\n"
      ],
      "text/plain": [
       "✨ You're running DeepEval's latest \u001b[38;2;106;0;255mContextual Relevancy Metric\u001b[0m! \u001b[1;38;2;55;65;81m(\u001b[0m\u001b[38;2;55;65;81musing gpt-\u001b[0m\u001b[1;38;2;55;65;81m4.1\u001b[0m\u001b[38;2;55;65;81m, \u001b[0m\u001b[38;2;55;65;81mstrict\u001b[0m\u001b[38;2;55;65;81m=\u001b[0m\u001b[3;38;2;55;65;81mFalse\u001b[0m\u001b[38;2;55;65;81m, \u001b[0m\u001b[38;2;55;65;81masync_mode\u001b[0m\u001b[38;2;55;65;81m=\u001b[0m\u001b[3;38;2;55;65;81mTrue\u001b[0m\u001b[1;38;2;55;65;81m)\u001b[0m\u001b[38;2;55;65;81m...\u001b[0m\n"
      ]
     },
     "metadata": {},
     "output_type": "display_data"
    },
    {
     "data": {
      "text/html": [
       "<pre style=\"white-space:pre;overflow-x:auto;line-height:normal;font-family:Menlo,'DejaVu Sans Mono',consolas,'Courier New',monospace\">✨ You're running DeepEval's latest <span style=\"color: #6a00ff; text-decoration-color: #6a00ff\">Contextual Precision Metric</span>! <span style=\"color: #374151; text-decoration-color: #374151; font-weight: bold\">(</span><span style=\"color: #374151; text-decoration-color: #374151\">using gpt-</span><span style=\"color: #374151; text-decoration-color: #374151; font-weight: bold\">4.1</span><span style=\"color: #374151; text-decoration-color: #374151\">, </span><span style=\"color: #374151; text-decoration-color: #374151\">strict</span><span style=\"color: #374151; text-decoration-color: #374151\">=</span><span style=\"color: #374151; text-decoration-color: #374151; font-style: italic\">False</span><span style=\"color: #374151; text-decoration-color: #374151\">, </span><span style=\"color: #374151; text-decoration-color: #374151\">async_mode</span><span style=\"color: #374151; text-decoration-color: #374151\">=</span><span style=\"color: #374151; text-decoration-color: #374151; font-style: italic\">True</span><span style=\"color: #374151; text-decoration-color: #374151; font-weight: bold\">)</span><span style=\"color: #374151; text-decoration-color: #374151\">...</span>\n",
       "</pre>\n"
      ],
      "text/plain": [
       "✨ You're running DeepEval's latest \u001b[38;2;106;0;255mContextual Precision Metric\u001b[0m! \u001b[1;38;2;55;65;81m(\u001b[0m\u001b[38;2;55;65;81musing gpt-\u001b[0m\u001b[1;38;2;55;65;81m4.1\u001b[0m\u001b[38;2;55;65;81m, \u001b[0m\u001b[38;2;55;65;81mstrict\u001b[0m\u001b[38;2;55;65;81m=\u001b[0m\u001b[3;38;2;55;65;81mFalse\u001b[0m\u001b[38;2;55;65;81m, \u001b[0m\u001b[38;2;55;65;81masync_mode\u001b[0m\u001b[38;2;55;65;81m=\u001b[0m\u001b[3;38;2;55;65;81mTrue\u001b[0m\u001b[1;38;2;55;65;81m)\u001b[0m\u001b[38;2;55;65;81m...\u001b[0m\n"
      ]
     },
     "metadata": {},
     "output_type": "display_data"
    },
    {
     "data": {
      "application/vnd.jupyter.widget-view+json": {
       "model_id": "1d9e89b18bb9420d86e43baf0f807657",
       "version_major": 2,
       "version_minor": 0
      },
      "text/plain": [
       "Output()"
      ]
     },
     "metadata": {},
     "output_type": "display_data"
    },
    {
     "data": {
      "text/html": [
       "<pre style=\"white-space:pre;overflow-x:auto;line-height:normal;font-family:Menlo,'DejaVu Sans Mono',consolas,'Courier New',monospace\">ERROR:root:OpenAI Error: Error code: 429 - {'error': {'message': 'Rate limit reached for gpt-4.1 in organization \n",
       "org-tqrWQIPT51eeIFf4v0aHntjs on tokens per min (TPM): Limit 30000, Used 30000, Requested 261. Please try again in \n",
       "522ms. Visit https://platform.openai.com/account/rate-limits to learn more.', 'type': 'tokens', 'param': None, \n",
       "'code': 'rate_limit_exceeded'}} Retrying: 1 time(s)...\n",
       "</pre>\n"
      ],
      "text/plain": [
       "ERROR:root:OpenAI Error: Error code: 429 - {'error': {'message': 'Rate limit reached for gpt-4.1 in organization \n",
       "org-tqrWQIPT51eeIFf4v0aHntjs on tokens per min (TPM): Limit 30000, Used 30000, Requested 261. Please try again in \n",
       "522ms. Visit https://platform.openai.com/account/rate-limits to learn more.', 'type': 'tokens', 'param': None, \n",
       "'code': 'rate_limit_exceeded'}} Retrying: 1 time(s)...\n"
      ]
     },
     "metadata": {},
     "output_type": "display_data"
    },
    {
     "data": {
      "text/html": [
       "<pre style=\"white-space:pre;overflow-x:auto;line-height:normal;font-family:Menlo,'DejaVu Sans Mono',consolas,'Courier New',monospace\">ERROR:root:OpenAI Error: Error code: 429 - {'error': {'message': 'Rate limit reached for gpt-4.1 in organization \n",
       "org-tqrWQIPT51eeIFf4v0aHntjs on tokens per min (TPM): Limit 30000, Used 30000, Requested 254. Please try again in \n",
       "508ms. Visit https://platform.openai.com/account/rate-limits to learn more.', 'type': 'tokens', 'param': None, \n",
       "'code': 'rate_limit_exceeded'}} Retrying: 1 time(s)...\n",
       "</pre>\n"
      ],
      "text/plain": [
       "ERROR:root:OpenAI Error: Error code: 429 - {'error': {'message': 'Rate limit reached for gpt-4.1 in organization \n",
       "org-tqrWQIPT51eeIFf4v0aHntjs on tokens per min (TPM): Limit 30000, Used 30000, Requested 254. Please try again in \n",
       "508ms. Visit https://platform.openai.com/account/rate-limits to learn more.', 'type': 'tokens', 'param': None, \n",
       "'code': 'rate_limit_exceeded'}} Retrying: 1 time(s)...\n"
      ]
     },
     "metadata": {},
     "output_type": "display_data"
    },
    {
     "data": {
      "text/html": [
       "<pre style=\"white-space:pre;overflow-x:auto;line-height:normal;font-family:Menlo,'DejaVu Sans Mono',consolas,'Courier New',monospace\">ERROR:root:OpenAI Error: Error code: 429 - {'error': {'message': 'Rate limit reached for gpt-4.1 in organization \n",
       "org-tqrWQIPT51eeIFf4v0aHntjs on tokens per min (TPM): Limit 30000, Used 30000, Requested 265. Please try again in \n",
       "530ms. Visit https://platform.openai.com/account/rate-limits to learn more.', 'type': 'tokens', 'param': None, \n",
       "'code': 'rate_limit_exceeded'}} Retrying: 1 time(s)...\n",
       "</pre>\n"
      ],
      "text/plain": [
       "ERROR:root:OpenAI Error: Error code: 429 - {'error': {'message': 'Rate limit reached for gpt-4.1 in organization \n",
       "org-tqrWQIPT51eeIFf4v0aHntjs on tokens per min (TPM): Limit 30000, Used 30000, Requested 265. Please try again in \n",
       "530ms. Visit https://platform.openai.com/account/rate-limits to learn more.', 'type': 'tokens', 'param': None, \n",
       "'code': 'rate_limit_exceeded'}} Retrying: 1 time(s)...\n"
      ]
     },
     "metadata": {},
     "output_type": "display_data"
    },
    {
     "data": {
      "text/html": [
       "<pre style=\"white-space:pre;overflow-x:auto;line-height:normal;font-family:Menlo,'DejaVu Sans Mono',consolas,'Courier New',monospace\">ERROR:root:OpenAI Error: Error code: 429 - {'error': {'message': 'Rate limit reached for gpt-4.1 in organization \n",
       "org-tqrWQIPT51eeIFf4v0aHntjs on tokens per min (TPM): Limit 30000, Used 30000, Requested 267. Please try again in \n",
       "534ms. Visit https://platform.openai.com/account/rate-limits to learn more.', 'type': 'tokens', 'param': None, \n",
       "'code': 'rate_limit_exceeded'}} Retrying: 1 time(s)...\n",
       "</pre>\n"
      ],
      "text/plain": [
       "ERROR:root:OpenAI Error: Error code: 429 - {'error': {'message': 'Rate limit reached for gpt-4.1 in organization \n",
       "org-tqrWQIPT51eeIFf4v0aHntjs on tokens per min (TPM): Limit 30000, Used 30000, Requested 267. Please try again in \n",
       "534ms. Visit https://platform.openai.com/account/rate-limits to learn more.', 'type': 'tokens', 'param': None, \n",
       "'code': 'rate_limit_exceeded'}} Retrying: 1 time(s)...\n"
      ]
     },
     "metadata": {},
     "output_type": "display_data"
    },
    {
     "data": {
      "text/html": [
       "<pre style=\"white-space:pre;overflow-x:auto;line-height:normal;font-family:Menlo,'DejaVu Sans Mono',consolas,'Courier New',monospace\">ERROR:root:OpenAI Error: Error code: 429 - {'error': {'message': 'Rate limit reached for gpt-4.1 in organization \n",
       "org-tqrWQIPT51eeIFf4v0aHntjs on tokens per min (TPM): Limit 30000, Used 30000, Requested 354. Please try again in \n",
       "708ms. Visit https://platform.openai.com/account/rate-limits to learn more.', 'type': 'tokens', 'param': None, \n",
       "'code': 'rate_limit_exceeded'}} Retrying: 1 time(s)...\n",
       "</pre>\n"
      ],
      "text/plain": [
       "ERROR:root:OpenAI Error: Error code: 429 - {'error': {'message': 'Rate limit reached for gpt-4.1 in organization \n",
       "org-tqrWQIPT51eeIFf4v0aHntjs on tokens per min (TPM): Limit 30000, Used 30000, Requested 354. Please try again in \n",
       "708ms. Visit https://platform.openai.com/account/rate-limits to learn more.', 'type': 'tokens', 'param': None, \n",
       "'code': 'rate_limit_exceeded'}} Retrying: 1 time(s)...\n"
      ]
     },
     "metadata": {},
     "output_type": "display_data"
    },
    {
     "data": {
      "text/html": [
       "<pre style=\"white-space:pre;overflow-x:auto;line-height:normal;font-family:Menlo,'DejaVu Sans Mono',consolas,'Courier New',monospace\">ERROR:root:OpenAI Error: Error code: 429 - {'error': {'message': 'Rate limit reached for gpt-4.1 in organization \n",
       "org-tqrWQIPT51eeIFf4v0aHntjs on tokens per min (TPM): Limit 30000, Used 30000, Requested 363. Please try again in \n",
       "726ms. Visit https://platform.openai.com/account/rate-limits to learn more.', 'type': 'tokens', 'param': None, \n",
       "'code': 'rate_limit_exceeded'}} Retrying: 1 time(s)...\n",
       "</pre>\n"
      ],
      "text/plain": [
       "ERROR:root:OpenAI Error: Error code: 429 - {'error': {'message': 'Rate limit reached for gpt-4.1 in organization \n",
       "org-tqrWQIPT51eeIFf4v0aHntjs on tokens per min (TPM): Limit 30000, Used 30000, Requested 363. Please try again in \n",
       "726ms. Visit https://platform.openai.com/account/rate-limits to learn more.', 'type': 'tokens', 'param': None, \n",
       "'code': 'rate_limit_exceeded'}} Retrying: 1 time(s)...\n"
      ]
     },
     "metadata": {},
     "output_type": "display_data"
    },
    {
     "data": {
      "text/html": [
       "<pre style=\"white-space:pre;overflow-x:auto;line-height:normal;font-family:Menlo,'DejaVu Sans Mono',consolas,'Courier New',monospace\">ERROR:root:OpenAI Error: Error code: 429 - {'error': {'message': 'Rate limit reached for gpt-4.1 in organization \n",
       "org-tqrWQIPT51eeIFf4v0aHntjs on tokens per min (TPM): Limit 30000, Used 30000, Requested 371. Please try again in \n",
       "742ms. Visit https://platform.openai.com/account/rate-limits to learn more.', 'type': 'tokens', 'param': None, \n",
       "'code': 'rate_limit_exceeded'}} Retrying: 1 time(s)...\n",
       "</pre>\n"
      ],
      "text/plain": [
       "ERROR:root:OpenAI Error: Error code: 429 - {'error': {'message': 'Rate limit reached for gpt-4.1 in organization \n",
       "org-tqrWQIPT51eeIFf4v0aHntjs on tokens per min (TPM): Limit 30000, Used 30000, Requested 371. Please try again in \n",
       "742ms. Visit https://platform.openai.com/account/rate-limits to learn more.', 'type': 'tokens', 'param': None, \n",
       "'code': 'rate_limit_exceeded'}} Retrying: 1 time(s)...\n"
      ]
     },
     "metadata": {},
     "output_type": "display_data"
    },
    {
     "data": {
      "text/html": [
       "<pre style=\"white-space:pre;overflow-x:auto;line-height:normal;font-family:Menlo,'DejaVu Sans Mono',consolas,'Courier New',monospace\">ERROR:root:OpenAI Error: Error code: 429 - {'error': {'message': 'Rate limit reached for gpt-4.1 in organization \n",
       "org-tqrWQIPT51eeIFf4v0aHntjs on tokens per min (TPM): Limit 30000, Used 30000, Requested 254. Please try again in \n",
       "508ms. Visit https://platform.openai.com/account/rate-limits to learn more.', 'type': 'tokens', 'param': None, \n",
       "'code': 'rate_limit_exceeded'}} Retrying: 1 time(s)...\n",
       "</pre>\n"
      ],
      "text/plain": [
       "ERROR:root:OpenAI Error: Error code: 429 - {'error': {'message': 'Rate limit reached for gpt-4.1 in organization \n",
       "org-tqrWQIPT51eeIFf4v0aHntjs on tokens per min (TPM): Limit 30000, Used 30000, Requested 254. Please try again in \n",
       "508ms. Visit https://platform.openai.com/account/rate-limits to learn more.', 'type': 'tokens', 'param': None, \n",
       "'code': 'rate_limit_exceeded'}} Retrying: 1 time(s)...\n"
      ]
     },
     "metadata": {},
     "output_type": "display_data"
    },
    {
     "data": {
      "text/html": [
       "<pre style=\"white-space:pre;overflow-x:auto;line-height:normal;font-family:Menlo,'DejaVu Sans Mono',consolas,'Courier New',monospace\">ERROR:root:OpenAI Error: Error code: 429 - {'error': {'message': 'Rate limit reached for gpt-4.1 in organization \n",
       "org-tqrWQIPT51eeIFf4v0aHntjs on tokens per min (TPM): Limit 30000, Used 30000, Requested 254. Please try again in \n",
       "508ms. Visit https://platform.openai.com/account/rate-limits to learn more.', 'type': 'tokens', 'param': None, \n",
       "'code': 'rate_limit_exceeded'}} Retrying: 1 time(s)...\n",
       "</pre>\n"
      ],
      "text/plain": [
       "ERROR:root:OpenAI Error: Error code: 429 - {'error': {'message': 'Rate limit reached for gpt-4.1 in organization \n",
       "org-tqrWQIPT51eeIFf4v0aHntjs on tokens per min (TPM): Limit 30000, Used 30000, Requested 254. Please try again in \n",
       "508ms. Visit https://platform.openai.com/account/rate-limits to learn more.', 'type': 'tokens', 'param': None, \n",
       "'code': 'rate_limit_exceeded'}} Retrying: 1 time(s)...\n"
      ]
     },
     "metadata": {},
     "output_type": "display_data"
    },
    {
     "data": {
      "text/html": [
       "<pre style=\"white-space:pre;overflow-x:auto;line-height:normal;font-family:Menlo,'DejaVu Sans Mono',consolas,'Courier New',monospace\">ERROR:root:OpenAI Error: Error code: 429 - {'error': {'message': 'Rate limit reached for gpt-4.1 in organization \n",
       "org-tqrWQIPT51eeIFf4v0aHntjs on tokens per min (TPM): Limit 30000, Used 30000, Requested 649. Please try again in \n",
       "1.298s. Visit https://platform.openai.com/account/rate-limits to learn more.', 'type': 'tokens', 'param': None, \n",
       "'code': 'rate_limit_exceeded'}} Retrying: 1 time(s)...\n",
       "</pre>\n"
      ],
      "text/plain": [
       "ERROR:root:OpenAI Error: Error code: 429 - {'error': {'message': 'Rate limit reached for gpt-4.1 in organization \n",
       "org-tqrWQIPT51eeIFf4v0aHntjs on tokens per min (TPM): Limit 30000, Used 30000, Requested 649. Please try again in \n",
       "1.298s. Visit https://platform.openai.com/account/rate-limits to learn more.', 'type': 'tokens', 'param': None, \n",
       "'code': 'rate_limit_exceeded'}} Retrying: 1 time(s)...\n"
      ]
     },
     "metadata": {},
     "output_type": "display_data"
    },
    {
     "data": {
      "text/html": [
       "<pre style=\"white-space:pre;overflow-x:auto;line-height:normal;font-family:Menlo,'DejaVu Sans Mono',consolas,'Courier New',monospace\">ERROR:root:OpenAI Error: Error code: 429 - {'error': {'message': 'Rate limit reached for gpt-4.1 in organization \n",
       "org-tqrWQIPT51eeIFf4v0aHntjs on tokens per min (TPM): Limit 30000, Used 30000, Requested 594. Please try again in \n",
       "1.188s. Visit https://platform.openai.com/account/rate-limits to learn more.', 'type': 'tokens', 'param': None, \n",
       "'code': 'rate_limit_exceeded'}} Retrying: 1 time(s)...\n",
       "</pre>\n"
      ],
      "text/plain": [
       "ERROR:root:OpenAI Error: Error code: 429 - {'error': {'message': 'Rate limit reached for gpt-4.1 in organization \n",
       "org-tqrWQIPT51eeIFf4v0aHntjs on tokens per min (TPM): Limit 30000, Used 30000, Requested 594. Please try again in \n",
       "1.188s. Visit https://platform.openai.com/account/rate-limits to learn more.', 'type': 'tokens', 'param': None, \n",
       "'code': 'rate_limit_exceeded'}} Retrying: 1 time(s)...\n"
      ]
     },
     "metadata": {},
     "output_type": "display_data"
    },
    {
     "data": {
      "text/html": [
       "<pre style=\"white-space:pre;overflow-x:auto;line-height:normal;font-family:Menlo,'DejaVu Sans Mono',consolas,'Courier New',monospace\">ERROR:root:OpenAI Error: Error code: 429 - {'error': {'message': 'Rate limit reached for gpt-4.1 in organization \n",
       "org-tqrWQIPT51eeIFf4v0aHntjs on tokens per min (TPM): Limit 30000, Used 30000, Requested 604. Please try again in \n",
       "1.208s. Visit https://platform.openai.com/account/rate-limits to learn more.', 'type': 'tokens', 'param': None, \n",
       "'code': 'rate_limit_exceeded'}} Retrying: 1 time(s)...\n",
       "</pre>\n"
      ],
      "text/plain": [
       "ERROR:root:OpenAI Error: Error code: 429 - {'error': {'message': 'Rate limit reached for gpt-4.1 in organization \n",
       "org-tqrWQIPT51eeIFf4v0aHntjs on tokens per min (TPM): Limit 30000, Used 30000, Requested 604. Please try again in \n",
       "1.208s. Visit https://platform.openai.com/account/rate-limits to learn more.', 'type': 'tokens', 'param': None, \n",
       "'code': 'rate_limit_exceeded'}} Retrying: 1 time(s)...\n"
      ]
     },
     "metadata": {},
     "output_type": "display_data"
    },
    {
     "data": {
      "text/html": [
       "<pre style=\"white-space:pre;overflow-x:auto;line-height:normal;font-family:Menlo,'DejaVu Sans Mono',consolas,'Courier New',monospace\">ERROR:root:OpenAI Error: Error code: 429 - {'error': {'message': 'Rate limit reached for gpt-4.1 in organization \n",
       "org-tqrWQIPT51eeIFf4v0aHntjs on tokens per min (TPM): Limit 30000, Used 30000, Requested 584. Please try again in \n",
       "1.168s. Visit https://platform.openai.com/account/rate-limits to learn more.', 'type': 'tokens', 'param': None, \n",
       "'code': 'rate_limit_exceeded'}} Retrying: 1 time(s)...\n",
       "</pre>\n"
      ],
      "text/plain": [
       "ERROR:root:OpenAI Error: Error code: 429 - {'error': {'message': 'Rate limit reached for gpt-4.1 in organization \n",
       "org-tqrWQIPT51eeIFf4v0aHntjs on tokens per min (TPM): Limit 30000, Used 30000, Requested 584. Please try again in \n",
       "1.168s. Visit https://platform.openai.com/account/rate-limits to learn more.', 'type': 'tokens', 'param': None, \n",
       "'code': 'rate_limit_exceeded'}} Retrying: 1 time(s)...\n"
      ]
     },
     "metadata": {},
     "output_type": "display_data"
    },
    {
     "data": {
      "text/html": [
       "<pre style=\"white-space:pre;overflow-x:auto;line-height:normal;font-family:Menlo,'DejaVu Sans Mono',consolas,'Courier New',monospace\">ERROR:root:OpenAI Error: Error code: 429 - {'error': {'message': 'Rate limit reached for gpt-4.1 in organization \n",
       "org-tqrWQIPT51eeIFf4v0aHntjs on tokens per min (TPM): Limit 30000, Used 30000, Requested 561. Please try again in \n",
       "1.122s. Visit https://platform.openai.com/account/rate-limits to learn more.', 'type': 'tokens', 'param': None, \n",
       "'code': 'rate_limit_exceeded'}} Retrying: 1 time(s)...\n",
       "</pre>\n"
      ],
      "text/plain": [
       "ERROR:root:OpenAI Error: Error code: 429 - {'error': {'message': 'Rate limit reached for gpt-4.1 in organization \n",
       "org-tqrWQIPT51eeIFf4v0aHntjs on tokens per min (TPM): Limit 30000, Used 30000, Requested 561. Please try again in \n",
       "1.122s. Visit https://platform.openai.com/account/rate-limits to learn more.', 'type': 'tokens', 'param': None, \n",
       "'code': 'rate_limit_exceeded'}} Retrying: 1 time(s)...\n"
      ]
     },
     "metadata": {},
     "output_type": "display_data"
    },
    {
     "data": {
      "text/html": [
       "<pre style=\"white-space:pre;overflow-x:auto;line-height:normal;font-family:Menlo,'DejaVu Sans Mono',consolas,'Courier New',monospace\">ERROR:root:OpenAI Error: Error code: 429 - {'error': {'message': 'Rate limit reached for gpt-4.1 in organization \n",
       "org-tqrWQIPT51eeIFf4v0aHntjs on tokens per min (TPM): Limit 30000, Used 30000, Requested 588. Please try again in \n",
       "1.176s. Visit https://platform.openai.com/account/rate-limits to learn more.', 'type': 'tokens', 'param': None, \n",
       "'code': 'rate_limit_exceeded'}} Retrying: 1 time(s)...\n",
       "</pre>\n"
      ],
      "text/plain": [
       "ERROR:root:OpenAI Error: Error code: 429 - {'error': {'message': 'Rate limit reached for gpt-4.1 in organization \n",
       "org-tqrWQIPT51eeIFf4v0aHntjs on tokens per min (TPM): Limit 30000, Used 30000, Requested 588. Please try again in \n",
       "1.176s. Visit https://platform.openai.com/account/rate-limits to learn more.', 'type': 'tokens', 'param': None, \n",
       "'code': 'rate_limit_exceeded'}} Retrying: 1 time(s)...\n"
      ]
     },
     "metadata": {},
     "output_type": "display_data"
    },
    {
     "data": {
      "text/html": [
       "<pre style=\"white-space:pre;overflow-x:auto;line-height:normal;font-family:Menlo,'DejaVu Sans Mono',consolas,'Courier New',monospace\">ERROR:root:OpenAI Error: Error code: 429 - {'error': {'message': 'Rate limit reached for gpt-4.1 in organization \n",
       "org-tqrWQIPT51eeIFf4v0aHntjs on tokens per min (TPM): Limit 30000, Used 30000, Requested 739. Please try again in \n",
       "1.478s. Visit https://platform.openai.com/account/rate-limits to learn more.', 'type': 'tokens', 'param': None, \n",
       "'code': 'rate_limit_exceeded'}} Retrying: 1 time(s)...\n",
       "</pre>\n"
      ],
      "text/plain": [
       "ERROR:root:OpenAI Error: Error code: 429 - {'error': {'message': 'Rate limit reached for gpt-4.1 in organization \n",
       "org-tqrWQIPT51eeIFf4v0aHntjs on tokens per min (TPM): Limit 30000, Used 30000, Requested 739. Please try again in \n",
       "1.478s. Visit https://platform.openai.com/account/rate-limits to learn more.', 'type': 'tokens', 'param': None, \n",
       "'code': 'rate_limit_exceeded'}} Retrying: 1 time(s)...\n"
      ]
     },
     "metadata": {},
     "output_type": "display_data"
    },
    {
     "data": {
      "text/html": [
       "<pre style=\"white-space:pre;overflow-x:auto;line-height:normal;font-family:Menlo,'DejaVu Sans Mono',consolas,'Courier New',monospace\">ERROR:root:OpenAI Error: Error code: 429 - {'error': {'message': 'Rate limit reached for gpt-4.1 in organization \n",
       "org-tqrWQIPT51eeIFf4v0aHntjs on tokens per min (TPM): Limit 30000, Used 30000, Requested 564. Please try again in \n",
       "1.128s. Visit https://platform.openai.com/account/rate-limits to learn more.', 'type': 'tokens', 'param': None, \n",
       "'code': 'rate_limit_exceeded'}} Retrying: 1 time(s)...\n",
       "</pre>\n"
      ],
      "text/plain": [
       "ERROR:root:OpenAI Error: Error code: 429 - {'error': {'message': 'Rate limit reached for gpt-4.1 in organization \n",
       "org-tqrWQIPT51eeIFf4v0aHntjs on tokens per min (TPM): Limit 30000, Used 30000, Requested 564. Please try again in \n",
       "1.128s. Visit https://platform.openai.com/account/rate-limits to learn more.', 'type': 'tokens', 'param': None, \n",
       "'code': 'rate_limit_exceeded'}} Retrying: 1 time(s)...\n"
      ]
     },
     "metadata": {},
     "output_type": "display_data"
    },
    {
     "data": {
      "text/html": [
       "<pre style=\"white-space:pre;overflow-x:auto;line-height:normal;font-family:Menlo,'DejaVu Sans Mono',consolas,'Courier New',monospace\">ERROR:root:OpenAI Error: Error code: 429 - {'error': {'message': 'Rate limit reached for gpt-4.1 in organization \n",
       "org-tqrWQIPT51eeIFf4v0aHntjs on tokens per min (TPM): Limit 30000, Used 30000, Requested 612. Please try again in \n",
       "1.224s. Visit https://platform.openai.com/account/rate-limits to learn more.', 'type': 'tokens', 'param': None, \n",
       "'code': 'rate_limit_exceeded'}} Retrying: 1 time(s)...\n",
       "</pre>\n"
      ],
      "text/plain": [
       "ERROR:root:OpenAI Error: Error code: 429 - {'error': {'message': 'Rate limit reached for gpt-4.1 in organization \n",
       "org-tqrWQIPT51eeIFf4v0aHntjs on tokens per min (TPM): Limit 30000, Used 30000, Requested 612. Please try again in \n",
       "1.224s. Visit https://platform.openai.com/account/rate-limits to learn more.', 'type': 'tokens', 'param': None, \n",
       "'code': 'rate_limit_exceeded'}} Retrying: 1 time(s)...\n"
      ]
     },
     "metadata": {},
     "output_type": "display_data"
    },
    {
     "data": {
      "text/html": [
       "<pre style=\"white-space:pre;overflow-x:auto;line-height:normal;font-family:Menlo,'DejaVu Sans Mono',consolas,'Courier New',monospace\">ERROR:root:OpenAI Error: Error code: 429 - {'error': {'message': 'Rate limit reached for gpt-4.1 in organization \n",
       "org-tqrWQIPT51eeIFf4v0aHntjs on tokens per min (TPM): Limit 30000, Used 30000, Requested 751. Please try again in \n",
       "1.502s. Visit https://platform.openai.com/account/rate-limits to learn more.', 'type': 'tokens', 'param': None, \n",
       "'code': 'rate_limit_exceeded'}} Retrying: 1 time(s)...\n",
       "</pre>\n"
      ],
      "text/plain": [
       "ERROR:root:OpenAI Error: Error code: 429 - {'error': {'message': 'Rate limit reached for gpt-4.1 in organization \n",
       "org-tqrWQIPT51eeIFf4v0aHntjs on tokens per min (TPM): Limit 30000, Used 30000, Requested 751. Please try again in \n",
       "1.502s. Visit https://platform.openai.com/account/rate-limits to learn more.', 'type': 'tokens', 'param': None, \n",
       "'code': 'rate_limit_exceeded'}} Retrying: 1 time(s)...\n"
      ]
     },
     "metadata": {},
     "output_type": "display_data"
    },
    {
     "data": {
      "text/html": [
       "<pre style=\"white-space:pre;overflow-x:auto;line-height:normal;font-family:Menlo,'DejaVu Sans Mono',consolas,'Courier New',monospace\">ERROR:root:OpenAI Error: Error code: 429 - {'error': {'message': 'Rate limit reached for gpt-4.1 in organization \n",
       "org-tqrWQIPT51eeIFf4v0aHntjs on tokens per min (TPM): Limit 30000, Used 30000, Requested 784. Please try again in \n",
       "1.568s. Visit https://platform.openai.com/account/rate-limits to learn more.', 'type': 'tokens', 'param': None, \n",
       "'code': 'rate_limit_exceeded'}} Retrying: 1 time(s)...\n",
       "</pre>\n"
      ],
      "text/plain": [
       "ERROR:root:OpenAI Error: Error code: 429 - {'error': {'message': 'Rate limit reached for gpt-4.1 in organization \n",
       "org-tqrWQIPT51eeIFf4v0aHntjs on tokens per min (TPM): Limit 30000, Used 30000, Requested 784. Please try again in \n",
       "1.568s. Visit https://platform.openai.com/account/rate-limits to learn more.', 'type': 'tokens', 'param': None, \n",
       "'code': 'rate_limit_exceeded'}} Retrying: 1 time(s)...\n"
      ]
     },
     "metadata": {},
     "output_type": "display_data"
    },
    {
     "data": {
      "text/html": [
       "<pre style=\"white-space:pre;overflow-x:auto;line-height:normal;font-family:Menlo,'DejaVu Sans Mono',consolas,'Courier New',monospace\">ERROR:root:OpenAI Error: Error code: 429 - {'error': {'message': 'Rate limit reached for gpt-4.1 in organization \n",
       "org-tqrWQIPT51eeIFf4v0aHntjs on tokens per min (TPM): Limit 30000, Used 30000, Requested 254. Please try again in \n",
       "508ms. Visit https://platform.openai.com/account/rate-limits to learn more.', 'type': 'tokens', 'param': None, \n",
       "'code': 'rate_limit_exceeded'}} Retrying: 2 time(s)...\n",
       "</pre>\n"
      ],
      "text/plain": [
       "ERROR:root:OpenAI Error: Error code: 429 - {'error': {'message': 'Rate limit reached for gpt-4.1 in organization \n",
       "org-tqrWQIPT51eeIFf4v0aHntjs on tokens per min (TPM): Limit 30000, Used 30000, Requested 254. Please try again in \n",
       "508ms. Visit https://platform.openai.com/account/rate-limits to learn more.', 'type': 'tokens', 'param': None, \n",
       "'code': 'rate_limit_exceeded'}} Retrying: 2 time(s)...\n"
      ]
     },
     "metadata": {},
     "output_type": "display_data"
    },
    {
     "data": {
      "text/html": [
       "<pre style=\"white-space:pre;overflow-x:auto;line-height:normal;font-family:Menlo,'DejaVu Sans Mono',consolas,'Courier New',monospace\">ERROR:root:OpenAI Error: Error code: 429 - {'error': {'message': 'Rate limit reached for gpt-4.1 in organization \n",
       "org-tqrWQIPT51eeIFf4v0aHntjs on tokens per min (TPM): Limit 30000, Used 30000, Requested 267. Please try again in \n",
       "534ms. Visit https://platform.openai.com/account/rate-limits to learn more.', 'type': 'tokens', 'param': None, \n",
       "'code': 'rate_limit_exceeded'}} Retrying: 2 time(s)...\n",
       "</pre>\n"
      ],
      "text/plain": [
       "ERROR:root:OpenAI Error: Error code: 429 - {'error': {'message': 'Rate limit reached for gpt-4.1 in organization \n",
       "org-tqrWQIPT51eeIFf4v0aHntjs on tokens per min (TPM): Limit 30000, Used 30000, Requested 267. Please try again in \n",
       "534ms. Visit https://platform.openai.com/account/rate-limits to learn more.', 'type': 'tokens', 'param': None, \n",
       "'code': 'rate_limit_exceeded'}} Retrying: 2 time(s)...\n"
      ]
     },
     "metadata": {},
     "output_type": "display_data"
    },
    {
     "data": {
      "text/html": [
       "<pre style=\"white-space:pre;overflow-x:auto;line-height:normal;font-family:Menlo,'DejaVu Sans Mono',consolas,'Courier New',monospace\">ERROR:root:OpenAI Error: Error code: 429 - {'error': {'message': 'Rate limit reached for gpt-4.1 in organization \n",
       "org-tqrWQIPT51eeIFf4v0aHntjs on tokens per min (TPM): Limit 30000, Used 30000, Requested 371. Please try again in \n",
       "742ms. Visit https://platform.openai.com/account/rate-limits to learn more.', 'type': 'tokens', 'param': None, \n",
       "'code': 'rate_limit_exceeded'}} Retrying: 2 time(s)...\n",
       "</pre>\n"
      ],
      "text/plain": [
       "ERROR:root:OpenAI Error: Error code: 429 - {'error': {'message': 'Rate limit reached for gpt-4.1 in organization \n",
       "org-tqrWQIPT51eeIFf4v0aHntjs on tokens per min (TPM): Limit 30000, Used 30000, Requested 371. Please try again in \n",
       "742ms. Visit https://platform.openai.com/account/rate-limits to learn more.', 'type': 'tokens', 'param': None, \n",
       "'code': 'rate_limit_exceeded'}} Retrying: 2 time(s)...\n"
      ]
     },
     "metadata": {},
     "output_type": "display_data"
    },
    {
     "data": {
      "text/html": [
       "<pre style=\"white-space:pre;overflow-x:auto;line-height:normal;font-family:Menlo,'DejaVu Sans Mono',consolas,'Courier New',monospace\">ERROR:root:OpenAI Error: Error code: 429 - {'error': {'message': 'Rate limit reached for gpt-4.1 in organization \n",
       "org-tqrWQIPT51eeIFf4v0aHntjs on tokens per min (TPM): Limit 30000, Used 30000, Requested 261. Please try again in \n",
       "522ms. Visit https://platform.openai.com/account/rate-limits to learn more.', 'type': 'tokens', 'param': None, \n",
       "'code': 'rate_limit_exceeded'}} Retrying: 2 time(s)...\n",
       "</pre>\n"
      ],
      "text/plain": [
       "ERROR:root:OpenAI Error: Error code: 429 - {'error': {'message': 'Rate limit reached for gpt-4.1 in organization \n",
       "org-tqrWQIPT51eeIFf4v0aHntjs on tokens per min (TPM): Limit 30000, Used 30000, Requested 261. Please try again in \n",
       "522ms. Visit https://platform.openai.com/account/rate-limits to learn more.', 'type': 'tokens', 'param': None, \n",
       "'code': 'rate_limit_exceeded'}} Retrying: 2 time(s)...\n"
      ]
     },
     "metadata": {},
     "output_type": "display_data"
    },
    {
     "data": {
      "text/html": [
       "<pre style=\"white-space:pre;overflow-x:auto;line-height:normal;font-family:Menlo,'DejaVu Sans Mono',consolas,'Courier New',monospace\">ERROR:root:OpenAI Error: Error code: 429 - {'error': {'message': 'Rate limit reached for gpt-4.1 in organization \n",
       "org-tqrWQIPT51eeIFf4v0aHntjs on tokens per min (TPM): Limit 30000, Used 30000, Requested 265. Please try again in \n",
       "530ms. Visit https://platform.openai.com/account/rate-limits to learn more.', 'type': 'tokens', 'param': None, \n",
       "'code': 'rate_limit_exceeded'}} Retrying: 2 time(s)...\n",
       "</pre>\n"
      ],
      "text/plain": [
       "ERROR:root:OpenAI Error: Error code: 429 - {'error': {'message': 'Rate limit reached for gpt-4.1 in organization \n",
       "org-tqrWQIPT51eeIFf4v0aHntjs on tokens per min (TPM): Limit 30000, Used 30000, Requested 265. Please try again in \n",
       "530ms. Visit https://platform.openai.com/account/rate-limits to learn more.', 'type': 'tokens', 'param': None, \n",
       "'code': 'rate_limit_exceeded'}} Retrying: 2 time(s)...\n"
      ]
     },
     "metadata": {},
     "output_type": "display_data"
    },
    {
     "data": {
      "text/html": [
       "<pre style=\"white-space:pre;overflow-x:auto;line-height:normal;font-family:Menlo,'DejaVu Sans Mono',consolas,'Courier New',monospace\">ERROR:root:OpenAI Error: Error code: 429 - {'error': {'message': 'Rate limit reached for gpt-4.1 in organization \n",
       "org-tqrWQIPT51eeIFf4v0aHntjs on tokens per min (TPM): Limit 30000, Used 30000, Requested 254. Please try again in \n",
       "508ms. Visit https://platform.openai.com/account/rate-limits to learn more.', 'type': 'tokens', 'param': None, \n",
       "'code': 'rate_limit_exceeded'}} Retrying: 2 time(s)...\n",
       "</pre>\n"
      ],
      "text/plain": [
       "ERROR:root:OpenAI Error: Error code: 429 - {'error': {'message': 'Rate limit reached for gpt-4.1 in organization \n",
       "org-tqrWQIPT51eeIFf4v0aHntjs on tokens per min (TPM): Limit 30000, Used 30000, Requested 254. Please try again in \n",
       "508ms. Visit https://platform.openai.com/account/rate-limits to learn more.', 'type': 'tokens', 'param': None, \n",
       "'code': 'rate_limit_exceeded'}} Retrying: 2 time(s)...\n"
      ]
     },
     "metadata": {},
     "output_type": "display_data"
    },
    {
     "data": {
      "text/html": [
       "<pre style=\"white-space:pre;overflow-x:auto;line-height:normal;font-family:Menlo,'DejaVu Sans Mono',consolas,'Courier New',monospace\">ERROR:root:OpenAI Error: Error code: 429 - {'error': {'message': 'Rate limit reached for gpt-4.1 in organization \n",
       "org-tqrWQIPT51eeIFf4v0aHntjs on tokens per min (TPM): Limit 30000, Used 30000, Requested 254. Please try again in \n",
       "508ms. Visit https://platform.openai.com/account/rate-limits to learn more.', 'type': 'tokens', 'param': None, \n",
       "'code': 'rate_limit_exceeded'}} Retrying: 2 time(s)...\n",
       "</pre>\n"
      ],
      "text/plain": [
       "ERROR:root:OpenAI Error: Error code: 429 - {'error': {'message': 'Rate limit reached for gpt-4.1 in organization \n",
       "org-tqrWQIPT51eeIFf4v0aHntjs on tokens per min (TPM): Limit 30000, Used 30000, Requested 254. Please try again in \n",
       "508ms. Visit https://platform.openai.com/account/rate-limits to learn more.', 'type': 'tokens', 'param': None, \n",
       "'code': 'rate_limit_exceeded'}} Retrying: 2 time(s)...\n"
      ]
     },
     "metadata": {},
     "output_type": "display_data"
    },
    {
     "data": {
      "text/html": [
       "<pre style=\"white-space:pre;overflow-x:auto;line-height:normal;font-family:Menlo,'DejaVu Sans Mono',consolas,'Courier New',monospace\">ERROR:root:OpenAI Error: Error code: 429 - {'error': {'message': 'Rate limit reached for gpt-4.1 in organization \n",
       "org-tqrWQIPT51eeIFf4v0aHntjs on tokens per min (TPM): Limit 30000, Used 30000, Requested 266. Please try again in \n",
       "532ms. Visit https://platform.openai.com/account/rate-limits to learn more.', 'type': 'tokens', 'param': None, \n",
       "'code': 'rate_limit_exceeded'}} Retrying: 1 time(s)...\n",
       "</pre>\n"
      ],
      "text/plain": [
       "ERROR:root:OpenAI Error: Error code: 429 - {'error': {'message': 'Rate limit reached for gpt-4.1 in organization \n",
       "org-tqrWQIPT51eeIFf4v0aHntjs on tokens per min (TPM): Limit 30000, Used 30000, Requested 266. Please try again in \n",
       "532ms. Visit https://platform.openai.com/account/rate-limits to learn more.', 'type': 'tokens', 'param': None, \n",
       "'code': 'rate_limit_exceeded'}} Retrying: 1 time(s)...\n"
      ]
     },
     "metadata": {},
     "output_type": "display_data"
    },
    {
     "data": {
      "text/html": [
       "<pre style=\"white-space:pre;overflow-x:auto;line-height:normal;font-family:Menlo,'DejaVu Sans Mono',consolas,'Courier New',monospace\">ERROR:root:OpenAI Error: Error code: 429 - {'error': {'message': 'Rate limit reached for gpt-4.1 in organization \n",
       "org-tqrWQIPT51eeIFf4v0aHntjs on tokens per min (TPM): Limit 30000, Used 30000, Requested 264. Please try again in \n",
       "528ms. Visit https://platform.openai.com/account/rate-limits to learn more.', 'type': 'tokens', 'param': None, \n",
       "'code': 'rate_limit_exceeded'}} Retrying: 1 time(s)...\n",
       "</pre>\n"
      ],
      "text/plain": [
       "ERROR:root:OpenAI Error: Error code: 429 - {'error': {'message': 'Rate limit reached for gpt-4.1 in organization \n",
       "org-tqrWQIPT51eeIFf4v0aHntjs on tokens per min (TPM): Limit 30000, Used 30000, Requested 264. Please try again in \n",
       "528ms. Visit https://platform.openai.com/account/rate-limits to learn more.', 'type': 'tokens', 'param': None, \n",
       "'code': 'rate_limit_exceeded'}} Retrying: 1 time(s)...\n"
      ]
     },
     "metadata": {},
     "output_type": "display_data"
    },
    {
     "data": {
      "text/html": [
       "<pre style=\"white-space:pre;overflow-x:auto;line-height:normal;font-family:Menlo,'DejaVu Sans Mono',consolas,'Courier New',monospace\">ERROR:root:OpenAI Error: Error code: 429 - {'error': {'message': 'Rate limit reached for gpt-4.1 in organization \n",
       "org-tqrWQIPT51eeIFf4v0aHntjs on tokens per min (TPM): Limit 30000, Used 30000, Requested 363. Please try again in \n",
       "726ms. Visit https://platform.openai.com/account/rate-limits to learn more.', 'type': 'tokens', 'param': None, \n",
       "'code': 'rate_limit_exceeded'}} Retrying: 2 time(s)...\n",
       "</pre>\n"
      ],
      "text/plain": [
       "ERROR:root:OpenAI Error: Error code: 429 - {'error': {'message': 'Rate limit reached for gpt-4.1 in organization \n",
       "org-tqrWQIPT51eeIFf4v0aHntjs on tokens per min (TPM): Limit 30000, Used 30000, Requested 363. Please try again in \n",
       "726ms. Visit https://platform.openai.com/account/rate-limits to learn more.', 'type': 'tokens', 'param': None, \n",
       "'code': 'rate_limit_exceeded'}} Retrying: 2 time(s)...\n"
      ]
     },
     "metadata": {},
     "output_type": "display_data"
    },
    {
     "data": {
      "text/html": [
       "<pre style=\"white-space:pre;overflow-x:auto;line-height:normal;font-family:Menlo,'DejaVu Sans Mono',consolas,'Courier New',monospace\">ERROR:root:OpenAI Error: Error code: 429 - {'error': {'message': 'Rate limit reached for gpt-4.1 in organization \n",
       "org-tqrWQIPT51eeIFf4v0aHntjs on tokens per min (TPM): Limit 30000, Used 30000, Requested 354. Please try again in \n",
       "708ms. Visit https://platform.openai.com/account/rate-limits to learn more.', 'type': 'tokens', 'param': None, \n",
       "'code': 'rate_limit_exceeded'}} Retrying: 2 time(s)...\n",
       "</pre>\n"
      ],
      "text/plain": [
       "ERROR:root:OpenAI Error: Error code: 429 - {'error': {'message': 'Rate limit reached for gpt-4.1 in organization \n",
       "org-tqrWQIPT51eeIFf4v0aHntjs on tokens per min (TPM): Limit 30000, Used 30000, Requested 354. Please try again in \n",
       "708ms. Visit https://platform.openai.com/account/rate-limits to learn more.', 'type': 'tokens', 'param': None, \n",
       "'code': 'rate_limit_exceeded'}} Retrying: 2 time(s)...\n"
      ]
     },
     "metadata": {},
     "output_type": "display_data"
    },
    {
     "data": {
      "text/html": [
       "<pre style=\"white-space:pre;overflow-x:auto;line-height:normal;font-family:Menlo,'DejaVu Sans Mono',consolas,'Courier New',monospace\">ERROR:root:OpenAI Error: Error code: 429 - {'error': {'message': 'Rate limit reached for gpt-4.1 in organization \n",
       "org-tqrWQIPT51eeIFf4v0aHntjs on tokens per min (TPM): Limit 30000, Used 30000, Requested 331. Please try again in \n",
       "662ms. Visit https://platform.openai.com/account/rate-limits to learn more.', 'type': 'tokens', 'param': None, \n",
       "'code': 'rate_limit_exceeded'}} Retrying: 1 time(s)...\n",
       "</pre>\n"
      ],
      "text/plain": [
       "ERROR:root:OpenAI Error: Error code: 429 - {'error': {'message': 'Rate limit reached for gpt-4.1 in organization \n",
       "org-tqrWQIPT51eeIFf4v0aHntjs on tokens per min (TPM): Limit 30000, Used 30000, Requested 331. Please try again in \n",
       "662ms. Visit https://platform.openai.com/account/rate-limits to learn more.', 'type': 'tokens', 'param': None, \n",
       "'code': 'rate_limit_exceeded'}} Retrying: 1 time(s)...\n"
      ]
     },
     "metadata": {},
     "output_type": "display_data"
    },
    {
     "data": {
      "text/html": [
       "<pre style=\"white-space:pre;overflow-x:auto;line-height:normal;font-family:Menlo,'DejaVu Sans Mono',consolas,'Courier New',monospace\">ERROR:root:OpenAI Error: Error code: 429 - {'error': {'message': 'Rate limit reached for gpt-4.1 in organization \n",
       "org-tqrWQIPT51eeIFf4v0aHntjs on tokens per min (TPM): Limit 30000, Used 30000, Requested 604. Please try again in \n",
       "1.208s. Visit https://platform.openai.com/account/rate-limits to learn more.', 'type': 'tokens', 'param': None, \n",
       "'code': 'rate_limit_exceeded'}} Retrying: 2 time(s)...\n",
       "</pre>\n"
      ],
      "text/plain": [
       "ERROR:root:OpenAI Error: Error code: 429 - {'error': {'message': 'Rate limit reached for gpt-4.1 in organization \n",
       "org-tqrWQIPT51eeIFf4v0aHntjs on tokens per min (TPM): Limit 30000, Used 30000, Requested 604. Please try again in \n",
       "1.208s. Visit https://platform.openai.com/account/rate-limits to learn more.', 'type': 'tokens', 'param': None, \n",
       "'code': 'rate_limit_exceeded'}} Retrying: 2 time(s)...\n"
      ]
     },
     "metadata": {},
     "output_type": "display_data"
    },
    {
     "data": {
      "text/html": [
       "<pre style=\"white-space:pre;overflow-x:auto;line-height:normal;font-family:Menlo,'DejaVu Sans Mono',consolas,'Courier New',monospace\">ERROR:root:OpenAI Error: Error code: 429 - {'error': {'message': 'Rate limit reached for gpt-4.1 in organization \n",
       "org-tqrWQIPT51eeIFf4v0aHntjs on tokens per min (TPM): Limit 30000, Used 30000, Requested 649. Please try again in \n",
       "1.298s. Visit https://platform.openai.com/account/rate-limits to learn more.', 'type': 'tokens', 'param': None, \n",
       "'code': 'rate_limit_exceeded'}} Retrying: 2 time(s)...\n",
       "</pre>\n"
      ],
      "text/plain": [
       "ERROR:root:OpenAI Error: Error code: 429 - {'error': {'message': 'Rate limit reached for gpt-4.1 in organization \n",
       "org-tqrWQIPT51eeIFf4v0aHntjs on tokens per min (TPM): Limit 30000, Used 30000, Requested 649. Please try again in \n",
       "1.298s. Visit https://platform.openai.com/account/rate-limits to learn more.', 'type': 'tokens', 'param': None, \n",
       "'code': 'rate_limit_exceeded'}} Retrying: 2 time(s)...\n"
      ]
     },
     "metadata": {},
     "output_type": "display_data"
    },
    {
     "data": {
      "text/html": [
       "<pre style=\"white-space:pre;overflow-x:auto;line-height:normal;font-family:Menlo,'DejaVu Sans Mono',consolas,'Courier New',monospace\">ERROR:root:OpenAI Error: Error code: 429 - {'error': {'message': 'Rate limit reached for gpt-4.1 in organization \n",
       "org-tqrWQIPT51eeIFf4v0aHntjs on tokens per min (TPM): Limit 30000, Used 30000, Requested 588. Please try again in \n",
       "1.176s. Visit https://platform.openai.com/account/rate-limits to learn more.', 'type': 'tokens', 'param': None, \n",
       "'code': 'rate_limit_exceeded'}} Retrying: 2 time(s)...\n",
       "</pre>\n"
      ],
      "text/plain": [
       "ERROR:root:OpenAI Error: Error code: 429 - {'error': {'message': 'Rate limit reached for gpt-4.1 in organization \n",
       "org-tqrWQIPT51eeIFf4v0aHntjs on tokens per min (TPM): Limit 30000, Used 30000, Requested 588. Please try again in \n",
       "1.176s. Visit https://platform.openai.com/account/rate-limits to learn more.', 'type': 'tokens', 'param': None, \n",
       "'code': 'rate_limit_exceeded'}} Retrying: 2 time(s)...\n"
      ]
     },
     "metadata": {},
     "output_type": "display_data"
    },
    {
     "data": {
      "text/html": [
       "<pre style=\"white-space:pre;overflow-x:auto;line-height:normal;font-family:Menlo,'DejaVu Sans Mono',consolas,'Courier New',monospace\">ERROR:root:OpenAI Error: Error code: 429 - {'error': {'message': 'Rate limit reached for gpt-4.1 in organization \n",
       "org-tqrWQIPT51eeIFf4v0aHntjs on tokens per min (TPM): Limit 30000, Used 30000, Requested 254. Please try again in \n",
       "508ms. Visit https://platform.openai.com/account/rate-limits to learn more.', 'type': 'tokens', 'param': None, \n",
       "'code': 'rate_limit_exceeded'}} Retrying: 1 time(s)...\n",
       "</pre>\n"
      ],
      "text/plain": [
       "ERROR:root:OpenAI Error: Error code: 429 - {'error': {'message': 'Rate limit reached for gpt-4.1 in organization \n",
       "org-tqrWQIPT51eeIFf4v0aHntjs on tokens per min (TPM): Limit 30000, Used 30000, Requested 254. Please try again in \n",
       "508ms. Visit https://platform.openai.com/account/rate-limits to learn more.', 'type': 'tokens', 'param': None, \n",
       "'code': 'rate_limit_exceeded'}} Retrying: 1 time(s)...\n"
      ]
     },
     "metadata": {},
     "output_type": "display_data"
    },
    {
     "data": {
      "text/html": [
       "<pre style=\"white-space:pre;overflow-x:auto;line-height:normal;font-family:Menlo,'DejaVu Sans Mono',consolas,'Courier New',monospace\">ERROR:root:OpenAI Error: Error code: 429 - {'error': {'message': 'Rate limit reached for gpt-4.1 in organization \n",
       "org-tqrWQIPT51eeIFf4v0aHntjs on tokens per min (TPM): Limit 30000, Used 30000, Requested 584. Please try again in \n",
       "1.168s. Visit https://platform.openai.com/account/rate-limits to learn more.', 'type': 'tokens', 'param': None, \n",
       "'code': 'rate_limit_exceeded'}} Retrying: 2 time(s)...\n",
       "</pre>\n"
      ],
      "text/plain": [
       "ERROR:root:OpenAI Error: Error code: 429 - {'error': {'message': 'Rate limit reached for gpt-4.1 in organization \n",
       "org-tqrWQIPT51eeIFf4v0aHntjs on tokens per min (TPM): Limit 30000, Used 30000, Requested 584. Please try again in \n",
       "1.168s. Visit https://platform.openai.com/account/rate-limits to learn more.', 'type': 'tokens', 'param': None, \n",
       "'code': 'rate_limit_exceeded'}} Retrying: 2 time(s)...\n"
      ]
     },
     "metadata": {},
     "output_type": "display_data"
    },
    {
     "data": {
      "text/html": [
       "<pre style=\"white-space:pre;overflow-x:auto;line-height:normal;font-family:Menlo,'DejaVu Sans Mono',consolas,'Courier New',monospace\">ERROR:root:OpenAI Error: Error code: 429 - {'error': {'message': 'Rate limit reached for gpt-4.1 in organization \n",
       "org-tqrWQIPT51eeIFf4v0aHntjs on tokens per min (TPM): Limit 30000, Used 30000, Requested 612. Please try again in \n",
       "1.224s. Visit https://platform.openai.com/account/rate-limits to learn more.', 'type': 'tokens', 'param': None, \n",
       "'code': 'rate_limit_exceeded'}} Retrying: 2 time(s)...\n",
       "</pre>\n"
      ],
      "text/plain": [
       "ERROR:root:OpenAI Error: Error code: 429 - {'error': {'message': 'Rate limit reached for gpt-4.1 in organization \n",
       "org-tqrWQIPT51eeIFf4v0aHntjs on tokens per min (TPM): Limit 30000, Used 30000, Requested 612. Please try again in \n",
       "1.224s. Visit https://platform.openai.com/account/rate-limits to learn more.', 'type': 'tokens', 'param': None, \n",
       "'code': 'rate_limit_exceeded'}} Retrying: 2 time(s)...\n"
      ]
     },
     "metadata": {},
     "output_type": "display_data"
    },
    {
     "data": {
      "text/html": [
       "<pre style=\"white-space:pre;overflow-x:auto;line-height:normal;font-family:Menlo,'DejaVu Sans Mono',consolas,'Courier New',monospace\">ERROR:root:OpenAI Error: Error code: 429 - {'error': {'message': 'Rate limit reached for gpt-4.1 in organization \n",
       "org-tqrWQIPT51eeIFf4v0aHntjs on tokens per min (TPM): Limit 30000, Used 30000, Requested 594. Please try again in \n",
       "1.188s. Visit https://platform.openai.com/account/rate-limits to learn more.', 'type': 'tokens', 'param': None, \n",
       "'code': 'rate_limit_exceeded'}} Retrying: 2 time(s)...\n",
       "</pre>\n"
      ],
      "text/plain": [
       "ERROR:root:OpenAI Error: Error code: 429 - {'error': {'message': 'Rate limit reached for gpt-4.1 in organization \n",
       "org-tqrWQIPT51eeIFf4v0aHntjs on tokens per min (TPM): Limit 30000, Used 30000, Requested 594. Please try again in \n",
       "1.188s. Visit https://platform.openai.com/account/rate-limits to learn more.', 'type': 'tokens', 'param': None, \n",
       "'code': 'rate_limit_exceeded'}} Retrying: 2 time(s)...\n"
      ]
     },
     "metadata": {},
     "output_type": "display_data"
    },
    {
     "data": {
      "text/html": [
       "<pre style=\"white-space:pre;overflow-x:auto;line-height:normal;font-family:Menlo,'DejaVu Sans Mono',consolas,'Courier New',monospace\">ERROR:root:OpenAI Error: Error code: 429 - {'error': {'message': 'Rate limit reached for gpt-4.1 in organization \n",
       "org-tqrWQIPT51eeIFf4v0aHntjs on tokens per min (TPM): Limit 30000, Used 30000, Requested 739. Please try again in \n",
       "1.478s. Visit https://platform.openai.com/account/rate-limits to learn more.', 'type': 'tokens', 'param': None, \n",
       "'code': 'rate_limit_exceeded'}} Retrying: 2 time(s)...\n",
       "</pre>\n"
      ],
      "text/plain": [
       "ERROR:root:OpenAI Error: Error code: 429 - {'error': {'message': 'Rate limit reached for gpt-4.1 in organization \n",
       "org-tqrWQIPT51eeIFf4v0aHntjs on tokens per min (TPM): Limit 30000, Used 30000, Requested 739. Please try again in \n",
       "1.478s. Visit https://platform.openai.com/account/rate-limits to learn more.', 'type': 'tokens', 'param': None, \n",
       "'code': 'rate_limit_exceeded'}} Retrying: 2 time(s)...\n"
      ]
     },
     "metadata": {},
     "output_type": "display_data"
    },
    {
     "data": {
      "text/html": [
       "<pre style=\"white-space:pre;overflow-x:auto;line-height:normal;font-family:Menlo,'DejaVu Sans Mono',consolas,'Courier New',monospace\">ERROR:root:OpenAI Error: Error code: 429 - {'error': {'message': 'Rate limit reached for gpt-4.1 in organization \n",
       "org-tqrWQIPT51eeIFf4v0aHntjs on tokens per min (TPM): Limit 30000, Used 30000, Requested 561. Please try again in \n",
       "1.122s. Visit https://platform.openai.com/account/rate-limits to learn more.', 'type': 'tokens', 'param': None, \n",
       "'code': 'rate_limit_exceeded'}} Retrying: 2 time(s)...\n",
       "</pre>\n"
      ],
      "text/plain": [
       "ERROR:root:OpenAI Error: Error code: 429 - {'error': {'message': 'Rate limit reached for gpt-4.1 in organization \n",
       "org-tqrWQIPT51eeIFf4v0aHntjs on tokens per min (TPM): Limit 30000, Used 30000, Requested 561. Please try again in \n",
       "1.122s. Visit https://platform.openai.com/account/rate-limits to learn more.', 'type': 'tokens', 'param': None, \n",
       "'code': 'rate_limit_exceeded'}} Retrying: 2 time(s)...\n"
      ]
     },
     "metadata": {},
     "output_type": "display_data"
    },
    {
     "data": {
      "text/html": [
       "<pre style=\"white-space:pre;overflow-x:auto;line-height:normal;font-family:Menlo,'DejaVu Sans Mono',consolas,'Courier New',monospace\">ERROR:root:OpenAI Error: Error code: 429 - {'error': {'message': 'Rate limit reached for gpt-4.1 in organization \n",
       "org-tqrWQIPT51eeIFf4v0aHntjs on tokens per min (TPM): Limit 30000, Used 30000, Requested 784. Please try again in \n",
       "1.568s. Visit https://platform.openai.com/account/rate-limits to learn more.', 'type': 'tokens', 'param': None, \n",
       "'code': 'rate_limit_exceeded'}} Retrying: 2 time(s)...\n",
       "</pre>\n"
      ],
      "text/plain": [
       "ERROR:root:OpenAI Error: Error code: 429 - {'error': {'message': 'Rate limit reached for gpt-4.1 in organization \n",
       "org-tqrWQIPT51eeIFf4v0aHntjs on tokens per min (TPM): Limit 30000, Used 30000, Requested 784. Please try again in \n",
       "1.568s. Visit https://platform.openai.com/account/rate-limits to learn more.', 'type': 'tokens', 'param': None, \n",
       "'code': 'rate_limit_exceeded'}} Retrying: 2 time(s)...\n"
      ]
     },
     "metadata": {},
     "output_type": "display_data"
    },
    {
     "data": {
      "text/html": [
       "<pre style=\"white-space:pre;overflow-x:auto;line-height:normal;font-family:Menlo,'DejaVu Sans Mono',consolas,'Courier New',monospace\">ERROR:root:OpenAI Error: Error code: 429 - {'error': {'message': 'Rate limit reached for gpt-4.1 in organization \n",
       "org-tqrWQIPT51eeIFf4v0aHntjs on tokens per min (TPM): Limit 30000, Used 30000, Requested 267. Please try again in \n",
       "534ms. Visit https://platform.openai.com/account/rate-limits to learn more.', 'type': 'tokens', 'param': None, \n",
       "'code': 'rate_limit_exceeded'}} Retrying: 3 time(s)...\n",
       "</pre>\n"
      ],
      "text/plain": [
       "ERROR:root:OpenAI Error: Error code: 429 - {'error': {'message': 'Rate limit reached for gpt-4.1 in organization \n",
       "org-tqrWQIPT51eeIFf4v0aHntjs on tokens per min (TPM): Limit 30000, Used 30000, Requested 267. Please try again in \n",
       "534ms. Visit https://platform.openai.com/account/rate-limits to learn more.', 'type': 'tokens', 'param': None, \n",
       "'code': 'rate_limit_exceeded'}} Retrying: 3 time(s)...\n"
      ]
     },
     "metadata": {},
     "output_type": "display_data"
    },
    {
     "data": {
      "text/html": [
       "<pre style=\"white-space:pre;overflow-x:auto;line-height:normal;font-family:Menlo,'DejaVu Sans Mono',consolas,'Courier New',monospace\">ERROR:root:OpenAI Error: Error code: 429 - {'error': {'message': 'Rate limit reached for gpt-4.1 in organization \n",
       "org-tqrWQIPT51eeIFf4v0aHntjs on tokens per min (TPM): Limit 30000, Used 30000, Requested 751. Please try again in \n",
       "1.502s. Visit https://platform.openai.com/account/rate-limits to learn more.', 'type': 'tokens', 'param': None, \n",
       "'code': 'rate_limit_exceeded'}} Retrying: 2 time(s)...\n",
       "</pre>\n"
      ],
      "text/plain": [
       "ERROR:root:OpenAI Error: Error code: 429 - {'error': {'message': 'Rate limit reached for gpt-4.1 in organization \n",
       "org-tqrWQIPT51eeIFf4v0aHntjs on tokens per min (TPM): Limit 30000, Used 30000, Requested 751. Please try again in \n",
       "1.502s. Visit https://platform.openai.com/account/rate-limits to learn more.', 'type': 'tokens', 'param': None, \n",
       "'code': 'rate_limit_exceeded'}} Retrying: 2 time(s)...\n"
      ]
     },
     "metadata": {},
     "output_type": "display_data"
    },
    {
     "data": {
      "text/html": [
       "<pre style=\"white-space:pre;overflow-x:auto;line-height:normal;font-family:Menlo,'DejaVu Sans Mono',consolas,'Courier New',monospace\">ERROR:root:OpenAI Error: Error code: 429 - {'error': {'message': 'Rate limit reached for gpt-4.1 in organization \n",
       "org-tqrWQIPT51eeIFf4v0aHntjs on tokens per min (TPM): Limit 30000, Used 30000, Requested 371. Please try again in \n",
       "742ms. Visit https://platform.openai.com/account/rate-limits to learn more.', 'type': 'tokens', 'param': None, \n",
       "'code': 'rate_limit_exceeded'}} Retrying: 3 time(s)...\n",
       "</pre>\n"
      ],
      "text/plain": [
       "ERROR:root:OpenAI Error: Error code: 429 - {'error': {'message': 'Rate limit reached for gpt-4.1 in organization \n",
       "org-tqrWQIPT51eeIFf4v0aHntjs on tokens per min (TPM): Limit 30000, Used 30000, Requested 371. Please try again in \n",
       "742ms. Visit https://platform.openai.com/account/rate-limits to learn more.', 'type': 'tokens', 'param': None, \n",
       "'code': 'rate_limit_exceeded'}} Retrying: 3 time(s)...\n"
      ]
     },
     "metadata": {},
     "output_type": "display_data"
    },
    {
     "data": {
      "text/html": [
       "<pre style=\"white-space:pre;overflow-x:auto;line-height:normal;font-family:Menlo,'DejaVu Sans Mono',consolas,'Courier New',monospace\">ERROR:root:OpenAI Error: Error code: 429 - {'error': {'message': 'Rate limit reached for gpt-4.1 in organization \n",
       "org-tqrWQIPT51eeIFf4v0aHntjs on tokens per min (TPM): Limit 30000, Used 30000, Requested 265. Please try again in \n",
       "530ms. Visit https://platform.openai.com/account/rate-limits to learn more.', 'type': 'tokens', 'param': None, \n",
       "'code': 'rate_limit_exceeded'}} Retrying: 3 time(s)...\n",
       "</pre>\n"
      ],
      "text/plain": [
       "ERROR:root:OpenAI Error: Error code: 429 - {'error': {'message': 'Rate limit reached for gpt-4.1 in organization \n",
       "org-tqrWQIPT51eeIFf4v0aHntjs on tokens per min (TPM): Limit 30000, Used 30000, Requested 265. Please try again in \n",
       "530ms. Visit https://platform.openai.com/account/rate-limits to learn more.', 'type': 'tokens', 'param': None, \n",
       "'code': 'rate_limit_exceeded'}} Retrying: 3 time(s)...\n"
      ]
     },
     "metadata": {},
     "output_type": "display_data"
    },
    {
     "data": {
      "text/html": [
       "<pre style=\"white-space:pre;overflow-x:auto;line-height:normal;font-family:Menlo,'DejaVu Sans Mono',consolas,'Courier New',monospace\">ERROR:root:OpenAI Error: Error code: 429 - {'error': {'message': 'Rate limit reached for gpt-4.1 in organization \n",
       "org-tqrWQIPT51eeIFf4v0aHntjs on tokens per min (TPM): Limit 30000, Used 29926, Requested 254. Please try again in \n",
       "360ms. Visit https://platform.openai.com/account/rate-limits to learn more.', 'type': 'tokens', 'param': None, \n",
       "'code': 'rate_limit_exceeded'}} Retrying: 3 time(s)...\n",
       "</pre>\n"
      ],
      "text/plain": [
       "ERROR:root:OpenAI Error: Error code: 429 - {'error': {'message': 'Rate limit reached for gpt-4.1 in organization \n",
       "org-tqrWQIPT51eeIFf4v0aHntjs on tokens per min (TPM): Limit 30000, Used 29926, Requested 254. Please try again in \n",
       "360ms. Visit https://platform.openai.com/account/rate-limits to learn more.', 'type': 'tokens', 'param': None, \n",
       "'code': 'rate_limit_exceeded'}} Retrying: 3 time(s)...\n"
      ]
     },
     "metadata": {},
     "output_type": "display_data"
    },
    {
     "data": {
      "text/html": [
       "<pre style=\"white-space:pre;overflow-x:auto;line-height:normal;font-family:Menlo,'DejaVu Sans Mono',consolas,'Courier New',monospace\">ERROR:root:OpenAI Error: Error code: 429 - {'error': {'message': 'Rate limit reached for gpt-4.1 in organization \n",
       "org-tqrWQIPT51eeIFf4v0aHntjs on tokens per min (TPM): Limit 30000, Used 29913, Requested 264. Please try again in \n",
       "354ms. Visit https://platform.openai.com/account/rate-limits to learn more.', 'type': 'tokens', 'param': None, \n",
       "'code': 'rate_limit_exceeded'}} Retrying: 2 time(s)...\n",
       "</pre>\n"
      ],
      "text/plain": [
       "ERROR:root:OpenAI Error: Error code: 429 - {'error': {'message': 'Rate limit reached for gpt-4.1 in organization \n",
       "org-tqrWQIPT51eeIFf4v0aHntjs on tokens per min (TPM): Limit 30000, Used 29913, Requested 264. Please try again in \n",
       "354ms. Visit https://platform.openai.com/account/rate-limits to learn more.', 'type': 'tokens', 'param': None, \n",
       "'code': 'rate_limit_exceeded'}} Retrying: 2 time(s)...\n"
      ]
     },
     "metadata": {},
     "output_type": "display_data"
    },
    {
     "data": {
      "text/html": [
       "<pre style=\"white-space:pre;overflow-x:auto;line-height:normal;font-family:Menlo,'DejaVu Sans Mono',consolas,'Courier New',monospace\">ERROR:root:OpenAI Error: Error code: 429 - {'error': {'message': 'Rate limit reached for gpt-4.1 in organization \n",
       "org-tqrWQIPT51eeIFf4v0aHntjs on tokens per min (TPM): Limit 30000, Used 29902, Requested 254. Please try again in \n",
       "312ms. Visit https://platform.openai.com/account/rate-limits to learn more.', 'type': 'tokens', 'param': None, \n",
       "'code': 'rate_limit_exceeded'}} Retrying: 3 time(s)...\n",
       "</pre>\n"
      ],
      "text/plain": [
       "ERROR:root:OpenAI Error: Error code: 429 - {'error': {'message': 'Rate limit reached for gpt-4.1 in organization \n",
       "org-tqrWQIPT51eeIFf4v0aHntjs on tokens per min (TPM): Limit 30000, Used 29902, Requested 254. Please try again in \n",
       "312ms. Visit https://platform.openai.com/account/rate-limits to learn more.', 'type': 'tokens', 'param': None, \n",
       "'code': 'rate_limit_exceeded'}} Retrying: 3 time(s)...\n"
      ]
     },
     "metadata": {},
     "output_type": "display_data"
    },
    {
     "data": {
      "text/html": [
       "<pre style=\"white-space:pre;overflow-x:auto;line-height:normal;font-family:Menlo,'DejaVu Sans Mono',consolas,'Courier New',monospace\">ERROR:root:OpenAI Error: Error code: 429 - {'error': {'message': 'Rate limit reached for gpt-4.1 in organization \n",
       "org-tqrWQIPT51eeIFf4v0aHntjs on tokens per min (TPM): Limit 30000, Used 29825, Requested 254. Please try again in \n",
       "158ms. Visit https://platform.openai.com/account/rate-limits to learn more.', 'type': 'tokens', 'param': None, \n",
       "'code': 'rate_limit_exceeded'}} Retrying: 3 time(s)...\n",
       "</pre>\n"
      ],
      "text/plain": [
       "ERROR:root:OpenAI Error: Error code: 429 - {'error': {'message': 'Rate limit reached for gpt-4.1 in organization \n",
       "org-tqrWQIPT51eeIFf4v0aHntjs on tokens per min (TPM): Limit 30000, Used 29825, Requested 254. Please try again in \n",
       "158ms. Visit https://platform.openai.com/account/rate-limits to learn more.', 'type': 'tokens', 'param': None, \n",
       "'code': 'rate_limit_exceeded'}} Retrying: 3 time(s)...\n"
      ]
     },
     "metadata": {},
     "output_type": "display_data"
    },
    {
     "data": {
      "text/html": [
       "<pre style=\"white-space:pre;overflow-x:auto;line-height:normal;font-family:Menlo,'DejaVu Sans Mono',consolas,'Courier New',monospace\">ERROR:root:OpenAI Error: Error code: 429 - {'error': {'message': 'Rate limit reached for gpt-4.1 in organization \n",
       "org-tqrWQIPT51eeIFf4v0aHntjs on tokens per min (TPM): Limit 30000, Used 30000, Requested 331. Please try again in \n",
       "662ms. Visit https://platform.openai.com/account/rate-limits to learn more.', 'type': 'tokens', 'param': None, \n",
       "'code': 'rate_limit_exceeded'}} Retrying: 2 time(s)...\n",
       "</pre>\n"
      ],
      "text/plain": [
       "ERROR:root:OpenAI Error: Error code: 429 - {'error': {'message': 'Rate limit reached for gpt-4.1 in organization \n",
       "org-tqrWQIPT51eeIFf4v0aHntjs on tokens per min (TPM): Limit 30000, Used 30000, Requested 331. Please try again in \n",
       "662ms. Visit https://platform.openai.com/account/rate-limits to learn more.', 'type': 'tokens', 'param': None, \n",
       "'code': 'rate_limit_exceeded'}} Retrying: 2 time(s)...\n"
      ]
     },
     "metadata": {},
     "output_type": "display_data"
    },
    {
     "data": {
      "text/html": [
       "<pre style=\"white-space:pre;overflow-x:auto;line-height:normal;font-family:Menlo,'DejaVu Sans Mono',consolas,'Courier New',monospace\">ERROR:root:OpenAI Error: Error code: 429 - {'error': {'message': 'Rate limit reached for gpt-4.1 in organization \n",
       "org-tqrWQIPT51eeIFf4v0aHntjs on tokens per min (TPM): Limit 30000, Used 30000, Requested 649. Please try again in \n",
       "1.298s. Visit https://platform.openai.com/account/rate-limits to learn more.', 'type': 'tokens', 'param': None, \n",
       "'code': 'rate_limit_exceeded'}} Retrying: 3 time(s)...\n",
       "</pre>\n"
      ],
      "text/plain": [
       "ERROR:root:OpenAI Error: Error code: 429 - {'error': {'message': 'Rate limit reached for gpt-4.1 in organization \n",
       "org-tqrWQIPT51eeIFf4v0aHntjs on tokens per min (TPM): Limit 30000, Used 30000, Requested 649. Please try again in \n",
       "1.298s. Visit https://platform.openai.com/account/rate-limits to learn more.', 'type': 'tokens', 'param': None, \n",
       "'code': 'rate_limit_exceeded'}} Retrying: 3 time(s)...\n"
      ]
     },
     "metadata": {},
     "output_type": "display_data"
    },
    {
     "data": {
      "text/html": [
       "<pre style=\"white-space:pre;overflow-x:auto;line-height:normal;font-family:Menlo,'DejaVu Sans Mono',consolas,'Courier New',monospace\">ERROR:root:OpenAI Error: Error code: 429 - {'error': {'message': 'Rate limit reached for gpt-4.1 in organization \n",
       "org-tqrWQIPT51eeIFf4v0aHntjs on tokens per min (TPM): Limit 30000, Used 29961, Requested 354. Please try again in \n",
       "630ms. Visit https://platform.openai.com/account/rate-limits to learn more.', 'type': 'tokens', 'param': None, \n",
       "'code': 'rate_limit_exceeded'}} Retrying: 3 time(s)...\n",
       "</pre>\n"
      ],
      "text/plain": [
       "ERROR:root:OpenAI Error: Error code: 429 - {'error': {'message': 'Rate limit reached for gpt-4.1 in organization \n",
       "org-tqrWQIPT51eeIFf4v0aHntjs on tokens per min (TPM): Limit 30000, Used 29961, Requested 354. Please try again in \n",
       "630ms. Visit https://platform.openai.com/account/rate-limits to learn more.', 'type': 'tokens', 'param': None, \n",
       "'code': 'rate_limit_exceeded'}} Retrying: 3 time(s)...\n"
      ]
     },
     "metadata": {},
     "output_type": "display_data"
    },
    {
     "data": {
      "text/html": [
       "<pre style=\"white-space:pre;overflow-x:auto;line-height:normal;font-family:Menlo,'DejaVu Sans Mono',consolas,'Courier New',monospace\">ERROR:root:OpenAI Error: Error code: 429 - {'error': {'message': 'Rate limit reached for gpt-4.1 in organization \n",
       "org-tqrWQIPT51eeIFf4v0aHntjs on tokens per min (TPM): Limit 30000, Used 29893, Requested 363. Please try again in \n",
       "512ms. Visit https://platform.openai.com/account/rate-limits to learn more.', 'type': 'tokens', 'param': None, \n",
       "'code': 'rate_limit_exceeded'}} Retrying: 3 time(s)...\n",
       "</pre>\n"
      ],
      "text/plain": [
       "ERROR:root:OpenAI Error: Error code: 429 - {'error': {'message': 'Rate limit reached for gpt-4.1 in organization \n",
       "org-tqrWQIPT51eeIFf4v0aHntjs on tokens per min (TPM): Limit 30000, Used 29893, Requested 363. Please try again in \n",
       "512ms. Visit https://platform.openai.com/account/rate-limits to learn more.', 'type': 'tokens', 'param': None, \n",
       "'code': 'rate_limit_exceeded'}} Retrying: 3 time(s)...\n"
      ]
     },
     "metadata": {},
     "output_type": "display_data"
    },
    {
     "data": {
      "text/html": [
       "<pre style=\"white-space:pre;overflow-x:auto;line-height:normal;font-family:Menlo,'DejaVu Sans Mono',consolas,'Courier New',monospace\">ERROR:root:OpenAI Error: Error code: 429 - {'error': {'message': 'Rate limit reached for gpt-4.1 in organization \n",
       "org-tqrWQIPT51eeIFf4v0aHntjs on tokens per min (TPM): Limit 30000, Used 29506, Requested 604. Please try again in \n",
       "220ms. Visit https://platform.openai.com/account/rate-limits to learn more.', 'type': 'tokens', 'param': None, \n",
       "'code': 'rate_limit_exceeded'}} Retrying: 3 time(s)...\n",
       "</pre>\n"
      ],
      "text/plain": [
       "ERROR:root:OpenAI Error: Error code: 429 - {'error': {'message': 'Rate limit reached for gpt-4.1 in organization \n",
       "org-tqrWQIPT51eeIFf4v0aHntjs on tokens per min (TPM): Limit 30000, Used 29506, Requested 604. Please try again in \n",
       "220ms. Visit https://platform.openai.com/account/rate-limits to learn more.', 'type': 'tokens', 'param': None, \n",
       "'code': 'rate_limit_exceeded'}} Retrying: 3 time(s)...\n"
      ]
     },
     "metadata": {},
     "output_type": "display_data"
    },
    {
     "data": {
      "text/html": [
       "<pre style=\"white-space:pre;overflow-x:auto;line-height:normal;font-family:Menlo,'DejaVu Sans Mono',consolas,'Courier New',monospace\">ERROR:root:OpenAI Error: Error code: 429 - {'error': {'message': 'Rate limit reached for gpt-4.1 in organization \n",
       "org-tqrWQIPT51eeIFf4v0aHntjs on tokens per min (TPM): Limit 30000, Used 29472, Requested 588. Please try again in \n",
       "120ms. Visit https://platform.openai.com/account/rate-limits to learn more.', 'type': 'tokens', 'param': None, \n",
       "'code': 'rate_limit_exceeded'}} Retrying: 3 time(s)...\n",
       "</pre>\n"
      ],
      "text/plain": [
       "ERROR:root:OpenAI Error: Error code: 429 - {'error': {'message': 'Rate limit reached for gpt-4.1 in organization \n",
       "org-tqrWQIPT51eeIFf4v0aHntjs on tokens per min (TPM): Limit 30000, Used 29472, Requested 588. Please try again in \n",
       "120ms. Visit https://platform.openai.com/account/rate-limits to learn more.', 'type': 'tokens', 'param': None, \n",
       "'code': 'rate_limit_exceeded'}} Retrying: 3 time(s)...\n"
      ]
     },
     "metadata": {},
     "output_type": "display_data"
    },
    {
     "data": {
      "text/html": [
       "<pre style=\"white-space:pre;overflow-x:auto;line-height:normal;font-family:Menlo,'DejaVu Sans Mono',consolas,'Courier New',monospace\">ERROR:root:OpenAI Error: Error code: 429 - {'error': {'message': 'Rate limit reached for gpt-4.1 in organization \n",
       "org-tqrWQIPT51eeIFf4v0aHntjs on tokens per min (TPM): Limit 30000, Used 30000, Requested 784. Please try again in \n",
       "1.568s. Visit https://platform.openai.com/account/rate-limits to learn more.', 'type': 'tokens', 'param': None, \n",
       "'code': 'rate_limit_exceeded'}} Retrying: 3 time(s)...\n",
       "</pre>\n"
      ],
      "text/plain": [
       "ERROR:root:OpenAI Error: Error code: 429 - {'error': {'message': 'Rate limit reached for gpt-4.1 in organization \n",
       "org-tqrWQIPT51eeIFf4v0aHntjs on tokens per min (TPM): Limit 30000, Used 30000, Requested 784. Please try again in \n",
       "1.568s. Visit https://platform.openai.com/account/rate-limits to learn more.', 'type': 'tokens', 'param': None, \n",
       "'code': 'rate_limit_exceeded'}} Retrying: 3 time(s)...\n"
      ]
     },
     "metadata": {},
     "output_type": "display_data"
    },
    {
     "data": {
      "text/html": [
       "<pre style=\"white-space:pre;overflow-x:auto;line-height:normal;font-family:Menlo,'DejaVu Sans Mono',consolas,'Courier New',monospace\">ERROR:root:OpenAI Error: Error code: 429 - {'error': {'message': 'Rate limit reached for gpt-4.1 in organization \n",
       "org-tqrWQIPT51eeIFf4v0aHntjs on tokens per min (TPM): Limit 30000, Used 30000, Requested 584. Please try again in \n",
       "1.168s. Visit https://platform.openai.com/account/rate-limits to learn more.', 'type': 'tokens', 'param': None, \n",
       "'code': 'rate_limit_exceeded'}} Retrying: 3 time(s)...\n",
       "</pre>\n"
      ],
      "text/plain": [
       "ERROR:root:OpenAI Error: Error code: 429 - {'error': {'message': 'Rate limit reached for gpt-4.1 in organization \n",
       "org-tqrWQIPT51eeIFf4v0aHntjs on tokens per min (TPM): Limit 30000, Used 30000, Requested 584. Please try again in \n",
       "1.168s. Visit https://platform.openai.com/account/rate-limits to learn more.', 'type': 'tokens', 'param': None, \n",
       "'code': 'rate_limit_exceeded'}} Retrying: 3 time(s)...\n"
      ]
     },
     "metadata": {},
     "output_type": "display_data"
    },
    {
     "data": {
      "text/html": [
       "<pre style=\"white-space:pre;overflow-x:auto;line-height:normal;font-family:Menlo,'DejaVu Sans Mono',consolas,'Courier New',monospace\">ERROR:root:OpenAI Error: Error code: 429 - {'error': {'message': 'Rate limit reached for gpt-4.1 in organization \n",
       "org-tqrWQIPT51eeIFf4v0aHntjs on tokens per min (TPM): Limit 30000, Used 30000, Requested 739. Please try again in \n",
       "1.478s. Visit https://platform.openai.com/account/rate-limits to learn more.', 'type': 'tokens', 'param': None, \n",
       "'code': 'rate_limit_exceeded'}} Retrying: 3 time(s)...\n",
       "</pre>\n"
      ],
      "text/plain": [
       "ERROR:root:OpenAI Error: Error code: 429 - {'error': {'message': 'Rate limit reached for gpt-4.1 in organization \n",
       "org-tqrWQIPT51eeIFf4v0aHntjs on tokens per min (TPM): Limit 30000, Used 30000, Requested 739. Please try again in \n",
       "1.478s. Visit https://platform.openai.com/account/rate-limits to learn more.', 'type': 'tokens', 'param': None, \n",
       "'code': 'rate_limit_exceeded'}} Retrying: 3 time(s)...\n"
      ]
     },
     "metadata": {},
     "output_type": "display_data"
    },
    {
     "data": {
      "text/html": [
       "<pre style=\"white-space:pre;overflow-x:auto;line-height:normal;font-family:Menlo,'DejaVu Sans Mono',consolas,'Courier New',monospace\">ERROR:root:OpenAI Error: Error code: 429 - {'error': {'message': 'Rate limit reached for gpt-4.1 in organization \n",
       "org-tqrWQIPT51eeIFf4v0aHntjs on tokens per min (TPM): Limit 30000, Used 30000, Requested 751. Please try again in \n",
       "1.502s. Visit https://platform.openai.com/account/rate-limits to learn more.', 'type': 'tokens', 'param': None, \n",
       "'code': 'rate_limit_exceeded'}} Retrying: 3 time(s)...\n",
       "</pre>\n"
      ],
      "text/plain": [
       "ERROR:root:OpenAI Error: Error code: 429 - {'error': {'message': 'Rate limit reached for gpt-4.1 in organization \n",
       "org-tqrWQIPT51eeIFf4v0aHntjs on tokens per min (TPM): Limit 30000, Used 30000, Requested 751. Please try again in \n",
       "1.502s. Visit https://platform.openai.com/account/rate-limits to learn more.', 'type': 'tokens', 'param': None, \n",
       "'code': 'rate_limit_exceeded'}} Retrying: 3 time(s)...\n"
      ]
     },
     "metadata": {},
     "output_type": "display_data"
    },
    {
     "data": {
      "text/html": [
       "<pre style=\"white-space:pre;overflow-x:auto;line-height:normal;font-family:Menlo,'DejaVu Sans Mono',consolas,'Courier New',monospace\">ERROR:root:OpenAI Error: Error code: 429 - {'error': {'message': 'Rate limit reached for gpt-4.1 in organization \n",
       "org-tqrWQIPT51eeIFf4v0aHntjs on tokens per min (TPM): Limit 30000, Used 30000, Requested 264. Please try again in \n",
       "528ms. Visit https://platform.openai.com/account/rate-limits to learn more.', 'type': 'tokens', 'param': None, \n",
       "'code': 'rate_limit_exceeded'}} Retrying: 3 time(s)...\n",
       "</pre>\n"
      ],
      "text/plain": [
       "ERROR:root:OpenAI Error: Error code: 429 - {'error': {'message': 'Rate limit reached for gpt-4.1 in organization \n",
       "org-tqrWQIPT51eeIFf4v0aHntjs on tokens per min (TPM): Limit 30000, Used 30000, Requested 264. Please try again in \n",
       "528ms. Visit https://platform.openai.com/account/rate-limits to learn more.', 'type': 'tokens', 'param': None, \n",
       "'code': 'rate_limit_exceeded'}} Retrying: 3 time(s)...\n"
      ]
     },
     "metadata": {},
     "output_type": "display_data"
    },
    {
     "data": {
      "text/html": [
       "<pre style=\"white-space:pre;overflow-x:auto;line-height:normal;font-family:Menlo,'DejaVu Sans Mono',consolas,'Courier New',monospace\">ERROR:root:OpenAI Error: Error code: 429 - {'error': {'message': 'Rate limit reached for gpt-4.1 in organization \n",
       "org-tqrWQIPT51eeIFf4v0aHntjs on tokens per min (TPM): Limit 30000, Used 30000, Requested 267. Please try again in \n",
       "534ms. Visit https://platform.openai.com/account/rate-limits to learn more.', 'type': 'tokens', 'param': None, \n",
       "'code': 'rate_limit_exceeded'}} Retrying: 4 time(s)...\n",
       "</pre>\n"
      ],
      "text/plain": [
       "ERROR:root:OpenAI Error: Error code: 429 - {'error': {'message': 'Rate limit reached for gpt-4.1 in organization \n",
       "org-tqrWQIPT51eeIFf4v0aHntjs on tokens per min (TPM): Limit 30000, Used 30000, Requested 267. Please try again in \n",
       "534ms. Visit https://platform.openai.com/account/rate-limits to learn more.', 'type': 'tokens', 'param': None, \n",
       "'code': 'rate_limit_exceeded'}} Retrying: 4 time(s)...\n"
      ]
     },
     "metadata": {},
     "output_type": "display_data"
    },
    {
     "data": {
      "text/html": [
       "<pre style=\"white-space:pre;overflow-x:auto;line-height:normal;font-family:Menlo,'DejaVu Sans Mono',consolas,'Courier New',monospace\">ERROR:root:OpenAI Error: Error code: 429 - {'error': {'message': 'Rate limit reached for gpt-4.1 in organization \n",
       "org-tqrWQIPT51eeIFf4v0aHntjs on tokens per min (TPM): Limit 30000, Used 30000, Requested 371. Please try again in \n",
       "742ms. Visit https://platform.openai.com/account/rate-limits to learn more.', 'type': 'tokens', 'param': None, \n",
       "'code': 'rate_limit_exceeded'}} Retrying: 4 time(s)...\n",
       "</pre>\n"
      ],
      "text/plain": [
       "ERROR:root:OpenAI Error: Error code: 429 - {'error': {'message': 'Rate limit reached for gpt-4.1 in organization \n",
       "org-tqrWQIPT51eeIFf4v0aHntjs on tokens per min (TPM): Limit 30000, Used 30000, Requested 371. Please try again in \n",
       "742ms. Visit https://platform.openai.com/account/rate-limits to learn more.', 'type': 'tokens', 'param': None, \n",
       "'code': 'rate_limit_exceeded'}} Retrying: 4 time(s)...\n"
      ]
     },
     "metadata": {},
     "output_type": "display_data"
    },
    {
     "data": {
      "text/html": [
       "<pre style=\"white-space:pre;overflow-x:auto;line-height:normal;font-family:Menlo,'DejaVu Sans Mono',consolas,'Courier New',monospace\">ERROR:root:OpenAI Error: Error code: 429 - {'error': {'message': 'Rate limit reached for gpt-4.1 in organization \n",
       "org-tqrWQIPT51eeIFf4v0aHntjs on tokens per min (TPM): Limit 30000, Used 30000, Requested 331. Please try again in \n",
       "662ms. Visit https://platform.openai.com/account/rate-limits to learn more.', 'type': 'tokens', 'param': None, \n",
       "'code': 'rate_limit_exceeded'}} Retrying: 3 time(s)...\n",
       "</pre>\n"
      ],
      "text/plain": [
       "ERROR:root:OpenAI Error: Error code: 429 - {'error': {'message': 'Rate limit reached for gpt-4.1 in organization \n",
       "org-tqrWQIPT51eeIFf4v0aHntjs on tokens per min (TPM): Limit 30000, Used 30000, Requested 331. Please try again in \n",
       "662ms. Visit https://platform.openai.com/account/rate-limits to learn more.', 'type': 'tokens', 'param': None, \n",
       "'code': 'rate_limit_exceeded'}} Retrying: 3 time(s)...\n"
      ]
     },
     "metadata": {},
     "output_type": "display_data"
    },
    {
     "data": {
      "text/html": [
       "<pre style=\"white-space:pre;overflow-x:auto;line-height:normal;font-family:Menlo,'DejaVu Sans Mono',consolas,'Courier New',monospace\">ERROR:root:OpenAI Error: Error code: 429 - {'error': {'message': 'Rate limit reached for gpt-4.1 in organization \n",
       "org-tqrWQIPT51eeIFf4v0aHntjs on tokens per min (TPM): Limit 30000, Used 30000, Requested 254. Please try again in \n",
       "508ms. Visit https://platform.openai.com/account/rate-limits to learn more.', 'type': 'tokens', 'param': None, \n",
       "'code': 'rate_limit_exceeded'}} Retrying: 4 time(s)...\n",
       "</pre>\n"
      ],
      "text/plain": [
       "ERROR:root:OpenAI Error: Error code: 429 - {'error': {'message': 'Rate limit reached for gpt-4.1 in organization \n",
       "org-tqrWQIPT51eeIFf4v0aHntjs on tokens per min (TPM): Limit 30000, Used 30000, Requested 254. Please try again in \n",
       "508ms. Visit https://platform.openai.com/account/rate-limits to learn more.', 'type': 'tokens', 'param': None, \n",
       "'code': 'rate_limit_exceeded'}} Retrying: 4 time(s)...\n"
      ]
     },
     "metadata": {},
     "output_type": "display_data"
    },
    {
     "data": {
      "text/html": [
       "<pre style=\"white-space:pre;overflow-x:auto;line-height:normal;font-family:Menlo,'DejaVu Sans Mono',consolas,'Courier New',monospace\">ERROR:root:OpenAI Error: Error code: 429 - {'error': {'message': 'Rate limit reached for gpt-4.1 in organization \n",
       "org-tqrWQIPT51eeIFf4v0aHntjs on tokens per min (TPM): Limit 30000, Used 29761, Requested 254. Please try again in \n",
       "30ms. Visit https://platform.openai.com/account/rate-limits to learn more.', 'type': 'tokens', 'param': None, \n",
       "'code': 'rate_limit_exceeded'}} Retrying: 4 time(s)...\n",
       "</pre>\n"
      ],
      "text/plain": [
       "ERROR:root:OpenAI Error: Error code: 429 - {'error': {'message': 'Rate limit reached for gpt-4.1 in organization \n",
       "org-tqrWQIPT51eeIFf4v0aHntjs on tokens per min (TPM): Limit 30000, Used 29761, Requested 254. Please try again in \n",
       "30ms. Visit https://platform.openai.com/account/rate-limits to learn more.', 'type': 'tokens', 'param': None, \n",
       "'code': 'rate_limit_exceeded'}} Retrying: 4 time(s)...\n"
      ]
     },
     "metadata": {},
     "output_type": "display_data"
    },
    {
     "data": {
      "text/html": [
       "<pre style=\"white-space:pre;overflow-x:auto;line-height:normal;font-family:Menlo,'DejaVu Sans Mono',consolas,'Courier New',monospace\">ERROR:root:OpenAI Error: Error code: 429 - {'error': {'message': 'Rate limit reached for gpt-4.1 in organization \n",
       "org-tqrWQIPT51eeIFf4v0aHntjs on tokens per min (TPM): Limit 30000, Used 30000, Requested 363. Please try again in \n",
       "726ms. Visit https://platform.openai.com/account/rate-limits to learn more.', 'type': 'tokens', 'param': None, \n",
       "'code': 'rate_limit_exceeded'}} Retrying: 4 time(s)...\n",
       "</pre>\n"
      ],
      "text/plain": [
       "ERROR:root:OpenAI Error: Error code: 429 - {'error': {'message': 'Rate limit reached for gpt-4.1 in organization \n",
       "org-tqrWQIPT51eeIFf4v0aHntjs on tokens per min (TPM): Limit 30000, Used 30000, Requested 363. Please try again in \n",
       "726ms. Visit https://platform.openai.com/account/rate-limits to learn more.', 'type': 'tokens', 'param': None, \n",
       "'code': 'rate_limit_exceeded'}} Retrying: 4 time(s)...\n"
      ]
     },
     "metadata": {},
     "output_type": "display_data"
    },
    {
     "data": {
      "text/html": [
       "<pre style=\"white-space:pre;overflow-x:auto;line-height:normal;font-family:Menlo,'DejaVu Sans Mono',consolas,'Courier New',monospace\">ERROR:root:OpenAI Error: Error code: 429 - {'error': {'message': 'Rate limit reached for gpt-4.1 in organization \n",
       "org-tqrWQIPT51eeIFf4v0aHntjs on tokens per min (TPM): Limit 30000, Used 29658, Requested 354. Please try again in \n",
       "24ms. Visit https://platform.openai.com/account/rate-limits to learn more.', 'type': 'tokens', 'param': None, \n",
       "'code': 'rate_limit_exceeded'}} Retrying: 4 time(s)...\n",
       "</pre>\n"
      ],
      "text/plain": [
       "ERROR:root:OpenAI Error: Error code: 429 - {'error': {'message': 'Rate limit reached for gpt-4.1 in organization \n",
       "org-tqrWQIPT51eeIFf4v0aHntjs on tokens per min (TPM): Limit 30000, Used 29658, Requested 354. Please try again in \n",
       "24ms. Visit https://platform.openai.com/account/rate-limits to learn more.', 'type': 'tokens', 'param': None, \n",
       "'code': 'rate_limit_exceeded'}} Retrying: 4 time(s)...\n"
      ]
     },
     "metadata": {},
     "output_type": "display_data"
    },
    {
     "data": {
      "text/html": [
       "<pre style=\"white-space:pre;overflow-x:auto;line-height:normal;font-family:Menlo,'DejaVu Sans Mono',consolas,'Courier New',monospace\">ERROR:root:OpenAI Error: Error code: 429 - {'error': {'message': 'Rate limit reached for gpt-4.1 in organization \n",
       "org-tqrWQIPT51eeIFf4v0aHntjs on tokens per min (TPM): Limit 30000, Used 29895, Requested 649. Please try again in \n",
       "1.088s. Visit https://platform.openai.com/account/rate-limits to learn more.', 'type': 'tokens', 'param': None, \n",
       "'code': 'rate_limit_exceeded'}} Retrying: 4 time(s)...\n",
       "</pre>\n"
      ],
      "text/plain": [
       "ERROR:root:OpenAI Error: Error code: 429 - {'error': {'message': 'Rate limit reached for gpt-4.1 in organization \n",
       "org-tqrWQIPT51eeIFf4v0aHntjs on tokens per min (TPM): Limit 30000, Used 29895, Requested 649. Please try again in \n",
       "1.088s. Visit https://platform.openai.com/account/rate-limits to learn more.', 'type': 'tokens', 'param': None, \n",
       "'code': 'rate_limit_exceeded'}} Retrying: 4 time(s)...\n"
      ]
     },
     "metadata": {},
     "output_type": "display_data"
    },
    {
     "data": {
      "text/html": [
       "<pre style=\"white-space:pre;overflow-x:auto;line-height:normal;font-family:Menlo,'DejaVu Sans Mono',consolas,'Courier New',monospace\">ERROR:root:OpenAI Error: Error code: 429 - {'error': {'message': 'Rate limit reached for gpt-4.1 in organization \n",
       "org-tqrWQIPT51eeIFf4v0aHntjs on tokens per min (TPM): Limit 30000, Used 29957, Requested 604. Please try again in \n",
       "1.122s. Visit https://platform.openai.com/account/rate-limits to learn more.', 'type': 'tokens', 'param': None, \n",
       "'code': 'rate_limit_exceeded'}} Retrying: 4 time(s)...\n",
       "</pre>\n"
      ],
      "text/plain": [
       "ERROR:root:OpenAI Error: Error code: 429 - {'error': {'message': 'Rate limit reached for gpt-4.1 in organization \n",
       "org-tqrWQIPT51eeIFf4v0aHntjs on tokens per min (TPM): Limit 30000, Used 29957, Requested 604. Please try again in \n",
       "1.122s. Visit https://platform.openai.com/account/rate-limits to learn more.', 'type': 'tokens', 'param': None, \n",
       "'code': 'rate_limit_exceeded'}} Retrying: 4 time(s)...\n"
      ]
     },
     "metadata": {},
     "output_type": "display_data"
    },
    {
     "data": {
      "text/html": [
       "<pre style=\"white-space:pre;overflow-x:auto;line-height:normal;font-family:Menlo,'DejaVu Sans Mono',consolas,'Courier New',monospace\">ERROR:root:OpenAI Error: Error code: 429 - {'error': {'message': 'Rate limit reached for gpt-4.1 in organization \n",
       "org-tqrWQIPT51eeIFf4v0aHntjs on tokens per min (TPM): Limit 30000, Used 29656, Requested 784. Please try again in \n",
       "880ms. Visit https://platform.openai.com/account/rate-limits to learn more.', 'type': 'tokens', 'param': None, \n",
       "'code': 'rate_limit_exceeded'}} Retrying: 4 time(s)...\n",
       "</pre>\n"
      ],
      "text/plain": [
       "ERROR:root:OpenAI Error: Error code: 429 - {'error': {'message': 'Rate limit reached for gpt-4.1 in organization \n",
       "org-tqrWQIPT51eeIFf4v0aHntjs on tokens per min (TPM): Limit 30000, Used 29656, Requested 784. Please try again in \n",
       "880ms. Visit https://platform.openai.com/account/rate-limits to learn more.', 'type': 'tokens', 'param': None, \n",
       "'code': 'rate_limit_exceeded'}} Retrying: 4 time(s)...\n"
      ]
     },
     "metadata": {},
     "output_type": "display_data"
    },
    {
     "data": {
      "text/html": [
       "<pre style=\"white-space:pre;overflow-x:auto;line-height:normal;font-family:Menlo,'DejaVu Sans Mono',consolas,'Courier New',monospace\">ERROR:root:OpenAI Error: Error code: 429 - {'error': {'message': 'Rate limit reached for gpt-4.1 in organization \n",
       "org-tqrWQIPT51eeIFf4v0aHntjs on tokens per min (TPM): Limit 30000, Used 29834, Requested 371. Please try again in \n",
       "410ms. Visit https://platform.openai.com/account/rate-limits to learn more.', 'type': 'tokens', 'param': None, \n",
       "'code': 'rate_limit_exceeded'}} Retrying: 5 time(s)...\n",
       "</pre>\n"
      ],
      "text/plain": [
       "ERROR:root:OpenAI Error: Error code: 429 - {'error': {'message': 'Rate limit reached for gpt-4.1 in organization \n",
       "org-tqrWQIPT51eeIFf4v0aHntjs on tokens per min (TPM): Limit 30000, Used 29834, Requested 371. Please try again in \n",
       "410ms. Visit https://platform.openai.com/account/rate-limits to learn more.', 'type': 'tokens', 'param': None, \n",
       "'code': 'rate_limit_exceeded'}} Retrying: 5 time(s)...\n"
      ]
     },
     "metadata": {},
     "output_type": "display_data"
    },
    {
     "data": {
      "text/html": [
       "<pre style=\"white-space:pre;overflow-x:auto;line-height:normal;font-family:Menlo,'DejaVu Sans Mono',consolas,'Courier New',monospace\">ERROR:root:OpenAI Error: Error code: 429 - {'error': {'message': 'Rate limit reached for gpt-4.1 in organization \n",
       "org-tqrWQIPT51eeIFf4v0aHntjs on tokens per min (TPM): Limit 30000, Used 29854, Requested 254. Please try again in \n",
       "216ms. Visit https://platform.openai.com/account/rate-limits to learn more.', 'type': 'tokens', 'param': None, \n",
       "'code': 'rate_limit_exceeded'}} Retrying: 5 time(s)...\n",
       "</pre>\n"
      ],
      "text/plain": [
       "ERROR:root:OpenAI Error: Error code: 429 - {'error': {'message': 'Rate limit reached for gpt-4.1 in organization \n",
       "org-tqrWQIPT51eeIFf4v0aHntjs on tokens per min (TPM): Limit 30000, Used 29854, Requested 254. Please try again in \n",
       "216ms. Visit https://platform.openai.com/account/rate-limits to learn more.', 'type': 'tokens', 'param': None, \n",
       "'code': 'rate_limit_exceeded'}} Retrying: 5 time(s)...\n"
      ]
     },
     "metadata": {},
     "output_type": "display_data"
    },
    {
     "data": {
      "text/html": [
       "<pre style=\"white-space:pre;overflow-x:auto;line-height:normal;font-family:Menlo,'DejaVu Sans Mono',consolas,'Courier New',monospace\"></pre>\n"
      ],
      "text/plain": []
     },
     "metadata": {},
     "output_type": "display_data"
    },
    {
     "name": "stdout",
     "output_type": "stream",
     "text": [
      "\n",
      "======================================================================\n",
      "\n",
      "Metrics Summary\n",
      "\n",
      "  - ✅ Answer Relevancy (score: 1.0, threshold: 0.5, strict: False, evaluation model: gpt-4.1, reason: The score is 1.00 because the answer was fully relevant and directly addressed the question without any irrelevant information. Great job staying focused and clear!, error: None)\n",
      "  - ✅ Faithfulness (score: 1.0, threshold: 0.5, strict: False, evaluation model: gpt-4.1, reason: Great job! There are no contradictions, so the actual output is fully faithful to the retrieval context., error: None)\n",
      "  - ✅ Contextual Relevancy (score: 0.6666666666666666, threshold: 0.5, strict: False, evaluation model: gpt-4.1, reason: The score is 0.67 because while the relevant statements confirm that Playwright has a native test runner, part of the context discusses unrelated REST API testing tools, which does not address the input question., error: None)\n",
      "  - ✅ Contextual Precision (score: 1.0, threshold: 0.5, strict: False, evaluation model: gpt-4.1, reason: The score is 1.00 because the most relevant node, which clearly states 'Playwright comes with native test runner called Playwright Test Runner, which handles test creation and execution,' is ranked first, while the less relevant nodes that do not address the presence of a native test runner are ranked lower. Great job keeping the most useful information at the top!, error: None)\n",
      "\n",
      "For test case:\n",
      "\n",
      "  - input: Does Playwright have a native test runner unlike Selenium?\n",
      "  - actual output: Yes, according to the context, Playwright does come with a native test runner called Playwright Test Runner. This is in contrast to Selenium, which doesn't have a native test runner.\n",
      "  - expected output: Yes, Playwright has a native test runner called Playwright Test, which handles test creation and execution, unlike Selenium, which relies on JUnit, NUnit, or XUnit for test execution.\n",
      "  - context: None\n",
      "  - retrieval context: ['Playwright comes with native test runner called Playwright Test Runner, which handles test creation and execution', 'This document talks about REST API testing tools, which are unrelated to Playwright, Selenium, or Cypress.', 'Playwright is a modern automation library for end-to-end testing. It supports multiple browsers like Chromium, Firefox, and WebKit.']\n",
      "\n",
      "======================================================================\n",
      "\n",
      "Overall Metric Pass Rates\n",
      "\n",
      "Answer Relevancy: 100.00% pass rate\n",
      "Faithfulness: 100.00% pass rate\n",
      "Contextual Relevancy: 100.00% pass rate\n",
      "Contextual Precision: 100.00% pass rate\n",
      "\n",
      "======================================================================\n",
      "\n",
      "\n",
      "======================================================================\n",
      "\n",
      "Metrics Summary\n",
      "\n",
      "  - ✅ Answer Relevancy (score: 0.7142857142857143, threshold: 0.5, strict: False, evaluation model: gpt-4.1, reason: The score is 0.71 because while the answer addressed some aspects of debugging in Playwright, it included irrelevant information about headless execution, which is not directly related to debugging. This reduced the overall relevancy, but the answer still provided useful information about debugging features., error: None)\n",
      "  - ✅ Faithfulness (score: 1.0, threshold: 0.5, strict: False, evaluation model: gpt-4.1, reason: Great job! There are no contradictions, so the actual output is fully faithful to the retrieval context., error: None)\n",
      "  - ✅ Contextual Relevancy (score: 0.5, threshold: 0.5, strict: False, evaluation model: gpt-4.1, reason: The score is 0.50 because while some statements in the retrieval context directly address Playwright's debugging features (e.g., 'Playwright supports debugging through tracing, network interception, and headless execution'), other statements are irrelevant as they only mention general features like browser support and automation, not debugging., error: None)\n",
      "  - ✅ Contextual Precision (score: 1.0, threshold: 0.5, strict: False, evaluation model: gpt-4.1, reason: Great job! The score is 1.00 because the relevant nodes about Playwright's debugging features are ranked at the top, while the irrelevant node that only describes Playwright as an automation library is ranked last, ensuring all useful information is prioritized., error: None)\n",
      "\n",
      "For test case:\n",
      "\n",
      "  - input: How does Playwright handle debugging for web applications?\n",
      "  - actual output: According to the context, Playwright handles debugging for web applications through:\n",
      "\n",
      "1. Tracing\n",
      "2. Network interception\n",
      "3. Headless execution\n",
      "\n",
      "These features make it easier to identify and fix issues in web applications.\n",
      "  - expected output: Playwright supports debugging through tracing, network interception, and headless execution, making it easier to identify and fix issues in web applications.\n",
      "  - context: None\n",
      "  - retrieval context: ['Playwright supports debugging through tracing, network interception, and headless execution, making it easier to identify and fix issues in web applications.', 'Playwright allows network interception, headless execution, and tracing for debugging complex web applications.', 'Playwright is a modern automation library for end-to-end testing. It supports multiple browsers like Chromium, Firefox, and WebKit.']\n",
      "\n",
      "======================================================================\n",
      "\n",
      "Overall Metric Pass Rates\n",
      "\n",
      "Answer Relevancy: 100.00% pass rate\n",
      "Faithfulness: 100.00% pass rate\n",
      "Contextual Relevancy: 100.00% pass rate\n",
      "Contextual Precision: 100.00% pass rate\n",
      "\n",
      "======================================================================\n",
      "\n",
      "\n",
      "======================================================================\n",
      "\n",
      "Metrics Summary\n",
      "\n",
      "  - ✅ Answer Relevancy (score: 1.0, threshold: 0.5, strict: False, evaluation model: gpt-4.1, reason: The score is 1.00 because the answer was fully relevant, directly addressing what Selenium is and listing the programming languages it supports. Great job staying focused and informative!, error: None)\n",
      "  - ✅ Faithfulness (score: 1.0, threshold: 0.5, strict: False, evaluation model: gpt-4.1, reason: Great job! There are no contradictions, so the actual output is fully aligned with the retrieval context., error: None)\n",
      "  - ✅ Contextual Relevancy (score: 0.6666666666666666, threshold: 0.5, strict: False, evaluation model: gpt-4.1, reason: The score is 0.67 because while the relevant statements clearly define Selenium and list supported languages ('Selenium is a widely used open-source framework for web automation...' and 'Selenium WebDriver enables automated browser testing using various bindings such as Python, Java, and C#'), there is also content about REST API testing tools that is unrelated to the input., error: None)\n",
      "  - ✅ Contextual Precision (score: 1.0, threshold: 0.5, strict: False, evaluation model: gpt-4.1, reason: The score is 1.00 because the first two nodes in the retrieval contexts directly answer what Selenium is and which programming languages it supports, while the irrelevant node that only discusses REST API testing tools and is unrelated to Selenium is ranked last. This perfect ordering ensures all relevant information is prioritized, resulting in a top score!, error: None)\n",
      "\n",
      "For test case:\n",
      "\n",
      "  - input: What is Selenium and what programming languages does it support?\n",
      "  - actual output: Selenium is a widely used open-source framework for web automation. It supports multiple programming languages, including Python, Java, and C#.\n",
      "  - expected output: Selenium is an open-source framework supporting multiple programming languages like Python, Java, and C#.\n",
      "  - context: None\n",
      "  - retrieval context: ['Selenium is a widely used open-source framework for web automation, supporting multiple programming languages and browsers.', 'Selenium WebDriver enables automated browser testing using various bindings such as Python, Java, and C#.', 'This document talks about REST API testing tools, which are unrelated to Playwright, Selenium, or Cypress.']\n",
      "\n",
      "======================================================================\n",
      "\n",
      "Overall Metric Pass Rates\n",
      "\n",
      "Answer Relevancy: 100.00% pass rate\n",
      "Faithfulness: 100.00% pass rate\n",
      "Contextual Relevancy: 100.00% pass rate\n",
      "Contextual Precision: 100.00% pass rate\n",
      "\n",
      "======================================================================\n",
      "\n",
      "\n",
      "======================================================================\n",
      "\n",
      "Metrics Summary\n",
      "\n",
      "  - ✅ Answer Relevancy (score: 1.0, threshold: 0.5, strict: False, evaluation model: gpt-4.1, reason: The score is 1.00 because the answer was fully relevant and directly addressed how Selenium WebDriver enables browser automation. Great job staying focused and on-topic!, error: None)\n",
      "  - ✅ Faithfulness (score: 1.0, threshold: 0.5, strict: False, evaluation model: gpt-4.1, reason: Great job! There are no contradictions, so the actual output is fully faithful to the retrieval context., error: None)\n",
      "  - ✅ Contextual Relevancy (score: 0.5, threshold: 0.5, strict: False, evaluation model: gpt-4.1, reason: The score is 0.50 because while some statements directly mention Selenium WebDriver's ability to enable automated browser testing and its support for multiple languages and browsers, other parts of the context focus on Playwright, which is irrelevant to the input question., error: None)\n",
      "  - ✅ Contextual Precision (score: 1.0, threshold: 0.5, strict: False, evaluation model: gpt-4.1, reason: The score is 1.00 because the relevant nodes are ranked at the top, providing direct and supporting information about how Selenium WebDriver enables browser automation, while the irrelevant node about Playwright is ranked last. Great job keeping the most useful information first!, error: None)\n",
      "\n",
      "For test case:\n",
      "\n",
      "  - input: How does Selenium WebDriver enable browser automation?\n",
      "  - actual output: According to the context, Selenium WebDriver enables automated browser testing by providing various bindings (such as Python, Java, and C#) that can interact with a web browser programmatically. This allows users to automate browser interactions and perform tests on websites.\n",
      "  - expected output: Selenium WebDriver enables automated browser testing by providing bindings in multiple languages, such as Python, Java, and C#, to interact with web elements programmatically.\n",
      "  - context: None\n",
      "  - retrieval context: ['Selenium WebDriver enables automated browser testing using various bindings such as Python, Java, and C#.', 'Selenium is a widely used open-source framework for web automation, supporting multiple programming languages and browsers.', 'Playwright is a modern automation library for end-to-end testing. It supports multiple browsers like Chromium, Firefox, and WebKit.']\n",
      "\n",
      "======================================================================\n",
      "\n",
      "Overall Metric Pass Rates\n",
      "\n",
      "Answer Relevancy: 100.00% pass rate\n",
      "Faithfulness: 100.00% pass rate\n",
      "Contextual Relevancy: 100.00% pass rate\n",
      "Contextual Precision: 100.00% pass rate\n",
      "\n",
      "======================================================================\n",
      "\n",
      "\n",
      "======================================================================\n",
      "\n",
      "Metrics Summary\n",
      "\n",
      "  - ✅ Answer Relevancy (score: 1.0, threshold: 0.5, strict: False, evaluation model: gpt-4.1, reason: The score is 1.00 because the answer was fully relevant and directly addressed the question without any irrelevant information. Great job staying focused and clear!, error: None)\n",
      "  - ✅ Faithfulness (score: 1.0, threshold: 0.5, strict: False, evaluation model: gpt-4.1, reason: Great job! There are no contradictions, so the actual output is fully faithful to the retrieval context., error: None)\n",
      "  - ✅ Contextual Relevancy (score: 0.6666666666666666, threshold: 0.5, strict: False, evaluation model: gpt-4.1, reason: The score is 0.67 because while some statements directly mention 'network interception' as a feature of Playwright, other parts of the context focus on unrelated aspects like the test runner, which do not address the input question., error: None)\n",
      "  - ✅ Contextual Precision (score: 1.0, threshold: 0.5, strict: False, evaluation model: gpt-4.1, reason: The score is 1.00 because the first two nodes in the retrieval contexts are directly relevant, clearly mentioning 'network interception' in Playwright, while the only irrelevant node, which discusses only the Test Runner and not network interception, is ranked last. This perfect ordering ensures all relevant information is prioritized, resulting in a top score!, error: None)\n",
      "\n",
      "For test case:\n",
      "\n",
      "  - input: What is network interception in Playwright?\n",
      "  - actual output: Network interception in Playwright refers to the ability to intercept and modify network requests made by a browser instance. This feature allows developers to inspect and manipulate HTTP requests and responses, making it easier to debug web applications and test their functionality.\n",
      "  - expected output: Network interception in Playwright allows users to modify, block, or inspect network requests and responses, enabling better control over API calls and testing.\n",
      "  - context: None\n",
      "  - retrieval context: ['Playwright allows network interception, headless execution, and tracing for debugging complex web applications.', 'Playwright supports debugging through tracing, network interception, and headless execution, making it easier to identify and fix issues in web applications.', 'Playwright comes with native test runner called Playwright Test Runner, which handles test creation and execution']\n",
      "\n",
      "======================================================================\n",
      "\n",
      "Overall Metric Pass Rates\n",
      "\n",
      "Answer Relevancy: 100.00% pass rate\n",
      "Faithfulness: 100.00% pass rate\n",
      "Contextual Relevancy: 100.00% pass rate\n",
      "Contextual Precision: 100.00% pass rate\n",
      "\n",
      "======================================================================\n",
      "\n",
      "\n",
      "======================================================================\n",
      "\n",
      "Metrics Summary\n",
      "\n",
      "  - ✅ Answer Relevancy (score: 1.0, threshold: 0.5, strict: False, evaluation model: gpt-4.1, reason: The score is 1.00 because the answer was fully relevant and addressed the question directly without any irrelevant information. Great job staying focused and informative!, error: None)\n",
      "  - ✅ Faithfulness (score: 1.0, threshold: 0.5, strict: False, evaluation model: gpt-4.1, reason: Great job! There are no contradictions, so the actual output is fully faithful to the retrieval context., error: None)\n",
      "  - ✅ Contextual Relevancy (score: 0.75, threshold: 0.5, strict: False, evaluation model: gpt-4.1, reason: The score is 0.75 because while some context discusses unrelated REST API testing tools, several statements directly address Cypress's advantages for front-end testing, such as its JavaScript basis, browser execution, fast feedback, and features like retries and time-travel debugging., error: None)\n",
      "  - ✅ Contextual Precision (score: 1.0, threshold: 0.5, strict: False, evaluation model: gpt-4.1, reason: The score is 1.00 because the relevant nodes are ranked at the top, providing direct support for Cypress advantages such as 'fast feedback loops,' 'automatic waiting,' and 'time-travel debugging.' The only irrelevant node, which discusses REST API testing tools and is 'unrelated to Cypress,' is correctly ranked last. Great job keeping the most useful information first!, error: None)\n",
      "\n",
      "For test case:\n",
      "\n",
      "  - input: What are the advantages of using Cypress for front-end testing?\n",
      "  - actual output: According to the provided context, some advantages of using Cypress for front-end testing include:\n",
      "\n",
      "* Fast feedback loops\n",
      "* Built-in support for retries\n",
      "* Time-travel debugging capabilities\n",
      "* Automatic waiting for dynamic web pages\n",
      "\n",
      "These features make it easier and more efficient to test front-end applications.\n",
      "  - expected output: Cypress provides fast feedback loops, automatic waiting, and time-travel debugging, making it highly efficient for front-end testing.\n",
      "  - context: None\n",
      "  - retrieval context: ['Cypress is a JavaScript-based testing tool primarily used for front-end testing. It runs in the browser and provides fast feedback loops.', 'Cypress has built-in support for retries, time-travel debugging, and automatic waiting, making it easy to test dynamic web pages.', 'This document talks about REST API testing tools, which are unrelated to Playwright, Selenium, or Cypress.']\n",
      "\n",
      "======================================================================\n",
      "\n",
      "Overall Metric Pass Rates\n",
      "\n",
      "Answer Relevancy: 100.00% pass rate\n",
      "Faithfulness: 100.00% pass rate\n",
      "Contextual Relevancy: 100.00% pass rate\n",
      "Contextual Precision: 100.00% pass rate\n",
      "\n",
      "======================================================================\n",
      "\n",
      "\n",
      "======================================================================\n",
      "\n",
      "Metrics Summary\n",
      "\n",
      "  - ✅ Answer Relevancy (score: 1.0, threshold: 0.5, strict: False, evaluation model: gpt-4.1, reason: The score is 1.00 because the answer was fully relevant, directly addressing what Playwright is and listing the browsers it supports. Great job staying focused and informative!, error: None)\n",
      "  - ✅ Faithfulness (score: 1.0, threshold: 0.5, strict: False, evaluation model: gpt-4.1, reason: Great job! There are no contradictions, so the actual output is fully faithful to the retrieval context., error: None)\n",
      "  - ✅ Contextual Relevancy (score: 0.75, threshold: 0.5, strict: False, evaluation model: gpt-4.1, reason: The score is 0.75 because while the context clearly states what Playwright is and the browsers it supports ('Playwright is a modern automation library for end-to-end testing.' and 'It supports multiple browsers like Chromium, Firefox, and WebKit.'), some of the information provided ('debugging through tracing, network interception, and headless execution') is not directly relevant to the input question., error: None)\n",
      "  - ✅ Contextual Precision (score: 1.0, threshold: 0.5, strict: False, evaluation model: gpt-4.1, reason: Great job! The score is 1.00 because the most relevant node, which directly answers what Playwright is and the browsers it supports, is ranked first. The less relevant nodes, which only discuss features like 'debugging features such as tracing, network interception, and headless execution' and do not answer the main question, are ranked lower as they should be., error: None)\n",
      "\n",
      "For test case:\n",
      "\n",
      "  - input: What is Playwright and what browsers does it support?\n",
      "  - actual output: According to the provided context, Playwright is a modern automation library for end-to-end testing that supports multiple browsers, specifically:\n",
      "\n",
      "1. Chromium\n",
      "2. Firefox\n",
      "3. WebKit\n",
      "  - expected output: Playwright is a modern automation library supporting Chromium, Firefox, and WebKit.\n",
      "  - context: None\n",
      "  - retrieval context: ['Playwright is a modern automation library for end-to-end testing. It supports multiple browsers like Chromium, Firefox, and WebKit.', 'Playwright supports debugging through tracing, network interception, and headless execution, making it easier to identify and fix issues in web applications.', 'Playwright allows network interception, headless execution, and tracing for debugging complex web applications.']\n",
      "\n",
      "======================================================================\n",
      "\n",
      "Overall Metric Pass Rates\n",
      "\n",
      "Answer Relevancy: 100.00% pass rate\n",
      "Faithfulness: 100.00% pass rate\n",
      "Contextual Relevancy: 100.00% pass rate\n",
      "Contextual Precision: 100.00% pass rate\n",
      "\n",
      "======================================================================\n",
      "\n"
     ]
    },
    {
     "data": {
      "text/html": [
       "<pre style=\"white-space:pre;overflow-x:auto;line-height:normal;font-family:Menlo,'DejaVu Sans Mono',consolas,'Courier New',monospace\"><span style=\"color: #05f58d; text-decoration-color: #05f58d\">✓</span> Done 🎉! View results on \n",
       "<a href=\"https://app.confident-ai.com/project/cmd1nlvc406dw6ttjpc83cvu3/evaluation/test-runs/cmd3c11jz009kbkbsfjw5asxn/test-cases\" target=\"_blank\"><span style=\"color: #0000ff; text-decoration-color: #0000ff; text-decoration: underline\">https://app.confident-ai.com/project/cmd1nlvc406dw6ttjpc83cvu3/evaluation/test-runs/cmd3c11jz009kbkbsfjw5asxn/test-</span></a>\n",
       "<a href=\"https://app.confident-ai.com/project/cmd1nlvc406dw6ttjpc83cvu3/evaluation/test-runs/cmd3c11jz009kbkbsfjw5asxn/test-cases\" target=\"_blank\"><span style=\"color: #0000ff; text-decoration-color: #0000ff; text-decoration: underline\">cases</span></a>\n",
       "</pre>\n"
      ],
      "text/plain": [
       "\u001b[38;2;5;245;141m✓\u001b[0m Done 🎉! View results on \n",
       "\u001b]8;id=530513;https://app.confident-ai.com/project/cmd1nlvc406dw6ttjpc83cvu3/evaluation/test-runs/cmd3c11jz009kbkbsfjw5asxn/test-cases\u001b\\\u001b[4;94mhttps://app.confident-ai.com/project/cmd1nlvc406dw6ttjpc83cvu3/evaluation/test-runs/cmd3c11jz009kbkbsfjw5asxn/test-\u001b[0m\u001b]8;;\u001b\\\n",
       "\u001b]8;id=530513;https://app.confident-ai.com/project/cmd1nlvc406dw6ttjpc83cvu3/evaluation/test-runs/cmd3c11jz009kbkbsfjw5asxn/test-cases\u001b\\\u001b[4;94mcases\u001b[0m\u001b]8;;\u001b\\\n"
      ]
     },
     "metadata": {},
     "output_type": "display_data"
    },
    {
     "data": {
      "text/plain": [
       "EvaluationResult(test_results=[TestResult(name='test_case_3', success=True, metrics_data=[MetricData(name='Answer Relevancy', threshold=0.5, success=True, score=1.0, reason='The score is 1.00 because the answer was fully relevant and directly addressed the question without any irrelevant information. Great job staying focused and clear!', strict_mode=False, evaluation_model='gpt-4.1', error=None, evaluation_cost=0.0035499999999999998, verbose_logs='Statements:\\n[\\n    \"Playwright comes with a native test runner called Playwright Test Runner.\",\\n    \"Selenium does not have a native test runner.\"\\n] \\n \\nVerdicts:\\n[\\n    {\\n        \"verdict\": \"yes\",\\n        \"reason\": null\\n    },\\n    {\\n        \"verdict\": \"yes\",\\n        \"reason\": null\\n    }\\n]'), MetricData(name='Faithfulness', threshold=0.5, success=True, score=1.0, reason='Great job! There are no contradictions, so the actual output is fully faithful to the retrieval context.', strict_mode=False, evaluation_model='gpt-4.1', error=None, evaluation_cost=0.004992, verbose_logs='Truths (limit=None):\\n[\\n    \"Playwright comes with a native test runner called Playwright Test Runner, which handles test creation and execution.\",\\n    \"The document discusses REST API testing tools, which are unrelated to Playwright, Selenium, or Cypress.\",\\n    \"Playwright is a modern automation library for end-to-end testing.\",\\n    \"Playwright supports multiple browsers like Chromium, Firefox, and WebKit.\"\\n] \\n \\nClaims:\\n[\\n    \"Playwright comes with a native test runner called Playwright Test Runner.\",\\n    \"Selenium does not have a native test runner.\"\\n] \\n \\nVerdicts:\\n[\\n    {\\n        \"verdict\": \"yes\",\\n        \"reason\": null\\n    },\\n    {\\n        \"verdict\": \"idk\",\\n        \"reason\": null\\n    }\\n]'), MetricData(name='Contextual Relevancy', threshold=0.5, success=True, score=0.6666666666666666, reason='The score is 0.67 because while the relevant statements confirm that Playwright has a native test runner, part of the context discusses unrelated REST API testing tools, which does not address the input question.', strict_mode=False, evaluation_model='gpt-4.1', error=None, evaluation_cost=0.005911999999999999, verbose_logs='Verdicts:\\n[\\n    {\\n        \"verdicts\": [\\n            {\\n                \"statement\": \"Playwright comes with native test runner called Playwright Test Runner, which handles test creation and execution\",\\n                \"verdict\": \"yes\",\\n                \"reason\": null\\n            }\\n        ]\\n    },\\n    {\\n        \"verdicts\": [\\n            {\\n                \"statement\": \"This document talks about REST API testing tools, which are unrelated to Playwright, Selenium, or Cypress.\",\\n                \"verdict\": \"no\",\\n                \"reason\": \"The statement discusses \\'REST API testing tools\\' and explicitly says it is \\'unrelated to Playwright, Selenium, or Cypress\\', which are the focus of the input question.\"\\n            }\\n        ]\\n    },\\n    {\\n        \"verdicts\": [\\n            {\\n                \"statement\": \"Playwright is a modern automation library for end-to-end testing.\",\\n                \"verdict\": \"yes\",\\n                \"reason\": \"\\\\\"It supports multiple browsers like Chromium, Firefox, and WebKit.\\\\\" does not mention anything about a native test runner or compare Playwright to Selenium in this regard.\"\\n            }\\n        ]\\n    }\\n]'), MetricData(name='Contextual Precision', threshold=0.5, success=True, score=1.0, reason=\"The score is 1.00 because the most relevant node, which clearly states 'Playwright comes with native test runner called Playwright Test Runner, which handles test creation and execution,' is ranked first, while the less relevant nodes that do not address the presence of a native test runner are ranked lower. Great job keeping the most useful information at the top!\", strict_mode=False, evaluation_model='gpt-4.1', error=None, evaluation_cost=0.004078, verbose_logs='Verdicts:\\n[\\n    {\\n        \"verdict\": \"yes\",\\n        \"reason\": \"The context states \\'Playwright comes with native test runner called Playwright Test Runner, which handles test creation and execution,\\' directly supporting the expected output.\"\\n    },\\n    {\\n        \"verdict\": \"no\",\\n        \"reason\": \"The document is about REST API testing tools and explicitly states it is unrelated to Playwright, Selenium, or Cypress.\"\\n    },\\n    {\\n        \"verdict\": \"no\",\\n        \"reason\": \"While it describes Playwright as an automation library and mentions browser support, it does not address the presence of a native test runner or compare it to Selenium.\"\\n    }\\n]')], conversational=False, multimodal=False, input='Does Playwright have a native test runner unlike Selenium?', actual_output=\"Yes, according to the context, Playwright does come with a native test runner called Playwright Test Runner. This is in contrast to Selenium, which doesn't have a native test runner.\", expected_output='Yes, Playwright has a native test runner called Playwright Test, which handles test creation and execution, unlike Selenium, which relies on JUnit, NUnit, or XUnit for test execution.', context=None, retrieval_context=['Playwright comes with native test runner called Playwright Test Runner, which handles test creation and execution', 'This document talks about REST API testing tools, which are unrelated to Playwright, Selenium, or Cypress.', 'Playwright is a modern automation library for end-to-end testing. It supports multiple browsers like Chromium, Firefox, and WebKit.'], additional_metadata=None), TestResult(name='test_case_6', success=True, metrics_data=[MetricData(name='Answer Relevancy', threshold=0.5, success=True, score=0.7142857142857143, reason='The score is 0.71 because while the answer addressed some aspects of debugging in Playwright, it included irrelevant information about headless execution, which is not directly related to debugging. This reduced the overall relevancy, but the answer still provided useful information about debugging features.', strict_mode=False, evaluation_model='gpt-4.1', error=None, evaluation_cost=0.005762, verbose_logs='Statements:\\n[\\n    \"Playwright handles debugging for web applications through tracing.\",\\n    \"Playwright handles debugging for web applications through network interception.\",\\n    \"Playwright handles debugging for web applications through headless execution.\",\\n    \"Tracing is a feature for debugging in Playwright.\",\\n    \"Network interception is a feature for debugging in Playwright.\",\\n    \"Headless execution is a feature for debugging in Playwright.\",\\n    \"These features make it easier to identify and fix issues in web applications.\"\\n] \\n \\nVerdicts:\\n[\\n    {\\n        \"verdict\": \"yes\",\\n        \"reason\": null\\n    },\\n    {\\n        \"verdict\": \"idk\",\\n        \"reason\": null\\n    },\\n    {\\n        \"verdict\": \"no\",\\n        \"reason\": \"Headless execution is not a debugging feature; it refers to running browsers without a UI, which is not directly related to debugging.\"\\n    },\\n    {\\n        \"verdict\": \"yes\",\\n        \"reason\": null\\n    },\\n    {\\n        \"verdict\": \"idk\",\\n        \"reason\": null\\n    },\\n    {\\n        \"verdict\": \"no\",\\n        \"reason\": \"Headless execution is not a debugging feature; it is a mode of running browsers and does not directly assist in debugging.\"\\n    },\\n    {\\n        \"verdict\": \"yes\",\\n        \"reason\": null\\n    }\\n]'), MetricData(name='Faithfulness', threshold=0.5, success=True, score=1.0, reason='Great job! There are no contradictions, so the actual output is fully faithful to the retrieval context.', strict_mode=False, evaluation_model='gpt-4.1', error=None, evaluation_cost=0.0051140000000000005, verbose_logs='Truths (limit=None):\\n[\\n    \"Playwright supports debugging through tracing, network interception, and headless execution.\",\\n    \"Playwright allows network interception, headless execution, and tracing for debugging complex web applications.\",\\n    \"Playwright is a modern automation library for end-to-end testing.\",\\n    \"Playwright supports multiple browsers like Chromium, Firefox, and WebKit.\"\\n] \\n \\nClaims:\\n[\\n    \"Playwright handles debugging for web applications through tracing, network interception, and headless execution.\",\\n    \"Tracing, network interception, and headless execution are features that make it easier to identify and fix issues in web applications.\"\\n] \\n \\nVerdicts:\\n[\\n    {\\n        \"verdict\": \"yes\",\\n        \"reason\": null\\n    },\\n    {\\n        \"verdict\": \"idk\",\\n        \"reason\": null\\n    }\\n]'), MetricData(name='Contextual Relevancy', threshold=0.5, success=True, score=0.5, reason=\"The score is 0.50 because while some statements in the retrieval context directly address Playwright's debugging features (e.g., 'Playwright supports debugging through tracing, network interception, and headless execution'), other statements are irrelevant as they only mention general features like browser support and automation, not debugging.\", strict_mode=False, evaluation_model='gpt-4.1', error=None, evaluation_cost=0.006468, verbose_logs='Verdicts:\\n[\\n    {\\n        \"verdicts\": [\\n            {\\n                \"statement\": \"Playwright supports debugging through tracing, network interception, and headless execution, making it easier to identify and fix issues in web applications.\",\\n                \"verdict\": \"yes\",\\n                \"reason\": null\\n            }\\n        ]\\n    },\\n    {\\n        \"verdicts\": [\\n            {\\n                \"statement\": \"Playwright allows network interception, headless execution, and tracing for debugging complex web applications.\",\\n                \"verdict\": \"yes\",\\n                \"reason\": null\\n            }\\n        ]\\n    },\\n    {\\n        \"verdicts\": [\\n            {\\n                \"statement\": \"Playwright is a modern automation library for end-to-end testing.\",\\n                \"verdict\": \"no\",\\n                \"reason\": \"The statement \\'Playwright is a modern automation library for end-to-end testing.\\' does not mention anything about debugging or how Playwright handles debugging for web applications.\"\\n            },\\n            {\\n                \"statement\": \"It supports multiple browsers like Chromium, Firefox, and WebKit.\",\\n                \"verdict\": \"no\",\\n                \"reason\": \"The statement \\'It supports multiple browsers like Chromium, Firefox, and WebKit.\\' is about browser support, not about debugging features or methods.\"\\n            }\\n        ]\\n    }\\n]'), MetricData(name='Contextual Precision', threshold=0.5, success=True, score=1.0, reason=\"Great job! The score is 1.00 because the relevant nodes about Playwright's debugging features are ranked at the top, while the irrelevant node that only describes Playwright as an automation library is ranked last, ensuring all useful information is prioritized.\", strict_mode=False, evaluation_model='gpt-4.1', error=None, evaluation_cost=0.00398, verbose_logs='Verdicts:\\n[\\n    {\\n        \"verdict\": \"yes\",\\n        \"reason\": \"This context is almost verbatim the expected output: \\'Playwright supports debugging through tracing, network interception, and headless execution, making it easier to identify and fix issues in web applications.\\'\"\\n    },\\n    {\\n        \"verdict\": \"yes\",\\n        \"reason\": \"This context lists the same debugging features: \\'network interception, headless execution, and tracing for debugging complex web applications,\\' which directly supports the expected output.\"\\n    },\\n    {\\n        \"verdict\": \"no\",\\n        \"reason\": \"This context only describes Playwright as an automation library and its browser support, but does not mention debugging or related features.\"\\n    }\\n]')], conversational=False, multimodal=False, input='How does Playwright handle debugging for web applications?', actual_output='According to the context, Playwright handles debugging for web applications through:\\n\\n1. Tracing\\n2. Network interception\\n3. Headless execution\\n\\nThese features make it easier to identify and fix issues in web applications.', expected_output='Playwright supports debugging through tracing, network interception, and headless execution, making it easier to identify and fix issues in web applications.', context=None, retrieval_context=['Playwright supports debugging through tracing, network interception, and headless execution, making it easier to identify and fix issues in web applications.', 'Playwright allows network interception, headless execution, and tracing for debugging complex web applications.', 'Playwright is a modern automation library for end-to-end testing. It supports multiple browsers like Chromium, Firefox, and WebKit.'], additional_metadata=None), TestResult(name='test_case_1', success=True, metrics_data=[MetricData(name='Answer Relevancy', threshold=0.5, success=True, score=1.0, reason='The score is 1.00 because the answer was fully relevant, directly addressing what Selenium is and listing the programming languages it supports. Great job staying focused and informative!', strict_mode=False, evaluation_model='gpt-4.1', error=None, evaluation_cost=0.00381, verbose_logs='Statements:\\n[\\n    \"Selenium is a widely used open-source framework for web automation.\",\\n    \"Selenium supports multiple programming languages.\",\\n    \"Supported languages include Python, Java, and C#.\"\\n] \\n \\nVerdicts:\\n[\\n    {\\n        \"verdict\": \"yes\",\\n        \"reason\": null\\n    },\\n    {\\n        \"verdict\": \"yes\",\\n        \"reason\": null\\n    },\\n    {\\n        \"verdict\": \"yes\",\\n        \"reason\": null\\n    }\\n]'), MetricData(name='Faithfulness', threshold=0.5, success=True, score=1.0, reason='Great job! There are no contradictions, so the actual output is fully aligned with the retrieval context.', strict_mode=False, evaluation_model='gpt-4.1', error=None, evaluation_cost=0.005013999999999999, verbose_logs='Truths (limit=None):\\n[\\n    \"Selenium is a widely used open-source framework for web automation.\",\\n    \"Selenium supports multiple programming languages and browsers.\",\\n    \"Selenium WebDriver enables automated browser testing.\",\\n    \"Selenium WebDriver supports bindings for Python, Java, and C#.\",\\n    \"The document discusses REST API testing tools.\",\\n    \"REST API testing tools are unrelated to Playwright, Selenium, or Cypress.\"\\n] \\n \\nClaims:\\n[\\n    \"Selenium is a widely used open-source framework for web automation.\",\\n    \"Selenium supports multiple programming languages, including Python, Java, and C#.\"\\n] \\n \\nVerdicts:\\n[\\n    {\\n        \"verdict\": \"yes\",\\n        \"reason\": null\\n    },\\n    {\\n        \"verdict\": \"yes\",\\n        \"reason\": null\\n    }\\n]'), MetricData(name='Contextual Relevancy', threshold=0.5, success=True, score=0.6666666666666666, reason=\"The score is 0.67 because while the relevant statements clearly define Selenium and list supported languages ('Selenium is a widely used open-source framework for web automation...' and 'Selenium WebDriver enables automated browser testing using various bindings such as Python, Java, and C#'), there is also content about REST API testing tools that is unrelated to the input.\", strict_mode=False, evaluation_model='gpt-4.1', error=None, evaluation_cost=0.00592, verbose_logs='Verdicts:\\n[\\n    {\\n        \"verdicts\": [\\n            {\\n                \"statement\": \"Selenium is a widely used open-source framework for web automation, supporting multiple programming languages and browsers.\",\\n                \"verdict\": \"yes\",\\n                \"reason\": null\\n            }\\n        ]\\n    },\\n    {\\n        \"verdicts\": [\\n            {\\n                \"statement\": \"Selenium WebDriver enables automated browser testing using various bindings such as Python, Java, and C#.\",\\n                \"verdict\": \"yes\",\\n                \"reason\": null\\n            }\\n        ]\\n    },\\n    {\\n        \"verdicts\": [\\n            {\\n                \"statement\": \"This document talks about REST API testing tools, which are unrelated to Playwright, Selenium, or Cypress.\",\\n                \"verdict\": \"no\",\\n                \"reason\": \"The statement discusses REST API testing tools and explicitly states it is unrelated to Selenium, which is the focus of the input question.\"\\n            }\\n        ]\\n    }\\n]'), MetricData(name='Contextual Precision', threshold=0.5, success=True, score=1.0, reason='The score is 1.00 because the first two nodes in the retrieval contexts directly answer what Selenium is and which programming languages it supports, while the irrelevant node that only discusses REST API testing tools and is unrelated to Selenium is ranked last. This perfect ordering ensures all relevant information is prioritized, resulting in a top score!', strict_mode=False, evaluation_model='gpt-4.1', error=None, evaluation_cost=0.004174, verbose_logs='Verdicts:\\n[\\n    {\\n        \"verdict\": \"yes\",\\n        \"reason\": \"This context states that \\'Selenium is a widely used open-source framework for web automation, supporting multiple programming languages and browsers,\\' which directly answers both what Selenium is and that it supports multiple programming languages.\"\\n    },\\n    {\\n        \"verdict\": \"yes\",\\n        \"reason\": \"This context specifies that \\'Selenium WebDriver enables automated browser testing using various bindings such as Python, Java, and C#,\\' which provides concrete examples of programming languages supported by Selenium.\"\\n    },\\n    {\\n        \"verdict\": \"no\",\\n        \"reason\": \"The context only mentions REST API testing tools and explicitly states it is unrelated to Selenium, so it does not contribute to answering the question.\"\\n    }\\n]')], conversational=False, multimodal=False, input='What is Selenium and what programming languages does it support?', actual_output='Selenium is a widely used open-source framework for web automation. It supports multiple programming languages, including Python, Java, and C#.', expected_output='Selenium is an open-source framework supporting multiple programming languages like Python, Java, and C#.', context=None, retrieval_context=['Selenium is a widely used open-source framework for web automation, supporting multiple programming languages and browsers.', 'Selenium WebDriver enables automated browser testing using various bindings such as Python, Java, and C#.', 'This document talks about REST API testing tools, which are unrelated to Playwright, Selenium, or Cypress.'], additional_metadata=None), TestResult(name='test_case_5', success=True, metrics_data=[MetricData(name='Answer Relevancy', threshold=0.5, success=True, score=1.0, reason='The score is 1.00 because the answer was fully relevant and directly addressed how Selenium WebDriver enables browser automation. Great job staying focused and on-topic!', strict_mode=False, evaluation_model='gpt-4.1', error=None, evaluation_cost=0.004522, verbose_logs='Statements:\\n[\\n    \"Selenium WebDriver enables automated browser testing.\",\\n    \"Selenium WebDriver provides various bindings such as Python, Java, and C#.\",\\n    \"These bindings can interact with a web browser programmatically.\",\\n    \"Users can automate browser interactions using Selenium WebDriver.\",\\n    \"Users can perform tests on websites using Selenium WebDriver.\"\\n] \\n \\nVerdicts:\\n[\\n    {\\n        \"verdict\": \"yes\",\\n        \"reason\": null\\n    },\\n    {\\n        \"verdict\": \"yes\",\\n        \"reason\": null\\n    },\\n    {\\n        \"verdict\": \"yes\",\\n        \"reason\": null\\n    },\\n    {\\n        \"verdict\": \"yes\",\\n        \"reason\": null\\n    },\\n    {\\n        \"verdict\": \"yes\",\\n        \"reason\": null\\n    }\\n]'), MetricData(name='Faithfulness', threshold=0.5, success=True, score=1.0, reason='Great job! There are no contradictions, so the actual output is fully faithful to the retrieval context.', strict_mode=False, evaluation_model='gpt-4.1', error=None, evaluation_cost=0.005252, verbose_logs='Truths (limit=None):\\n[\\n    \"Selenium WebDriver enables automated browser testing using various bindings such as Python, Java, and C#.\",\\n    \"Selenium is a widely used open-source framework for web automation.\",\\n    \"Selenium supports multiple programming languages and browsers.\",\\n    \"Playwright is a modern automation library for end-to-end testing.\",\\n    \"Playwright supports multiple browsers like Chromium, Firefox, and WebKit.\"\\n] \\n \\nClaims:\\n[\\n    \"Selenium WebDriver enables automated browser testing by providing various bindings such as Python, Java, and C# that can interact with a web browser programmatically.\",\\n    \"Selenium WebDriver allows users to automate browser interactions and perform tests on websites.\"\\n] \\n \\nVerdicts:\\n[\\n    {\\n        \"verdict\": \"yes\",\\n        \"reason\": null\\n    },\\n    {\\n        \"verdict\": \"idk\",\\n        \"reason\": null\\n    }\\n]'), MetricData(name='Contextual Relevancy', threshold=0.5, success=True, score=0.5, reason=\"The score is 0.50 because while some statements directly mention Selenium WebDriver's ability to enable automated browser testing and its support for multiple languages and browsers, other parts of the context focus on Playwright, which is irrelevant to the input question.\", strict_mode=False, evaluation_model='gpt-4.1', error=None, evaluation_cost=0.006146, verbose_logs='Verdicts:\\n[\\n    {\\n        \"verdicts\": [\\n            {\\n                \"statement\": \"Selenium WebDriver enables automated browser testing using various bindings such as Python, Java, and C#.\",\\n                \"verdict\": \"yes\",\\n                \"reason\": null\\n            }\\n        ]\\n    },\\n    {\\n        \"verdicts\": [\\n            {\\n                \"statement\": \"Selenium is a widely used open-source framework for web automation, supporting multiple programming languages and browsers.\",\\n                \"verdict\": \"yes\",\\n                \"reason\": null\\n            }\\n        ]\\n    },\\n    {\\n        \"verdicts\": [\\n            {\\n                \"statement\": \"Playwright is a modern automation library for end-to-end testing.\",\\n                \"verdict\": \"no\",\\n                \"reason\": \"The statement is about Playwright, not Selenium WebDriver, and does not address how Selenium WebDriver enables browser automation.\"\\n            },\\n            {\\n                \"statement\": \"It supports multiple browsers like Chromium, Firefox, and WebKit.\",\\n                \"verdict\": \"no\",\\n                \"reason\": \"The statement refers to Playwright\\'s browser support, not Selenium WebDriver or its automation capabilities.\"\\n            }\\n        ]\\n    }\\n]'), MetricData(name='Contextual Precision', threshold=0.5, success=True, score=1.0, reason='The score is 1.00 because the relevant nodes are ranked at the top, providing direct and supporting information about how Selenium WebDriver enables browser automation, while the irrelevant node about Playwright is ranked last. Great job keeping the most useful information first!', strict_mode=False, evaluation_model='gpt-4.1', error=None, evaluation_cost=0.004005999999999999, verbose_logs='Verdicts:\\n[\\n    {\\n        \"verdict\": \"yes\",\\n        \"reason\": \"This context directly states that \\'Selenium WebDriver enables automated browser testing using various bindings such as Python, Java, and C#,\\' which matches the expected output closely.\"\\n    },\\n    {\\n        \"verdict\": \"yes\",\\n        \"reason\": \"It provides supporting information that Selenium is an open-source framework for web automation and supports multiple programming languages and browsers, which is relevant to how Selenium WebDriver enables browser automation.\"\\n    },\\n    {\\n        \"verdict\": \"no\",\\n        \"reason\": \"This context is about Playwright, not Selenium WebDriver, and does not provide any information about how Selenium WebDriver enables browser automation.\"\\n    }\\n]')], conversational=False, multimodal=False, input='How does Selenium WebDriver enable browser automation?', actual_output='According to the context, Selenium WebDriver enables automated browser testing by providing various bindings (such as Python, Java, and C#) that can interact with a web browser programmatically. This allows users to automate browser interactions and perform tests on websites.', expected_output='Selenium WebDriver enables automated browser testing by providing bindings in multiple languages, such as Python, Java, and C#, to interact with web elements programmatically.', context=None, retrieval_context=['Selenium WebDriver enables automated browser testing using various bindings such as Python, Java, and C#.', 'Selenium is a widely used open-source framework for web automation, supporting multiple programming languages and browsers.', 'Playwright is a modern automation library for end-to-end testing. It supports multiple browsers like Chromium, Firefox, and WebKit.'], additional_metadata=None), TestResult(name='test_case_2', success=True, metrics_data=[MetricData(name='Answer Relevancy', threshold=0.5, success=True, score=1.0, reason='The score is 1.00 because the answer was fully relevant and directly addressed the question without any irrelevant information. Great job staying focused and clear!', strict_mode=False, evaluation_model='gpt-4.1', error=None, evaluation_cost=0.004273999999999999, verbose_logs='Statements:\\n[\\n    \"Network interception in Playwright refers to the ability to intercept and modify network requests made by a browser instance.\",\\n    \"This feature allows developers to inspect and manipulate HTTP requests and responses.\",\\n    \"Network interception makes it easier to debug web applications.\",\\n    \"Network interception makes it easier to test the functionality of web applications.\"\\n] \\n \\nVerdicts:\\n[\\n    {\\n        \"verdict\": \"yes\",\\n        \"reason\": null\\n    },\\n    {\\n        \"verdict\": \"yes\",\\n        \"reason\": null\\n    },\\n    {\\n        \"verdict\": \"idk\",\\n        \"reason\": null\\n    },\\n    {\\n        \"verdict\": \"idk\",\\n        \"reason\": null\\n    }\\n]'), MetricData(name='Faithfulness', threshold=0.5, success=True, score=1.0, reason='Great job! There are no contradictions, so the actual output is fully faithful to the retrieval context.', strict_mode=False, evaluation_model='gpt-4.1', error=None, evaluation_cost=0.0054859999999999996, verbose_logs='Truths (limit=None):\\n[\\n    \"Playwright allows network interception.\",\\n    \"Playwright allows headless execution.\",\\n    \"Playwright allows tracing for debugging complex web applications.\",\\n    \"Playwright supports debugging through tracing, network interception, and headless execution.\",\\n    \"Playwright makes it easier to identify and fix issues in web applications.\",\\n    \"Playwright comes with a native test runner called Playwright Test Runner.\",\\n    \"Playwright Test Runner handles test creation and execution.\"\\n] \\n \\nClaims:\\n[\\n    \"Network interception in Playwright refers to the ability to intercept and modify network requests made by a browser instance.\",\\n    \"This feature allows developers to inspect and manipulate HTTP requests and responses.\",\\n    \"Network interception in Playwright makes it easier to debug web applications and test their functionality.\"\\n] \\n \\nVerdicts:\\n[\\n    {\\n        \"verdict\": \"idk\",\\n        \"reason\": null\\n    },\\n    {\\n        \"verdict\": \"idk\",\\n        \"reason\": null\\n    },\\n    {\\n        \"verdict\": \"idk\",\\n        \"reason\": null\\n    }\\n]'), MetricData(name='Contextual Relevancy', threshold=0.5, success=True, score=0.6666666666666666, reason=\"The score is 0.67 because while some statements directly mention 'network interception' as a feature of Playwright, other parts of the context focus on unrelated aspects like the test runner, which do not address the input question.\", strict_mode=False, evaluation_model='gpt-4.1', error=None, evaluation_cost=0.00581, verbose_logs='Verdicts:\\n[\\n    {\\n        \"verdicts\": [\\n            {\\n                \"statement\": \"Playwright allows network interception, headless execution, and tracing for debugging complex web applications.\",\\n                \"verdict\": \"yes\",\\n                \"reason\": null\\n            }\\n        ]\\n    },\\n    {\\n        \"verdicts\": [\\n            {\\n                \"statement\": \"Playwright supports debugging through tracing, network interception, and headless execution, making it easier to identify and fix issues in web applications.\",\\n                \"verdict\": \"yes\",\\n                \"reason\": null\\n            }\\n        ]\\n    },\\n    {\\n        \"verdicts\": [\\n            {\\n                \"statement\": \"Playwright comes with native test runner called Playwright Test Runner, which handles test creation and execution\",\\n                \"verdict\": \"no\",\\n                \"reason\": \"The statement discusses the Playwright Test Runner and its role in test creation and execution, but does not mention or relate to network interception in Playwright.\"\\n            }\\n        ]\\n    }\\n]'), MetricData(name='Contextual Precision', threshold=0.5, success=True, score=1.0, reason=\"The score is 1.00 because the first two nodes in the retrieval contexts are directly relevant, clearly mentioning 'network interception' in Playwright, while the only irrelevant node, which discusses only the Test Runner and not network interception, is ranked last. This perfect ordering ensures all relevant information is prioritized, resulting in a top score!\", strict_mode=False, evaluation_model='gpt-4.1', error=None, evaluation_cost=0.003926, verbose_logs='Verdicts:\\n[\\n    {\\n        \"verdict\": \"yes\",\\n        \"reason\": \"The context states \\'Playwright allows network interception,\\' which directly confirms that Playwright supports this feature, aligning with the expected output.\"\\n    },\\n    {\\n        \"verdict\": \"yes\",\\n        \"reason\": \"This context mentions \\'Playwright supports debugging through tracing, network interception,\\' which is relevant as it confirms the existence and purpose of network interception in Playwright.\"\\n    },\\n    {\\n        \"verdict\": \"no\",\\n        \"reason\": \"This context only discusses the Playwright Test Runner and does not mention network interception or its capabilities.\"\\n    }\\n]')], conversational=False, multimodal=False, input='What is network interception in Playwright?', actual_output='Network interception in Playwright refers to the ability to intercept and modify network requests made by a browser instance. This feature allows developers to inspect and manipulate HTTP requests and responses, making it easier to debug web applications and test their functionality.', expected_output='Network interception in Playwright allows users to modify, block, or inspect network requests and responses, enabling better control over API calls and testing.', context=None, retrieval_context=['Playwright allows network interception, headless execution, and tracing for debugging complex web applications.', 'Playwright supports debugging through tracing, network interception, and headless execution, making it easier to identify and fix issues in web applications.', 'Playwright comes with native test runner called Playwright Test Runner, which handles test creation and execution'], additional_metadata=None), TestResult(name='test_case_4', success=True, metrics_data=[MetricData(name='Answer Relevancy', threshold=0.5, success=True, score=1.0, reason='The score is 1.00 because the answer was fully relevant and addressed the question directly without any irrelevant information. Great job staying focused and informative!', strict_mode=False, evaluation_model='gpt-4.1', error=None, evaluation_cost=0.00471, verbose_logs='Statements:\\n[\\n    \"Cypress provides fast feedback loops for front-end testing.\",\\n    \"Cypress has built-in support for retries.\",\\n    \"Cypress offers time-travel debugging capabilities.\",\\n    \"Cypress automatically waits for dynamic web pages.\",\\n    \"These features make it easier to test front-end applications.\",\\n    \"These features make it more efficient to test front-end applications.\"\\n] \\n \\nVerdicts:\\n[\\n    {\\n        \"verdict\": \"yes\",\\n        \"reason\": null\\n    },\\n    {\\n        \"verdict\": \"yes\",\\n        \"reason\": null\\n    },\\n    {\\n        \"verdict\": \"yes\",\\n        \"reason\": null\\n    },\\n    {\\n        \"verdict\": \"yes\",\\n        \"reason\": null\\n    },\\n    {\\n        \"verdict\": \"yes\",\\n        \"reason\": null\\n    },\\n    {\\n        \"verdict\": \"yes\",\\n        \"reason\": null\\n    }\\n]'), MetricData(name='Faithfulness', threshold=0.5, success=True, score=1.0, reason='Great job! There are no contradictions, so the actual output is fully faithful to the retrieval context.', strict_mode=False, evaluation_model='gpt-4.1', error=None, evaluation_cost=0.0054199999999999995, verbose_logs='Truths (limit=None):\\n[\\n    \"Cypress is a JavaScript-based testing tool primarily used for front-end testing.\",\\n    \"Cypress runs in the browser and provides fast feedback loops.\",\\n    \"Cypress has built-in support for retries, time-travel debugging, and automatic waiting.\",\\n    \"Cypress makes it easy to test dynamic web pages.\",\\n    \"The document talks about REST API testing tools.\",\\n    \"REST API testing tools are unrelated to Playwright, Selenium, or Cypress.\"\\n] \\n \\nClaims:\\n[\\n    \"Some advantages of using Cypress for front-end testing include fast feedback loops, built-in support for retries, time-travel debugging capabilities, and automatic waiting for dynamic web pages.\",\\n    \"These features make it easier and more efficient to test front-end applications.\"\\n] \\n \\nVerdicts:\\n[\\n    {\\n        \"verdict\": \"yes\",\\n        \"reason\": null\\n    },\\n    {\\n        \"verdict\": \"idk\",\\n        \"reason\": null\\n    }\\n]'), MetricData(name='Contextual Relevancy', threshold=0.5, success=True, score=0.75, reason=\"The score is 0.75 because while some context discusses unrelated REST API testing tools, several statements directly address Cypress's advantages for front-end testing, such as its JavaScript basis, browser execution, fast feedback, and features like retries and time-travel debugging.\", strict_mode=False, evaluation_model='gpt-4.1', error=None, evaluation_cost=0.0065119999999999996, verbose_logs='Verdicts:\\n[\\n    {\\n        \"verdicts\": [\\n            {\\n                \"statement\": \"Cypress is a JavaScript-based testing tool primarily used for front-end testing.\",\\n                \"verdict\": \"yes\",\\n                \"reason\": \"This statement directly addresses the context of Cypress being used for front-end testing, which is relevant to the question about its advantages.\"\\n            },\\n            {\\n                \"statement\": \"It runs in the browser and provides fast feedback loops.\",\\n                \"verdict\": \"yes\",\\n                \"reason\": \"This statement describes features of Cypress (\\'runs in the browser\\', \\'provides fast feedback loops\\') that are advantages for front-end testing.\"\\n            }\\n        ]\\n    },\\n    {\\n        \"verdicts\": [\\n            {\\n                \"statement\": \"Cypress has built-in support for retries, time-travel debugging, and automatic waiting, making it easy to test dynamic web pages.\",\\n                \"verdict\": \"yes\",\\n                \"reason\": null\\n            }\\n        ]\\n    },\\n    {\\n        \"verdicts\": [\\n            {\\n                \"statement\": \"This document talks about REST API testing tools, which are unrelated to Playwright, Selenium, or Cypress.\",\\n                \"verdict\": \"no\",\\n                \"reason\": \"The statement discusses REST API testing tools and explicitly states it is unrelated to Cypress, which is the focus of the input question.\"\\n            }\\n        ]\\n    }\\n]'), MetricData(name='Contextual Precision', threshold=0.5, success=True, score=1.0, reason=\"The score is 1.00 because the relevant nodes are ranked at the top, providing direct support for Cypress advantages such as 'fast feedback loops,' 'automatic waiting,' and 'time-travel debugging.' The only irrelevant node, which discusses REST API testing tools and is 'unrelated to Cypress,' is correctly ranked last. Great job keeping the most useful information first!\", strict_mode=False, evaluation_model='gpt-4.1', error=None, evaluation_cost=0.004436, verbose_logs='Verdicts:\\n[\\n    {\\n        \"verdict\": \"yes\",\\n        \"reason\": \"This context states that \\'Cypress is a JavaScript-based testing tool primarily used for front-end testing\\' and that \\'it runs in the browser and provides fast feedback loops,\\' directly supporting the expected output\\'s mention of fast feedback loops and efficiency for front-end testing.\"\\n    },\\n    {\\n        \"verdict\": \"yes\",\\n        \"reason\": \"This context mentions \\'built-in support for retries, time-travel debugging, and automatic waiting,\\' which matches the expected output\\'s points about automatic waiting and time-travel debugging as advantages of Cypress.\"\\n    },\\n    {\\n        \"verdict\": \"no\",\\n        \"reason\": \"The context is about REST API testing tools and explicitly states it is unrelated to Cypress, so it does not contribute to the expected output.\"\\n    }\\n]')], conversational=False, multimodal=False, input='What are the advantages of using Cypress for front-end testing?', actual_output='According to the provided context, some advantages of using Cypress for front-end testing include:\\n\\n* Fast feedback loops\\n* Built-in support for retries\\n* Time-travel debugging capabilities\\n* Automatic waiting for dynamic web pages\\n\\nThese features make it easier and more efficient to test front-end applications.', expected_output='Cypress provides fast feedback loops, automatic waiting, and time-travel debugging, making it highly efficient for front-end testing.', context=None, retrieval_context=['Cypress is a JavaScript-based testing tool primarily used for front-end testing. It runs in the browser and provides fast feedback loops.', 'Cypress has built-in support for retries, time-travel debugging, and automatic waiting, making it easy to test dynamic web pages.', 'This document talks about REST API testing tools, which are unrelated to Playwright, Selenium, or Cypress.'], additional_metadata=None), TestResult(name='test_case_0', success=True, metrics_data=[MetricData(name='Answer Relevancy', threshold=0.5, success=True, score=1.0, reason='The score is 1.00 because the answer was fully relevant, directly addressing what Playwright is and listing the browsers it supports. Great job staying focused and informative!', strict_mode=False, evaluation_model='gpt-4.1', error=None, evaluation_cost=0.004252, verbose_logs='Statements:\\n[\\n    \"Playwright is a modern automation library for end-to-end testing.\",\\n    \"Playwright supports multiple browsers.\",\\n    \"Playwright supports Chromium.\",\\n    \"Playwright supports Firefox.\",\\n    \"Playwright supports WebKit.\"\\n] \\n \\nVerdicts:\\n[\\n    {\\n        \"verdict\": \"yes\",\\n        \"reason\": null\\n    },\\n    {\\n        \"verdict\": \"yes\",\\n        \"reason\": null\\n    },\\n    {\\n        \"verdict\": \"yes\",\\n        \"reason\": null\\n    },\\n    {\\n        \"verdict\": \"yes\",\\n        \"reason\": null\\n    },\\n    {\\n        \"verdict\": \"yes\",\\n        \"reason\": null\\n    }\\n]'), MetricData(name='Faithfulness', threshold=0.5, success=True, score=1.0, reason='Great job! There are no contradictions, so the actual output is fully faithful to the retrieval context.', strict_mode=False, evaluation_model='gpt-4.1', error=None, evaluation_cost=0.008142, verbose_logs='Truths (limit=None):\\n[\\n    \"Playwright is a modern automation library for end-to-end testing.\",\\n    \"Playwright supports multiple browsers including Chromium, Firefox, and WebKit.\",\\n    \"Playwright supports debugging through tracing, network interception, and headless execution.\",\\n    \"Tracing, network interception, and headless execution in Playwright help identify and fix issues in web applications.\",\\n    \"Playwright allows network interception, headless execution, and tracing for debugging complex web applications.\"\\n] \\n \\nClaims:\\n[\\n    \"Playwright is a modern automation library for end-to-end testing that supports multiple browsers, specifically Chromium, Firefox, and WebKit.\"\\n] \\n \\nVerdicts:\\n[\\n    {\\n        \"verdict\": \"yes\",\\n        \"reason\": null\\n    }\\n]'), MetricData(name='Contextual Relevancy', threshold=0.5, success=True, score=0.75, reason=\"The score is 0.75 because while the context clearly states what Playwright is and the browsers it supports ('Playwright is a modern automation library for end-to-end testing.' and 'It supports multiple browsers like Chromium, Firefox, and WebKit.'), some of the information provided ('debugging through tracing, network interception, and headless execution') is not directly relevant to the input question.\", strict_mode=False, evaluation_model='gpt-4.1', error=None, evaluation_cost=0.00649, verbose_logs='Verdicts:\\n[\\n    {\\n        \"verdicts\": [\\n            {\\n                \"statement\": \"Playwright is a modern automation library for end-to-end testing.\",\\n                \"verdict\": \"yes\",\\n                \"reason\": \"This statement directly answers what Playwright is.\"\\n            },\\n            {\\n                \"statement\": \"It supports multiple browsers like Chromium, Firefox, and WebKit.\",\\n                \"verdict\": \"yes\",\\n                \"reason\": \"This statement directly answers what browsers Playwright supports.\"\\n            }\\n        ]\\n    },\\n    {\\n        \"verdicts\": [\\n            {\\n                \"statement\": \"Playwright supports debugging through tracing, network interception, and headless execution, making it easier to identify and fix issues in web applications.\",\\n                \"verdict\": \"no\",\\n                \"reason\": \"The statement discusses Playwright\\'s debugging features (\\'debugging through tracing, network interception, and headless execution\\') but does not address what Playwright is or what browsers it supports.\"\\n            }\\n        ]\\n    },\\n    {\\n        \"verdicts\": [\\n            {\\n                \"statement\": \"Playwright allows network interception, headless execution, and tracing for debugging complex web applications.\",\\n                \"verdict\": \"yes\",\\n                \"reason\": null\\n            }\\n        ]\\n    }\\n]'), MetricData(name='Contextual Precision', threshold=0.5, success=True, score=1.0, reason=\"Great job! The score is 1.00 because the most relevant node, which directly answers what Playwright is and the browsers it supports, is ranked first. The less relevant nodes, which only discuss features like 'debugging features such as tracing, network interception, and headless execution' and do not answer the main question, are ranked lower as they should be.\", strict_mode=False, evaluation_model='gpt-4.1', error=None, evaluation_cost=0.0043419999999999995, verbose_logs='Verdicts:\\n[\\n    {\\n        \"verdict\": \"yes\",\\n        \"reason\": \"This context directly answers both parts of the question: it defines Playwright as \\'a modern automation library for end-to-end testing\\' and states that it \\'supports multiple browsers like Chromium, Firefox, and WebKit.\\'\"\\n    },\\n    {\\n        \"verdict\": \"no\",\\n        \"reason\": \"This context discusses Playwright\\'s debugging features such as tracing, network interception, and headless execution, but does not define what Playwright is or list the browsers it supports.\"\\n    },\\n    {\\n        \"verdict\": \"no\",\\n        \"reason\": \"This context focuses on Playwright\\'s capabilities for network interception, headless execution, and tracing, but does not mention what Playwright is or which browsers it supports.\"\\n    }\\n]')], conversational=False, multimodal=False, input='What is Playwright and what browsers does it support?', actual_output='According to the provided context, Playwright is a modern automation library for end-to-end testing that supports multiple browsers, specifically:\\n\\n1. Chromium\\n2. Firefox\\n3. WebKit', expected_output='Playwright is a modern automation library supporting Chromium, Firefox, and WebKit.', context=None, retrieval_context=['Playwright is a modern automation library for end-to-end testing. It supports multiple browsers like Chromium, Firefox, and WebKit.', 'Playwright supports debugging through tracing, network interception, and headless execution, making it easier to identify and fix issues in web applications.', 'Playwright allows network interception, headless execution, and tracing for debugging complex web applications.'], additional_metadata=None)], confident_link='https://app.confident-ai.com/project/cmd1nlvc406dw6ttjpc83cvu3/evaluation/test-runs/cmd3c11jz009kbkbsfjw5asxn/test-cases')"
      ]
     },
     "execution_count": 12,
     "metadata": {},
     "output_type": "execute_result"
    }
   ],
   "source": [
    "import deepeval.metrics\n",
    "\n",
    "deepeval.evaluate(\n",
    "    test_cases=eval_dataset.test_cases,\n",
    "    metrics=[\n",
    "        deepeval.metrics.AnswerRelevancyMetric(),\n",
    "        deepeval.metrics.FaithfulnessMetric(),\n",
    "        deepeval.metrics.ContextualRelevancyMetric(),\n",
    "        deepeval.metrics.ContextualPrecisionMetric()\n",
    "    ]\n",
    ")"
   ]
  }
 ],
 "metadata": {
  "kernelspec": {
   "display_name": "myenvLangchain",
   "language": "python",
   "name": "myenvlangchain"
  },
  "language_info": {
   "codemirror_mode": {
    "name": "ipython",
    "version": 3
   },
   "file_extension": ".py",
   "mimetype": "text/x-python",
   "name": "python",
   "nbconvert_exporter": "python",
   "pygments_lexer": "ipython3",
   "version": "3.12.2"
  }
 },
 "nbformat": 4,
 "nbformat_minor": 5
}
