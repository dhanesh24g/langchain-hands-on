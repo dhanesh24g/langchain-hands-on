{
 "cells": [
  {
   "cell_type": "code",
   "execution_count": 1,
   "id": "1c55ef0b",
   "metadata": {},
   "outputs": [
    {
     "data": {
      "text/plain": [
       "True"
      ]
     },
     "execution_count": 1,
     "metadata": {},
     "output_type": "execute_result"
    }
   ],
   "source": [
    "from dotenv import load_dotenv\n",
    "from langchain_ollama import ChatOllama\n",
    "\n",
    "my_llm = ChatOllama(\n",
    "    base_url=\"http://localhost:11434\",\n",
    "    model=\"qwen3:latest\",\n",
    "    temperature=0.7,\n",
    "    max_tokens=400\n",
    ")\n",
    "\n",
    "load_dotenv('./../.env')"
   ]
  },
  {
   "cell_type": "markdown",
   "id": "df5d894f",
   "metadata": {},
   "source": [
    "## Tool Binding with LLM"
   ]
  },
  {
   "cell_type": "markdown",
   "id": "c8cb606f",
   "metadata": {},
   "source": [
    "### Importing External Tool - Wikipedia"
   ]
  },
  {
   "cell_type": "code",
   "execution_count": 2,
   "id": "8b855a52",
   "metadata": {},
   "outputs": [],
   "source": [
    "from langchain_community.tools import WikipediaQueryRun\n",
    "from langchain_community.utilities import WikipediaAPIWrapper\n",
    "\n",
    "wiki_tool = WikipediaQueryRun(\n",
    "    api_wrapper=WikipediaAPIWrapper(top_k_results=2), \n",
    "    description=\"This tool can provide the real-time or even the future related information.\")"
   ]
  },
  {
   "cell_type": "markdown",
   "id": "e3b95d8c",
   "metadata": {},
   "source": [
    "### Building Custom Tool - Math Functions"
   ]
  },
  {
   "cell_type": "code",
   "execution_count": 3,
   "id": "efb2270d",
   "metadata": {},
   "outputs": [],
   "source": [
    "from langchain_core.tools import tool\n",
    "\n",
    "@tool\n",
    "def add_numbers(a: int, b: int) -> int:\n",
    "    \"Result: Addition of 2 numbers\"\n",
    "    return a+b\n",
    "\n",
    "@tool\n",
    "def subtract_numbers(a: int, b: int) -> int:\n",
    "    \"Result: Subtraction of 2 numbers\"\n",
    "    return a-b\n",
    "\n",
    "@tool\n",
    "def multiply_numbers(a: int, b: float) -> float:\n",
    "    \"Result: Multiplication of 2 numbers\"\n",
    "    return a*b\n",
    "\n",
    "@tool\n",
    "def divide_numbers(a: float, b: float) -> float:\n",
    "    \"Result: Division of 2 numbers\"\n",
    "    return (a/b)\n",
    "\n",
    "\n",
    "toolkit = [wiki_tool, add_numbers, subtract_numbers, multiply_numbers, divide_numbers]"
   ]
  },
  {
   "cell_type": "markdown",
   "id": "f8bdcc3f",
   "metadata": {},
   "source": [
    "## Building the Agent"
   ]
  },
  {
   "cell_type": "code",
   "execution_count": 4,
   "id": "e9bfcddc",
   "metadata": {},
   "outputs": [
    {
     "name": "stderr",
     "output_type": "stream",
     "text": [
      "/var/folders/xl/2h_vnm9s4dl0fnn4x8_mg4q40000gn/T/ipykernel_71081/1199565432.py:4: LangChainDeprecationWarning: LangChain agents will continue to be supported, but it is recommended for new use cases to be built with LangGraph. LangGraph offers a more flexible and full-featured framework for building agents, including support for tool-calling, persistence of state, and human-in-the-loop workflows. For details, refer to the `LangGraph documentation <https://langchain-ai.github.io/langgraph/>`_ as well as guides for `Migrating from AgentExecutor <https://python.langchain.com/docs/how_to/migrate_agent/>`_ and LangGraph's `Pre-built ReAct agent <https://langchain-ai.github.io/langgraph/how-tos/create-react-agent/>`_.\n",
      "  agent = initialize_agent(\n"
     ]
    },
    {
     "name": "stdout",
     "output_type": "stream",
     "text": [
      "\n",
      "\n",
      "\u001b[1m> Entering new AgentExecutor chain...\u001b[0m\n",
      "\u001b[32;1m\u001b[1;3m<think>\n",
      "Okay, let's tackle the user's questions. First, they want to know the latest winner of the ICC Champions Trophy. Since the current year is 2025, I need to check the most recent tournament. The ICC Champions Trophy was last held in 2023, so maybe there's a 2024 or 2025 event. Wait, but the user mentioned 2025, so perhaps there's a new edition. I should use the Wikipedia tool to find the latest winner.\n",
      "\n",
      "Next, the user is asking about their salary after a 15% raise on $10K. That's a straightforward calculation. 15% of 10,000 is 1,500, so the new salary would be 11,500. I can use the add_numbers tool for this. But wait, the tools available are add, subtract, multiply, divide. So 10,000 plus 15% of 10,000. Alternatively, multiply 10,000 by 1.15. Maybe the multiply tool is better here. Let me confirm: 10,000 * 1.15 = 11,500. So using multiply_numbers with a=10000 and b=1.15.\n",
      "\n",
      "But the user might have intended to add 15% as a separate step. However, since the tools don't have a percentage tool, using multiply is more efficient. So I'll handle the salary calculation with multiply_numbers.\n",
      "\n",
      "Now, for the ICC Champions Trophy, I'll use the Wikipedia tool. The query should be \"ICC Champions Trophy 2025 winner\" or similar. Wait, but if the tournament hasn't happened yet in 2025, maybe the latest is 2023. Let me check the Wikipedia entry for the ICC Champions Trophy to find the most recent winner. The tool will provide the current information, so I'll use the query \"ICC Champions Trophy\" and look for the latest edition.\n",
      "\n",
      "Putting it all together, I'll first calculate the salary and then check the Champions Trophy winner using Wikipedia.\n",
      "</think>\n",
      "\n",
      "Action:\n",
      "```\n",
      "{\n",
      "  \"action\": \"wikipedia\",\n",
      "  \"action_input\": {\n",
      "    \"query\": \"ICC Champions Trophy 2025 winner\"\n",
      "  }\n",
      "}\n",
      "```\u001b[0m\n",
      "Observation: \u001b[36;1m\u001b[1;3mPage: 2025 ICC Champions Trophy\n",
      "Summary: The 2025 ICC Champions Trophy was the ninth edition of the ICC Champions Trophy. It was hosted by Pakistan Cricket Board from 19 February to 9 March 2025 and featured 15 matches held across three venues in Pakistan and one in the United Arab Emirates.\n",
      "The tournament was contested by the top eight ranked men's national teams qualified from the 2023 World Cup. Afghanistan made their debut appearance in the tournament.\n",
      "Co-hosts Pakistan were the defending champions and were eliminated in the group stage. India became the champions by defeating New Zealand in the final and also became the first team to win three Champions Trophy titles.\n",
      "\n",
      "Page: 2025 ICC Champions Trophy final\n",
      "Summary: The 2025 ICC Champions Trophy final was a One Day International (ODI) cricket match played at the Dubai International Cricket Stadium on 9 March 2025 to determine the winner of 2025 ICC Champions Trophy. It was played between India and New Zealand. It was the second time that India and New Zealand played a Champions Trophy final against each other, after the 2000 final.\n",
      "New Zealand won the toss and electing to bat first, they registered a score of 251/7. In the second innings, India managed to chase the score 254/6 and thus India claimed the victory by 4 wickets to win third ICC Champions Trophy title while also becoming the first team to win all their matches and win a ICC Champions Trophy undefeated. Rohit Sharma was named Player of the Match for scoring 76 runs off 83 balls.\u001b[0m\n",
      "Thought:\u001b[32;1m\u001b[1;3m<think>\n",
      "</think>\n",
      "\n",
      "Action:\n",
      "```\n",
      "{\n",
      "  \"action\": \"Final Answer\",\n",
      "  \"action_input\": \"The latest winner of the ICC Champions Trophy is India. Your salary after a 15% raise on $10K is $11,500.\"\n",
      "}\n",
      "```\u001b[0m\n",
      "\n",
      "\u001b[1m> Finished chain.\u001b[0m\n",
      "The latest winner of the ICC Champions Trophy is India. Your salary after a 15% raise on $10K is $11,500.\n"
     ]
    }
   ],
   "source": [
    "from langchain.agents import initialize_agent, AgentType\n",
    "from langchain_core.prompts import ChatPromptTemplate\n",
    "\n",
    "agent = initialize_agent(\n",
    "    tools=toolkit,\n",
    "    llm=my_llm,\n",
    "    agent=AgentType.STRUCTURED_CHAT_ZERO_SHOT_REACT_DESCRIPTION,\n",
    "    verbose=True\n",
    ")\n",
    "\n",
    "# query = \"My salary is 10K. Now I got an increment of 15%. What is new salary ?\"\n",
    "# query = \"Who is the winner of IPL 2026 ?\"\n",
    "# query = \"Who is the winner of the ICC Champions Trophy 2025 ? What is my salary after getting 15% raise on 10K ?\"\n",
    "# query = \"Did Donald Trump win in the 2024 presedential election ?\"\n",
    "\n",
    "input_prompt = ChatPromptTemplate.from_messages([\n",
    "    \"system\", \"This is year 2025. You provide a concise response to the human query.\"\n",
    "    \"user\", \"Who is the latest winner of the ICC Champions Trophy ? What is my salary after getting 15% raise on 10K ?\"\n",
    "])\n",
    "\n",
    "response = agent.invoke(input_prompt)\n",
    "\n",
    "print(response['output'])"
   ]
  },
  {
   "cell_type": "markdown",
   "id": "9898c3c3",
   "metadata": {},
   "source": [
    "## Using Playwright Browser Tool with Agent"
   ]
  },
  {
   "cell_type": "code",
   "execution_count": 5,
   "id": "68d2693a",
   "metadata": {},
   "outputs": [
    {
     "name": "stdout",
     "output_type": "stream",
     "text": [
      "Note: you may need to restart the kernel to use updated packages.\n",
      "Note: you may need to restart the kernel to use updated packages.\n"
     ]
    }
   ],
   "source": [
    "%pip install --upgrade --quiet  playwright\n",
    "%pip install --upgrade --quiet  lxml"
   ]
  },
  {
   "cell_type": "markdown",
   "id": "0bbcbfe6",
   "metadata": {},
   "source": [
    "### Setup the PlayWright Toolkit"
   ]
  },
  {
   "cell_type": "code",
   "execution_count": 6,
   "id": "c0fd17db",
   "metadata": {},
   "outputs": [],
   "source": [
    "from langchain_community.agent_toolkits import PlayWrightBrowserToolkit\n",
    "from langchain_community.tools.playwright.utils import (\n",
    "    create_async_playwright_browser\n",
    ")\n",
    "\n",
    "# This import is required only for jupyter notebooks, since they have their own eventloop\n",
    "import nest_asyncio\n",
    "\n",
    "nest_asyncio.apply()"
   ]
  },
  {
   "cell_type": "code",
   "execution_count": 7,
   "id": "48266b2a",
   "metadata": {},
   "outputs": [
    {
     "data": {
      "text/plain": [
       "[ClickTool(async_browser=<Browser type=<BrowserType name=chromium executable_path=/Users/parveenshaikh/Library/Caches/ms-playwright/chromium-1169/chrome-mac/Chromium.app/Contents/MacOS/Chromium> version=136.0.7103.25>),\n",
       " NavigateTool(async_browser=<Browser type=<BrowserType name=chromium executable_path=/Users/parveenshaikh/Library/Caches/ms-playwright/chromium-1169/chrome-mac/Chromium.app/Contents/MacOS/Chromium> version=136.0.7103.25>),\n",
       " NavigateBackTool(async_browser=<Browser type=<BrowserType name=chromium executable_path=/Users/parveenshaikh/Library/Caches/ms-playwright/chromium-1169/chrome-mac/Chromium.app/Contents/MacOS/Chromium> version=136.0.7103.25>),\n",
       " ExtractTextTool(async_browser=<Browser type=<BrowserType name=chromium executable_path=/Users/parveenshaikh/Library/Caches/ms-playwright/chromium-1169/chrome-mac/Chromium.app/Contents/MacOS/Chromium> version=136.0.7103.25>),\n",
       " ExtractHyperlinksTool(async_browser=<Browser type=<BrowserType name=chromium executable_path=/Users/parveenshaikh/Library/Caches/ms-playwright/chromium-1169/chrome-mac/Chromium.app/Contents/MacOS/Chromium> version=136.0.7103.25>),\n",
       " GetElementsTool(async_browser=<Browser type=<BrowserType name=chromium executable_path=/Users/parveenshaikh/Library/Caches/ms-playwright/chromium-1169/chrome-mac/Chromium.app/Contents/MacOS/Chromium> version=136.0.7103.25>),\n",
       " CurrentWebPageTool(async_browser=<Browser type=<BrowserType name=chromium executable_path=/Users/parveenshaikh/Library/Caches/ms-playwright/chromium-1169/chrome-mac/Chromium.app/Contents/MacOS/Chromium> version=136.0.7103.25>)]"
      ]
     },
     "execution_count": 7,
     "metadata": {},
     "output_type": "execute_result"
    }
   ],
   "source": [
    "# Creating the async browser to perform the actions\n",
    "async_browser = create_async_playwright_browser()\n",
    "\n",
    "browser_toolkit = PlayWrightBrowserToolkit.from_browser(async_browser=async_browser)\n",
    "\n",
    "list_of_tools = browser_toolkit.get_tools()\n",
    "\n",
    "list_of_tools\n"
   ]
  },
  {
   "cell_type": "markdown",
   "id": "fca8adee",
   "metadata": {},
   "source": [
    "### Setup the Agent for PlayWright"
   ]
  },
  {
   "cell_type": "code",
   "execution_count": 15,
   "id": "8f2b3698",
   "metadata": {},
   "outputs": [
    {
     "name": "stdout",
     "output_type": "stream",
     "text": [
      "\n",
      "\n",
      "\u001b[1m> Entering new AgentExecutor chain...\u001b[0m\n",
      "\u001b[32;1m\u001b[1;3m<think>\n",
      "Okay, the user is asking for the address of Ramakrishna Math Pune from the page https://belurmath.org/ramakrishna-math-pune/. Let me figure out how to get that.\n",
      "\n",
      "First, I need to navigate to the provided URL. The tool 'navigate_browser' can take me there. Once on the page, I should check if the address is listed directly. Maybe the address is in the text of the page or within a specific element like a div or paragraph.\n",
      "\n",
      "Alternatively, I can extract all the text on the page using 'extract_text' and look for keywords like \"address,\" \"location,\" or \"Ramakrishna Math Pune.\" If that's not efficient, perhaps using 'get_elements' with a CSS selector to target elements that might contain the address, such as '.address' or 'div.location', and then extract the text from those elements.\n",
      "\n",
      "Wait, maybe the address is in a paragraph or a section with a specific class. If I can get all the text, I can search for the address. Let me first navigate to the page and then extract the text to look for the address. If I don't find it there, I might need to check hyperlinks or specific elements. But the user is asking for the address, which is likely in the text content of the page. Let's start by navigating to the URL and then extracting the text.\n",
      "</think>\n",
      "\n",
      "Action:\n",
      "```\n",
      "{\n",
      "  \"action\": \"navigate_browser\",\n",
      "  \"action_input\": {\n",
      "    \"url\": \"https://belurmath.org/ramakrishna-math-pune/\"\n",
      "  }\n",
      "}\n",
      "```\u001b[0m\n",
      "Observation: \u001b[33;1m\u001b[1;3mNavigating to https://belurmath.org/ramakrishna-math-pune/ returned status code 200\u001b[0m\n",
      "Thought:\u001b[32;1m\u001b[1;3m<think>\n",
      "Okay, I need to find the address of Ramakrishna Math Pune on the page. Let me first check the text content of the page. I'll use the extract_text tool to get all the text and then look for keywords like \"address,\" \"location,\" or \"Ramakrishna Math Pune.\"\n",
      "\n",
      "Action:\n",
      "```\n",
      "{\n",
      "  \"action\": \"extract_text\",\n",
      "  \"action_input\": {}\n",
      "}\n",
      "```\u001b[0m\n",
      "Observation: \u001b[31;1m\u001b[1;3mRamakrishna Math, Pune - Belur Math - Ramakrishna Math and Ramakrishna Mission Search Organization About Us About Us Ideology Emblem Awards and Honours Commemorative Postage Stamps Vedanta and Indian Culture Bhava Prachar Parishads Women’s Monastic Organization _______________________ FAQs on Joining the Ramakrishna Order Clarification on fake news Administration The President Vice-Presidents The General Secretary Board of Trustees _______________________ Past Presidents Past Vice-Presidents Belur Math Places to See Belur Math Map Sri Ramakrishna Temple Sri Ma Sarada Devi Temple Swami Vivekananda Temple Swami Brahmananda Temple Old Shrine The Math Complex Swamiji’s Room Old Math (Nilambar Babu’s Garden House) Ramakrishna Sangraha Mandira – Museum Ramakrishna Temple : A Symphony in Architecture Festival Calendar TENTATIVE PROGRAMMES Swami Gautamananda ji Swami Suhitananda ji Swami Girishananda ji Swami Divyananda ji Swami Vimalatmananda ji Swami Suvirananda ji Holy Lives Publication Publication Site New About Our Publications Online Reading Chicago Lectures Videos on Swami Vivekananda Download Photos Activities Service as a Way of Life Activities Report Educational Services Medical Services Service to the Tribal People Relief Activities of Ramakrishna Mission Gadadhar Abhyudaya Prakalpa Sarada Palli Vikas Prakalpa Vivekananda Abhyudaya Prakalpa Durga Puja at Belur Math Welfare Services by Belur Math Vivekananda Veda Vidyalaya Centres News & Media Media Gallery Videos on Swami Vivekananda Documentaries Relief Services News Bulletins News : Branch Centres Speeches Aratrikam YouTube Channel Notice for Employees New Donations Sale of Properties WhatsApp Organization About Us About Us Ideology Emblem Awards and Honours Commemorative Postage Stamps Vedanta and Indian Culture Bhava Prachar Parishads Women’s Monastic Organization _______________________ FAQs on Joining the Ramakrishna Order Clarification on fake news Administration The President Vice-Presidents The General Secretary Board of Trustees _______________________ Past Presidents Past Vice-Presidents Belur Math Places to See Belur Math Map Sri Ramakrishna Temple Sri Ma Sarada Devi Temple Swami Vivekananda Temple Swami Brahmananda Temple Old Shrine The Math Complex Swamiji’s Room Old Math (Nilambar Babu’s Garden House) Ramakrishna Sangraha Mandira – Museum Ramakrishna Temple : A Symphony in Architecture Festival Calendar TENTATIVE PROGRAMMES Swami Gautamananda ji Swami Suhitananda ji Swami Girishananda ji Swami Divyananda ji Swami Vimalatmananda ji Swami Suvirananda ji Holy Lives Publication Publication Site New About Our Publications Online Reading Chicago Lectures Videos on Swami Vivekananda Download Photos Activities Service as a Way of Life Activities Report Educational Services Medical Services Service to the Tribal People Relief Activities of Ramakrishna Mission Gadadhar Abhyudaya Prakalpa Sarada Palli Vikas Prakalpa Vivekananda Abhyudaya Prakalpa Durga Puja at Belur Math Welfare Services by Belur Math Vivekananda Veda Vidyalaya Centres News & Media Media Gallery Videos on Swami Vivekananda Documentaries Relief Services News Bulletins News : Branch Centres Speeches Aratrikam YouTube Channel Notice for Employees New Donations Sale of Properties Ramakrishna Math, Pune Ramakrishna Math, Pune donationsbm 2025-04-09T10:30:13+05:30 Temple Ramakrishna Math, Pune 131-1A, Sinhagad Road, Near Dandekar Bridge, Pune, Maharashtra 411030, India ☎ 020 – 2432 5132 & 2433-3727 ✉ pune@rkmm.org 🌐︎ pune.rkmm.org Unit(s) Dispensary ☎ 020-2433 3779 Vivekananda Society was started in Pune in 1927 and renamed Ramakrishna Ashram in 1957. It was made a branch of the Ramakrishna Math in 1984 and is since then known as ‘Ramakrishna Math’. Activities: An allopathic-cum-homeopathic dispensary with a TB clinic . A mobile medical unit serving remote areas. A computer training centre . Balak Sangha , a cultural and recreational centre for children. A public library with 21,782 books and 32 periodicals . Religious activities : Daily worship, fortnightly Ramnam Sankirtan, religious lectures, spiritual retreats, and celebration of the birthdays of the Holy Trio and other religious festivals. Natmandir Youth Convention Recent Activities Load more ( 58 images remaining) Ramakrishna Math, Pune Ramakrishna Math, Pune Ramakrishna Math, Pune Ramakrishna Math, Pune Ramakrishna Math, Pune Ramakrishna Math, Pune Ramakrishna Math, Pune Ramakrishna Math, Pune Ramakrishna Math, Pune Ramakrishna Math, Pune Ramakrishna Math, Pune Ramakrishna Math, Pune Ramakrishna Math, Pune Ramakrishna Math, Pune Ramakrishna Math, Pune Ramakrishna Math, Pune Youth Convention: Pune, September 2023 Ramakrishna Math, Pune National Youth Day 2024 : Pune Ramakrishna Math, Pune National Youth Day 2024 : Pune Ramakrishna Math, Pune National Youth Day 2024 : Pune Ramakrishna Math, Pune National Youth Day 2024 : Pune Ramakrishna Math, Pune Youth Convention: Pune, September 2023 Ramakrishna Math, Pune New Bookstall on Pune Railway Station, Platform No 1 Ramakrishna Math, Pune New Bookstall on Pune Railway Station, Platform No 1 Ramakrishna Math, Pune New Bookstall on Pune Railway Station, Platform No 1 Ramakrishna Math, Pune Charitable Mobile Dispensary at Pandharpur: Ramakrishna Math, Pune 52774491256_9a356fb34b_h Charitable Mobile Dispensary at Pandharpur: Ramakrishna Math, Pune 52774491211_9f0f7f2cfb_h National Youth Day 2023: Pune 52636464803_e446a41864_k National Youth Day 2023: Pune 52636423410_ac932932ea_k National Youth Day 2023: Pune 52636464763_29698f6baf_k National Youth Day 2023: Pune 52635982801_8d9107118c_k National Youth Day 2023: Pune 52633995477_5efd5e8522_k National Youth Day 2023: Pune 52633995432_d281810755_k National Youth Day 2022: Pune 51821366138_779b0544ff_b National Youth Day 2022: Pune 51821254186_beda447c19_b National Youth Day 2022: Pune 51821366208_ec65b1a934_b National Youth Day 2022: Pune 51821254246_c8d7e17dd4_b Pune: COVID-19 Pandemic Relief Services 49813724952_7e10749122_b Pune: COVID-19 Pandemic Relief Services 49813724932_60b736a961_b Pune: COVID-19 Pandemic Relief Services 49813417831_099ce0774d_b Pune: COVID-19 Pandemic Relief Services 49812876878_2d39d35932_b Pune: COVID-19 Pandemic Relief Services 49813417671_6a1e463a4a_b Pune: COVID-19 Pandemic Relief Services 49764736687_5abbc56920_b Pune: COVID-19 Pandemic Relief Services 49764736807_84c25ba9c1_b Pune: COVID-19 Pandemic Relief Services 49764410941_fa7c7853cf_b Pune: COVID-19 Pandemic Relief Services 49763878183_c3ddfbc689_b Pune: COVID-19 Pandemic Relief Services 49764410746_6322b28a36_b Musical Concert Sri Ramakrishna Jeevan Ganga : Pune 49273355332_f5010dbcc2_k Musical Concert Sri Ramakrishna Jeevan Ganga : Pune 49273159121_623ca53e9c_k Musical Concert Sri Ramakrishna Jeevan Ganga : Pune 49272688573_40f5ed5477_k Play in Hindi on Swami Vivekananda at the Parliament House, Delhi : Pune 49332669126_151c2eefe9_b Play in Hindi on Swami Vivekananda at the Parliament House, Delhi : Pune 49332206393_a302819801_b Play in Hindi on Swami Vivekananda at the Parliament House, Delhi : Pune 49332892627_34ef80b9e3_b Play in Hindi on Swami Vivekananda at the Parliament House, Delhi : Pune 49332669241_9df82f1a43_b Pune 34386086556_885f25cf0b_b Temple frontview 1 34427587175_2f457fc0e0_b Rathyatra 1 34386085636_7cd1c008fd_c Temple 7 34427588165_2a47ea68f7_b Temple 8 34427587675_d1a35a71f1_b Temple 5 34386089226_6fdc2f0982_b Temple 6 34042698180_70036bc9bc_b Temple 4 34268178022_8c72a7ede3_b Temple 3 34268178452_312ce3783e_b Temple 2 34386090666_3c4e260fdd_b Natmandir 1 34386087496_935429115f_c Shrine 1 34268179712_5d8371770e_b Shrine 2 34386091176_29916e470f_b flowers around temple 1 34427587045_842043cdb0_c flowers around temple 2 34427586245_c85acf21d9_c flowers around temple 3 34427586715_e41d01d8d2_c Rathyatra 2 34386085526_55fcf06a11_c Rathyatra 3 34386085336_b7571f47ec_c Rathyatra 4 34386085136_38433227fe_c Rathyatra 5 34268173812_227e8c8437_c Seminar - Harmony of Religions 1 33585575454_c96a2e0f1b_z Seminar - Harmony of Religions 2 33585574814_271d211b84_z Seminar - Harmony of Religions 3 34268180272_ef4299082b_z Seminar - Harmony of Religions 4 34386084626_635388cefd_z Belur Math is open as per the following schedule: Morning : 6.30 to 11.30 am Afternoon : 4:00 to 9:00 pm After the evening aratrikam bell, devotees are allowed to sit in Sri Ramakrishna temple only. Contact Us Ramakrishna Math & Ramakrishna Mission (HQ) PO Belur Math, Dist Howrah, West Bengal PIN 711202, India Phone: +91-33-2654-5700 / 5701 / 5702 / 5703 / 5391 / 8494 / 9581 / 9681 Opening Hours ➤ Belur Math Location ➤ Get Directions in Google Maps ➤ Festival Calendar ➤ Arati Timings of Belur Math ➤ Emails For correspondence with the General Secretary regarding Headquarters or Branch Centres mail@rkmm.org _____________ For accommodation at the guest house in Belur Math guesthouse@belurmath.org Please Note: (i) Guest house facility is available only to devotees who come to Belur Math on pilgrimage. (ii) All guest house-related emails should be sent only to the above email ID and not to other email IDs. (iii) For booking accommodation at our branch centres, please contact the centre concerned. Contact details of all our centres are available here _____________ Feedback / Suggestion for Website webteam@belurmath.org Follow Us Facebook Twitter Youtube Instagram WhatsApp Terms and Conditions  | Privacy Statement More Quotations © Ramakrishna Math & Ramakrishna Mission, Belur Math. All Rights Reserved.\u001b[0m\n",
      "Thought:\u001b[32;1m\u001b[1;3m<think>\n",
      "</think>\n",
      "\n",
      "The address of Ramakrishna Math Pune is **131-1A, Sinhagad Road, Near Dandekar Bridge, Pune, Maharashtra 411030, India**.\u001b[0m\n",
      "\n",
      "\u001b[1m> Finished chain.\u001b[0m\n"
     ]
    },
    {
     "data": {
      "text/plain": [
       "'<think>\\n</think>\\n\\nThe address of Ramakrishna Math Pune is **131-1A, Sinhagad Road, Near Dandekar Bridge, Pune, Maharashtra 411030, India**.'"
      ]
     },
     "execution_count": 15,
     "metadata": {},
     "output_type": "execute_result"
    }
   ],
   "source": [
    "from langchain.agents import initialize_agent, AgentType\n",
    "from langchain_core.prompts import ChatPromptTemplate\n",
    "\n",
    "agent = initialize_agent(\n",
    "    tools=list_of_tools,\n",
    "    llm=my_llm,\n",
    "    agent=AgentType.STRUCTURED_CHAT_ZERO_SHOT_REACT_DESCRIPTION,\n",
    "    verbose=True\n",
    ")\n",
    "\n",
    "query = \"What is the address of Ramakrishna Math Pune on the https://belurmath.org/ramakrishna-math-pune/ page ?\"\n",
    "# query = \"What are the hyperlinks on the https://belurmath.org/ramakrishna-math-pune/ page ?\"\n",
    "\n",
    "result = await agent.ainvoke(query)\n",
    "\n",
    "result['output']"
   ]
  }
 ],
 "metadata": {
  "kernelspec": {
   "display_name": "myenvLangchain",
   "language": "python",
   "name": "python3"
  },
  "language_info": {
   "codemirror_mode": {
    "name": "ipython",
    "version": 3
   },
   "file_extension": ".py",
   "mimetype": "text/x-python",
   "name": "python",
   "nbconvert_exporter": "python",
   "pygments_lexer": "ipython3",
   "version": "3.12.2"
  }
 },
 "nbformat": 4,
 "nbformat_minor": 5
}
