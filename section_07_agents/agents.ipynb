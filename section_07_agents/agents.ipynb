{
 "cells": [
  {
   "cell_type": "code",
   "execution_count": 1,
   "id": "1c55ef0b",
   "metadata": {},
   "outputs": [
    {
     "data": {
      "text/plain": [
       "True"
      ]
     },
     "execution_count": 1,
     "metadata": {},
     "output_type": "execute_result"
    }
   ],
   "source": [
    "from dotenv import load_dotenv\n",
    "from langchain_ollama import ChatOllama\n",
    "\n",
    "my_llm = ChatOllama(\n",
    "    base_url=\"http://localhost:11434\",\n",
    "    model=\"qwen3:latest\",\n",
    "    temperature=0.7,\n",
    "    max_tokens=400\n",
    ")\n",
    "\n",
    "load_dotenv()"
   ]
  },
  {
   "cell_type": "markdown",
   "id": "df5d894f",
   "metadata": {},
   "source": [
    "## Tool Binding with LLM"
   ]
  },
  {
   "cell_type": "markdown",
   "id": "c8cb606f",
   "metadata": {},
   "source": [
    "### Importing External Tool - Wikipedia"
   ]
  },
  {
   "cell_type": "code",
   "execution_count": 2,
   "id": "8b855a52",
   "metadata": {},
   "outputs": [],
   "source": [
    "from langchain_community.tools import WikipediaQueryRun\n",
    "from langchain_community.utilities import WikipediaAPIWrapper\n",
    "\n",
    "wiki_tool = WikipediaQueryRun(\n",
    "    api_wrapper=WikipediaAPIWrapper(top_k_results=2), \n",
    "    description=\"This tool can provide the real-time or even the future related information.\")"
   ]
  },
  {
   "cell_type": "markdown",
   "id": "e3b95d8c",
   "metadata": {},
   "source": [
    "### Building Custom Tool - Math Functions"
   ]
  },
  {
   "cell_type": "code",
   "execution_count": null,
   "id": "efb2270d",
   "metadata": {},
   "outputs": [],
   "source": [
    "from langchain_core.tools import tool\n",
    "\n",
    "@tool\n",
    "def add_numbers(a: int, b: int) -> int:\n",
    "    \"Result: Addition of 2 numbers\"\n",
    "    return a+b\n",
    "\n",
    "@tool\n",
    "def subtract_numbers(a: int, b: int) -> int:\n",
    "    \"Result: Subtraction of 2 numbers\"\n",
    "    return a-b\n",
    "\n",
    "@tool\n",
    "def multiply_numbers(a: int, b: float) -> float:\n",
    "    \"Result: Multiplication of 2 numbers\"\n",
    "    return a*b\n",
    "\n",
    "@tool\n",
    "def divide_numbers(a: float, b: float) -> float:\n",
    "    \"Result: Division of 2 numbers\"\n",
    "    return (a/b)\n",
    "\n",
    "\n",
    "toolkit = [wiki_tool, add_numbers, subtract_numbers, multiply_numbers, divide_numbers]"
   ]
  },
  {
   "cell_type": "markdown",
   "id": "f8bdcc3f",
   "metadata": {},
   "source": [
    "## Building the Agent"
   ]
  },
  {
   "cell_type": "code",
   "execution_count": null,
   "id": "e9bfcddc",
   "metadata": {},
   "outputs": [],
   "source": [
    "from langchain.agents import initialize_agent, AgentType\n",
    "from langchain_core.prompts import ChatPromptTemplate\n",
    "\n",
    "agent = initialize_agent(\n",
    "    tools=toolkit,\n",
    "    llm=my_llm,\n",
    "    agent=AgentType.STRUCTURED_CHAT_ZERO_SHOT_REACT_DESCRIPTION,\n",
    "    verbose=True\n",
    ")\n",
    "\n",
    "# query = \"My salary is 10K. Now I got an increment of 15%. What is new salary ?\"\n",
    "# query = \"Who is the winner of IPL 2026 ?\"\n",
    "# query = \"Who is the winner of the ICC Champions Trophy 2025 ? What is my salary after getting 15% raise on 10K ?\"\n",
    "# query = \"Did Donald Trump win in the 2024 presedential election ?\"\n",
    "\n",
    "input_prompt = ChatPromptTemplate.from_messages([\n",
    "    \"system\", \"This is year 2025. You provide a concise response to the human query.\"\n",
    "    \"user\", \"Who is the latest winner of the ICC Champions Trophy ? What is my salary after getting 15% raise on 10K ?\"\n",
    "])\n",
    "\n",
    "response = agent.invoke(input_prompt)\n",
    "\n",
    "print(response['output'])"
   ]
  },
  {
   "cell_type": "markdown",
   "id": "9898c3c3",
   "metadata": {},
   "source": [
    "## Using Playwright Browser Tool with Agent"
   ]
  },
  {
   "cell_type": "code",
   "execution_count": null,
   "id": "68d2693a",
   "metadata": {},
   "outputs": [],
   "source": [
    "%pip install --upgrade --quiet  playwright\n",
    "%pip install --upgrade --quiet  lxml"
   ]
  },
  {
   "cell_type": "markdown",
   "id": "0bbcbfe6",
   "metadata": {},
   "source": [
    "### Setup the PlayWright Toolkit"
   ]
  },
  {
   "cell_type": "code",
   "execution_count": null,
   "id": "c0fd17db",
   "metadata": {},
   "outputs": [],
   "source": [
    "from langchain_community.agent_toolkits import PlayWrightBrowserToolkit\n",
    "from langchain_community.tools.playwright.utils import (\n",
    "    create_async_playwright_browser\n",
    ")\n",
    "\n",
    "# This import is required only for jupyter notebooks, since they have their own eventloop\n",
    "import nest_asyncio\n",
    "\n",
    "nest_asyncio.apply()"
   ]
  },
  {
   "cell_type": "code",
   "execution_count": null,
   "id": "48266b2a",
   "metadata": {},
   "outputs": [],
   "source": [
    "# Creating the async browser to perform the actions\n",
    "async_browser = create_async_playwright_browser()\n",
    "\n",
    "browser_toolkit = PlayWrightBrowserToolkit.from_browser(async_browser=async_browser)\n",
    "\n",
    "list_of_tools = browser_toolkit.get_tools()\n",
    "\n",
    "list_of_tools\n"
   ]
  },
  {
   "cell_type": "markdown",
   "id": "fca8adee",
   "metadata": {},
   "source": [
    "### Setup the Agent for PlayWright"
   ]
  },
  {
   "cell_type": "code",
   "execution_count": null,
   "id": "8f2b3698",
   "metadata": {},
   "outputs": [],
   "source": [
    "from langchain.agents import initialize_agent, AgentType\n",
    "from langchain_core.prompts import ChatPromptTemplate\n",
    "\n",
    "agent = initialize_agent(\n",
    "    tools=list_of_tools,\n",
    "    llm=my_llm,\n",
    "    agent=AgentType.STRUCTURED_CHAT_ZERO_SHOT_REACT_DESCRIPTION,\n",
    "    verbose=True\n",
    ")\n",
    "\n",
    "query = \"What is the address of Ramakrishna Math Pune on the https://belurmath.org/ramakrishna-math-pune/ page ?\"\n",
    "# query = \"What are the hyperlinks on the https://belurmath.org/ramakrishna-math-pune/ page ?\"\n",
    "\n",
    "result = await agent.ainvoke(query)\n",
    "\n",
    "result['output']"
   ]
  }
 ],
 "metadata": {
  "kernelspec": {
   "display_name": "myenvLangchain",
   "language": "python",
   "name": "myenvlangchain"
  },
  "language_info": {
   "codemirror_mode": {
    "name": "ipython",
    "version": 3
   },
   "file_extension": ".py",
   "mimetype": "text/x-python",
   "name": "python",
   "nbconvert_exporter": "python",
   "pygments_lexer": "ipython3",
   "version": "3.12.2"
  }
 },
 "nbformat": 4,
 "nbformat_minor": 5
}
