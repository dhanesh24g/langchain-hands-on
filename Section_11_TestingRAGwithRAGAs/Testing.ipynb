{
 "cells": [
  {
   "cell_type": "markdown",
   "id": "bd8e245c",
   "metadata": {},
   "source": [
    "## Testing RAG & Agents"
   ]
  },
  {
   "cell_type": "markdown",
   "id": "3c1d52d3",
   "metadata": {},
   "source": [
    "### Installing RAGAS"
   ]
  },
  {
   "cell_type": "code",
   "execution_count": null,
   "id": "f98e6da2",
   "metadata": {},
   "outputs": [],
   "source": [
    "%pip install ragas"
   ]
  },
  {
   "cell_type": "markdown",
   "id": "306a6a45",
   "metadata": {},
   "source": [
    "### Setup LLM & dotEnv"
   ]
  },
  {
   "cell_type": "code",
   "execution_count": 1,
   "id": "087aabf6",
   "metadata": {},
   "outputs": [
    {
     "data": {
      "text/plain": [
       "True"
      ]
     },
     "execution_count": 1,
     "metadata": {},
     "output_type": "execute_result"
    }
   ],
   "source": [
    "from dotenv import load_dotenv\n",
    "from langchain_ollama import ChatOllama\n",
    "\n",
    "llm = ChatOllama(\n",
    "    base_url=\"http://localhost:11434\",\n",
    "    model=\"qwen3:latest\",\n",
    "    temperature=0.5,\n",
    "    max_tokens=300\n",
    ")\n",
    "\n",
    "load_dotenv(override=True)"
   ]
  },
  {
   "cell_type": "markdown",
   "id": "a542b057",
   "metadata": {},
   "source": [
    "### SingleTurnSample with RAGAs"
   ]
  },
  {
   "cell_type": "code",
   "execution_count": null,
   "id": "cbb2eaec",
   "metadata": {},
   "outputs": [],
   "source": [
    "from ragas.llms import LangchainLLMWrapper\n",
    "from ragas import SingleTurnSample\n",
    "from ragas.metrics import AspectCritic\n",
    "\n",
    "evaluator_llm = LangchainLLMWrapper(llm)\n",
    "\n",
    "test_data = {\n",
    "    \"user_input\": \"summarise given text\\nThe company reported an 8% rise in Q3 2024, driven by strong performance in the Asian market. Sales in this region have significantly contributed to the overall growth. Analysts attribute this success to strategic marketing and product localization. The positive trend in the Asian market is expected to continue into the next quarter.\",\n",
    "    \"response\": \"The company experienced an 8% increase in Q3 2024, largely due to effective marketing strategies and product adaptation, with expectations of continued growth in the coming quarter.\",\n",
    "}\n",
    "\n",
    "# Metric to use for evalutaion\n",
    "metric = AspectCritic(name=\"summary_accuracy\",llm=evaluator_llm, definition=\"Verify if the summary is accurate.\")\n",
    "\n",
    "test_data = SingleTurnSample(**test_data)\n",
    "await metric.single_turn_ascore(test_data)\n"
   ]
  },
  {
   "cell_type": "markdown",
   "id": "e4ff94b3",
   "metadata": {},
   "source": [
    "### MultiTurnSample with RAGAs"
   ]
  },
  {
   "cell_type": "code",
   "execution_count": 4,
   "id": "2cc087e2",
   "metadata": {},
   "outputs": [],
   "source": [
    "from ragas.messages import HumanMessage, AIMessage, ToolMessage, ToolCall\n",
    "\n",
    "# User asks about the weather in New York City\n",
    "user_message = HumanMessage(content=\"What's the weather like in New York City today?\")\n",
    "\n",
    "# AI decides to use a weather API tool to fetch the information\n",
    "ai_initial_response = AIMessage(\n",
    "    content=\"Let me check the current weather in New York City for you.\",\n",
    "    tool_calls=[ToolCall(name=\"WeatherAPI\", args={\"location\": \"New York City\"})]\n",
    ")\n",
    "\n",
    "# Tool provides the weather information\n",
    "tool_response = ToolMessage(content=\"It's sunny with a temperature of 75°F in New York City.\")\n",
    "\n",
    "# AI delivers the final response to the user\n",
    "ai_final_response = AIMessage(content=\"It's sunny and 75 degrees Fahrenheit in New York City today.\")\n",
    "\n",
    "# Combine all messages into a list to represent the conversation\n",
    "conversation = [\n",
    "    user_message,\n",
    "    ai_initial_response,\n",
    "    tool_response,\n",
    "    ai_final_response\n",
    "]"
   ]
  },
  {
   "cell_type": "code",
   "execution_count": 6,
   "id": "86857ca7",
   "metadata": {},
   "outputs": [
    {
     "data": {
      "text/plain": [
       "1"
      ]
     },
     "execution_count": 6,
     "metadata": {},
     "output_type": "execute_result"
    }
   ],
   "source": [
    "from ragas import MultiTurnSample\n",
    "# Reference response for evaluation purposes\n",
    "reference_response = \"Provide the current weather in New York City to the user.\"\n",
    "\n",
    "\n",
    "# Create the MultiTurnSample instance\n",
    "sample = MultiTurnSample(\n",
    "    user_input=conversation,\n",
    "    reference=reference_response,\n",
    ")\n",
    "\n",
    "await metric.multi_turn_ascore(sample)"
   ]
  }
 ],
 "metadata": {
  "kernelspec": {
   "display_name": "myenvLangchain",
   "language": "python",
   "name": "myenvlangchain"
  },
  "language_info": {
   "codemirror_mode": {
    "name": "ipython",
    "version": 3
   },
   "file_extension": ".py",
   "mimetype": "text/x-python",
   "name": "python",
   "nbconvert_exporter": "python",
   "pygments_lexer": "ipython3",
   "version": "3.12.2"
  }
 },
 "nbformat": 4,
 "nbformat_minor": 5
}
